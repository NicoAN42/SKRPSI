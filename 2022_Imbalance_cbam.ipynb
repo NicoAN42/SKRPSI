{
  "cells": [
    {
      "cell_type": "markdown",
      "metadata": {
        "id": "view-in-github",
        "colab_type": "text"
      },
      "source": [
        "<a href=\"https://colab.research.google.com/github/NicoAN42/SKRPSI/blob/main/2022_Imbalance_cbam.ipynb\" target=\"_parent\"><img src=\"https://colab.research.google.com/assets/colab-badge.svg\" alt=\"Open In Colab\"/></a>"
      ]
    },
    {
      "cell_type": "code",
      "execution_count": 1,
      "metadata": {
        "id": "bd3mi5ZLdBSv",
        "colab": {
          "base_uri": "https://localhost:8080/"
        },
        "outputId": "dd6f8fc1-784e-4c51-a66e-d0670e433ba6"
      },
      "outputs": [
        {
          "output_type": "stream",
          "name": "stdout",
          "text": [
            "Mounted at /content/drive\n"
          ]
        }
      ],
      "source": [
        "#mount dataset\n",
        "from google.colab import drive\n",
        "drive.mount('/content/drive')\n",
        "\n",
        "#!pip install keras_flops"
      ]
    },
    {
      "cell_type": "code",
      "execution_count": 2,
      "metadata": {
        "id": "mNr5eLs1WiKT"
      },
      "outputs": [],
      "source": [
        "from tensorflow.keras.layers import Conv2D, Input, concatenate, Activation, InputLayer, Dense, Reshape, Flatten, Add, multiply, Permute, Lambda, Concatenate\n",
        "from tensorflow.keras.layers import LeakyReLU,ReLU, MaxPooling2D, BatchNormalization,GlobalMaxPooling2D,GlobalAveragePooling2D\n",
        "from tensorflow.keras.models import Model, Sequential\n",
        "from tensorflow.keras import layers\n",
        "from tensorflow.keras.activations import softmax,sigmoid\n",
        "from tensorflow.keras.preprocessing.image import ImageDataGenerator\n",
        "from tensorflow.keras.optimizers import Adam, Nadam\n",
        "from tensorflow.keras.callbacks import EarlyStopping\n",
        "from tensorflow.keras.layers import Dropout,SpatialDropout2D,GaussianDropout\n",
        "from tensorflow.keras.optimizers.schedules import ExponentialDecay\n",
        "from tensorflow.keras.regularizers import l1,l2\n",
        "from tensorflow.keras import backend as K\n",
        "from keras.utils.vis_utils import plot_model\n",
        "from __future__ import absolute_import\n",
        "from __future__ import division\n",
        "from __future__ import print_function\n",
        "import tensorflow\n",
        "import tensorflow as tf\n",
        "import math\n",
        "#from keras_flops import get_flops\n",
        "import matplotlib.pyplot as plt\n",
        "import numpy as np\n",
        "from sklearn.metrics import accuracy_score, f1_score, precision_score, confusion_matrix, recall_score\n",
        "from sklearn.model_selection import StratifiedKFold\n",
        "import os\n",
        "import random\n",
        "import shutil"
      ]
    },
    {
      "cell_type": "code",
      "execution_count": 3,
      "metadata": {
        "id": "M-dUDyotW99U"
      },
      "outputs": [],
      "source": [
        "from tensorflow.keras.optimizers import SGD"
      ]
    },
    {
      "cell_type": "code",
      "execution_count": 4,
      "metadata": {
        "id": "1SKzQPoLeGUS"
      },
      "outputs": [],
      "source": [
        "CLASS = 3\n",
        "#sourcepath isi semua data train, folder valid kosongin datanya sisai folder classnya\n",
        "sourcePath = '/content/drive/MyDrive/Colab Notebooks/DatasetFinalImbalance'\n",
        "train_path = '/content/drive/MyDrive/Colab Notebooks/DatasetFinalImbalance/train'\n",
        "valid_path = '/content/drive/MyDrive/Colab Notebooks/DatasetFinalImbalance/valid'\n",
        "test_path = '/content/drive/MyDrive/Colab Notebooks/DatasetFinalImbalance/test'\n",
        "attention_module = 'cbam_block'\n",
        "#nico"
      ]
    },
    {
      "cell_type": "code",
      "execution_count": 5,
      "metadata": {
        "id": "qyuRvIz9mFu_"
      },
      "outputs": [],
      "source": [
        "classLabels =['covid','normal', 'pneumonia']"
      ]
    },
    {
      "cell_type": "code",
      "execution_count": 6,
      "metadata": {
        "id": "IiymK5QRgQVC"
      },
      "outputs": [],
      "source": [
        "def attach_attention_module(net, attention_module):\n",
        "  #if attention_module == 'se_block': # SE_block\n",
        "    #net = se_block(net)\n",
        "  if attention_module == 'cbam_block': # CBAM_block\n",
        "    net = cbam_block(net)\n",
        "  else:\n",
        "    raise Exception(\"'{}' is not supported attention module!\".format(attention_module))\n",
        "\n",
        "  return net"
      ]
    },
    {
      "cell_type": "code",
      "execution_count": 7,
      "metadata": {
        "id": "4E-9i3yHgQX8"
      },
      "outputs": [],
      "source": [
        "def cbam_block(cbam_feature, ratio= 8):\n",
        "\t\"\"\"Contains the implementation of Convolutional Block Attention Module(CBAM) block.\n",
        "\tAs described in https://arxiv.org/abs/1807.06521.\n",
        "\t\"\"\"\n",
        "\t\n",
        "\tcbam_feature = channel_attention(cbam_feature, ratio)\n",
        "\tcbam_feature = spatial_attention(cbam_feature)\n",
        "\treturn cbam_feature\n"
      ]
    },
    {
      "cell_type": "code",
      "execution_count": 8,
      "metadata": {
        "id": "doOnf8U9YBM-"
      },
      "outputs": [],
      "source": [
        "def channel_attention(input_feature, ratio=8):\n",
        "\t\n",
        "\tchannel_axis = 1 if K.image_data_format() == \"channels_first\" else -1\n",
        "\tprint(\"input feature\")\n",
        "\tprint(input_feature.shape[channel_axis])\n",
        "\tchannel = input_feature.shape[channel_axis]\n",
        "\t\n",
        "\tshared_layer_one = Dense(channel//ratio,\n",
        "\t\t\t\t\t\t\t activation='relu',\n",
        "\t\t\t\t\t\t\t kernel_initializer='he_normal',\n",
        "\t\t\t\t\t\t\t use_bias=True,\n",
        "\t\t\t\t\t\t\t bias_initializer='zeros')\n",
        "\tshared_layer_two = Dense(channel,\n",
        "\t\t\t\t\t\t\t kernel_initializer='he_normal',\n",
        "\t\t\t\t\t\t\t use_bias=True,\n",
        "\t\t\t\t\t\t\t bias_initializer='zeros')\n",
        "\t\n",
        "\tavg_pool = GlobalAveragePooling2D()(input_feature)    \n",
        "\tavg_pool = Reshape((1,1,channel))(avg_pool)\n",
        "\tassert avg_pool.shape[1:] == (1,1,channel)\n",
        "\tavg_pool = shared_layer_one(avg_pool)\n",
        "\tassert avg_pool.shape[1:] == (1,1,channel//ratio)\n",
        "\tavg_pool = shared_layer_two(avg_pool)\n",
        "\tassert avg_pool.shape[1:] == (1,1,channel)\n",
        "\t\n",
        "\tmax_pool = GlobalMaxPooling2D()(input_feature)\n",
        "\tmax_pool = Reshape((1,1,channel))(max_pool)\n",
        "\tassert max_pool.shape[1:] == (1,1,channel)\n",
        "\tmax_pool = shared_layer_one(max_pool)\n",
        "\tassert max_pool.shape[1:] == (1,1,channel//ratio)\n",
        "\tmax_pool = shared_layer_two(max_pool)\n",
        "\tassert max_pool.shape[1:] == (1,1,channel)\n",
        "\t\n",
        "\tcbam_feature = Add()([avg_pool,max_pool])\n",
        "\tcbam_feature = Activation('softmax')(cbam_feature)\n",
        "\t\n",
        "\tif K.image_data_format() == \"channels_first\":\n",
        "\t\tcbam_feature = Permute((3, 1, 2))(cbam_feature)\n",
        "\t\n",
        "\treturn multiply([input_feature, cbam_feature])"
      ]
    },
    {
      "cell_type": "code",
      "execution_count": 9,
      "metadata": {
        "id": "Xl7CStcEYE_h"
      },
      "outputs": [],
      "source": [
        "def spatial_attention(input_feature):\n",
        "\tkernel_size = 7\n",
        "\t\n",
        "\tif K.image_data_format() == \"channels_first\":\n",
        "\t\tchannel = input_feature.shape[1]\n",
        "\t\tcbam_feature = Permute((2,3,1))(input_feature)\n",
        "\telse:\n",
        "\t\tchannel = input_feature.shape[-1]\n",
        "\t\tcbam_feature = input_feature\n",
        "\t\n",
        "\tavg_pool = Lambda(lambda x: K.mean(x, axis=3, keepdims=True))(cbam_feature)\n",
        "\tassert avg_pool.shape[-1] == 1\n",
        "\tmax_pool = Lambda(lambda x: K.max(x, axis=3, keepdims=True))(cbam_feature)\n",
        "\tassert max_pool.shape[-1] == 1\n",
        "\tconcat = Concatenate(axis=3)([avg_pool, max_pool])\n",
        "\tassert concat.shape[-1] == 2\n",
        "\tcbam_feature = Conv2D(filters = 1,\n",
        "\t\t\t\t\tkernel_size=kernel_size,\n",
        "\t\t\t\t\tstrides=1,\n",
        "\t\t\t\t\tpadding='same',\n",
        "\t\t\t\t\tactivation='sigmoid',\n",
        "\t\t\t\t\tkernel_initializer='he_normal',\n",
        "\t\t\t\t\tuse_bias=False)(concat)\t\n",
        "\tassert cbam_feature.shape[-1] == 1\n",
        "\t\n",
        "\tif K.image_data_format() == \"channels_first\":\n",
        "\t\tcbam_feature = Permute((3, 1, 2))(cbam_feature)\n",
        "\t\t\n",
        "\treturn multiply([input_feature, cbam_feature])"
      ]
    },
    {
      "cell_type": "code",
      "execution_count": 10,
      "metadata": {
        "id": "q2Q9CbMzY1Rn"
      },
      "outputs": [],
      "source": [
        "input = Input(shape=(256,256,1))"
      ]
    },
    {
      "cell_type": "code",
      "execution_count": 11,
      "metadata": {
        "id": "YpZNBOFOZBJL",
        "colab": {
          "base_uri": "https://localhost:8080/"
        },
        "outputId": "a4004d19-6966-427f-9288-b8934682fc17"
      },
      "outputs": [
        {
          "output_type": "stream",
          "name": "stdout",
          "text": [
            "input feature\n",
            "32\n"
          ]
        }
      ],
      "source": [
        "#Layer 1\n",
        "model = layers.Conv2D(32, (3,3), padding='same', name='conv_1', activation = 'relu')(input)\n",
        "model = layers.BatchNormalization(name='norm_1')(model)\n",
        "model = layers.MaxPooling2D(pool_size=(2, 2), strides= 2)(model)\n",
        "#cbam layer\n",
        "y = attach_attention_module(model, attention_module)\n",
        "model =  tensorflow.keras.layers.add([model, y])\n",
        "#model = layers.Dropout(0.2)(model)\n"
      ]
    },
    {
      "cell_type": "code",
      "execution_count": 12,
      "metadata": {
        "id": "pBvWdrCmZCsQ",
        "colab": {
          "base_uri": "https://localhost:8080/"
        },
        "outputId": "4ef61b3b-d6e5-4800-ae23-f0a693e61937"
      },
      "outputs": [
        {
          "output_type": "stream",
          "name": "stdout",
          "text": [
            "input feature\n",
            "64\n"
          ]
        }
      ],
      "source": [
        "#Layer 2\n",
        "model = layers.Conv2D(64, (3,3), padding='same', name='conv_2', activation = 'relu')(model)\n",
        "model = layers.Dropout(0.1)(model)\n",
        "model = layers.BatchNormalization(name='norm_2')(model)\n",
        "model = layers.MaxPooling2D(pool_size=(2, 2), strides = 2)(model)\n",
        "#cbam layer\n",
        "y = attach_attention_module(model, attention_module)\n",
        "model =  tensorflow.keras.layers.add([model, y])\n",
        "#model = layers.Dropout(0.2)(model)"
      ]
    },
    {
      "cell_type": "code",
      "execution_count": 13,
      "metadata": {
        "id": "RBUvxL-9ZEO3",
        "colab": {
          "base_uri": "https://localhost:8080/"
        },
        "outputId": "f3316f9b-5b17-4ee1-ef2e-f3c3446126ed"
      },
      "outputs": [
        {
          "output_type": "stream",
          "name": "stdout",
          "text": [
            "input feature\n",
            "64\n"
          ]
        }
      ],
      "source": [
        "# Layer 3\n",
        "model = layers.Conv2D(64, (3,3), padding='same', name='conv_3', activation = 'relu')(model)\n",
        "model = layers.BatchNormalization(name='norm_3')(model)\n",
        "model = layers.MaxPooling2D(pool_size=(2, 2), strides = 2)(model)\n",
        "#cbam layer\n",
        "y = attach_attention_module(model, attention_module)\n",
        "model =  tensorflow.keras.layers.add([model, y])\n",
        "#model = layers.Dropout(0.2)(model)\n"
      ]
    },
    {
      "cell_type": "code",
      "execution_count": 14,
      "metadata": {
        "id": "QKyPzn20ZI1Y",
        "colab": {
          "base_uri": "https://localhost:8080/"
        },
        "outputId": "e4202238-9626-4f37-ac18-0d722a80cc0e"
      },
      "outputs": [
        {
          "output_type": "stream",
          "name": "stdout",
          "text": [
            "input feature\n",
            "128\n"
          ]
        }
      ],
      "source": [
        "# Layer 4\n",
        "model = layers.Conv2D(128, (3,3), padding='same', name='conv_4', activation = 'relu')(model)\n",
        "model = layers.Dropout(0.2)(model)\n",
        "model = layers.BatchNormalization(name='norm_4')(model)\n",
        "model = layers.MaxPooling2D(pool_size=(2, 2), strides = 2)(model)\n",
        "#cbam layer\n",
        "y = attach_attention_module(model, attention_module)\n",
        "model =  tensorflow.keras.layers.add([model, y])\n",
        "#model = layers.Dropout(0.2)(model)\n",
        "\n"
      ]
    },
    {
      "cell_type": "code",
      "execution_count": 15,
      "metadata": {
        "id": "tgLQSWDfZJ53"
      },
      "outputs": [],
      "source": [
        "# Layer 5\n",
        "model = layers.Conv2D(256, (3,3), padding='same', name='conv_5', activation = 'relu')(model)\n",
        "#layer = layers.Conv2D(256, (3,3), padding='same', name='conv_5', activation = 'relu')\n",
        "batch = layers.BatchNormalization(name='norm_5')\n",
        "model = layers.Dropout(0.2)(model)\n",
        "model = layers.BatchNormalization(name='norm_5')(model)\n",
        "#model = layers.MaxPooling2D(pool_size=(2, 2), strides = 2)(model)"
      ]
    },
    {
      "cell_type": "code",
      "execution_count": 16,
      "metadata": {
        "id": "8_jONIoBZhXm"
      },
      "outputs": [],
      "source": [
        "model = layers.Flatten()(model)\n",
        "model = layers.Dense(128, activation = 'relu')(model)\n",
        "model = layers.Dropout(0.2)(model)\n",
        "output = layers.Dense(3,Activation('softmax'))(model)\n",
        "model = Model(input, output)"
      ]
    },
    {
      "cell_type": "code",
      "execution_count": 17,
      "metadata": {
        "id": "iDpUFSaVZigY"
      },
      "outputs": [],
      "source": [
        "#output = model.output_shape"
      ]
    },
    {
      "cell_type": "code",
      "execution_count": 18,
      "metadata": {
        "id": "qRYlJT_4ZkhM",
        "colab": {
          "base_uri": "https://localhost:8080/"
        },
        "outputId": "853c94d3-cc5a-49de-f13f-562947e4e998"
      },
      "outputs": [
        {
          "output_type": "stream",
          "name": "stdout",
          "text": [
            "KerasTensor(type_spec=TensorSpec(shape=(None, 256, 256, 1), dtype=tf.float32, name='input_1'), name='input_1', description=\"created by layer 'input_1'\")\n"
          ]
        }
      ],
      "source": [
        "print(input)"
      ]
    },
    {
      "cell_type": "code",
      "execution_count": 19,
      "metadata": {
        "id": "JdlrgYZwZnEd"
      },
      "outputs": [],
      "source": [
        "opt = SGD(learning_rate=0.01)"
      ]
    },
    {
      "cell_type": "code",
      "execution_count": 20,
      "metadata": {
        "id": "oOIL33yEZpPX"
      },
      "outputs": [],
      "source": [
        "model.compile(optimizer=opt, loss=\"sparse_categorical_crossentropy\", metrics=[\"accuracy\"] )"
      ]
    },
    {
      "cell_type": "code",
      "execution_count": 21,
      "metadata": {
        "id": "99dNdRxNZqh5",
        "colab": {
          "base_uri": "https://localhost:8080/"
        },
        "outputId": "e6603eb6-a04b-4d6e-a973-e5eacc47e498"
      },
      "outputs": [
        {
          "output_type": "stream",
          "name": "stdout",
          "text": [
            "Model: \"model\"\n",
            "__________________________________________________________________________________________________\n",
            " Layer (type)                   Output Shape         Param #     Connected to                     \n",
            "==================================================================================================\n",
            " input_1 (InputLayer)           [(None, 256, 256, 1  0           []                               \n",
            "                                )]                                                                \n",
            "                                                                                                  \n",
            " conv_1 (Conv2D)                (None, 256, 256, 32  320         ['input_1[0][0]']                \n",
            "                                )                                                                 \n",
            "                                                                                                  \n",
            " norm_1 (BatchNormalization)    (None, 256, 256, 32  128         ['conv_1[0][0]']                 \n",
            "                                )                                                                 \n",
            "                                                                                                  \n",
            " max_pooling2d (MaxPooling2D)   (None, 128, 128, 32  0           ['norm_1[0][0]']                 \n",
            "                                )                                                                 \n",
            "                                                                                                  \n",
            " global_average_pooling2d (Glob  (None, 32)          0           ['max_pooling2d[0][0]']          \n",
            " alAveragePooling2D)                                                                              \n",
            "                                                                                                  \n",
            " global_max_pooling2d (GlobalMa  (None, 32)          0           ['max_pooling2d[0][0]']          \n",
            " xPooling2D)                                                                                      \n",
            "                                                                                                  \n",
            " reshape (Reshape)              (None, 1, 1, 32)     0           ['global_average_pooling2d[0][0]'\n",
            "                                                                 ]                                \n",
            "                                                                                                  \n",
            " reshape_1 (Reshape)            (None, 1, 1, 32)     0           ['global_max_pooling2d[0][0]']   \n",
            "                                                                                                  \n",
            " dense (Dense)                  (None, 1, 1, 4)      132         ['reshape[0][0]',                \n",
            "                                                                  'reshape_1[0][0]']              \n",
            "                                                                                                  \n",
            " dense_1 (Dense)                (None, 1, 1, 32)     160         ['dense[0][0]',                  \n",
            "                                                                  'dense[1][0]']                  \n",
            "                                                                                                  \n",
            " add (Add)                      (None, 1, 1, 32)     0           ['dense_1[0][0]',                \n",
            "                                                                  'dense_1[1][0]']                \n",
            "                                                                                                  \n",
            " activation (Activation)        (None, 1, 1, 32)     0           ['add[0][0]']                    \n",
            "                                                                                                  \n",
            " multiply (Multiply)            (None, 128, 128, 32  0           ['max_pooling2d[0][0]',          \n",
            "                                )                                 'activation[0][0]']             \n",
            "                                                                                                  \n",
            " lambda (Lambda)                (None, 128, 128, 1)  0           ['multiply[0][0]']               \n",
            "                                                                                                  \n",
            " lambda_1 (Lambda)              (None, 128, 128, 1)  0           ['multiply[0][0]']               \n",
            "                                                                                                  \n",
            " concatenate (Concatenate)      (None, 128, 128, 2)  0           ['lambda[0][0]',                 \n",
            "                                                                  'lambda_1[0][0]']               \n",
            "                                                                                                  \n",
            " conv2d (Conv2D)                (None, 128, 128, 1)  98          ['concatenate[0][0]']            \n",
            "                                                                                                  \n",
            " multiply_1 (Multiply)          (None, 128, 128, 32  0           ['multiply[0][0]',               \n",
            "                                )                                 'conv2d[0][0]']                 \n",
            "                                                                                                  \n",
            " add_1 (Add)                    (None, 128, 128, 32  0           ['max_pooling2d[0][0]',          \n",
            "                                )                                 'multiply_1[0][0]']             \n",
            "                                                                                                  \n",
            " conv_2 (Conv2D)                (None, 128, 128, 64  18496       ['add_1[0][0]']                  \n",
            "                                )                                                                 \n",
            "                                                                                                  \n",
            " dropout (Dropout)              (None, 128, 128, 64  0           ['conv_2[0][0]']                 \n",
            "                                )                                                                 \n",
            "                                                                                                  \n",
            " norm_2 (BatchNormalization)    (None, 128, 128, 64  256         ['dropout[0][0]']                \n",
            "                                )                                                                 \n",
            "                                                                                                  \n",
            " max_pooling2d_1 (MaxPooling2D)  (None, 64, 64, 64)  0           ['norm_2[0][0]']                 \n",
            "                                                                                                  \n",
            " global_average_pooling2d_1 (Gl  (None, 64)          0           ['max_pooling2d_1[0][0]']        \n",
            " obalAveragePooling2D)                                                                            \n",
            "                                                                                                  \n",
            " global_max_pooling2d_1 (Global  (None, 64)          0           ['max_pooling2d_1[0][0]']        \n",
            " MaxPooling2D)                                                                                    \n",
            "                                                                                                  \n",
            " reshape_2 (Reshape)            (None, 1, 1, 64)     0           ['global_average_pooling2d_1[0][0\n",
            "                                                                 ]']                              \n",
            "                                                                                                  \n",
            " reshape_3 (Reshape)            (None, 1, 1, 64)     0           ['global_max_pooling2d_1[0][0]'] \n",
            "                                                                                                  \n",
            " dense_2 (Dense)                (None, 1, 1, 8)      520         ['reshape_2[0][0]',              \n",
            "                                                                  'reshape_3[0][0]']              \n",
            "                                                                                                  \n",
            " dense_3 (Dense)                (None, 1, 1, 64)     576         ['dense_2[0][0]',                \n",
            "                                                                  'dense_2[1][0]']                \n",
            "                                                                                                  \n",
            " add_2 (Add)                    (None, 1, 1, 64)     0           ['dense_3[0][0]',                \n",
            "                                                                  'dense_3[1][0]']                \n",
            "                                                                                                  \n",
            " activation_1 (Activation)      (None, 1, 1, 64)     0           ['add_2[0][0]']                  \n",
            "                                                                                                  \n",
            " multiply_2 (Multiply)          (None, 64, 64, 64)   0           ['max_pooling2d_1[0][0]',        \n",
            "                                                                  'activation_1[0][0]']           \n",
            "                                                                                                  \n",
            " lambda_2 (Lambda)              (None, 64, 64, 1)    0           ['multiply_2[0][0]']             \n",
            "                                                                                                  \n",
            " lambda_3 (Lambda)              (None, 64, 64, 1)    0           ['multiply_2[0][0]']             \n",
            "                                                                                                  \n",
            " concatenate_1 (Concatenate)    (None, 64, 64, 2)    0           ['lambda_2[0][0]',               \n",
            "                                                                  'lambda_3[0][0]']               \n",
            "                                                                                                  \n",
            " conv2d_1 (Conv2D)              (None, 64, 64, 1)    98          ['concatenate_1[0][0]']          \n",
            "                                                                                                  \n",
            " multiply_3 (Multiply)          (None, 64, 64, 64)   0           ['multiply_2[0][0]',             \n",
            "                                                                  'conv2d_1[0][0]']               \n",
            "                                                                                                  \n",
            " add_3 (Add)                    (None, 64, 64, 64)   0           ['max_pooling2d_1[0][0]',        \n",
            "                                                                  'multiply_3[0][0]']             \n",
            "                                                                                                  \n",
            " conv_3 (Conv2D)                (None, 64, 64, 64)   36928       ['add_3[0][0]']                  \n",
            "                                                                                                  \n",
            " norm_3 (BatchNormalization)    (None, 64, 64, 64)   256         ['conv_3[0][0]']                 \n",
            "                                                                                                  \n",
            " max_pooling2d_2 (MaxPooling2D)  (None, 32, 32, 64)  0           ['norm_3[0][0]']                 \n",
            "                                                                                                  \n",
            " global_average_pooling2d_2 (Gl  (None, 64)          0           ['max_pooling2d_2[0][0]']        \n",
            " obalAveragePooling2D)                                                                            \n",
            "                                                                                                  \n",
            " global_max_pooling2d_2 (Global  (None, 64)          0           ['max_pooling2d_2[0][0]']        \n",
            " MaxPooling2D)                                                                                    \n",
            "                                                                                                  \n",
            " reshape_4 (Reshape)            (None, 1, 1, 64)     0           ['global_average_pooling2d_2[0][0\n",
            "                                                                 ]']                              \n",
            "                                                                                                  \n",
            " reshape_5 (Reshape)            (None, 1, 1, 64)     0           ['global_max_pooling2d_2[0][0]'] \n",
            "                                                                                                  \n",
            " dense_4 (Dense)                (None, 1, 1, 8)      520         ['reshape_4[0][0]',              \n",
            "                                                                  'reshape_5[0][0]']              \n",
            "                                                                                                  \n",
            " dense_5 (Dense)                (None, 1, 1, 64)     576         ['dense_4[0][0]',                \n",
            "                                                                  'dense_4[1][0]']                \n",
            "                                                                                                  \n",
            " add_4 (Add)                    (None, 1, 1, 64)     0           ['dense_5[0][0]',                \n",
            "                                                                  'dense_5[1][0]']                \n",
            "                                                                                                  \n",
            " activation_2 (Activation)      (None, 1, 1, 64)     0           ['add_4[0][0]']                  \n",
            "                                                                                                  \n",
            " multiply_4 (Multiply)          (None, 32, 32, 64)   0           ['max_pooling2d_2[0][0]',        \n",
            "                                                                  'activation_2[0][0]']           \n",
            "                                                                                                  \n",
            " lambda_4 (Lambda)              (None, 32, 32, 1)    0           ['multiply_4[0][0]']             \n",
            "                                                                                                  \n",
            " lambda_5 (Lambda)              (None, 32, 32, 1)    0           ['multiply_4[0][0]']             \n",
            "                                                                                                  \n",
            " concatenate_2 (Concatenate)    (None, 32, 32, 2)    0           ['lambda_4[0][0]',               \n",
            "                                                                  'lambda_5[0][0]']               \n",
            "                                                                                                  \n",
            " conv2d_2 (Conv2D)              (None, 32, 32, 1)    98          ['concatenate_2[0][0]']          \n",
            "                                                                                                  \n",
            " multiply_5 (Multiply)          (None, 32, 32, 64)   0           ['multiply_4[0][0]',             \n",
            "                                                                  'conv2d_2[0][0]']               \n",
            "                                                                                                  \n",
            " add_5 (Add)                    (None, 32, 32, 64)   0           ['max_pooling2d_2[0][0]',        \n",
            "                                                                  'multiply_5[0][0]']             \n",
            "                                                                                                  \n",
            " conv_4 (Conv2D)                (None, 32, 32, 128)  73856       ['add_5[0][0]']                  \n",
            "                                                                                                  \n",
            " dropout_1 (Dropout)            (None, 32, 32, 128)  0           ['conv_4[0][0]']                 \n",
            "                                                                                                  \n",
            " norm_4 (BatchNormalization)    (None, 32, 32, 128)  512         ['dropout_1[0][0]']              \n",
            "                                                                                                  \n",
            " max_pooling2d_3 (MaxPooling2D)  (None, 16, 16, 128)  0          ['norm_4[0][0]']                 \n",
            "                                                                                                  \n",
            " global_average_pooling2d_3 (Gl  (None, 128)         0           ['max_pooling2d_3[0][0]']        \n",
            " obalAveragePooling2D)                                                                            \n",
            "                                                                                                  \n",
            " global_max_pooling2d_3 (Global  (None, 128)         0           ['max_pooling2d_3[0][0]']        \n",
            " MaxPooling2D)                                                                                    \n",
            "                                                                                                  \n",
            " reshape_6 (Reshape)            (None, 1, 1, 128)    0           ['global_average_pooling2d_3[0][0\n",
            "                                                                 ]']                              \n",
            "                                                                                                  \n",
            " reshape_7 (Reshape)            (None, 1, 1, 128)    0           ['global_max_pooling2d_3[0][0]'] \n",
            "                                                                                                  \n",
            " dense_6 (Dense)                (None, 1, 1, 16)     2064        ['reshape_6[0][0]',              \n",
            "                                                                  'reshape_7[0][0]']              \n",
            "                                                                                                  \n",
            " dense_7 (Dense)                (None, 1, 1, 128)    2176        ['dense_6[0][0]',                \n",
            "                                                                  'dense_6[1][0]']                \n",
            "                                                                                                  \n",
            " add_6 (Add)                    (None, 1, 1, 128)    0           ['dense_7[0][0]',                \n",
            "                                                                  'dense_7[1][0]']                \n",
            "                                                                                                  \n",
            " activation_3 (Activation)      (None, 1, 1, 128)    0           ['add_6[0][0]']                  \n",
            "                                                                                                  \n",
            " multiply_6 (Multiply)          (None, 16, 16, 128)  0           ['max_pooling2d_3[0][0]',        \n",
            "                                                                  'activation_3[0][0]']           \n",
            "                                                                                                  \n",
            " lambda_6 (Lambda)              (None, 16, 16, 1)    0           ['multiply_6[0][0]']             \n",
            "                                                                                                  \n",
            " lambda_7 (Lambda)              (None, 16, 16, 1)    0           ['multiply_6[0][0]']             \n",
            "                                                                                                  \n",
            " concatenate_3 (Concatenate)    (None, 16, 16, 2)    0           ['lambda_6[0][0]',               \n",
            "                                                                  'lambda_7[0][0]']               \n",
            "                                                                                                  \n",
            " conv2d_3 (Conv2D)              (None, 16, 16, 1)    98          ['concatenate_3[0][0]']          \n",
            "                                                                                                  \n",
            " multiply_7 (Multiply)          (None, 16, 16, 128)  0           ['multiply_6[0][0]',             \n",
            "                                                                  'conv2d_3[0][0]']               \n",
            "                                                                                                  \n",
            " add_7 (Add)                    (None, 16, 16, 128)  0           ['max_pooling2d_3[0][0]',        \n",
            "                                                                  'multiply_7[0][0]']             \n",
            "                                                                                                  \n",
            " conv_5 (Conv2D)                (None, 16, 16, 256)  295168      ['add_7[0][0]']                  \n",
            "                                                                                                  \n",
            " dropout_2 (Dropout)            (None, 16, 16, 256)  0           ['conv_5[0][0]']                 \n",
            "                                                                                                  \n",
            " norm_5 (BatchNormalization)    (None, 16, 16, 256)  1024        ['dropout_2[0][0]']              \n",
            "                                                                                                  \n",
            " flatten (Flatten)              (None, 65536)        0           ['norm_5[0][0]']                 \n",
            "                                                                                                  \n",
            " dense_8 (Dense)                (None, 128)          8388736     ['flatten[0][0]']                \n",
            "                                                                                                  \n",
            " dropout_3 (Dropout)            (None, 128)          0           ['dense_8[0][0]']                \n",
            "                                                                                                  \n",
            " dense_9 (Dense)                (None, 3)            387         ['dropout_3[0][0]']              \n",
            "                                                                                                  \n",
            "==================================================================================================\n",
            "Total params: 8,823,183\n",
            "Trainable params: 8,822,095\n",
            "Non-trainable params: 1,088\n",
            "__________________________________________________________________________________________________\n",
            "None\n",
            "<keras.engine.functional.Functional object at 0x7f0450178c90>\n"
          ]
        }
      ],
      "source": [
        "print(model.summary())\n",
        "print(model)\n",
        "#flops = get_flops(model, batch_size=32)\n",
        "#print(f\"FLOPS: {flops / 10 ** 9:.03} G\")\n",
        "#plot_model(model, to_file='model_cbam1Layer.png',show_shapes=True, show_layer_names=True)\n",
        "new_model = model"
      ]
    },
    {
      "cell_type": "code",
      "execution_count": 22,
      "metadata": {
        "id": "NIABPyRMYycd",
        "colab": {
          "base_uri": "https://localhost:8080/"
        },
        "outputId": "956150fa-5a94-4df6-8358-ac23d4b56686"
      },
      "outputs": [
        {
          "output_type": "stream",
          "name": "stdout",
          "text": [
            "0\n",
            "0\n"
          ]
        }
      ],
      "source": [
        "X = []\n",
        "print(len(X))\n",
        "Y = []\n",
        "print(len(Y))\n",
        "def transferBetweenFolders(source, dest, splitRate): \n",
        "    global sourceFiles\n",
        "    sourceFiles=os.listdir(source)\n",
        "    if(len(sourceFiles)!=0):\n",
        "        transferFileNumbers=int(len(sourceFiles)*splitRate)\n",
        "        transferIndex=random.sample(range(0, len(sourceFiles)), transferFileNumbers)\n",
        "        for eachIndex in transferIndex:\n",
        "            shutil.move(source+str(sourceFiles[eachIndex]), dest+str(sourceFiles[eachIndex]))\n",
        "    else:\n",
        "        print(\"No file moved. Source empty!\")\n",
        "        "
      ]
    },
    {
      "cell_type": "code",
      "execution_count": 23,
      "metadata": {
        "id": "Fh0THhOaY0Da",
        "colab": {
          "base_uri": "https://localhost:8080/"
        },
        "outputId": "1f242ba3-f7a1-4972-fb6c-5bf12e098d40"
      },
      "outputs": [
        {
          "output_type": "stream",
          "name": "stdout",
          "text": [
            "No file moved. Source empty!\n",
            "No file moved. Source empty!\n",
            "No file moved. Source empty!\n",
            "No file moved. Source empty!\n",
            "No file moved. Source empty!\n",
            "No file moved. Source empty!\n"
          ]
        }
      ],
      "source": [
        "def transferAllClassBetweenFolders(source, dest, splitRate):\n",
        "    for label in classLabels:\n",
        "        transferBetweenFolders(sourcePath+'/'+source+'/'+label+'/', \n",
        "                               sourcePath+'/'+dest+'/'+label+'/', \n",
        "                               splitRate)\n",
        "transferAllClassBetweenFolders('valid', 'train', 1.0)\n",
        "transferAllClassBetweenFolders('test', 'train', 1.0)\n",
        "#transferAllClassBetweenFolders('train', 'test', 0.2)\n",
        "#transferAllClassBetweenFolders('train', 'test', 0.2)\n"
      ]
    },
    {
      "cell_type": "code",
      "execution_count": 24,
      "metadata": {
        "id": "bvS9lltuY5_4"
      },
      "outputs": [],
      "source": [
        "def prepareNameWithLabels(folderName):\n",
        "    sourceFiles=os.listdir(sourcePath+'/train/'+folderName)\n",
        "    for val in sourceFiles:\n",
        "        X.append(val)\n",
        "        for i in range(len(classLabels)):\n",
        "          if(folderName==classLabels[i]):\n",
        "              Y.append(i)\n",
        "# Organize file names and class labels in X and Y variables\n",
        "for i in range(len(classLabels)):\n",
        "  prepareNameWithLabels(classLabels[i])\n",
        "\n",
        "def my_metrics(y_true, y_pred):\n",
        "    accuracy=accuracy_score(y_true, y_pred)\n",
        "    precision=precision_score(y_true, y_pred,average='macro')\n",
        "    f1Score=f1_score(y_true, y_pred, average='macro') \n",
        "    recall = recall_score(y_true, y_pred, average='macro')\n",
        "    print(\"Accuracy  : {}\".format(accuracy))\n",
        "    print(\"Precision : {}\".format(precision))\n",
        "    print(\"f1Score : {}\".format(f1Score))\n",
        "    print(\"Recall : {}\".format(recall))\n",
        "    cm=confusion_matrix(y_true, y_pred)\n",
        "    print(cm)\n",
        "    return accuracy, precision, f1Score, recall"
      ]
    },
    {
      "cell_type": "code",
      "execution_count": 25,
      "metadata": {
        "id": "7hjflR4gZW0Y",
        "colab": {
          "base_uri": "https://localhost:8080/"
        },
        "outputId": "d97137ec-4a9c-47e1-cdcb-c72a69b438fc"
      },
      "outputs": [
        {
          "output_type": "stream",
          "name": "stdout",
          "text": [
            "No file moved. Source empty!\n",
            "No file moved. Source empty!\n",
            "No file moved. Source empty!\n",
            "6159\n",
            "['COVID(49).png' 'COVID(92).png' 'COVID(42).png' ...\n",
            " 'person1420_bacteria_3647.jpeg' 'person1413_bacteria_3617.jpeg'\n",
            " 'person1430_bacteria_3693.jpeg']\n",
            "[0 0 0 ... 2 2 2]\n",
            "StratifiedKFold(n_splits=5, random_state=None, shuffle=True)\n",
            "5\n",
            "<generator object _BaseKFold.split at 0x7f0450152a50>\n"
          ]
        }
      ],
      "source": [
        "transferAllClassBetweenFolders('valid', 'train', 1.0)\n",
        "#transferAllClassBetweenFolders('test', 'train', 1.0)\n",
        "X=np.asarray(X)\n",
        "Y=np.asarray(Y)\n",
        "print(len(X))\n",
        "print(X)\n",
        "print(Y)\n",
        "\n",
        "skf = StratifiedKFold(n_splits=5\n",
        "                      , shuffle=True)\n",
        "skf.get_n_splits(X, Y)\n",
        "print(skf)\n",
        "print(skf.get_n_splits(X,Y))\n",
        "print(skf.split(X,Y))\n",
        "foldNum=0\n",
        "overAllAcc = 0\n",
        "overAllPrec = 0\n",
        "overAllf1 = 0\n",
        "overAllRec = 0"
      ]
    },
    {
      "cell_type": "code",
      "execution_count": 26,
      "metadata": {
        "colab": {
          "base_uri": "https://localhost:8080/",
          "height": 1000
        },
        "id": "TsQVUi57ZDHg",
        "outputId": "45af4e96-5452-4b97-e6ee-8e405e6a6b03"
      },
      "outputs": [
        {
          "output_type": "stream",
          "name": "stdout",
          "text": [
            "trn_indx: 4927 valid_indx: 1232\n",
            "No file moved. Source empty!\n",
            "No file moved. Source empty!\n",
            "No file moved. Source empty!\n",
            "Results for fold 1\n",
            "4927\n",
            "1232\n",
            "Found 4927 images belonging to 3 classes.\n",
            "Found 0 images belonging to 3 classes.\n",
            "Found 1232 images belonging to 3 classes.\n",
            "Epoch 1/25\n",
            "154/154 [==============================] - 684s 4s/step - loss: 0.2441 - accuracy: 0.9237\n",
            "Epoch 2/25\n",
            "154/154 [==============================] - 49s 316ms/step - loss: 0.0720 - accuracy: 0.9730\n",
            "Epoch 3/25\n",
            "154/154 [==============================] - 49s 317ms/step - loss: 0.0458 - accuracy: 0.9815\n",
            "Epoch 4/25\n",
            "154/154 [==============================] - 49s 319ms/step - loss: 0.0364 - accuracy: 0.9864\n",
            "Epoch 5/25\n",
            "154/154 [==============================] - 49s 316ms/step - loss: 0.0183 - accuracy: 0.9933\n",
            "Epoch 6/25\n",
            "154/154 [==============================] - 49s 317ms/step - loss: 0.0172 - accuracy: 0.9939\n",
            "Epoch 7/25\n",
            "154/154 [==============================] - 49s 317ms/step - loss: 0.0112 - accuracy: 0.9959\n",
            "Epoch 8/25\n",
            "154/154 [==============================] - 49s 317ms/step - loss: 0.0089 - accuracy: 0.9980\n",
            "Epoch 9/25\n",
            "154/154 [==============================] - 49s 316ms/step - loss: 0.0048 - accuracy: 0.9992\n",
            "Epoch 10/25\n",
            "154/154 [==============================] - 49s 317ms/step - loss: 0.0034 - accuracy: 0.9998\n",
            "Epoch 11/25\n",
            "154/154 [==============================] - 49s 319ms/step - loss: 0.0031 - accuracy: 0.9994\n",
            "Epoch 12/25\n",
            "154/154 [==============================] - 49s 316ms/step - loss: 0.0019 - accuracy: 0.9998\n",
            "Epoch 13/25\n",
            "154/154 [==============================] - 48s 309ms/step - loss: 0.0023 - accuracy: 0.9998\n",
            "Epoch 14/25\n",
            "154/154 [==============================] - 48s 310ms/step - loss: 0.0017 - accuracy: 0.9998\n",
            "Epoch 15/25\n",
            "154/154 [==============================] - 48s 312ms/step - loss: 0.0018 - accuracy: 0.9996\n",
            "Epoch 16/25\n",
            "154/154 [==============================] - 49s 315ms/step - loss: 0.0026 - accuracy: 0.9988\n",
            "Epoch 17/25\n",
            "154/154 [==============================] - 48s 314ms/step - loss: 0.0016 - accuracy: 0.9996\n",
            "Epoch 18/25\n",
            "154/154 [==============================] - 48s 309ms/step - loss: 0.0023 - accuracy: 0.9996\n",
            "Epoch 19/25\n",
            "154/154 [==============================] - 47s 307ms/step - loss: 0.0016 - accuracy: 0.9996\n",
            "Epoch 20/25\n",
            "154/154 [==============================] - 47s 306ms/step - loss: 7.6257e-04 - accuracy: 1.0000\n",
            "Epoch 21/25\n",
            "154/154 [==============================] - 48s 308ms/step - loss: 0.0012 - accuracy: 0.9998\n",
            "Epoch 22/25\n",
            "154/154 [==============================] - 48s 311ms/step - loss: 8.6018e-04 - accuracy: 1.0000\n",
            "Epoch 23/25\n",
            "154/154 [==============================] - 48s 309ms/step - loss: 7.9524e-04 - accuracy: 0.9996\n",
            "Epoch 24/25\n",
            "154/154 [==============================] - 48s 312ms/step - loss: 8.9885e-04 - accuracy: 1.0000\n",
            "Epoch 25/25\n",
            "154/154 [==============================] - 48s 309ms/step - loss: 4.7556e-04 - accuracy: 1.0000\n"
          ]
        },
        {
          "output_type": "display_data",
          "data": {
            "text/plain": [
              "<Figure size 432x288 with 1 Axes>"
            ],
            "image/png": "[encoded data removed]"
          },
          "metadata": {
            "needs_background": "light"
          }
        },
        {
          "output_type": "display_data",
          "data": {
            "text/plain": [
              "<Figure size 432x288 with 1 Axes>"
            ],
            "image/png": "[encoded data removed]"
          },
          "metadata": {
            "needs_background": "light"
          }
        },
        {
          "output_type": "stream",
          "name": "stdout",
          "text": [
            "39/39 [==============================] - 12s 309ms/step\n",
            "***Performance on Validation data***\n",
            "Accuracy  : 0.9715909090909091\n",
            "Precision : 0.970400354868076\n",
            "f1Score : 0.9680952618519568\n",
            "Recall : 0.9664347998868944\n",
            "[[180   1   8]\n",
            " [  0 260   8]\n",
            " [  0  18 757]]\n",
            "39/39 [==============================] - 13s 310ms/step - loss: 0.1002 - accuracy: 0.9716\n",
            "trn_indx: 4927 valid_indx: 1232\n",
            "Results for fold 2\n",
            "4927\n",
            "1232\n",
            "Found 4927 images belonging to 3 classes.\n",
            "Found 0 images belonging to 3 classes.\n",
            "Found 1232 images belonging to 3 classes.\n",
            "Epoch 1/25\n",
            "154/154 [==============================] - 50s 312ms/step - loss: 0.0379 - accuracy: 0.9884\n",
            "Epoch 2/25\n",
            "154/154 [==============================] - 48s 312ms/step - loss: 0.0103 - accuracy: 0.9968\n",
            "Epoch 3/25\n",
            "154/154 [==============================] - 48s 312ms/step - loss: 0.0090 - accuracy: 0.9965\n",
            "Epoch 4/25\n",
            "154/154 [==============================] - 48s 313ms/step - loss: 0.0057 - accuracy: 0.9978\n",
            "Epoch 5/25\n",
            "154/154 [==============================] - 48s 310ms/step - loss: 0.0065 - accuracy: 0.9980\n",
            "Epoch 6/25\n",
            "154/154 [==============================] - 48s 310ms/step - loss: 0.0030 - accuracy: 0.9990\n",
            "Epoch 7/25\n",
            "154/154 [==============================] - 48s 311ms/step - loss: 0.0022 - accuracy: 0.9994\n",
            "Epoch 8/25\n",
            "154/154 [==============================] - 48s 311ms/step - loss: 0.0016 - accuracy: 0.9998\n",
            "Epoch 9/25\n",
            "154/154 [==============================] - 47s 308ms/step - loss: 0.0010 - accuracy: 1.0000\n",
            "Epoch 10/25\n",
            "154/154 [==============================] - 47s 307ms/step - loss: 6.3417e-04 - accuracy: 1.0000\n",
            "Epoch 11/25\n",
            "154/154 [==============================] - 47s 307ms/step - loss: 7.9613e-04 - accuracy: 1.0000\n",
            "Epoch 12/25\n",
            "154/154 [==============================] - 47s 306ms/step - loss: 5.4654e-04 - accuracy: 1.0000\n",
            "Epoch 13/25\n",
            "154/154 [==============================] - 47s 307ms/step - loss: 7.1270e-04 - accuracy: 1.0000\n",
            "Epoch 14/25\n",
            "154/154 [==============================] - 47s 304ms/step - loss: 5.2568e-04 - accuracy: 1.0000\n",
            "Epoch 15/25\n",
            "154/154 [==============================] - 47s 304ms/step - loss: 7.1544e-04 - accuracy: 0.9998\n",
            "Epoch 16/25\n",
            "154/154 [==============================] - 47s 305ms/step - loss: 4.2910e-04 - accuracy: 1.0000\n",
            "Epoch 17/25\n",
            "154/154 [==============================] - 47s 306ms/step - loss: 5.4247e-04 - accuracy: 1.0000\n",
            "Epoch 18/25\n",
            "154/154 [==============================] - 47s 307ms/step - loss: 6.7942e-04 - accuracy: 0.9998\n",
            "Epoch 19/25\n",
            "154/154 [==============================] - 47s 305ms/step - loss: 3.2434e-04 - accuracy: 1.0000\n",
            "Epoch 20/25\n",
            "154/154 [==============================] - 48s 309ms/step - loss: 8.0713e-04 - accuracy: 0.9996\n",
            "Epoch 21/25\n",
            "154/154 [==============================] - 47s 306ms/step - loss: 7.5031e-04 - accuracy: 0.9998\n",
            "Epoch 22/25\n",
            "154/154 [==============================] - 47s 306ms/step - loss: 4.7704e-04 - accuracy: 1.0000\n",
            "Epoch 23/25\n",
            "154/154 [==============================] - 48s 308ms/step - loss: 2.9024e-04 - accuracy: 1.0000\n",
            "Epoch 24/25\n",
            "154/154 [==============================] - 48s 308ms/step - loss: 6.5753e-04 - accuracy: 0.9998\n",
            "Epoch 25/25\n",
            "154/154 [==============================] - 47s 307ms/step - loss: 3.4036e-04 - accuracy: 1.0000\n"
          ]
        },
        {
          "output_type": "display_data",
          "data": {
            "text/plain": [
              "<Figure size 432x288 with 1 Axes>"
            ],
            "image/png": "[encoded data removed]"
          },
          "metadata": {
            "needs_background": "light"
          }
        },
        {
          "output_type": "display_data",
          "data": {
            "text/plain": [
              "<Figure size 432x288 with 1 Axes>"
            ],
            "image/png": "[encoded data removed]"
          },
          "metadata": {
            "needs_background": "light"
          }
        },
        {
          "output_type": "stream",
          "name": "stdout",
          "text": [
            "39/39 [==============================] - 12s 304ms/step\n",
            "***Performance on Validation data***\n",
            "Accuracy  : 0.9967532467532467\n",
            "Precision : 0.996960266991386\n",
            "f1Score : 0.9959703118568064\n",
            "Recall : 0.9950248756218905\n",
            "[[189   0   0]\n",
            " [  1 264   3]\n",
            " [  0   0 775]]\n",
            "39/39 [==============================] - 12s 310ms/step - loss: 0.0071 - accuracy: 0.9968\n",
            "trn_indx: 4927 valid_indx: 1232\n",
            "Results for fold 3\n",
            "4927\n",
            "1232\n",
            "Found 4927 images belonging to 3 classes.\n",
            "Found 0 images belonging to 3 classes.\n",
            "Found 1232 images belonging to 3 classes.\n",
            "Epoch 1/25\n",
            "154/154 [==============================] - 49s 312ms/step - loss: 0.0020 - accuracy: 0.9994\n",
            "Epoch 2/25\n",
            "154/154 [==============================] - 48s 312ms/step - loss: 5.7856e-04 - accuracy: 1.0000\n",
            "Epoch 3/25\n",
            "154/154 [==============================] - 48s 313ms/step - loss: 0.0021 - accuracy: 0.9992\n",
            "Epoch 4/25\n",
            "154/154 [==============================] - 48s 314ms/step - loss: 0.0019 - accuracy: 0.9994\n",
            "Epoch 5/25\n",
            "154/154 [==============================] - 48s 314ms/step - loss: 7.6080e-04 - accuracy: 0.9998\n",
            "Epoch 6/25\n",
            "154/154 [==============================] - 48s 311ms/step - loss: 6.3259e-04 - accuracy: 1.0000\n",
            "Epoch 7/25\n",
            "154/154 [==============================] - 48s 312ms/step - loss: 4.8402e-04 - accuracy: 1.0000\n",
            "Epoch 8/25\n",
            "154/154 [==============================] - 48s 312ms/step - loss: 5.4883e-04 - accuracy: 1.0000\n",
            "Epoch 9/25\n",
            "154/154 [==============================] - 48s 309ms/step - loss: 3.4385e-04 - accuracy: 1.0000\n",
            "Epoch 10/25\n",
            "154/154 [==============================] - 48s 310ms/step - loss: 1.8449e-04 - accuracy: 1.0000\n",
            "Epoch 11/25\n",
            "154/154 [==============================] - 48s 308ms/step - loss: 2.9797e-04 - accuracy: 1.0000\n",
            "Epoch 12/25\n",
            "154/154 [==============================] - 47s 307ms/step - loss: 2.6867e-04 - accuracy: 1.0000\n",
            "Epoch 13/25\n",
            "154/154 [==============================] - 48s 310ms/step - loss: 3.1655e-04 - accuracy: 1.0000\n",
            "Epoch 14/25\n",
            "154/154 [==============================] - 48s 308ms/step - loss: 2.2799e-04 - accuracy: 1.0000\n",
            "Epoch 15/25\n",
            "154/154 [==============================] - 47s 307ms/step - loss: 2.0725e-04 - accuracy: 1.0000\n",
            "Epoch 16/25\n",
            "154/154 [==============================] - 48s 308ms/step - loss: 2.3368e-04 - accuracy: 1.0000\n",
            "Epoch 17/25\n",
            "154/154 [==============================] - 48s 308ms/step - loss: 3.5584e-04 - accuracy: 1.0000\n",
            "Epoch 18/25\n",
            "154/154 [==============================] - 47s 307ms/step - loss: 1.5852e-04 - accuracy: 1.0000\n",
            "Epoch 19/25\n",
            "154/154 [==============================] - 47s 308ms/step - loss: 2.8198e-04 - accuracy: 1.0000\n",
            "Epoch 20/25\n",
            "154/154 [==============================] - 48s 309ms/step - loss: 2.3912e-04 - accuracy: 1.0000\n",
            "Epoch 21/25\n",
            "154/154 [==============================] - 47s 308ms/step - loss: 1.6624e-04 - accuracy: 1.0000\n",
            "Epoch 22/25\n",
            "154/154 [==============================] - 48s 308ms/step - loss: 1.5574e-04 - accuracy: 1.0000\n",
            "Epoch 23/25\n",
            "154/154 [==============================] - 48s 309ms/step - loss: 1.1250e-04 - accuracy: 1.0000\n",
            "Epoch 24/25\n",
            "154/154 [==============================] - 47s 306ms/step - loss: 1.0970e-04 - accuracy: 1.0000\n",
            "Epoch 25/25\n",
            "154/154 [==============================] - 48s 309ms/step - loss: 1.5497e-04 - accuracy: 1.0000\n"
          ]
        },
        {
          "output_type": "display_data",
          "data": {
            "text/plain": [
              "<Figure size 432x288 with 1 Axes>"
            ],
            "image/png": "[encoded data removed]"
          },
          "metadata": {
            "needs_background": "light"
          }
        },
        {
          "output_type": "display_data",
          "data": {
            "text/plain": [
              "<Figure size 432x288 with 1 Axes>"
            ],
            "image/png": "[encoded data removed]"
          },
          "metadata": {
            "needs_background": "light"
          }
        },
        {
          "output_type": "stream",
          "name": "stdout",
          "text": [
            "39/39 [==============================] - 11s 298ms/step\n",
            "***Performance on Validation data***\n",
            "Accuracy  : 1.0\n",
            "Precision : 1.0\n",
            "f1Score : 1.0\n",
            "Recall : 1.0\n",
            "[[189   0   0]\n",
            " [  0 268   0]\n",
            " [  0   0 775]]\n",
            "39/39 [==============================] - 12s 301ms/step - loss: 9.0317e-05 - accuracy: 1.0000\n",
            "trn_indx: 4927 valid_indx: 1232\n",
            "Results for fold 4\n",
            "4927\n",
            "1232\n",
            "Found 4927 images belonging to 3 classes.\n",
            "Found 0 images belonging to 3 classes.\n",
            "Found 1232 images belonging to 3 classes.\n",
            "Epoch 1/25\n",
            "154/154 [==============================] - 49s 313ms/step - loss: 2.0952e-04 - accuracy: 1.0000\n",
            "Epoch 2/25\n",
            "154/154 [==============================] - 48s 312ms/step - loss: 1.6939e-04 - accuracy: 1.0000\n",
            "Epoch 3/25\n",
            "154/154 [==============================] - 48s 313ms/step - loss: 2.1596e-04 - accuracy: 1.0000\n",
            "Epoch 4/25\n",
            "154/154 [==============================] - 48s 314ms/step - loss: 2.5973e-04 - accuracy: 1.0000\n",
            "Epoch 5/25\n",
            "154/154 [==============================] - 48s 312ms/step - loss: 3.2636e-04 - accuracy: 0.9998\n",
            "Epoch 6/25\n",
            "154/154 [==============================] - 48s 308ms/step - loss: 1.9355e-04 - accuracy: 1.0000\n",
            "Epoch 7/25\n",
            "154/154 [==============================] - 48s 314ms/step - loss: 2.5244e-04 - accuracy: 1.0000\n",
            "Epoch 8/25\n",
            "154/154 [==============================] - 48s 309ms/step - loss: 4.2038e-04 - accuracy: 0.9998\n",
            "Epoch 9/25\n",
            "154/154 [==============================] - 48s 309ms/step - loss: 1.8613e-04 - accuracy: 1.0000\n",
            "Epoch 10/25\n",
            "154/154 [==============================] - 48s 310ms/step - loss: 2.2698e-04 - accuracy: 1.0000\n",
            "Epoch 11/25\n",
            "154/154 [==============================] - 48s 308ms/step - loss: 1.0853e-04 - accuracy: 1.0000\n",
            "Epoch 12/25\n",
            "154/154 [==============================] - 48s 309ms/step - loss: 1.7386e-04 - accuracy: 1.0000\n",
            "Epoch 13/25\n",
            "154/154 [==============================] - 48s 311ms/step - loss: 3.1050e-04 - accuracy: 1.0000\n",
            "Epoch 14/25\n",
            "154/154 [==============================] - 48s 308ms/step - loss: 4.5199e-04 - accuracy: 0.9998\n",
            "Epoch 15/25\n",
            "154/154 [==============================] - 48s 308ms/step - loss: 4.3659e-04 - accuracy: 1.0000\n",
            "Epoch 16/25\n",
            "154/154 [==============================] - 48s 308ms/step - loss: 1.7336e-04 - accuracy: 1.0000\n",
            "Epoch 17/25\n",
            "154/154 [==============================] - 48s 308ms/step - loss: 1.3253e-04 - accuracy: 1.0000\n",
            "Epoch 18/25\n",
            "154/154 [==============================] - 48s 308ms/step - loss: 1.7372e-04 - accuracy: 1.0000\n",
            "Epoch 19/25\n",
            "154/154 [==============================] - 47s 306ms/step - loss: 4.7250e-04 - accuracy: 0.9998\n",
            "Epoch 20/25\n",
            "154/154 [==============================] - 48s 309ms/step - loss: 7.3780e-04 - accuracy: 0.9996\n",
            "Epoch 21/25\n",
            "154/154 [==============================] - 48s 308ms/step - loss: 1.6531e-04 - accuracy: 1.0000\n",
            "Epoch 22/25\n",
            "154/154 [==============================] - 49s 315ms/step - loss: 0.0012 - accuracy: 0.9996\n",
            "Epoch 23/25\n",
            "154/154 [==============================] - 49s 316ms/step - loss: 2.6187e-04 - accuracy: 1.0000\n",
            "Epoch 24/25\n",
            "154/154 [==============================] - 48s 312ms/step - loss: 2.4826e-04 - accuracy: 1.0000\n",
            "Epoch 25/25\n",
            "154/154 [==============================] - 48s 311ms/step - loss: 2.2109e-04 - accuracy: 1.0000\n"
          ]
        },
        {
          "output_type": "display_data",
          "data": {
            "text/plain": [
              "<Figure size 432x288 with 1 Axes>"
            ],
            "image/png": "[encoded data removed]"
          },
          "metadata": {
            "needs_background": "light"
          }
        },
        {
          "output_type": "display_data",
          "data": {
            "text/plain": [
              "<Figure size 432x288 with 1 Axes>"
            ],
            "image/png": "[encoded data removed]"
          },
          "metadata": {
            "needs_background": "light"
          }
        },
        {
          "output_type": "stream",
          "name": "stdout",
          "text": [
            "39/39 [==============================] - 12s 303ms/step\n",
            "***Performance on Validation data***\n",
            "Accuracy  : 1.0\n",
            "Precision : 1.0\n",
            "f1Score : 1.0\n",
            "Recall : 1.0\n",
            "[[188   0   0]\n",
            " [  0 269   0]\n",
            " [  0   0 775]]\n",
            "39/39 [==============================] - 12s 306ms/step - loss: 0.0011 - accuracy: 1.0000\n",
            "trn_indx: 4928 valid_indx: 1231\n",
            "Results for fold 5\n",
            "4928\n",
            "1231\n",
            "Found 4928 images belonging to 3 classes.\n",
            "Found 0 images belonging to 3 classes.\n",
            "Found 1231 images belonging to 3 classes.\n",
            "Epoch 1/25\n",
            "154/154 [==============================] - 48s 312ms/step - loss: 4.9641e-04 - accuracy: 0.9998\n",
            "Epoch 2/25\n",
            "154/154 [==============================] - 48s 314ms/step - loss: 1.6398e-04 - accuracy: 1.0000\n",
            "Epoch 3/25\n",
            "154/154 [==============================] - 49s 316ms/step - loss: 4.5105e-04 - accuracy: 1.0000\n",
            "Epoch 4/25\n",
            "154/154 [==============================] - 49s 318ms/step - loss: 1.8411e-04 - accuracy: 1.0000\n",
            "Epoch 5/25\n",
            "154/154 [==============================] - 49s 318ms/step - loss: 2.2412e-04 - accuracy: 1.0000\n",
            "Epoch 6/25\n",
            "154/154 [==============================] - 49s 316ms/step - loss: 8.6932e-04 - accuracy: 0.9998\n",
            "Epoch 7/25\n",
            "154/154 [==============================] - 48s 311ms/step - loss: 7.5304e-04 - accuracy: 1.0000\n",
            "Epoch 8/25\n",
            "154/154 [==============================] - 48s 310ms/step - loss: 2.7927e-04 - accuracy: 1.0000\n",
            "Epoch 9/25\n",
            "154/154 [==============================] - 48s 309ms/step - loss: 3.8629e-04 - accuracy: 1.0000\n",
            "Epoch 10/25\n",
            "154/154 [==============================] - 48s 311ms/step - loss: 2.3509e-04 - accuracy: 1.0000\n",
            "Epoch 11/25\n",
            "154/154 [==============================] - 48s 312ms/step - loss: 1.1769e-04 - accuracy: 1.0000\n",
            "Epoch 12/25\n",
            "154/154 [==============================] - 48s 312ms/step - loss: 0.0012 - accuracy: 0.9996\n",
            "Epoch 13/25\n",
            "154/154 [==============================] - 48s 309ms/step - loss: 2.8636e-04 - accuracy: 1.0000\n",
            "Epoch 14/25\n",
            "154/154 [==============================] - 48s 308ms/step - loss: 4.3747e-04 - accuracy: 0.9998\n",
            "Epoch 15/25\n",
            "154/154 [==============================] - 48s 310ms/step - loss: 2.1604e-04 - accuracy: 1.0000\n",
            "Epoch 16/25\n",
            "154/154 [==============================] - 48s 311ms/step - loss: 1.4469e-04 - accuracy: 1.0000\n",
            "Epoch 17/25\n",
            "154/154 [==============================] - 48s 310ms/step - loss: 1.3012e-04 - accuracy: 1.0000\n",
            "Epoch 18/25\n",
            "154/154 [==============================] - 48s 309ms/step - loss: 1.1286e-04 - accuracy: 1.0000\n",
            "Epoch 19/25\n",
            "154/154 [==============================] - 48s 310ms/step - loss: 1.4154e-04 - accuracy: 1.0000\n",
            "Epoch 20/25\n",
            "154/154 [==============================] - 48s 312ms/step - loss: 1.3365e-04 - accuracy: 1.0000\n",
            "Epoch 21/25\n",
            "154/154 [==============================] - 47s 307ms/step - loss: 2.7866e-04 - accuracy: 1.0000\n",
            "Epoch 22/25\n",
            "154/154 [==============================] - 47s 306ms/step - loss: 8.0490e-04 - accuracy: 0.9998\n",
            "Epoch 23/25\n",
            "154/154 [==============================] - 47s 308ms/step - loss: 1.3011e-04 - accuracy: 1.0000\n",
            "Epoch 24/25\n",
            "154/154 [==============================] - 47s 304ms/step - loss: 6.2275e-05 - accuracy: 1.0000\n",
            "Epoch 25/25\n",
            "154/154 [==============================] - 47s 306ms/step - loss: 1.6279e-04 - accuracy: 1.0000\n"
          ]
        },
        {
          "output_type": "display_data",
          "data": {
            "text/plain": [
              "<Figure size 432x288 with 1 Axes>"
            ],
            "image/png": "[encoded data removed]"
          },
          "metadata": {
            "needs_background": "light"
          }
        },
        {
          "output_type": "display_data",
          "data": {
            "text/plain": [
              "<Figure size 432x288 with 1 Axes>"
            ],
            "image/png": "[encoded data removed]"
          },
          "metadata": {
            "needs_background": "light"
          }
        },
        {
          "output_type": "stream",
          "name": "stdout",
          "text": [
            "39/39 [==============================] - 12s 303ms/step\n",
            "***Performance on Validation data***\n",
            "Accuracy  : 1.0\n",
            "Precision : 1.0\n",
            "f1Score : 1.0\n",
            "Recall : 1.0\n",
            "[[188   0   0]\n",
            " [  0 268   0]\n",
            " [  0   0 775]]\n",
            "39/39 [==============================] - 12s 306ms/step - loss: 0.0012 - accuracy: 1.0000\n",
            "Overall Accuracy:  0.9936688311688311\n",
            "Overall Precision:  0.9934721243718924\n",
            "Overall f1Score:  0.9928131147417527\n",
            "Overall Recall:  0.992291935101757\n"
          ]
        }
      ],
      "source": [
        "for train_index, val_index in skf.split(X, Y):\n",
        "    print(\"trn_indx: %s valid_indx: %s\" % (len(train_index), len(val_index))) \n",
        "    #First cut all images from validation to train (if any exists)\n",
        "    transferAllClassBetweenFolders('test', 'train', 1.0)\n",
        "    #transferAllClassBetweenFolders('test', 'train', 1.0)\n",
        "    foldNum+=1\n",
        "    print(\"Results for fold\",foldNum)\n",
        "    X_train, X_val = X[train_index], X[val_index]\n",
        "    Y_train, Y_val = Y[train_index], Y[val_index]\n",
        "    # Move validation images of this fold from train folder to the validation folder\n",
        "    print(len(X_train))\n",
        "    print(len(X_val))\n",
        "    for eachIndex in range(len(X_val)):\n",
        "        classLabel=''\n",
        "        for i in range(len(classLabels)):\n",
        "          if(Y_val[eachIndex]==i):\n",
        "              classLabel=classLabels[i]\n",
        "        #Then, copy the validation images to the validation folder\n",
        "        shutil.move(sourcePath+'/train/'+classLabel+'/'+X_val[eachIndex], \n",
        "                    sourcePath+'/test/'+classLabel+'/'+X_val[eachIndex])\n",
        "        \n",
        "    train_batches = ImageDataGenerator().flow_from_directory(train_path, target_size=(256,256), classes=['covid', 'normal', 'pneumonia'], class_mode = 'sparse',color_mode = 'grayscale', batch_size = 32, shuffle=True)\n",
        "    valid_batches = ImageDataGenerator().flow_from_directory(valid_path, target_size=(256,256), classes=['covid', 'normal', 'pneumonia'], class_mode = 'sparse',color_mode = 'grayscale', batch_size = 32, shuffle=True)\n",
        "    test_batches = ImageDataGenerator().flow_from_directory(test_path, target_size=(256,256), classes=['covid', 'normal', 'pneumonia'], class_mode = 'sparse',color_mode = 'grayscale', batch_size = 32, shuffle=False)\n",
        "\n",
        "    model = new_model\n",
        "    history = model.fit(train_batches, \n",
        "                    #steps_per_epoch=sp_epoch,\n",
        "                    #validation_split = 0.2, \n",
        "                    #validation_data=valid_batches, \n",
        "                    #validation_steps=10, \n",
        "                    epochs=25, \n",
        "                    verbose=1)\n",
        "    plt.plot(history.history['accuracy'])\n",
        "    #plt.plot(history.history['val_accuracy'])\n",
        "    plt.title('Final model accuracy')\n",
        "    plt.ylabel('accuracy')\n",
        "    plt.xlabel('epoch')\n",
        "    plt.ylim(0,1.1)\n",
        "    #plt.legend(['train','valid'], loc='upper left')\n",
        "    #plt.legend(['train'], loc='upper left')\n",
        "    plt.show()\n",
        "    # summarize history for loss\n",
        "    plt.plot(history.history['loss'])\n",
        "    #plt.plot(history.history['val_loss'])\n",
        "    plt.title('Final model loss')\n",
        "    plt.ylabel('loss')\n",
        "    plt.xlabel('epoch')\n",
        "    plt.ylim(0,1)\n",
        "    plt.legend(['train'], loc='upper left')\n",
        "    plt.show()\n",
        "    test_batches.reset()\n",
        "    Y_pred = model.predict(test_batches)\n",
        "    classes = test_batches.classes[test_batches.index_array]\n",
        "    y_pred = np.argmax(Y_pred, axis=-1)\n",
        "    #print(sum(y_pred==classes)/10000)\n",
        "    confusion_matrix(test_batches.classes[test_batches.index_array],y_pred)\n",
        "    predictions = model.predict(test_batches, verbose=1)\n",
        "    #yPredictions = np.argmax(predictions, axis=1)\n",
        "    #print(yPredictions)\n",
        "    #true_classes = test_batches.classes\n",
        "    # evaluate validation performance\n",
        "    print(\"***Performance on Validation data***\")    \n",
        "    #valAcc, valPrec, valFScore = my_metrics(true_classes, yPredictions)\n",
        "    valAcc, valPrec, valFScore, valRec = my_metrics(classes, y_pred)\n",
        "    overAllAcc = overAllAcc+valAcc\n",
        "    overAllPrec = overAllPrec+valPrec\n",
        "    overAllf1 = overAllf1+valFScore\n",
        "    overAllRec = overAllRec+valRec\n",
        "    \n",
        "    model.evaluate(test_batches)\n",
        "print(\"Overall Accuracy: \",  overAllAcc/foldNum)\n",
        "print(\"Overall Precision: \",  overAllPrec/foldNum)\n",
        "print(\"Overall f1Score: \",  overAllf1/foldNum)\n",
        "print(\"Overall Recall: \",  overAllRec/foldNum)"
      ]
    },
    {
      "cell_type": "code",
      "execution_count": 26,
      "metadata": {
        "id": "TIAdDvpTefh2"
      },
      "outputs": [],
      "source": [
        ""
      ]
    },
    {
      "cell_type": "code",
      "execution_count": 26,
      "metadata": {
        "id": "knBcrm2oep3q"
      },
      "outputs": [],
      "source": [
        "\n"
      ]
    },
    {
      "cell_type": "code",
      "execution_count": 26,
      "metadata": {
        "id": "pN0XXkdLeusB"
      },
      "outputs": [],
      "source": [
        ""
      ]
    },
    {
      "cell_type": "code",
      "execution_count": 26,
      "metadata": {
        "id": "0j8_kTfBe6Vy"
      },
      "outputs": [],
      "source": [
        ""
      ]
    }
  ],
  "metadata": {
    "accelerator": "GPU",
    "colab": {
      "collapsed_sections": [],
      "machine_shape": "hm",
      "name": "amitofo_excelent.ipynb",
      "provenance": [],
      "include_colab_link": true
    },
    "kernelspec": {
      "display_name": "Python 3",
      "name": "python3"
    },
    "language_info": {
      "name": "python"
    }
  },
  "nbformat": 4,
  "nbformat_minor": 0
}