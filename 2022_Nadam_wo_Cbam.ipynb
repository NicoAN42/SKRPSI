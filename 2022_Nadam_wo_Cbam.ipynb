{
  "cells": [
    {
      "cell_type": "markdown",
      "metadata": {
        "id": "view-in-github",
        "colab_type": "text"
      },
      "source": [
        "<a href=\"https://colab.research.google.com/github/NicoAN42/SKRPSI/blob/main/2022_Nadam_wo_Cbam.ipynb\" target=\"_parent\"><img src=\"https://colab.research.google.com/assets/colab-badge.svg\" alt=\"Open In Colab\"/></a>"
      ]
    },
    {
      "cell_type": "code",
      "execution_count": 1,
      "metadata": {
        "colab": {
          "base_uri": "https://localhost:8080/"
        },
        "id": "bd3mi5ZLdBSv",
        "outputId": "1fa8aa6d-7cc3-4fdf-c323-0ebeee80762b"
      },
      "outputs": [
        {
          "output_type": "stream",
          "name": "stdout",
          "text": [
            "Mounted at /content/drive\n"
          ]
        }
      ],
      "source": [
        "#mount dataset\n",
        "from google.colab import drive\n",
        "drive.mount('/content/drive')\n"
      ]
    },
    {
      "cell_type": "code",
      "execution_count": 2,
      "metadata": {
        "id": "mNr5eLs1WiKT"
      },
      "outputs": [],
      "source": [
        "from tensorflow.keras.layers import Conv2D, Input, concatenate, Activation, InputLayer, Dense, Reshape, Flatten, Add, multiply, Permute, Lambda, Concatenate\n",
        "from tensorflow.keras.layers import LeakyReLU,ReLU, MaxPooling2D, BatchNormalization,GlobalMaxPooling2D,GlobalAveragePooling2D\n",
        "from tensorflow.keras.models import Model, Sequential\n",
        "from tensorflow.keras import layers\n",
        "from tensorflow.keras.activations import softmax,sigmoid\n",
        "from tensorflow.keras.preprocessing.image import ImageDataGenerator\n",
        "from tensorflow.keras.optimizers import Adam, Nadam\n",
        "from tensorflow.keras.callbacks import EarlyStopping\n",
        "from tensorflow.keras.layers import Dropout,SpatialDropout2D,GaussianDropout\n",
        "from tensorflow.keras.optimizers.schedules import ExponentialDecay\n",
        "from tensorflow.keras.regularizers import l1,l2\n",
        "from tensorflow.keras import backend as K\n",
        "from __future__ import absolute_import\n",
        "from __future__ import division\n",
        "from __future__ import print_function\n",
        "import tensorflow\n",
        "import tensorflow as tf\n",
        "import math\n",
        "import matplotlib.pyplot as plt\n",
        "import numpy as np\n",
        "from sklearn.metrics import accuracy_score, f1_score, precision_score, confusion_matrix, recall_score\n",
        "from sklearn.model_selection import StratifiedKFold\n",
        "import os\n",
        "import random\n",
        "import shutil"
      ]
    },
    {
      "cell_type": "code",
      "execution_count": 3,
      "metadata": {
        "id": "M-dUDyotW99U"
      },
      "outputs": [],
      "source": [
        "#from tensorflow.keras.optimizers import SGD"
      ]
    },
    {
      "cell_type": "code",
      "execution_count": 4,
      "metadata": {
        "id": "1SKzQPoLeGUS"
      },
      "outputs": [],
      "source": [
        "CLASS = 3\n",
        "#sourcepath isi semua data train, folder valid kosongin datanya sisai folder classnya\n",
        "sourcePath = '/content/drive/MyDrive/Colab Notebooks/Dataset 3'\n",
        "train_path = '/content/drive/MyDrive/Colab Notebooks/Dataset 3/train'\n",
        "valid_path = '/content/drive/MyDrive/Colab Notebooks/Dataset 3/valid'\n",
        "test_path = '/content/drive/MyDrive/Colab Notebooks/Dataset 3/test'\n",
        "#attention_module = 'cbam_block'\n",
        "#nico"
      ]
    },
    {
      "cell_type": "code",
      "execution_count": 5,
      "metadata": {
        "id": "qyuRvIz9mFu_"
      },
      "outputs": [],
      "source": [
        "classLabels =['covid','normal', 'pneumonia']"
      ]
    },
    {
      "cell_type": "code",
      "execution_count": 6,
      "metadata": {
        "id": "q2Q9CbMzY1Rn"
      },
      "outputs": [],
      "source": [
        "input = Input(shape=(256,256,3))"
      ]
    },
    {
      "cell_type": "code",
      "execution_count": 7,
      "metadata": {
        "id": "YpZNBOFOZBJL"
      },
      "outputs": [],
      "source": [
        "#Layer 1\n",
        "model = layers.Conv2D(32, (3,3), padding='same', name='conv_1', activation = 'relu')(input)\n",
        "model = layers.BatchNormalization(name='norm_1')(model)\n",
        "model = layers.MaxPooling2D(pool_size=(2, 2), strides= 2)(model)\n",
        "#attention_module = 'cbam_block'\n",
        "#y = attach_attention_module(model, attention_module)\n",
        "#model =  tensorflow.keras.layers.add([model, y])\n"
      ]
    },
    {
      "cell_type": "code",
      "execution_count": 8,
      "metadata": {
        "id": "pBvWdrCmZCsQ"
      },
      "outputs": [],
      "source": [
        "#Layer 2\n",
        "model = layers.Conv2D(64, (3,3), padding='same', name='conv_2', activation = 'relu')(model)\n",
        "model = layers.Dropout(0.1)(model)\n",
        "model = layers.BatchNormalization(name='norm_2')(model)\n",
        "model = layers.MaxPooling2D(pool_size=(2, 2), strides = 2)(model)\n",
        "\n",
        "#attention_module = 'cbam_block'\n",
        "#y = attach_attention_module(model, attention_module)\n",
        "#model =  tensorflow.keras.layers.add([model, y])\n"
      ]
    },
    {
      "cell_type": "code",
      "execution_count": 9,
      "metadata": {
        "id": "RBUvxL-9ZEO3"
      },
      "outputs": [],
      "source": [
        "# Layer 3\n",
        "model = layers.Conv2D(64, (3,3), padding='same', name='conv_3', activation = 'relu')(model)\n",
        "model = layers.BatchNormalization(name='norm_3')(model)\n",
        "model = layers.MaxPooling2D(pool_size=(2, 2), strides = 2)(model)\n",
        "\n",
        "#attention_module = 'cbam_block'\n",
        "#y = attach_attention_module(model, attention_module)\n",
        "#model =  tensorflow.keras.layers.add([model, y])\n",
        "\n"
      ]
    },
    {
      "cell_type": "code",
      "execution_count": 10,
      "metadata": {
        "id": "QKyPzn20ZI1Y"
      },
      "outputs": [],
      "source": [
        "# Layer 4\n",
        "model = layers.Conv2D(128, (3,3), padding='same', name='conv_4', activation = 'relu')(model)\n",
        "model = layers.Dropout(0.2)(model)\n",
        "model = layers.BatchNormalization(name='norm_4')(model)\n",
        "model = layers.MaxPooling2D(pool_size=(2, 2), strides = 2)(model)\n",
        "\n",
        "#attention_module = 'cbam_block'\n",
        "#y = attach_attention_module(model, attention_module)\n",
        "#model =  tensorflow.keras.layers.add([model, y])\n"
      ]
    },
    {
      "cell_type": "code",
      "execution_count": 11,
      "metadata": {
        "id": "tgLQSWDfZJ53"
      },
      "outputs": [],
      "source": [
        "# Layer 5\n",
        "model = layers.Conv2D(256, (3,3), padding='same', name='conv_5', activation = 'relu')(model)\n",
        "layer = layers.Conv2D(256, (3,3), padding='same', name='conv_5', activation = 'relu')\n",
        "batch = layers.BatchNormalization(name='norm_5')\n",
        "model = layers.Dropout(0.2)(model)\n",
        "model = layers.BatchNormalization(name='norm_5')(model)\n",
        "#model = layers.MaxPooling2D(pool_size=(2, 2), strides = 2)(model)"
      ]
    },
    {
      "cell_type": "code",
      "execution_count": 12,
      "metadata": {
        "id": "8_jONIoBZhXm"
      },
      "outputs": [],
      "source": [
        "model = layers.Flatten()(model)\n",
        "model = layers.Dense(128, activation = 'relu')(model)\n",
        "model = layers.Dropout(0.2)(model)\n",
        "output = layers.Dense(3,Activation('softmax'))(model)\n",
        "model = Model(input, output)"
      ]
    },
    {
      "cell_type": "code",
      "execution_count": 13,
      "metadata": {
        "id": "iDpUFSaVZigY"
      },
      "outputs": [],
      "source": [
        "#output = model.output_shape"
      ]
    },
    {
      "cell_type": "code",
      "execution_count": 14,
      "metadata": {
        "colab": {
          "base_uri": "https://localhost:8080/"
        },
        "id": "qRYlJT_4ZkhM",
        "outputId": "d5f04c3c-eb78-4868-872b-f4a043e1c343"
      },
      "outputs": [
        {
          "output_type": "stream",
          "name": "stdout",
          "text": [
            "KerasTensor(type_spec=TensorSpec(shape=(None, 256, 256, 3), dtype=tf.float32, name='input_1'), name='input_1', description=\"created by layer 'input_1'\")\n"
          ]
        }
      ],
      "source": [
        "print(input)"
      ]
    },
    {
      "cell_type": "code",
      "execution_count": 15,
      "metadata": {
        "id": "JdlrgYZwZnEd"
      },
      "outputs": [],
      "source": [
        "opt = Nadam(learning_rate=0.001, beta_1=0.9, beta_2=0.999)"
      ]
    },
    {
      "cell_type": "code",
      "execution_count": 16,
      "metadata": {
        "id": "oOIL33yEZpPX"
      },
      "outputs": [],
      "source": [
        "model.compile(optimizer=opt, loss=\"sparse_categorical_crossentropy\", metrics=[\"accuracy\"] )"
      ]
    },
    {
      "cell_type": "code",
      "execution_count": 17,
      "metadata": {
        "colab": {
          "base_uri": "https://localhost:8080/"
        },
        "id": "99dNdRxNZqh5",
        "outputId": "dfb9f270-8977-4949-b2e0-13989155a4da"
      },
      "outputs": [
        {
          "output_type": "stream",
          "name": "stdout",
          "text": [
            "Model: \"model\"\n",
            "_________________________________________________________________\n",
            " Layer (type)                Output Shape              Param #   \n",
            "=================================================================\n",
            " input_1 (InputLayer)        [(None, 256, 256, 3)]     0         \n",
            "                                                                 \n",
            " conv_1 (Conv2D)             (None, 256, 256, 32)      896       \n",
            "                                                                 \n",
            " norm_1 (BatchNormalization)  (None, 256, 256, 32)     128       \n",
            "                                                                 \n",
            " max_pooling2d (MaxPooling2D  (None, 128, 128, 32)     0         \n",
            " )                                                               \n",
            "                                                                 \n",
            " conv_2 (Conv2D)             (None, 128, 128, 64)      18496     \n",
            "                                                                 \n",
            " dropout (Dropout)           (None, 128, 128, 64)      0         \n",
            "                                                                 \n",
            " norm_2 (BatchNormalization)  (None, 128, 128, 64)     256       \n",
            "                                                                 \n",
            " max_pooling2d_1 (MaxPooling  (None, 64, 64, 64)       0         \n",
            " 2D)                                                             \n",
            "                                                                 \n",
            " conv_3 (Conv2D)             (None, 64, 64, 64)        36928     \n",
            "                                                                 \n",
            " norm_3 (BatchNormalization)  (None, 64, 64, 64)       256       \n",
            "                                                                 \n",
            " max_pooling2d_2 (MaxPooling  (None, 32, 32, 64)       0         \n",
            " 2D)                                                             \n",
            "                                                                 \n",
            " conv_4 (Conv2D)             (None, 32, 32, 128)       73856     \n",
            "                                                                 \n",
            " dropout_1 (Dropout)         (None, 32, 32, 128)       0         \n",
            "                                                                 \n",
            " norm_4 (BatchNormalization)  (None, 32, 32, 128)      512       \n",
            "                                                                 \n",
            " max_pooling2d_3 (MaxPooling  (None, 16, 16, 128)      0         \n",
            " 2D)                                                             \n",
            "                                                                 \n",
            " conv_5 (Conv2D)             (None, 16, 16, 256)       295168    \n",
            "                                                                 \n",
            " dropout_2 (Dropout)         (None, 16, 16, 256)       0         \n",
            "                                                                 \n",
            " norm_5 (BatchNormalization)  (None, 16, 16, 256)      1024      \n",
            "                                                                 \n",
            " flatten (Flatten)           (None, 65536)             0         \n",
            "                                                                 \n",
            " dense (Dense)               (None, 128)               8388736   \n",
            "                                                                 \n",
            " dropout_3 (Dropout)         (None, 128)               0         \n",
            "                                                                 \n",
            " dense_1 (Dense)             (None, 3)                 387       \n",
            "                                                                 \n",
            "=================================================================\n",
            "Total params: 8,816,643\n",
            "Trainable params: 8,815,555\n",
            "Non-trainable params: 1,088\n",
            "_________________________________________________________________\n",
            "None\n",
            "<keras.engine.functional.Functional object at 0x7fa4704a9150>\n"
          ]
        }
      ],
      "source": [
        "print(model.summary())\n",
        "print(model)"
      ]
    },
    {
      "cell_type": "code",
      "execution_count": 18,
      "metadata": {
        "id": "NIABPyRMYycd"
      },
      "outputs": [],
      "source": [
        "X = []\n",
        "Y = []\n",
        "def transferBetweenFolders(source, dest, splitRate): \n",
        "    global sourceFiles\n",
        "    sourceFiles=os.listdir(source)\n",
        "    if(len(sourceFiles)!=0):\n",
        "        transferFileNumbers=int(len(sourceFiles)*splitRate)\n",
        "        transferIndex=random.sample(range(0, len(sourceFiles)), transferFileNumbers)\n",
        "        for eachIndex in transferIndex:\n",
        "            shutil.move(source+str(sourceFiles[eachIndex]), dest+str(sourceFiles[eachIndex]))\n",
        "    else:\n",
        "        print(\"No file moved. Source empty!\")\n",
        "        "
      ]
    },
    {
      "cell_type": "code",
      "execution_count": 19,
      "metadata": {
        "id": "Fh0THhOaY0Da",
        "colab": {
          "base_uri": "https://localhost:8080/"
        },
        "outputId": "fe938724-bded-4e57-9b9f-8370658ebf35"
      },
      "outputs": [
        {
          "output_type": "stream",
          "name": "stdout",
          "text": [
            "No file moved. Source empty!\n",
            "No file moved. Source empty!\n",
            "No file moved. Source empty!\n"
          ]
        }
      ],
      "source": [
        "def transferAllClassBetweenFolders(source, dest, splitRate):\n",
        "    for label in classLabels:\n",
        "        transferBetweenFolders(sourcePath+'/'+source+'/'+label+'/', \n",
        "                               sourcePath+'/'+dest+'/'+label+'/', \n",
        "                               splitRate)\n",
        "#First cut all images from validation to train (if any exists)\n",
        "transferAllClassBetweenFolders('valid', 'train', 1.0)\n",
        "transferAllClassBetweenFolders('test', 'train', 1.0)\n",
        "#no valid\n",
        "#transferAllClassBetweenFolders('train', 'test', 0.2)"
      ]
    },
    {
      "cell_type": "code",
      "execution_count": 20,
      "metadata": {
        "id": "bvS9lltuY5_4"
      },
      "outputs": [],
      "source": [
        "def prepareNameWithLabels(folderName):\n",
        "    sourceFiles=os.listdir(sourcePath+'/train/'+folderName)\n",
        "    for val in sourceFiles:\n",
        "        X.append(val)\n",
        "        for i in range(len(classLabels)):\n",
        "          if(folderName==classLabels[i]):\n",
        "              Y.append(i)\n",
        "# Organize file names and class labels in X and Y variables\n",
        "for i in range(len(classLabels)):\n",
        "  prepareNameWithLabels(classLabels[i])\n",
        "\n",
        "def my_metrics(y_true, y_pred):\n",
        "    accuracy=accuracy_score(y_true, y_pred)\n",
        "    precision=precision_score(y_true, y_pred,average='micro')\n",
        "    f1Score=f1_score(y_true, y_pred, average='micro') \n",
        "    recall = recall_score(y_true, y_pred, average='micro')\n",
        "    print(\"Accuracy  : {}\".format(accuracy))\n",
        "    print(\"Precision : {}\".format(precision))\n",
        "    print(\"f1Score : {}\".format(f1Score))\n",
        "    print(\"Recall : {}\".format(recall))\n",
        "    cm=confusion_matrix(y_true, y_pred)\n",
        "    print(cm)\n",
        "\n",
        "    print(\"***----------------------------***\")  \n",
        "    return accuracy, precision, f1Score, recall"
      ]
    },
    {
      "cell_type": "code",
      "execution_count": 21,
      "metadata": {
        "colab": {
          "base_uri": "https://localhost:8080/"
        },
        "id": "7hjflR4gZW0Y",
        "outputId": "ace13771-7cdd-4ffb-a070-af9671d8d0fd"
      },
      "outputs": [
        {
          "output_type": "stream",
          "name": "stdout",
          "text": [
            "No file moved. Source empty!\n",
            "No file moved. Source empty!\n",
            "No file moved. Source empty!\n",
            "No file moved. Source empty!\n",
            "No file moved. Source empty!\n",
            "No file moved. Source empty!\n",
            "['COVID(110).png' 'COVID(15).png' 'COVID(2).png' ...\n",
            " 'person99_virus_183.jpeg' 'person98_virus_182.jpeg'\n",
            " 'person97_virus_180.jpeg']\n",
            "[0 0 0 ... 2 2 2]\n",
            "StratifiedKFold(n_splits=5, random_state=None, shuffle=True)\n",
            "5\n",
            "<generator object _BaseKFold.split at 0x7fa470407550>\n"
          ]
        }
      ],
      "source": [
        "transferAllClassBetweenFolders('valid', 'train', 1.0)\n",
        "#no valid\n",
        "transferAllClassBetweenFolders('test', 'train', 1.0)\n",
        "X=np.asarray(X)\n",
        "Y=np.asarray(Y)\n",
        "\n",
        "print(X)\n",
        "print(Y)\n",
        "\n",
        "skf = StratifiedKFold(n_splits=5\n",
        "                      , shuffle=True)\n",
        "skf.get_n_splits(X, Y)\n",
        "print(skf)\n",
        "print(skf.get_n_splits(X,Y))\n",
        "print(skf.split(X,Y))\n",
        "foldNum=0\n",
        "overAllAcc = 0\n",
        "overAllPrec = 0\n",
        "overAllf1 = 0\n",
        "overAllRec = 0"
      ]
    },
    {
      "cell_type": "code",
      "execution_count": 22,
      "metadata": {
        "colab": {
          "base_uri": "https://localhost:8080/",
          "height": 1000
        },
        "id": "TsQVUi57ZDHg",
        "outputId": "db35c2eb-835e-4fb5-c5ca-9786a443179d"
      },
      "outputs": [
        {
          "output_type": "stream",
          "name": "stdout",
          "text": [
            "trn_indx: 2263 test_indx: 566\n",
            "No file moved. Source empty!\n",
            "No file moved. Source empty!\n",
            "No file moved. Source empty!\n",
            "No file moved. Source empty!\n",
            "No file moved. Source empty!\n",
            "No file moved. Source empty!\n",
            "Results for fold 1\n",
            "2263\n",
            "566\n",
            "Found 2263 images belonging to 3 classes.\n",
            "Found 566 images belonging to 3 classes.\n",
            "Epoch 1/25\n",
            "71/71 - 1063s - loss: 0.6460 - accuracy: 0.8962 - 1063s/epoch - 15s/step\n",
            "Epoch 2/25\n",
            "71/71 - 26s - loss: 0.1637 - accuracy: 0.9571 - 26s/epoch - 362ms/step\n",
            "Epoch 3/25\n",
            "71/71 - 26s - loss: 0.1236 - accuracy: 0.9642 - 26s/epoch - 363ms/step\n",
            "Epoch 4/25\n",
            "71/71 - 25s - loss: 0.1596 - accuracy: 0.9607 - 25s/epoch - 359ms/step\n",
            "Epoch 5/25\n",
            "71/71 - 26s - loss: 0.1294 - accuracy: 0.9682 - 26s/epoch - 365ms/step\n",
            "Epoch 6/25\n",
            "71/71 - 26s - loss: 0.1219 - accuracy: 0.9726 - 26s/epoch - 363ms/step\n",
            "Epoch 7/25\n",
            "71/71 - 25s - loss: 0.0474 - accuracy: 0.9863 - 25s/epoch - 359ms/step\n",
            "Epoch 8/25\n",
            "71/71 - 26s - loss: 0.0291 - accuracy: 0.9894 - 26s/epoch - 361ms/step\n",
            "Epoch 9/25\n",
            "71/71 - 26s - loss: 0.0337 - accuracy: 0.9903 - 26s/epoch - 365ms/step\n",
            "Epoch 10/25\n",
            "71/71 - 25s - loss: 0.0332 - accuracy: 0.9894 - 25s/epoch - 358ms/step\n",
            "Epoch 11/25\n",
            "71/71 - 26s - loss: 0.0261 - accuracy: 0.9916 - 26s/epoch - 365ms/step\n",
            "Epoch 12/25\n",
            "71/71 - 25s - loss: 0.4111 - accuracy: 0.9620 - 25s/epoch - 358ms/step\n",
            "Epoch 13/25\n",
            "71/71 - 26s - loss: 0.2078 - accuracy: 0.9664 - 26s/epoch - 361ms/step\n",
            "Epoch 14/25\n",
            "71/71 - 26s - loss: 0.0524 - accuracy: 0.9819 - 26s/epoch - 363ms/step\n",
            "Epoch 15/25\n",
            "71/71 - 26s - loss: 0.0344 - accuracy: 0.9898 - 26s/epoch - 363ms/step\n",
            "Epoch 16/25\n",
            "71/71 - 26s - loss: 0.0331 - accuracy: 0.9885 - 26s/epoch - 362ms/step\n",
            "Epoch 17/25\n",
            "71/71 - 26s - loss: 0.0232 - accuracy: 0.9920 - 26s/epoch - 363ms/step\n",
            "Epoch 18/25\n",
            "71/71 - 26s - loss: 0.0174 - accuracy: 0.9943 - 26s/epoch - 361ms/step\n",
            "Epoch 19/25\n",
            "71/71 - 25s - loss: 0.0104 - accuracy: 0.9965 - 25s/epoch - 358ms/step\n",
            "Epoch 20/25\n",
            "71/71 - 26s - loss: 0.0090 - accuracy: 0.9969 - 26s/epoch - 363ms/step\n",
            "Epoch 21/25\n",
            "71/71 - 26s - loss: 0.0066 - accuracy: 0.9973 - 26s/epoch - 363ms/step\n",
            "Epoch 22/25\n",
            "71/71 - 26s - loss: 0.0039 - accuracy: 0.9982 - 26s/epoch - 359ms/step\n",
            "Epoch 23/25\n",
            "71/71 - 26s - loss: 0.0024 - accuracy: 0.9996 - 26s/epoch - 360ms/step\n",
            "Epoch 24/25\n",
            "71/71 - 26s - loss: 0.0066 - accuracy: 0.9969 - 26s/epoch - 362ms/step\n",
            "Epoch 25/25\n",
            "71/71 - 26s - loss: 0.0161 - accuracy: 0.9956 - 26s/epoch - 361ms/step\n"
          ]
        },
        {
          "output_type": "display_data",
          "data": {
            "text/plain": [
              "<Figure size 432x288 with 1 Axes>"
            ],
            "image/png": "[encoded data removed]"
          },
          "metadata": {
            "needs_background": "light"
          }
        },
        {
          "output_type": "display_data",
          "data": {
            "text/plain": [
              "<Figure size 432x288 with 1 Axes>"
            ],
            "image/png": "[encoded data removed]"
          },
          "metadata": {
            "needs_background": "light"
          }
        },
        {
          "output_type": "stream",
          "name": "stdout",
          "text": [
            "***Performance Data***\n",
            "Accuracy  : 0.9646643109540636\n",
            "Precision : 0.9646643109540636\n",
            "f1Score : 0.9646643109540636\n",
            "Recall : 0.9646643109540636\n",
            "[[188   1   0]\n",
            " [  0 188   1]\n",
            " [  5  13 170]]\n",
            "***----------------------------***\n",
            "18/18 [==============================] - 6s 361ms/step - loss: 0.2333 - accuracy: 0.9647\n",
            "Overall Accuracy:  0.9646643109540636\n",
            "Overall Precision:  0.9646643109540636\n",
            "Overall f1Score:  0.9646643109540636\n",
            "Overall Recall:  0.9646643109540636\n",
            "***------------------End of Line------------------***\n",
            "trn_indx: 2263 test_indx: 566\n",
            "No file moved. Source empty!\n",
            "No file moved. Source empty!\n",
            "No file moved. Source empty!\n",
            "Results for fold 2\n",
            "2263\n",
            "566\n",
            "Found 2263 images belonging to 3 classes.\n",
            "Found 566 images belonging to 3 classes.\n",
            "Epoch 1/25\n",
            "71/71 - 26s - loss: 0.0966 - accuracy: 0.9797 - 26s/epoch - 361ms/step\n",
            "Epoch 2/25\n",
            "71/71 - 26s - loss: 0.0883 - accuracy: 0.9801 - 26s/epoch - 364ms/step\n",
            "Epoch 3/25\n",
            "71/71 - 26s - loss: 0.0390 - accuracy: 0.9854 - 26s/epoch - 360ms/step\n",
            "Epoch 4/25\n",
            "71/71 - 26s - loss: 0.0315 - accuracy: 0.9890 - 26s/epoch - 364ms/step\n",
            "Epoch 5/25\n",
            "71/71 - 26s - loss: 0.0522 - accuracy: 0.9881 - 26s/epoch - 364ms/step\n",
            "Epoch 6/25\n",
            "71/71 - 25s - loss: 0.0357 - accuracy: 0.9907 - 25s/epoch - 356ms/step\n",
            "Epoch 7/25\n",
            "71/71 - 25s - loss: 0.0158 - accuracy: 0.9943 - 25s/epoch - 359ms/step\n",
            "Epoch 8/25\n",
            "71/71 - 26s - loss: 0.0197 - accuracy: 0.9951 - 26s/epoch - 361ms/step\n",
            "Epoch 9/25\n",
            "71/71 - 25s - loss: 0.0183 - accuracy: 0.9956 - 25s/epoch - 358ms/step\n",
            "Epoch 10/25\n",
            "71/71 - 26s - loss: 0.0177 - accuracy: 0.9934 - 26s/epoch - 363ms/step\n",
            "Epoch 11/25\n",
            "71/71 - 26s - loss: 0.0229 - accuracy: 0.9951 - 26s/epoch - 361ms/step\n",
            "Epoch 12/25\n",
            "71/71 - 25s - loss: 0.0241 - accuracy: 0.9920 - 25s/epoch - 357ms/step\n",
            "Epoch 13/25\n",
            "71/71 - 25s - loss: 0.0149 - accuracy: 0.9947 - 25s/epoch - 358ms/step\n",
            "Epoch 14/25\n",
            "71/71 - 26s - loss: 0.0119 - accuracy: 0.9965 - 26s/epoch - 361ms/step\n",
            "Epoch 15/25\n",
            "71/71 - 25s - loss: 0.0046 - accuracy: 0.9982 - 25s/epoch - 356ms/step\n",
            "Epoch 16/25\n",
            "71/71 - 26s - loss: 0.0023 - accuracy: 0.9991 - 26s/epoch - 360ms/step\n",
            "Epoch 17/25\n",
            "Epoch 18/25\n",
            "71/71 - 26s - loss: 0.0027 - accuracy: 0.9996 - 26s/epoch - 359ms/step\n",
            "Epoch 19/25\n",
            "71/71 - 25s - loss: 0.0026 - accuracy: 0.9987 - 25s/epoch - 359ms/step\n",
            "Epoch 20/25\n",
            "71/71 - 25s - loss: 0.0024 - accuracy: 0.9996 - 25s/epoch - 358ms/step\n",
            "Epoch 21/25\n",
            "71/71 - 26s - loss: 0.0044 - accuracy: 0.9982 - 26s/epoch - 361ms/step\n",
            "Epoch 22/25\n",
            "71/71 - 26s - loss: 0.0044 - accuracy: 0.9982 - 26s/epoch - 359ms/step\n",
            "Epoch 23/25\n",
            "71/71 - 26s - loss: 0.0353 - accuracy: 0.9903 - 26s/epoch - 363ms/step\n",
            "Epoch 24/25\n",
            "71/71 - 26s - loss: 0.0591 - accuracy: 0.9863 - 26s/epoch - 360ms/step\n",
            "Epoch 25/25\n",
            "71/71 - 25s - loss: 0.0724 - accuracy: 0.9876 - 25s/epoch - 357ms/step\n"
          ]
        },
        {
          "output_type": "display_data",
          "data": {
            "text/plain": [
              "<Figure size 432x288 with 1 Axes>"
            ],
            "image/png": "[encoded data removed]"
          },
          "metadata": {
            "needs_background": "light"
          }
        },
        {
          "output_type": "display_data",
          "data": {
            "text/plain": [
              "<Figure size 432x288 with 1 Axes>"
            ],
            "image/png": "[encoded data removed]"
          },
          "metadata": {
            "needs_background": "light"
          }
        },
        {
          "output_type": "stream",
          "name": "stdout",
          "text": [
            "***Performance Data***\n",
            "Accuracy  : 0.9187279151943463\n",
            "Precision : 0.9187279151943463\n",
            "f1Score : 0.9187279151943463\n",
            "Recall : 0.9187279151943463\n",
            "[[173   9   7]\n",
            " [  1 184   3]\n",
            " [  6  20 163]]\n",
            "***----------------------------***\n",
            "18/18 [==============================] - 6s 365ms/step - loss: 0.4704 - accuracy: 0.9187\n",
            "Overall Accuracy:  0.941696113074205\n",
            "Overall Precision:  0.941696113074205\n",
            "Overall f1Score:  0.941696113074205\n",
            "Overall Recall:  0.941696113074205\n",
            "***------------------End of Line------------------***\n",
            "trn_indx: 2263 test_indx: 566\n",
            "No file moved. Source empty!\n",
            "No file moved. Source empty!\n",
            "No file moved. Source empty!\n",
            "Results for fold 3\n",
            "2263\n",
            "566\n",
            "Found 2263 images belonging to 3 classes.\n",
            "Found 566 images belonging to 3 classes.\n",
            "Epoch 1/25\n",
            "71/71 - 26s - loss: 0.0642 - accuracy: 0.9845 - 26s/epoch - 364ms/step\n",
            "Epoch 2/25\n",
            "71/71 - 26s - loss: 0.0339 - accuracy: 0.9916 - 26s/epoch - 366ms/step\n",
            "Epoch 3/25\n",
            "71/71 - 26s - loss: 0.0068 - accuracy: 0.9978 - 26s/epoch - 364ms/step\n",
            "Epoch 4/25\n",
            "71/71 - 26s - loss: 0.0234 - accuracy: 0.9929 - 26s/epoch - 364ms/step\n",
            "Epoch 5/25\n",
            "71/71 - 26s - loss: 0.0088 - accuracy: 0.9973 - 26s/epoch - 368ms/step\n",
            "Epoch 6/25\n",
            "71/71 - 26s - loss: 0.0122 - accuracy: 0.9951 - 26s/epoch - 364ms/step\n",
            "Epoch 7/25\n",
            "71/71 - 26s - loss: 0.0122 - accuracy: 0.9960 - 26s/epoch - 365ms/step\n",
            "Epoch 8/25\n",
            "71/71 - 26s - loss: 0.0116 - accuracy: 0.9973 - 26s/epoch - 366ms/step\n",
            "Epoch 9/25\n",
            "71/71 - 26s - loss: 0.0084 - accuracy: 0.9960 - 26s/epoch - 363ms/step\n",
            "Epoch 10/25\n",
            "71/71 - 26s - loss: 0.0505 - accuracy: 0.9898 - 26s/epoch - 365ms/step\n",
            "Epoch 11/25\n",
            "71/71 - 26s - loss: 0.0373 - accuracy: 0.9898 - 26s/epoch - 366ms/step\n",
            "Epoch 12/25\n",
            "71/71 - 26s - loss: 0.0305 - accuracy: 0.9898 - 26s/epoch - 360ms/step\n",
            "Epoch 13/25\n",
            "71/71 - 26s - loss: 0.0548 - accuracy: 0.9894 - 26s/epoch - 364ms/step\n",
            "Epoch 14/25\n",
            "71/71 - 26s - loss: 0.0201 - accuracy: 0.9929 - 26s/epoch - 368ms/step\n",
            "Epoch 15/25\n",
            "71/71 - 26s - loss: 0.1648 - accuracy: 0.9797 - 26s/epoch - 363ms/step\n",
            "Epoch 16/25\n",
            "71/71 - 26s - loss: 0.0694 - accuracy: 0.9828 - 26s/epoch - 366ms/step\n",
            "Epoch 17/25\n",
            "71/71 - 26s - loss: 0.0325 - accuracy: 0.9912 - 26s/epoch - 369ms/step\n",
            "Epoch 18/25\n",
            "71/71 - 26s - loss: 0.0197 - accuracy: 0.9947 - 26s/epoch - 363ms/step\n",
            "Epoch 19/25\n",
            "71/71 - 26s - loss: 0.0600 - accuracy: 0.9929 - 26s/epoch - 369ms/step\n",
            "Epoch 20/25\n",
            "71/71 - 26s - loss: 0.0343 - accuracy: 0.9916 - 26s/epoch - 368ms/step\n",
            "Epoch 21/25\n",
            "71/71 - 26s - loss: 0.0177 - accuracy: 0.9943 - 26s/epoch - 363ms/step\n",
            "Epoch 22/25\n",
            "71/71 - 26s - loss: 0.0250 - accuracy: 0.9920 - 26s/epoch - 367ms/step\n",
            "Epoch 23/25\n",
            "71/71 - 26s - loss: 0.0125 - accuracy: 0.9973 - 26s/epoch - 366ms/step\n",
            "Epoch 24/25\n",
            "71/71 - 26s - loss: 0.0324 - accuracy: 0.9943 - 26s/epoch - 363ms/step\n",
            "Epoch 25/25\n",
            "71/71 - 26s - loss: 0.0262 - accuracy: 0.9929 - 26s/epoch - 364ms/step\n"
          ]
        },
        {
          "output_type": "display_data",
          "data": {
            "text/plain": [
              "<Figure size 432x288 with 1 Axes>"
            ],
            "image/png": "[encoded data removed]"
          },
          "metadata": {
            "needs_background": "light"
          }
        },
        {
          "output_type": "display_data",
          "data": {
            "text/plain": [
              "<Figure size 432x288 with 1 Axes>"
            ],
            "image/png": "[encoded data removed]"
          },
          "metadata": {
            "needs_background": "light"
          }
        },
        {
          "output_type": "stream",
          "name": "stdout",
          "text": [
            "***Performance Data***\n",
            "Accuracy  : 0.9558303886925795\n",
            "Precision : 0.9558303886925795\n",
            "f1Score : 0.9558303886925795\n",
            "Recall : 0.9558303886925795\n",
            "[[188   0   1]\n",
            " [  6 172  10]\n",
            " [  7   1 181]]\n",
            "***----------------------------***\n",
            "18/18 [==============================] - 6s 347ms/step - loss: 0.2541 - accuracy: 0.9558\n",
            "Overall Accuracy:  0.9464075382803299\n",
            "Overall Precision:  0.9464075382803299\n",
            "Overall f1Score:  0.9464075382803299\n",
            "Overall Recall:  0.9464075382803299\n",
            "***------------------End of Line------------------***\n",
            "trn_indx: 2263 test_indx: 566\n",
            "No file moved. Source empty!\n",
            "No file moved. Source empty!\n",
            "No file moved. Source empty!\n",
            "Results for fold 4\n",
            "2263\n",
            "566\n",
            "Found 2263 images belonging to 3 classes.\n",
            "Found 566 images belonging to 3 classes.\n",
            "Epoch 1/25\n",
            "71/71 - 26s - loss: 0.0535 - accuracy: 0.9916 - 26s/epoch - 364ms/step\n",
            "Epoch 2/25\n",
            "71/71 - 26s - loss: 0.0089 - accuracy: 0.9973 - 26s/epoch - 361ms/step\n",
            "Epoch 3/25\n",
            "71/71 - 26s - loss: 0.0062 - accuracy: 0.9987 - 26s/epoch - 368ms/step\n",
            "Epoch 4/25\n",
            "71/71 - 26s - loss: 0.0035 - accuracy: 0.9991 - 26s/epoch - 368ms/step\n",
            "Epoch 5/25\n",
            "71/71 - 26s - loss: 0.0213 - accuracy: 0.9965 - 26s/epoch - 363ms/step\n",
            "Epoch 6/25\n",
            "71/71 - 26s - loss: 0.0088 - accuracy: 0.9960 - 26s/epoch - 367ms/step\n",
            "Epoch 7/25\n",
            "71/71 - 26s - loss: 0.0233 - accuracy: 0.9951 - 26s/epoch - 359ms/step\n",
            "Epoch 8/25\n",
            "71/71 - 26s - loss: 0.0345 - accuracy: 0.9938 - 26s/epoch - 363ms/step\n",
            "Epoch 9/25\n",
            "71/71 - 26s - loss: 0.0038 - accuracy: 0.9982 - 26s/epoch - 363ms/step\n",
            "Epoch 10/25\n",
            "71/71 - 26s - loss: 0.0058 - accuracy: 0.9978 - 26s/epoch - 364ms/step\n",
            "Epoch 11/25\n",
            "71/71 - 26s - loss: 0.0282 - accuracy: 0.9943 - 26s/epoch - 360ms/step\n",
            "Epoch 12/25\n",
            "71/71 - 26s - loss: 0.0334 - accuracy: 0.9947 - 26s/epoch - 366ms/step\n",
            "Epoch 13/25\n",
            "71/71 - 26s - loss: 0.0249 - accuracy: 0.9934 - 26s/epoch - 366ms/step\n",
            "Epoch 14/25\n",
            "71/71 - 26s - loss: 0.0328 - accuracy: 0.9938 - 26s/epoch - 362ms/step\n",
            "Epoch 15/25\n",
            "71/71 - 26s - loss: 0.0122 - accuracy: 0.9960 - 26s/epoch - 366ms/step\n",
            "Epoch 16/25\n",
            "71/71 - 26s - loss: 0.0094 - accuracy: 0.9991 - 26s/epoch - 364ms/step\n",
            "Epoch 17/25\n",
            "71/71 - 26s - loss: 0.0032 - accuracy: 0.9991 - 26s/epoch - 362ms/step\n",
            "Epoch 18/25\n",
            "71/71 - 26s - loss: 0.0033 - accuracy: 0.9996 - 26s/epoch - 365ms/step\n",
            "Epoch 19/25\n",
            "71/71 - 26s - loss: 0.0087 - accuracy: 0.9978 - 26s/epoch - 365ms/step\n",
            "Epoch 20/25\n",
            "71/71 - 26s - loss: 0.0095 - accuracy: 0.9982 - 26s/epoch - 360ms/step\n",
            "Epoch 21/25\n",
            "71/71 - 26s - loss: 0.0062 - accuracy: 0.9982 - 26s/epoch - 364ms/step\n",
            "Epoch 22/25\n",
            "71/71 - 25s - loss: 0.0075 - accuracy: 0.9982 - 25s/epoch - 358ms/step\n",
            "Epoch 23/25\n",
            "71/71 - 25s - loss: 0.0034 - accuracy: 0.9987 - 25s/epoch - 355ms/step\n",
            "Epoch 24/25\n",
            "71/71 - 25s - loss: 0.0032 - accuracy: 0.9991 - 25s/epoch - 359ms/step\n",
            "Epoch 25/25\n",
            "71/71 - 26s - loss: 0.0025 - accuracy: 0.9987 - 26s/epoch - 361ms/step\n"
          ]
        },
        {
          "output_type": "display_data",
          "data": {
            "text/plain": [
              "<Figure size 432x288 with 1 Axes>"
            ],
            "image/png": "[encoded data removed]"
          },
          "metadata": {
            "needs_background": "light"
          }
        },
        {
          "output_type": "display_data",
          "data": {
            "text/plain": [
              "<Figure size 432x288 with 1 Axes>"
            ],
            "image/png": "[encoded data removed]"
          },
          "metadata": {
            "needs_background": "light"
          }
        },
        {
          "output_type": "stream",
          "name": "stdout",
          "text": [
            "***Performance Data***\n",
            "Accuracy  : 0.9752650176678446\n",
            "Precision : 0.9752650176678446\n",
            "f1Score : 0.9752650176678445\n",
            "Recall : 0.9752650176678446\n",
            "[[188   0   0]\n",
            " [  3 175  11]\n",
            " [  0   0 189]]\n",
            "***----------------------------***\n",
            "18/18 [==============================] - 6s 345ms/step - loss: 0.0657 - accuracy: 0.9753\n",
            "Overall Accuracy:  0.9536219081272086\n",
            "Overall Precision:  0.9536219081272086\n",
            "Overall f1Score:  0.9536219081272085\n",
            "Overall Recall:  0.9536219081272086\n",
            "***------------------End of Line------------------***\n",
            "trn_indx: 2264 test_indx: 565\n",
            "No file moved. Source empty!\n",
            "No file moved. Source empty!\n",
            "No file moved. Source empty!\n",
            "Results for fold 5\n",
            "2264\n",
            "565\n",
            "Found 2264 images belonging to 3 classes.\n",
            "Found 565 images belonging to 3 classes.\n",
            "Epoch 1/25\n",
            "71/71 - 26s - loss: 0.0391 - accuracy: 0.9943 - 26s/epoch - 371ms/step\n",
            "Epoch 2/25\n",
            "71/71 - 26s - loss: 0.0107 - accuracy: 0.9969 - 26s/epoch - 363ms/step\n",
            "Epoch 3/25\n",
            "71/71 - 26s - loss: 0.0345 - accuracy: 0.9947 - 26s/epoch - 364ms/step\n",
            "Epoch 4/25\n",
            "71/71 - 26s - loss: 0.0871 - accuracy: 0.9890 - 26s/epoch - 367ms/step\n",
            "Epoch 5/25\n",
            "71/71 - 26s - loss: 0.0133 - accuracy: 0.9951 - 26s/epoch - 362ms/step\n",
            "Epoch 6/25\n",
            "71/71 - 25s - loss: 0.0092 - accuracy: 0.9969 - 25s/epoch - 358ms/step\n",
            "Epoch 7/25\n",
            "71/71 - 26s - loss: 0.0030 - accuracy: 0.9996 - 26s/epoch - 364ms/step\n",
            "Epoch 8/25\n",
            "71/71 - 25s - loss: 0.0027 - accuracy: 0.9996 - 25s/epoch - 357ms/step\n",
            "Epoch 9/25\n",
            "71/71 - 26s - loss: 0.0053 - accuracy: 0.9978 - 26s/epoch - 363ms/step\n",
            "Epoch 10/25\n",
            "71/71 - 25s - loss: 0.0045 - accuracy: 0.9987 - 25s/epoch - 359ms/step\n",
            "Epoch 11/25\n",
            "71/71 - 26s - loss: 0.0088 - accuracy: 0.9982 - 26s/epoch - 369ms/step\n",
            "Epoch 12/25\n",
            "71/71 - 25s - loss: 0.0020 - accuracy: 1.0000 - 25s/epoch - 358ms/step\n",
            "Epoch 13/25\n",
            "71/71 - 26s - loss: 0.0020 - accuracy: 0.9991 - 26s/epoch - 360ms/step\n",
            "Epoch 14/25\n",
            "71/71 - 26s - loss: 0.0070 - accuracy: 0.9978 - 26s/epoch - 359ms/step\n",
            "Epoch 15/25\n",
            "71/71 - 26s - loss: 0.0080 - accuracy: 0.9987 - 26s/epoch - 365ms/step\n",
            "Epoch 16/25\n",
            "71/71 - 25s - loss: 0.0089 - accuracy: 0.9973 - 25s/epoch - 358ms/step\n",
            "Epoch 17/25\n",
            "71/71 - 26s - loss: 0.0098 - accuracy: 0.9969 - 26s/epoch - 361ms/step\n",
            "Epoch 18/25\n",
            "71/71 - 25s - loss: 0.0226 - accuracy: 0.9951 - 25s/epoch - 359ms/step\n",
            "Epoch 19/25\n",
            "71/71 - 25s - loss: 0.0101 - accuracy: 0.9973 - 25s/epoch - 355ms/step\n",
            "Epoch 20/25\n",
            "71/71 - 26s - loss: 0.0236 - accuracy: 0.9973 - 26s/epoch - 361ms/step\n",
            "Epoch 21/25\n",
            "71/71 - 26s - loss: 0.0297 - accuracy: 0.9925 - 26s/epoch - 362ms/step\n",
            "Epoch 22/25\n",
            "71/71 - 25s - loss: 0.0178 - accuracy: 0.9960 - 25s/epoch - 355ms/step\n",
            "Epoch 23/25\n",
            "71/71 - 25s - loss: 0.0216 - accuracy: 0.9960 - 25s/epoch - 357ms/step\n",
            "Epoch 24/25\n",
            "71/71 - 25s - loss: 0.0332 - accuracy: 0.9938 - 25s/epoch - 358ms/step\n",
            "Epoch 25/25\n",
            "71/71 - 25s - loss: 0.0117 - accuracy: 0.9973 - 25s/epoch - 358ms/step\n"
          ]
        },
        {
          "output_type": "display_data",
          "data": {
            "text/plain": [
              "<Figure size 432x288 with 1 Axes>"
            ],
            "image/png": "[encoded data removed]"
          },
          "metadata": {
            "needs_background": "light"
          }
        },
        {
          "output_type": "display_data",
          "data": {
            "text/plain": [
              "<Figure size 432x288 with 1 Axes>"
            ],
            "image/png": "[encoded data removed]"
          },
          "metadata": {
            "needs_background": "light"
          }
        },
        {
          "output_type": "stream",
          "name": "stdout",
          "text": [
            "***Performance Data***\n",
            "Accuracy  : 0.968141592920354\n",
            "Precision : 0.968141592920354\n",
            "f1Score : 0.968141592920354\n",
            "Recall : 0.968141592920354\n",
            "[[187   0   1]\n",
            " [  0 172  17]\n",
            " [  0   0 188]]\n",
            "***----------------------------***\n",
            "18/18 [==============================] - 6s 353ms/step - loss: 0.0821 - accuracy: 0.9681\n",
            "Overall Accuracy:  0.9565258450858376\n",
            "Overall Precision:  0.9565258450858376\n",
            "Overall f1Score:  0.9565258450858376\n",
            "Overall Recall:  0.9565258450858376\n",
            "***------------------End of Line------------------***\n"
          ]
        }
      ],
      "source": [
        "for train_index, val_index in skf.split(X, Y):\n",
        "    print(\"trn_indx: %s test_indx: %s\" % (len(train_index), len(val_index)))\n",
        "    #First cut all images from validation to train (if any exists)\n",
        "    transferAllClassBetweenFolders('valid', 'train', 1.0)\n",
        "    #no valid\n",
        "    transferAllClassBetweenFolders('test', 'train', 1.0)\n",
        "    foldNum+=1\n",
        "    print(\"Results for fold\",foldNum)\n",
        "    X_train, X_val = X[train_index], X[val_index]\n",
        "    Y_train, Y_val = Y[train_index], Y[val_index]\n",
        "    print(len(X_train))\n",
        "    print(len(X_val))\n",
        "    # Move validation images of this fold from train folder to the validation folder\n",
        "    for eachIndex in range(len(X_val)):\n",
        "        classLabel=''\n",
        "        for i in range(len(classLabels)):\n",
        "          if(Y_val[eachIndex]==i):\n",
        "              classLabel=classLabels[i]\n",
        "        #Then, copy the validation images to the validation folder\n",
        "        shutil.move(sourcePath+'/train/'+classLabel+'/'+X_val[eachIndex], \n",
        "                    #sourcePath+'/valid/'+classLabel+'/'+X_val[eachIndex])\n",
        "        #without valid\n",
        "                    sourcePath+'/test/'+classLabel+'/'+X_val[eachIndex])\n",
        "        \n",
        "    train_batches = ImageDataGenerator().flow_from_directory(train_path, target_size=(256,256), classes=['covid', 'normal', 'pneumonia'], class_mode = 'sparse', batch_size = 32, shuffle=True)\n",
        "    #without valid\n",
        "    #valid_batches = ImageDataGenerator().flow_from_directory(valid_path, target_size=(256,256), classes=['covid', 'normal', 'pneumonia'], class_mode = 'sparse', batch_size = 32, shuffle=True)\n",
        "    test_batches = ImageDataGenerator().flow_from_directory(test_path, target_size=(256,256), classes=['covid', 'normal', 'pneumonia'], class_mode = 'sparse', batch_size = 32, shuffle=False)\n",
        "\n",
        "    history = model.fit(train_batches, \n",
        "                    #steps_per_epoch=sp_epoch, \n",
        "                    #without valid\n",
        "                    #validation_data=valid_batches, \n",
        "                    #validation_steps=10, \n",
        "                    epochs=25, \n",
        "                    verbose=2)\n",
        "    \n",
        "    \n",
        "    \n",
        "    plt.plot(history.history['accuracy'])\n",
        "    #plt.plot(history.history['val_accuracy'])\n",
        "    plt.title('Final Nadam Only - Model Accuracy')\n",
        "    plt.ylim(0,1.1)\n",
        "    plt.ylabel('accuracy')\n",
        "    plt.xlabel('epoch')\n",
        "    #plt.legend(['train', 'valid'], loc='upper left')\n",
        "    #without valid\n",
        "    plt.legend(['train'], loc='upper left')\n",
        "    plt.show()\n",
        "    # summarize history for loss\n",
        "    plt.plot(history.history['loss'])\n",
        "    #plt.plot(history.history['val_loss'])\n",
        "    plt.title('Final Nadam Only - Model Loss')\n",
        "    plt.ylim(0,1.1)\n",
        "    plt.ylabel('loss')\n",
        "    plt.xlabel('epoch')\n",
        "    #plt.legend(['train', 'valid'], loc='upper left')\n",
        "    #without valid\n",
        "    plt.legend(['train'], loc='upper left')\n",
        "    plt.show()\n",
        "    test_batches.reset()\n",
        "    Y_pred = model.predict(test_batches)\n",
        "    classes = test_batches.classes[test_batches.index_array]\n",
        "    y_pred = np.argmax(Y_pred, axis=-1)\n",
        "    #print(\"***Performance on Test Data***\")  \n",
        "    #print(sum(y_pred==classes)/10000)\n",
        "    confusion_matrix(test_batches.classes[test_batches.index_array],y_pred)\n",
        "    #predictions = model.predict(test_batches, verbose=1)\n",
        "    #yPredictions = np.argmax(predictions, axis=1)\n",
        "    #print(yPredictions)\n",
        "    #true_classes = test_batches.classes\n",
        "    # evaluate validation performance\n",
        "    print(\"***Performance Data***\")    \n",
        "    #valAcc, valPrec, valFScore = my_metrics(true_classes, yPredictions)\n",
        "    valAcc, valPrec, valFScore, valRec = my_metrics(classes, y_pred)\n",
        "    overAllAcc = overAllAcc+valAcc\n",
        "    overAllPrec = overAllPrec+valPrec\n",
        "    overAllf1 = overAllf1+valFScore\n",
        "    overAllRec = overAllRec+valRec\n",
        "    \n",
        "    model.evaluate(test_batches)\n",
        "    print(\"Overall Accuracy: \",  overAllAcc/foldNum)\n",
        "    print(\"Overall Precision: \",  overAllPrec/foldNum)\n",
        "    print(\"Overall f1Score: \",  overAllf1/foldNum)\n",
        "    print(\"Overall Recall: \",  overAllRec/foldNum)\n",
        "\n",
        "    print(\"***------------------End of Line------------------***\")"
      ]
    }
  ],
  "metadata": {
    "accelerator": "GPU",
    "colab": {
      "collapsed_sections": [],
      "machine_shape": "hm",
      "name": "Nadam_wo Cbam.ipynb",
      "provenance": [],
      "include_colab_link": true
    },
    "kernelspec": {
      "display_name": "Python 3",
      "name": "python3"
    },
    "language_info": {
      "name": "python"
    }
  },
  "nbformat": 4,
  "nbformat_minor": 0
}