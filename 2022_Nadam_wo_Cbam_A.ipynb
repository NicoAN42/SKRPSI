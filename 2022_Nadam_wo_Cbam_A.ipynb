{
  "cells": [
    {
      "cell_type": "markdown",
      "metadata": {
        "id": "view-in-github",
        "colab_type": "text"
      },
      "source": [
        "<a href=\"https://colab.research.google.com/github/NicoAN42/SKRPSI/blob/main/2022_Nadam_wo_Cbam_A.ipynb\" target=\"_parent\"><img src=\"https://colab.research.google.com/assets/colab-badge.svg\" alt=\"Open In Colab\"/></a>"
      ]
    },
    {
      "cell_type": "code",
      "execution_count": 1,
      "metadata": {
        "colab": {
          "base_uri": "https://localhost:8080/"
        },
        "id": "bd3mi5ZLdBSv",
        "outputId": "092f8b06-e2fb-48e9-df02-30029daa4361"
      },
      "outputs": [
        {
          "output_type": "stream",
          "name": "stdout",
          "text": [
            "Mounted at /content/drive\n"
          ]
        }
      ],
      "source": [
        "#mount dataset\n",
        "from google.colab import drive\n",
        "drive.mount('/content/drive')\n"
      ]
    },
    {
      "cell_type": "code",
      "execution_count": 2,
      "metadata": {
        "id": "mNr5eLs1WiKT"
      },
      "outputs": [],
      "source": [
        "from tensorflow.keras.layers import Conv2D, Input, concatenate, Activation, InputLayer, Dense, Reshape, Flatten, Add, multiply, Permute, Lambda, Concatenate\n",
        "from tensorflow.keras.layers import LeakyReLU,ReLU, MaxPooling2D, BatchNormalization,GlobalMaxPooling2D,GlobalAveragePooling2D\n",
        "from tensorflow.keras.models import Model, Sequential\n",
        "from tensorflow.keras import layers\n",
        "from tensorflow.keras.activations import softmax,sigmoid\n",
        "from tensorflow.keras.preprocessing.image import ImageDataGenerator\n",
        "from tensorflow.keras.optimizers import Adam, Nadam\n",
        "from tensorflow.keras.callbacks import EarlyStopping\n",
        "from tensorflow.keras.layers import Dropout,SpatialDropout2D,GaussianDropout\n",
        "from tensorflow.keras.optimizers.schedules import ExponentialDecay\n",
        "from tensorflow.keras.regularizers import l1,l2\n",
        "from tensorflow.keras import backend as K\n",
        "from __future__ import absolute_import\n",
        "from __future__ import division\n",
        "from __future__ import print_function\n",
        "import tensorflow\n",
        "import tensorflow as tf\n",
        "import math\n",
        "import matplotlib.pyplot as plt\n",
        "import numpy as np\n",
        "from sklearn.metrics import accuracy_score, f1_score, precision_score, confusion_matrix, recall_score\n",
        "from sklearn.model_selection import StratifiedKFold\n",
        "import os\n",
        "import random\n",
        "import shutil"
      ]
    },
    {
      "cell_type": "code",
      "execution_count": 3,
      "metadata": {
        "id": "M-dUDyotW99U"
      },
      "outputs": [],
      "source": [
        "#from tensorflow.keras.optimizers import SGD"
      ]
    },
    {
      "cell_type": "code",
      "execution_count": 4,
      "metadata": {
        "id": "1SKzQPoLeGUS"
      },
      "outputs": [],
      "source": [
        "CLASS = 3\n",
        "#sourcepath isi semua data train, folder valid kosongin datanya sisai folder classnya\n",
        "sourcePath = '/content/drive/MyDrive/Colab Notebooks/Dataset 3'\n",
        "train_path = '/content/drive/MyDrive/Colab Notebooks/Dataset 3/train'\n",
        "valid_path = '/content/drive/MyDrive/Colab Notebooks/Dataset 3/valid'\n",
        "test_path = '/content/drive/MyDrive/Colab Notebooks/Dataset 3/test'\n",
        "#attention_module = 'cbam_block'\n",
        "#nico"
      ]
    },
    {
      "cell_type": "code",
      "execution_count": 5,
      "metadata": {
        "id": "qyuRvIz9mFu_"
      },
      "outputs": [],
      "source": [
        "classLabels =['covid','normal', 'pneumonia']"
      ]
    },
    {
      "cell_type": "code",
      "execution_count": 6,
      "metadata": {
        "id": "q2Q9CbMzY1Rn"
      },
      "outputs": [],
      "source": [
        "input = Input(shape=(256,256,3))"
      ]
    },
    {
      "cell_type": "code",
      "execution_count": 7,
      "metadata": {
        "id": "YpZNBOFOZBJL"
      },
      "outputs": [],
      "source": [
        "#Layer 1\n",
        "model = layers.Conv2D(32, (3,3), padding='same', name='conv_1', activation = 'relu')(input)\n",
        "model = layers.BatchNormalization(name='norm_1')(model)\n",
        "model = layers.MaxPooling2D(pool_size=(2, 2), strides= 2)(model)\n",
        "#attention_module = 'cbam_block'\n",
        "#y = attach_attention_module(model, attention_module)\n",
        "#model =  tensorflow.keras.layers.add([model, y])\n"
      ]
    },
    {
      "cell_type": "code",
      "execution_count": 8,
      "metadata": {
        "id": "pBvWdrCmZCsQ"
      },
      "outputs": [],
      "source": [
        "#Layer 2\n",
        "model = layers.Conv2D(64, (3,3), padding='same', name='conv_2', activation = 'relu')(model)\n",
        "model = layers.Dropout(0.1)(model)\n",
        "model = layers.BatchNormalization(name='norm_2')(model)\n",
        "model = layers.MaxPooling2D(pool_size=(2, 2), strides = 2)(model)\n",
        "\n",
        "#attention_module = 'cbam_block'\n",
        "#y = attach_attention_module(model, attention_module)\n",
        "#model =  tensorflow.keras.layers.add([model, y])\n"
      ]
    },
    {
      "cell_type": "code",
      "execution_count": 9,
      "metadata": {
        "id": "RBUvxL-9ZEO3"
      },
      "outputs": [],
      "source": [
        "# Layer 3\n",
        "model = layers.Conv2D(64, (3,3), padding='same', name='conv_3', activation = 'relu')(model)\n",
        "model = layers.BatchNormalization(name='norm_3')(model)\n",
        "model = layers.MaxPooling2D(pool_size=(2, 2), strides = 2)(model)\n",
        "\n",
        "#attention_module = 'cbam_block'\n",
        "#y = attach_attention_module(model, attention_module)\n",
        "#model =  tensorflow.keras.layers.add([model, y])\n",
        "\n"
      ]
    },
    {
      "cell_type": "code",
      "execution_count": 10,
      "metadata": {
        "id": "QKyPzn20ZI1Y"
      },
      "outputs": [],
      "source": [
        "# Layer 4\n",
        "model = layers.Conv2D(128, (3,3), padding='same', name='conv_4', activation = 'relu')(model)\n",
        "model = layers.Dropout(0.2)(model)\n",
        "model = layers.BatchNormalization(name='norm_4')(model)\n",
        "model = layers.MaxPooling2D(pool_size=(2, 2), strides = 2)(model)\n",
        "\n",
        "#attention_module = 'cbam_block'\n",
        "#y = attach_attention_module(model, attention_module)\n",
        "#model =  tensorflow.keras.layers.add([model, y])\n"
      ]
    },
    {
      "cell_type": "code",
      "execution_count": 11,
      "metadata": {
        "id": "tgLQSWDfZJ53"
      },
      "outputs": [],
      "source": [
        "# Layer 5\n",
        "model = layers.Conv2D(256, (3,3), padding='same', name='conv_5', activation = 'relu')(model)\n",
        "layer = layers.Conv2D(256, (3,3), padding='same', name='conv_5', activation = 'relu')\n",
        "batch = layers.BatchNormalization(name='norm_5')\n",
        "model = layers.Dropout(0.2)(model)\n",
        "model = layers.BatchNormalization(name='norm_5')(model)\n",
        "#model = layers.MaxPooling2D(pool_size=(2, 2), strides = 2)(model)"
      ]
    },
    {
      "cell_type": "code",
      "execution_count": 12,
      "metadata": {
        "id": "8_jONIoBZhXm"
      },
      "outputs": [],
      "source": [
        "model = layers.Flatten()(model)\n",
        "model = layers.Dense(128, activation = 'relu')(model)\n",
        "model = layers.Dropout(0.2)(model)\n",
        "output = layers.Dense(3,Activation('softmax'))(model)\n",
        "model = Model(input, output)"
      ]
    },
    {
      "cell_type": "code",
      "execution_count": 13,
      "metadata": {
        "id": "iDpUFSaVZigY"
      },
      "outputs": [],
      "source": [
        "#output = model.output_shape"
      ]
    },
    {
      "cell_type": "code",
      "execution_count": 14,
      "metadata": {
        "colab": {
          "base_uri": "https://localhost:8080/"
        },
        "id": "qRYlJT_4ZkhM",
        "outputId": "0a2dacf5-c4ea-49ba-f1ad-15fc1a455e58"
      },
      "outputs": [
        {
          "output_type": "stream",
          "name": "stdout",
          "text": [
            "KerasTensor(type_spec=TensorSpec(shape=(None, 256, 256, 3), dtype=tf.float32, name='input_1'), name='input_1', description=\"created by layer 'input_1'\")\n"
          ]
        }
      ],
      "source": [
        "print(input)"
      ]
    },
    {
      "cell_type": "code",
      "execution_count": 15,
      "metadata": {
        "id": "JdlrgYZwZnEd"
      },
      "outputs": [],
      "source": [
        "opt = Nadam(learning_rate=0.001, beta_1=0.9, beta_2=0.999)"
      ]
    },
    {
      "cell_type": "code",
      "execution_count": 16,
      "metadata": {
        "id": "oOIL33yEZpPX"
      },
      "outputs": [],
      "source": [
        "model.compile(optimizer=opt, loss=\"sparse_categorical_crossentropy\", metrics=[\"accuracy\"] )"
      ]
    },
    {
      "cell_type": "code",
      "execution_count": 17,
      "metadata": {
        "colab": {
          "base_uri": "https://localhost:8080/"
        },
        "id": "99dNdRxNZqh5",
        "outputId": "aff0fdd6-82f0-4d20-8cee-a6fe1debcc4e"
      },
      "outputs": [
        {
          "output_type": "stream",
          "name": "stdout",
          "text": [
            "Model: \"model\"\n",
            "_________________________________________________________________\n",
            " Layer (type)                Output Shape              Param #   \n",
            "=================================================================\n",
            " input_1 (InputLayer)        [(None, 256, 256, 3)]     0         \n",
            "                                                                 \n",
            " conv_1 (Conv2D)             (None, 256, 256, 32)      896       \n",
            "                                                                 \n",
            " norm_1 (BatchNormalization)  (None, 256, 256, 32)     128       \n",
            "                                                                 \n",
            " max_pooling2d (MaxPooling2D  (None, 128, 128, 32)     0         \n",
            " )                                                               \n",
            "                                                                 \n",
            " conv_2 (Conv2D)             (None, 128, 128, 64)      18496     \n",
            "                                                                 \n",
            " dropout (Dropout)           (None, 128, 128, 64)      0         \n",
            "                                                                 \n",
            " norm_2 (BatchNormalization)  (None, 128, 128, 64)     256       \n",
            "                                                                 \n",
            " max_pooling2d_1 (MaxPooling  (None, 64, 64, 64)       0         \n",
            " 2D)                                                             \n",
            "                                                                 \n",
            " conv_3 (Conv2D)             (None, 64, 64, 64)        36928     \n",
            "                                                                 \n",
            " norm_3 (BatchNormalization)  (None, 64, 64, 64)       256       \n",
            "                                                                 \n",
            " max_pooling2d_2 (MaxPooling  (None, 32, 32, 64)       0         \n",
            " 2D)                                                             \n",
            "                                                                 \n",
            " conv_4 (Conv2D)             (None, 32, 32, 128)       73856     \n",
            "                                                                 \n",
            " dropout_1 (Dropout)         (None, 32, 32, 128)       0         \n",
            "                                                                 \n",
            " norm_4 (BatchNormalization)  (None, 32, 32, 128)      512       \n",
            "                                                                 \n",
            " max_pooling2d_3 (MaxPooling  (None, 16, 16, 128)      0         \n",
            " 2D)                                                             \n",
            "                                                                 \n",
            " conv_5 (Conv2D)             (None, 16, 16, 256)       295168    \n",
            "                                                                 \n",
            " dropout_2 (Dropout)         (None, 16, 16, 256)       0         \n",
            "                                                                 \n",
            " norm_5 (BatchNormalization)  (None, 16, 16, 256)      1024      \n",
            "                                                                 \n",
            " flatten (Flatten)           (None, 65536)             0         \n",
            "                                                                 \n",
            " dense (Dense)               (None, 128)               8388736   \n",
            "                                                                 \n",
            " dropout_3 (Dropout)         (None, 128)               0         \n",
            "                                                                 \n",
            " dense_1 (Dense)             (None, 3)                 387       \n",
            "                                                                 \n",
            "=================================================================\n",
            "Total params: 8,816,643\n",
            "Trainable params: 8,815,555\n",
            "Non-trainable params: 1,088\n",
            "_________________________________________________________________\n",
            "None\n",
            "<keras.engine.functional.Functional object at 0x7f04d0060990>\n"
          ]
        }
      ],
      "source": [
        "print(model.summary())\n",
        "print(model)"
      ]
    },
    {
      "cell_type": "code",
      "execution_count": 18,
      "metadata": {
        "id": "NIABPyRMYycd"
      },
      "outputs": [],
      "source": [
        "X = []\n",
        "Y = []\n",
        "def transferBetweenFolders(source, dest, splitRate): \n",
        "    global sourceFiles\n",
        "    sourceFiles=os.listdir(source)\n",
        "    if(len(sourceFiles)!=0):\n",
        "        transferFileNumbers=int(len(sourceFiles)*splitRate)\n",
        "        transferIndex=random.sample(range(0, len(sourceFiles)), transferFileNumbers)\n",
        "        for eachIndex in transferIndex:\n",
        "            shutil.move(source+str(sourceFiles[eachIndex]), dest+str(sourceFiles[eachIndex]))\n",
        "    else:\n",
        "        print(\"No file moved. Source empty!\")\n",
        "        "
      ]
    },
    {
      "cell_type": "code",
      "execution_count": 19,
      "metadata": {
        "colab": {
          "base_uri": "https://localhost:8080/"
        },
        "id": "Fh0THhOaY0Da",
        "outputId": "7d814de2-10e7-4f63-9eb2-259779998eb4"
      },
      "outputs": [
        {
          "output_type": "stream",
          "name": "stdout",
          "text": [
            "No file moved. Source empty!\n",
            "No file moved. Source empty!\n",
            "No file moved. Source empty!\n"
          ]
        }
      ],
      "source": [
        "def transferAllClassBetweenFolders(source, dest, splitRate):\n",
        "    for label in classLabels:\n",
        "        transferBetweenFolders(sourcePath+'/'+source+'/'+label+'/', \n",
        "                               sourcePath+'/'+dest+'/'+label+'/', \n",
        "                               splitRate)\n",
        "#First cut all images from validation to train (if any exists)\n",
        "transferAllClassBetweenFolders('valid', 'train', 1.0)\n",
        "transferAllClassBetweenFolders('test', 'train', 1.0)\n",
        "#no valid\n",
        "#transferAllClassBetweenFolders('train', 'test', 0.2)"
      ]
    },
    {
      "cell_type": "code",
      "execution_count": 20,
      "metadata": {
        "id": "bvS9lltuY5_4"
      },
      "outputs": [],
      "source": [
        "def prepareNameWithLabels(folderName):\n",
        "    sourceFiles=os.listdir(sourcePath+'/train/'+folderName)\n",
        "    for val in sourceFiles:\n",
        "        X.append(val)\n",
        "        for i in range(len(classLabels)):\n",
        "          if(folderName==classLabels[i]):\n",
        "              Y.append(i)\n",
        "# Organize file names and class labels in X and Y variables\n",
        "for i in range(len(classLabels)):\n",
        "  prepareNameWithLabels(classLabels[i])\n",
        "\n",
        "def my_metrics(y_true, y_pred):\n",
        "    accuracy=accuracy_score(y_true, y_pred)\n",
        "    precision=precision_score(y_true, y_pred,average='micro')\n",
        "    f1Score=f1_score(y_true, y_pred, average='micro') \n",
        "    recall = recall_score(y_true, y_pred, average='micro')\n",
        "    print(\"Accuracy  : {}\".format(accuracy))\n",
        "    print(\"Precision : {}\".format(precision))\n",
        "    print(\"f1Score : {}\".format(f1Score))\n",
        "    print(\"Recall : {}\".format(recall))\n",
        "    cm=confusion_matrix(y_true, y_pred)\n",
        "    print(cm)\n",
        "\n",
        "    print(\"***----------------------------***\")  \n",
        "    return accuracy, precision, f1Score, recall"
      ]
    },
    {
      "cell_type": "code",
      "execution_count": 21,
      "metadata": {
        "colab": {
          "base_uri": "https://localhost:8080/"
        },
        "id": "7hjflR4gZW0Y",
        "outputId": "3eeec2e2-fadc-4d5e-dc5e-b2147180b3bb"
      },
      "outputs": [
        {
          "output_type": "stream",
          "name": "stdout",
          "text": [
            "No file moved. Source empty!\n",
            "No file moved. Source empty!\n",
            "No file moved. Source empty!\n",
            "No file moved. Source empty!\n",
            "No file moved. Source empty!\n",
            "No file moved. Source empty!\n",
            "['COVID(99).png' 'COVID(12).png' 'COVID(104).png' ...\n",
            " 'person97_virus_180.jpeg' 'person98_virus_182.jpeg'\n",
            " 'person97_virus_181.jpeg']\n",
            "[0 0 0 ... 2 2 2]\n",
            "StratifiedKFold(n_splits=5, random_state=None, shuffle=True)\n",
            "5\n",
            "<generator object _BaseKFold.split at 0x7f045a6e9550>\n"
          ]
        }
      ],
      "source": [
        "transferAllClassBetweenFolders('valid', 'train', 1.0)\n",
        "#no valid\n",
        "transferAllClassBetweenFolders('test', 'train', 1.0)\n",
        "X=np.asarray(X)\n",
        "Y=np.asarray(Y)\n",
        "\n",
        "print(X)\n",
        "print(Y)\n",
        "\n",
        "skf = StratifiedKFold(n_splits=5\n",
        "                      , shuffle=True)\n",
        "skf.get_n_splits(X, Y)\n",
        "print(skf)\n",
        "print(skf.get_n_splits(X,Y))\n",
        "print(skf.split(X,Y))\n",
        "foldNum=0\n",
        "overAllAcc = 0\n",
        "overAllPrec = 0\n",
        "overAllf1 = 0\n",
        "overAllRec = 0"
      ]
    },
    {
      "cell_type": "code",
      "execution_count": 22,
      "metadata": {
        "colab": {
          "base_uri": "https://localhost:8080/",
          "height": 1000
        },
        "id": "TsQVUi57ZDHg",
        "outputId": "f7f4ae97-cec6-4d5e-9366-862dde714fb4"
      },
      "outputs": [
        {
          "output_type": "stream",
          "name": "stdout",
          "text": [
            "trn_indx: 2263 test_indx: 566\n",
            "No file moved. Source empty!\n",
            "No file moved. Source empty!\n",
            "No file moved. Source empty!\n",
            "No file moved. Source empty!\n",
            "No file moved. Source empty!\n",
            "No file moved. Source empty!\n",
            "Results for fold 1\n",
            "2263\n",
            "566\n",
            "Found 2263 images belonging to 3 classes.\n",
            "Found 566 images belonging to 3 classes.\n",
            "Epoch 1/25\n",
            "71/71 - 788s - loss: 0.8278 - accuracy: 0.8798 - 788s/epoch - 11s/step\n",
            "Epoch 2/25\n",
            "71/71 - 25s - loss: 0.1592 - accuracy: 0.9593 - 25s/epoch - 353ms/step\n",
            "Epoch 3/25\n",
            "71/71 - 25s - loss: 0.1234 - accuracy: 0.9686 - 25s/epoch - 354ms/step\n",
            "Epoch 4/25\n",
            "71/71 - 25s - loss: 0.2085 - accuracy: 0.9554 - 25s/epoch - 354ms/step\n",
            "Epoch 5/25\n",
            "71/71 - 25s - loss: 0.1174 - accuracy: 0.9695 - 25s/epoch - 356ms/step\n",
            "Epoch 6/25\n",
            "71/71 - 25s - loss: 0.0659 - accuracy: 0.9823 - 25s/epoch - 353ms/step\n",
            "Epoch 7/25\n",
            "71/71 - 25s - loss: 0.0316 - accuracy: 0.9881 - 25s/epoch - 352ms/step\n",
            "Epoch 8/25\n",
            "71/71 - 25s - loss: 0.0262 - accuracy: 0.9903 - 25s/epoch - 350ms/step\n",
            "Epoch 9/25\n",
            "71/71 - 25s - loss: 0.0569 - accuracy: 0.9881 - 25s/epoch - 351ms/step\n",
            "Epoch 10/25\n",
            "71/71 - 25s - loss: 0.1495 - accuracy: 0.9717 - 25s/epoch - 351ms/step\n",
            "Epoch 11/25\n",
            "71/71 - 25s - loss: 0.1650 - accuracy: 0.9722 - 25s/epoch - 351ms/step\n",
            "Epoch 12/25\n",
            "71/71 - 25s - loss: 0.0724 - accuracy: 0.9748 - 25s/epoch - 352ms/step\n",
            "Epoch 13/25\n",
            "71/71 - 25s - loss: 0.0609 - accuracy: 0.9806 - 25s/epoch - 349ms/step\n",
            "Epoch 14/25\n",
            "71/71 - 25s - loss: 0.0386 - accuracy: 0.9881 - 25s/epoch - 349ms/step\n",
            "Epoch 15/25\n",
            "71/71 - 25s - loss: 0.0139 - accuracy: 0.9947 - 25s/epoch - 353ms/step\n",
            "Epoch 16/25\n",
            "71/71 - 25s - loss: 0.0104 - accuracy: 0.9973 - 25s/epoch - 353ms/step\n",
            "Epoch 17/25\n",
            "71/71 - 25s - loss: 0.0052 - accuracy: 0.9982 - 25s/epoch - 352ms/step\n",
            "Epoch 18/25\n",
            "71/71 - 25s - loss: 0.0050 - accuracy: 0.9982 - 25s/epoch - 353ms/step\n",
            "Epoch 19/25\n",
            "71/71 - 25s - loss: 0.0166 - accuracy: 0.9938 - 25s/epoch - 352ms/step\n",
            "Epoch 20/25\n",
            "71/71 - 25s - loss: 0.0093 - accuracy: 0.9956 - 25s/epoch - 351ms/step\n",
            "Epoch 21/25\n",
            "71/71 - 25s - loss: 0.0052 - accuracy: 0.9969 - 25s/epoch - 351ms/step\n",
            "Epoch 22/25\n",
            "71/71 - 25s - loss: 0.0211 - accuracy: 0.9943 - 25s/epoch - 353ms/step\n",
            "Epoch 23/25\n",
            "71/71 - 25s - loss: 0.0048 - accuracy: 0.9982 - 25s/epoch - 357ms/step\n",
            "Epoch 24/25\n",
            "71/71 - 25s - loss: 0.0042 - accuracy: 0.9991 - 25s/epoch - 357ms/step\n",
            "Epoch 25/25\n",
            "71/71 - 25s - loss: 0.0074 - accuracy: 0.9982 - 25s/epoch - 352ms/step\n"
          ]
        },
        {
          "output_type": "display_data",
          "data": {
            "text/plain": [
              "<Figure size 432x288 with 1 Axes>"
            ],
            "image/png": "[encoded data removed]"
          },
          "metadata": {
            "needs_background": "light"
          }
        },
        {
          "output_type": "display_data",
          "data": {
            "text/plain": [
              "<Figure size 432x288 with 1 Axes>"
            ],
            "image/png": "[encoded data removed]"
          },
          "metadata": {
            "needs_background": "light"
          }
        },
        {
          "output_type": "stream",
          "name": "stdout",
          "text": [
            "***Performance Data***\n",
            "Accuracy  : 0.9787985865724381\n",
            "Precision : 0.9787985865724381\n",
            "f1Score : 0.9787985865724381\n",
            "Recall : 0.9787985865724381\n",
            "[[187   1   1]\n",
            " [  0 184   5]\n",
            " [  3   2 183]]\n",
            "***----------------------------***\n",
            "18/18 [==============================] - 7s 366ms/step - loss: 0.1032 - accuracy: 0.9788\n",
            "Overall Accuracy:  0.9787985865724381\n",
            "Overall Precision:  0.9787985865724381\n",
            "Overall f1Score:  0.9787985865724381\n",
            "Overall Recall:  0.9787985865724381\n",
            "***------------------End of Line------------------***\n",
            "trn_indx: 2263 test_indx: 566\n",
            "No file moved. Source empty!\n",
            "No file moved. Source empty!\n",
            "No file moved. Source empty!\n",
            "Results for fold 2\n",
            "2263\n",
            "566\n",
            "Found 2263 images belonging to 3 classes.\n",
            "Found 566 images belonging to 3 classes.\n",
            "Epoch 1/25\n",
            "71/71 - 25s - loss: 0.1146 - accuracy: 0.9797 - 25s/epoch - 357ms/step\n",
            "Epoch 2/25\n",
            "71/71 - 26s - loss: 0.0501 - accuracy: 0.9854 - 26s/epoch - 359ms/step\n",
            "Epoch 3/25\n",
            "71/71 - 26s - loss: 0.0308 - accuracy: 0.9872 - 26s/epoch - 360ms/step\n",
            "Epoch 4/25\n",
            "71/71 - 25s - loss: 0.0210 - accuracy: 0.9956 - 25s/epoch - 358ms/step\n",
            "Epoch 5/25\n",
            "71/71 - 26s - loss: 0.0086 - accuracy: 0.9969 - 26s/epoch - 360ms/step\n",
            "Epoch 6/25\n",
            "71/71 - 26s - loss: 0.0339 - accuracy: 0.9903 - 26s/epoch - 362ms/step\n",
            "Epoch 7/25\n",
            "71/71 - 26s - loss: 0.0255 - accuracy: 0.9916 - 26s/epoch - 360ms/step\n",
            "Epoch 8/25\n",
            "71/71 - 25s - loss: 0.0380 - accuracy: 0.9912 - 25s/epoch - 359ms/step\n",
            "Epoch 9/25\n",
            "71/71 - 25s - loss: 0.0270 - accuracy: 0.9929 - 25s/epoch - 359ms/step\n",
            "Epoch 10/25\n",
            "71/71 - 25s - loss: 0.0382 - accuracy: 0.9907 - 25s/epoch - 357ms/step\n",
            "Epoch 11/25\n",
            "71/71 - 25s - loss: 0.0247 - accuracy: 0.9956 - 25s/epoch - 356ms/step\n",
            "Epoch 12/25\n",
            "71/71 - 25s - loss: 0.0103 - accuracy: 0.9973 - 25s/epoch - 357ms/step\n",
            "Epoch 13/25\n",
            "71/71 - 25s - loss: 0.0058 - accuracy: 0.9978 - 25s/epoch - 357ms/step\n",
            "Epoch 14/25\n",
            "71/71 - 25s - loss: 0.0052 - accuracy: 0.9982 - 25s/epoch - 355ms/step\n",
            "Epoch 15/25\n",
            "71/71 - 25s - loss: 0.0048 - accuracy: 0.9987 - 25s/epoch - 356ms/step\n",
            "Epoch 16/25\n",
            "71/71 - 25s - loss: 0.0083 - accuracy: 0.9969 - 25s/epoch - 355ms/step\n",
            "Epoch 17/25\n",
            "71/71 - 25s - loss: 0.0073 - accuracy: 0.9978 - 25s/epoch - 357ms/step\n",
            "Epoch 18/25\n",
            "71/71 - 25s - loss: 0.0042 - accuracy: 0.9987 - 25s/epoch - 358ms/step\n",
            "Epoch 19/25\n",
            "71/71 - 25s - loss: 0.0718 - accuracy: 0.9916 - 25s/epoch - 357ms/step\n",
            "Epoch 20/25\n",
            "71/71 - 25s - loss: 0.1493 - accuracy: 0.9766 - 25s/epoch - 355ms/step\n",
            "Epoch 21/25\n",
            "71/71 - 25s - loss: 0.0536 - accuracy: 0.9872 - 25s/epoch - 356ms/step\n",
            "Epoch 22/25\n",
            "71/71 - 25s - loss: 0.0228 - accuracy: 0.9947 - 25s/epoch - 355ms/step\n",
            "Epoch 23/25\n",
            "71/71 - 25s - loss: 0.0220 - accuracy: 0.9934 - 25s/epoch - 354ms/step\n",
            "Epoch 24/25\n",
            "71/71 - 25s - loss: 0.0406 - accuracy: 0.9907 - 25s/epoch - 354ms/step\n",
            "Epoch 25/25\n",
            "71/71 - 25s - loss: 0.0355 - accuracy: 0.9920 - 25s/epoch - 355ms/step\n"
          ]
        },
        {
          "output_type": "display_data",
          "data": {
            "text/plain": [
              "<Figure size 432x288 with 1 Axes>"
            ],
            "image/png": "[encoded data removed]"
          },
          "metadata": {
            "needs_background": "light"
          }
        },
        {
          "output_type": "display_data",
          "data": {
            "text/plain": [
              "<Figure size 432x288 with 1 Axes>"
            ],
            "image/png": "[encoded data removed]"
          },
          "metadata": {
            "needs_background": "light"
          }
        },
        {
          "output_type": "stream",
          "name": "stdout",
          "text": [
            "***Performance Data***\n",
            "Accuracy  : 0.6943462897526502\n",
            "Precision : 0.6943462897526502\n",
            "f1Score : 0.6943462897526502\n",
            "Recall : 0.6943462897526502\n",
            "[[187   0   2]\n",
            " [ 54  19 115]\n",
            " [  2   0 187]]\n",
            "***----------------------------***\n",
            "18/18 [==============================] - 6s 357ms/step - loss: 0.7541 - accuracy: 0.6943\n",
            "Overall Accuracy:  0.8365724381625441\n",
            "Overall Precision:  0.8365724381625441\n",
            "Overall f1Score:  0.8365724381625441\n",
            "Overall Recall:  0.8365724381625441\n",
            "***------------------End of Line------------------***\n",
            "trn_indx: 2263 test_indx: 566\n",
            "No file moved. Source empty!\n",
            "No file moved. Source empty!\n",
            "No file moved. Source empty!\n",
            "Results for fold 3\n",
            "2263\n",
            "566\n",
            "Found 2263 images belonging to 3 classes.\n",
            "Found 566 images belonging to 3 classes.\n",
            "Epoch 1/25\n",
            "71/71 - 25s - loss: 0.0319 - accuracy: 0.9920 - 25s/epoch - 355ms/step\n",
            "Epoch 2/25\n",
            "71/71 - 25s - loss: 0.0121 - accuracy: 0.9965 - 25s/epoch - 352ms/step\n",
            "Epoch 3/25\n",
            "71/71 - 25s - loss: 0.0099 - accuracy: 0.9969 - 25s/epoch - 352ms/step\n",
            "Epoch 4/25\n",
            "71/71 - 25s - loss: 0.0084 - accuracy: 0.9973 - 25s/epoch - 358ms/step\n",
            "Epoch 5/25\n",
            "71/71 - 25s - loss: 0.0101 - accuracy: 0.9965 - 25s/epoch - 352ms/step\n",
            "Epoch 6/25\n",
            "71/71 - 25s - loss: 0.0060 - accuracy: 0.9987 - 25s/epoch - 351ms/step\n",
            "Epoch 7/25\n",
            "71/71 - 25s - loss: 0.0016 - accuracy: 0.9996 - 25s/epoch - 349ms/step\n",
            "Epoch 8/25\n",
            "71/71 - 25s - loss: 0.0028 - accuracy: 0.9987 - 25s/epoch - 349ms/step\n",
            "Epoch 9/25\n",
            "71/71 - 25s - loss: 0.0033 - accuracy: 0.9991 - 25s/epoch - 348ms/step\n",
            "Epoch 10/25\n",
            "71/71 - 25s - loss: 0.0030 - accuracy: 0.9982 - 25s/epoch - 346ms/step\n",
            "Epoch 11/25\n",
            "71/71 - 25s - loss: 0.0038 - accuracy: 0.9982 - 25s/epoch - 349ms/step\n",
            "Epoch 12/25\n",
            "71/71 - 25s - loss: 0.0230 - accuracy: 0.9947 - 25s/epoch - 346ms/step\n",
            "Epoch 13/25\n",
            "71/71 - 25s - loss: 0.0202 - accuracy: 0.9938 - 25s/epoch - 349ms/step\n",
            "Epoch 14/25\n",
            "71/71 - 25s - loss: 0.0828 - accuracy: 0.9907 - 25s/epoch - 348ms/step\n",
            "Epoch 15/25\n",
            "71/71 - 25s - loss: 0.0779 - accuracy: 0.9890 - 25s/epoch - 350ms/step\n",
            "Epoch 16/25\n",
            "71/71 - 25s - loss: 0.0846 - accuracy: 0.9890 - 25s/epoch - 349ms/step\n",
            "Epoch 17/25\n",
            "71/71 - 25s - loss: 0.0322 - accuracy: 0.9938 - 25s/epoch - 350ms/step\n",
            "Epoch 18/25\n",
            "71/71 - 25s - loss: 0.0208 - accuracy: 0.9956 - 25s/epoch - 348ms/step\n",
            "Epoch 19/25\n",
            "71/71 - 25s - loss: 0.0051 - accuracy: 0.9978 - 25s/epoch - 348ms/step\n",
            "Epoch 20/25\n",
            "71/71 - 25s - loss: 0.0250 - accuracy: 0.9938 - 25s/epoch - 347ms/step\n",
            "Epoch 21/25\n",
            "71/71 - 25s - loss: 0.0195 - accuracy: 0.9938 - 25s/epoch - 349ms/step\n",
            "Epoch 22/25\n",
            "71/71 - 25s - loss: 0.0194 - accuracy: 0.9969 - 25s/epoch - 348ms/step\n",
            "Epoch 23/25\n",
            "71/71 - 25s - loss: 0.0138 - accuracy: 0.9960 - 25s/epoch - 349ms/step\n",
            "Epoch 24/25\n",
            "71/71 - 25s - loss: 0.0239 - accuracy: 0.9951 - 25s/epoch - 350ms/step\n",
            "Epoch 25/25\n",
            "71/71 - 25s - loss: 0.0129 - accuracy: 0.9956 - 25s/epoch - 348ms/step\n"
          ]
        },
        {
          "output_type": "display_data",
          "data": {
            "text/plain": [
              "<Figure size 432x288 with 1 Axes>"
            ],
            "image/png": "[encoded data removed]"
          },
          "metadata": {
            "needs_background": "light"
          }
        },
        {
          "output_type": "display_data",
          "data": {
            "text/plain": [
              "<Figure size 432x288 with 1 Axes>"
            ],
            "image/png": "[encoded data removed]"
          },
          "metadata": {
            "needs_background": "light"
          }
        },
        {
          "output_type": "stream",
          "name": "stdout",
          "text": [
            "***Performance Data***\n",
            "Accuracy  : 0.9858657243816255\n",
            "Precision : 0.9858657243816255\n",
            "f1Score : 0.9858657243816255\n",
            "Recall : 0.9858657243816255\n",
            "[[189   0   0]\n",
            " [  0 184   4]\n",
            " [  1   3 185]]\n",
            "***----------------------------***\n",
            "18/18 [==============================] - 6s 361ms/step - loss: 0.0320 - accuracy: 0.9859\n",
            "Overall Accuracy:  0.8863368669022379\n",
            "Overall Precision:  0.8863368669022379\n",
            "Overall f1Score:  0.8863368669022379\n",
            "Overall Recall:  0.8863368669022379\n",
            "***------------------End of Line------------------***\n",
            "trn_indx: 2263 test_indx: 566\n",
            "No file moved. Source empty!\n",
            "No file moved. Source empty!\n",
            "No file moved. Source empty!\n",
            "Results for fold 4\n",
            "2263\n",
            "566\n",
            "Found 2263 images belonging to 3 classes.\n",
            "Found 566 images belonging to 3 classes.\n",
            "Epoch 1/25\n",
            "71/71 - 25s - loss: 0.0264 - accuracy: 0.9934 - 25s/epoch - 353ms/step\n",
            "Epoch 2/25\n",
            "71/71 - 25s - loss: 0.0377 - accuracy: 0.9934 - 25s/epoch - 355ms/step\n",
            "Epoch 3/25\n",
            "71/71 - 25s - loss: 0.0140 - accuracy: 0.9978 - 25s/epoch - 356ms/step\n",
            "Epoch 4/25\n",
            "71/71 - 25s - loss: 0.2006 - accuracy: 0.9916 - 25s/epoch - 351ms/step\n",
            "Epoch 5/25\n",
            "71/71 - 25s - loss: 0.1028 - accuracy: 0.9837 - 25s/epoch - 351ms/step\n",
            "Epoch 6/25\n",
            "71/71 - 25s - loss: 0.0220 - accuracy: 0.9934 - 25s/epoch - 351ms/step\n",
            "Epoch 7/25\n",
            "71/71 - 25s - loss: 0.0233 - accuracy: 0.9969 - 25s/epoch - 351ms/step\n",
            "Epoch 8/25\n",
            "71/71 - 25s - loss: 0.0124 - accuracy: 0.9969 - 25s/epoch - 352ms/step\n",
            "Epoch 9/25\n",
            "71/71 - 25s - loss: 0.0103 - accuracy: 0.9982 - 25s/epoch - 351ms/step\n",
            "Epoch 10/25\n",
            "71/71 - 25s - loss: 0.0085 - accuracy: 0.9982 - 25s/epoch - 349ms/step\n",
            "Epoch 11/25\n",
            "71/71 - 25s - loss: 0.0037 - accuracy: 0.9978 - 25s/epoch - 347ms/step\n",
            "Epoch 12/25\n",
            "71/71 - 25s - loss: 0.0017 - accuracy: 0.9996 - 25s/epoch - 353ms/step\n",
            "Epoch 13/25\n",
            "71/71 - 25s - loss: 0.0073 - accuracy: 0.9987 - 25s/epoch - 348ms/step\n",
            "Epoch 14/25\n",
            "71/71 - 25s - loss: 0.0056 - accuracy: 0.9969 - 25s/epoch - 351ms/step\n",
            "Epoch 15/25\n",
            "71/71 - 25s - loss: 0.0021 - accuracy: 0.9996 - 25s/epoch - 350ms/step\n",
            "Epoch 16/25\n",
            "71/71 - 25s - loss: 0.0146 - accuracy: 0.9960 - 25s/epoch - 354ms/step\n",
            "Epoch 17/25\n",
            "71/71 - 25s - loss: 0.1416 - accuracy: 0.9903 - 25s/epoch - 347ms/step\n",
            "Epoch 18/25\n",
            "71/71 - 25s - loss: 0.0343 - accuracy: 0.9934 - 25s/epoch - 351ms/step\n",
            "Epoch 19/25\n",
            "71/71 - 25s - loss: 0.0068 - accuracy: 0.9982 - 25s/epoch - 348ms/step\n",
            "Epoch 20/25\n",
            "71/71 - 25s - loss: 0.0021 - accuracy: 0.9996 - 25s/epoch - 350ms/step\n",
            "Epoch 21/25\n",
            "71/71 - 25s - loss: 0.0064 - accuracy: 0.9987 - 25s/epoch - 349ms/step\n",
            "Epoch 22/25\n",
            "71/71 - 25s - loss: 0.0084 - accuracy: 0.9987 - 25s/epoch - 350ms/step\n",
            "Epoch 23/25\n",
            "71/71 - 25s - loss: 0.0088 - accuracy: 0.9987 - 25s/epoch - 350ms/step\n",
            "Epoch 24/25\n",
            "71/71 - 25s - loss: 0.0043 - accuracy: 0.9987 - 25s/epoch - 351ms/step\n",
            "Epoch 25/25\n",
            "71/71 - 25s - loss: 0.0168 - accuracy: 0.9960 - 25s/epoch - 345ms/step\n"
          ]
        },
        {
          "output_type": "display_data",
          "data": {
            "text/plain": [
              "<Figure size 432x288 with 1 Axes>"
            ],
            "image/png": "[encoded data removed]"
          },
          "metadata": {
            "needs_background": "light"
          }
        },
        {
          "output_type": "display_data",
          "data": {
            "text/plain": [
              "<Figure size 432x288 with 1 Axes>"
            ],
            "image/png": "[encoded data removed]"
          },
          "metadata": {
            "needs_background": "light"
          }
        },
        {
          "output_type": "stream",
          "name": "stdout",
          "text": [
            "***Performance Data***\n",
            "Accuracy  : 0.9929328621908127\n",
            "Precision : 0.9929328621908127\n",
            "f1Score : 0.9929328621908127\n",
            "Recall : 0.9929328621908127\n",
            "[[188   0   0]\n",
            " [  0 189   0]\n",
            " [  0   4 185]]\n",
            "***----------------------------***\n",
            "18/18 [==============================] - 6s 343ms/step - loss: 0.0294 - accuracy: 0.9929\n",
            "Overall Accuracy:  0.9129858657243816\n",
            "Overall Precision:  0.9129858657243816\n",
            "Overall f1Score:  0.9129858657243816\n",
            "Overall Recall:  0.9129858657243816\n",
            "***------------------End of Line------------------***\n",
            "trn_indx: 2264 test_indx: 565\n",
            "No file moved. Source empty!\n",
            "No file moved. Source empty!\n",
            "No file moved. Source empty!\n",
            "Results for fold 5\n",
            "2264\n",
            "565\n",
            "Found 2264 images belonging to 3 classes.\n",
            "Found 565 images belonging to 3 classes.\n",
            "Epoch 1/25\n",
            "71/71 - 25s - loss: 0.0135 - accuracy: 0.9973 - 25s/epoch - 348ms/step\n",
            "Epoch 2/25\n",
            "71/71 - 25s - loss: 0.0100 - accuracy: 0.9978 - 25s/epoch - 351ms/step\n",
            "Epoch 3/25\n",
            "71/71 - 25s - loss: 0.0060 - accuracy: 0.9991 - 25s/epoch - 352ms/step\n",
            "Epoch 4/25\n",
            "71/71 - 25s - loss: 0.0045 - accuracy: 0.9978 - 25s/epoch - 352ms/step\n",
            "Epoch 5/25\n",
            "71/71 - 25s - loss: 0.0033 - accuracy: 0.9991 - 25s/epoch - 347ms/step\n",
            "Epoch 6/25\n",
            "71/71 - 25s - loss: 0.0038 - accuracy: 0.9987 - 25s/epoch - 347ms/step\n",
            "Epoch 7/25\n",
            "71/71 - 25s - loss: 0.0025 - accuracy: 0.9987 - 25s/epoch - 346ms/step\n",
            "Epoch 8/25\n",
            "71/71 - 25s - loss: 0.0019 - accuracy: 0.9996 - 25s/epoch - 347ms/step\n",
            "Epoch 9/25\n",
            "71/71 - 25s - loss: 0.0038 - accuracy: 0.9982 - 25s/epoch - 349ms/step\n",
            "Epoch 10/25\n",
            "71/71 - 25s - loss: 0.0159 - accuracy: 0.9973 - 25s/epoch - 347ms/step\n",
            "Epoch 11/25\n",
            "71/71 - 25s - loss: 0.0064 - accuracy: 0.9978 - 25s/epoch - 348ms/step\n",
            "Epoch 12/25\n",
            "71/71 - 25s - loss: 0.0021 - accuracy: 0.9987 - 25s/epoch - 346ms/step\n",
            "Epoch 13/25\n",
            "71/71 - 25s - loss: 0.0020 - accuracy: 0.9991 - 25s/epoch - 347ms/step\n",
            "Epoch 14/25\n",
            "71/71 - 25s - loss: 0.0176 - accuracy: 0.9973 - 25s/epoch - 348ms/step\n",
            "Epoch 15/25\n",
            "71/71 - 25s - loss: 0.0216 - accuracy: 0.9960 - 25s/epoch - 352ms/step\n",
            "Epoch 16/25\n",
            "71/71 - 25s - loss: 0.0046 - accuracy: 0.9978 - 25s/epoch - 347ms/step\n",
            "Epoch 17/25\n",
            "71/71 - 25s - loss: 7.5765e-04 - accuracy: 1.0000 - 25s/epoch - 347ms/step\n",
            "Epoch 18/25\n",
            "71/71 - 25s - loss: 0.0029 - accuracy: 0.9982 - 25s/epoch - 348ms/step\n",
            "Epoch 19/25\n",
            "71/71 - 25s - loss: 0.0062 - accuracy: 0.9973 - 25s/epoch - 351ms/step\n",
            "Epoch 20/25\n",
            "71/71 - 25s - loss: 0.0307 - accuracy: 0.9965 - 25s/epoch - 351ms/step\n",
            "Epoch 21/25\n",
            "71/71 - 25s - loss: 0.0092 - accuracy: 0.9969 - 25s/epoch - 349ms/step\n",
            "Epoch 22/25\n",
            "71/71 - 25s - loss: 0.0272 - accuracy: 0.9960 - 25s/epoch - 348ms/step\n",
            "Epoch 23/25\n",
            "71/71 - 25s - loss: 0.0103 - accuracy: 0.9973 - 25s/epoch - 349ms/step\n",
            "Epoch 24/25\n",
            "71/71 - 25s - loss: 0.0143 - accuracy: 0.9982 - 25s/epoch - 352ms/step\n",
            "Epoch 25/25\n",
            "71/71 - 25s - loss: 0.1718 - accuracy: 0.9943 - 25s/epoch - 349ms/step\n"
          ]
        },
        {
          "output_type": "display_data",
          "data": {
            "text/plain": [
              "<Figure size 432x288 with 1 Axes>"
            ],
            "image/png": "[encoded data removed]"
          },
          "metadata": {
            "needs_background": "light"
          }
        },
        {
          "output_type": "display_data",
          "data": {
            "text/plain": [
              "<Figure size 432x288 with 1 Axes>"
            ],
            "image/png": "[encoded data removed]"
          },
          "metadata": {
            "needs_background": "light"
          }
        },
        {
          "output_type": "stream",
          "name": "stdout",
          "text": [
            "***Performance Data***\n",
            "Accuracy  : 0.9486725663716814\n",
            "Precision : 0.9486725663716814\n",
            "f1Score : 0.9486725663716814\n",
            "Recall : 0.9486725663716814\n",
            "[[167   8  13]\n",
            " [  0 185   4]\n",
            " [  0   4 184]]\n",
            "***----------------------------***\n",
            "18/18 [==============================] - 6s 359ms/step - loss: 0.9111 - accuracy: 0.9487\n",
            "Overall Accuracy:  0.9201232058538416\n",
            "Overall Precision:  0.9201232058538416\n",
            "Overall f1Score:  0.9201232058538416\n",
            "Overall Recall:  0.9201232058538416\n",
            "***------------------End of Line------------------***\n"
          ]
        }
      ],
      "source": [
        "for train_index, val_index in skf.split(X, Y):\n",
        "    print(\"trn_indx: %s test_indx: %s\" % (len(train_index), len(val_index)))\n",
        "    #First cut all images from validation to train (if any exists)\n",
        "    transferAllClassBetweenFolders('valid', 'train', 1.0)\n",
        "    #no valid\n",
        "    transferAllClassBetweenFolders('test', 'train', 1.0)\n",
        "    foldNum+=1\n",
        "    print(\"Results for fold\",foldNum)\n",
        "    X_train, X_val = X[train_index], X[val_index]\n",
        "    Y_train, Y_val = Y[train_index], Y[val_index]\n",
        "    print(len(X_train))\n",
        "    print(len(X_val))\n",
        "    # Move validation images of this fold from train folder to the validation folder\n",
        "    for eachIndex in range(len(X_val)):\n",
        "        classLabel=''\n",
        "        for i in range(len(classLabels)):\n",
        "          if(Y_val[eachIndex]==i):\n",
        "              classLabel=classLabels[i]\n",
        "        #Then, copy the validation images to the validation folder\n",
        "        shutil.move(sourcePath+'/train/'+classLabel+'/'+X_val[eachIndex], \n",
        "                    #sourcePath+'/valid/'+classLabel+'/'+X_val[eachIndex])\n",
        "        #without valid\n",
        "                    sourcePath+'/test/'+classLabel+'/'+X_val[eachIndex])\n",
        "        \n",
        "    train_batches = ImageDataGenerator().flow_from_directory(train_path, target_size=(256,256), classes=['covid', 'normal', 'pneumonia'], class_mode = 'sparse', batch_size = 32, shuffle=True)\n",
        "    #without valid\n",
        "    #valid_batches = ImageDataGenerator().flow_from_directory(valid_path, target_size=(256,256), classes=['covid', 'normal', 'pneumonia'], class_mode = 'sparse', batch_size = 32, shuffle=True)\n",
        "    test_batches = ImageDataGenerator().flow_from_directory(test_path, target_size=(256,256), classes=['covid', 'normal', 'pneumonia'], class_mode = 'sparse', batch_size = 32, shuffle=False)\n",
        "\n",
        "    history = model.fit(train_batches, \n",
        "                    #steps_per_epoch=sp_epoch, \n",
        "                    #without valid\n",
        "                    #validation_data=valid_batches, \n",
        "                    #validation_steps=10, \n",
        "                    epochs=25, \n",
        "                    verbose=2)\n",
        "    \n",
        "    \n",
        "    \n",
        "    plt.plot(history.history['accuracy'])\n",
        "    #plt.plot(history.history['val_accuracy'])\n",
        "    plt.title('Final Nadam Only - Model Accuracy')\n",
        "    plt.ylim(0,1.1)\n",
        "    plt.ylabel('accuracy')\n",
        "    plt.xlabel('epoch')\n",
        "    #plt.legend(['train', 'valid'], loc='upper left')\n",
        "    #without valid\n",
        "    plt.legend(['train'], loc='upper left')\n",
        "    plt.show()\n",
        "    # summarize history for loss\n",
        "    plt.plot(history.history['loss'])\n",
        "    #plt.plot(history.history['val_loss'])\n",
        "    plt.title('Final Nadam Only - Model Loss')\n",
        "    plt.ylim(0,1.1)\n",
        "    plt.ylabel('loss')\n",
        "    plt.xlabel('epoch')\n",
        "    #plt.legend(['train', 'valid'], loc='upper left')\n",
        "    #without valid\n",
        "    plt.legend(['train'], loc='upper left')\n",
        "    plt.show()\n",
        "    test_batches.reset()\n",
        "    Y_pred = model.predict(test_batches)\n",
        "    classes = test_batches.classes[test_batches.index_array]\n",
        "    y_pred = np.argmax(Y_pred, axis=-1)\n",
        "    #print(\"***Performance on Test Data***\")  \n",
        "    #print(sum(y_pred==classes)/10000)\n",
        "    confusion_matrix(test_batches.classes[test_batches.index_array],y_pred)\n",
        "    #predictions = model.predict(test_batches, verbose=1)\n",
        "    #yPredictions = np.argmax(predictions, axis=1)\n",
        "    #print(yPredictions)\n",
        "    #true_classes = test_batches.classes\n",
        "    # evaluate validation performance\n",
        "    print(\"***Performance Data***\")    \n",
        "    #valAcc, valPrec, valFScore = my_metrics(true_classes, yPredictions)\n",
        "    valAcc, valPrec, valFScore, valRec = my_metrics(classes, y_pred)\n",
        "    overAllAcc = overAllAcc+valAcc\n",
        "    overAllPrec = overAllPrec+valPrec\n",
        "    overAllf1 = overAllf1+valFScore\n",
        "    overAllRec = overAllRec+valRec\n",
        "    \n",
        "    model.evaluate(test_batches)\n",
        "    print(\"Overall Accuracy: \",  overAllAcc/foldNum)\n",
        "    print(\"Overall Precision: \",  overAllPrec/foldNum)\n",
        "    print(\"Overall f1Score: \",  overAllf1/foldNum)\n",
        "    print(\"Overall Recall: \",  overAllRec/foldNum)\n",
        "\n",
        "    print(\"***------------------End of Line------------------***\")"
      ]
    }
  ],
  "metadata": {
    "accelerator": "GPU",
    "colab": {
      "collapsed_sections": [],
      "machine_shape": "hm",
      "name": "2022_Nadam_wo Cbam_A.ipynb",
      "provenance": [],
      "include_colab_link": true
    },
    "kernelspec": {
      "display_name": "Python 3",
      "name": "python3"
    },
    "language_info": {
      "name": "python"
    }
  },
  "nbformat": 4,
  "nbformat_minor": 0
}