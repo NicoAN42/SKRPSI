{
  "cells": [
    {
      "cell_type": "markdown",
      "metadata": {
        "id": "view-in-github",
        "colab_type": "text"
      },
      "source": [
        "<a href=\"https://colab.research.google.com/github/NicoAN42/SKRPSI/blob/main/2022_Nadam_wo_Cbam_B.ipynb\" target=\"_parent\"><img src=\"https://colab.research.google.com/assets/colab-badge.svg\" alt=\"Open In Colab\"/></a>"
      ]
    },
    {
      "cell_type": "code",
      "execution_count": 1,
      "metadata": {
        "colab": {
          "base_uri": "https://localhost:8080/"
        },
        "id": "bd3mi5ZLdBSv",
        "outputId": "420e0a7a-cc6b-4d74-c602-a0e8686b4d67"
      },
      "outputs": [
        {
          "output_type": "stream",
          "name": "stdout",
          "text": [
            "Mounted at /content/drive\n"
          ]
        }
      ],
      "source": [
        "#mount dataset\n",
        "from google.colab import drive\n",
        "drive.mount('/content/drive')\n"
      ]
    },
    {
      "cell_type": "code",
      "execution_count": 2,
      "metadata": {
        "id": "mNr5eLs1WiKT"
      },
      "outputs": [],
      "source": [
        "from tensorflow.keras.layers import Conv2D, Input, concatenate, Activation, InputLayer, Dense, Reshape, Flatten, Add, multiply, Permute, Lambda, Concatenate\n",
        "from tensorflow.keras.layers import LeakyReLU,ReLU, MaxPooling2D, BatchNormalization,GlobalMaxPooling2D,GlobalAveragePooling2D\n",
        "from tensorflow.keras.models import Model, Sequential\n",
        "from tensorflow.keras import layers\n",
        "from tensorflow.keras.activations import softmax,sigmoid\n",
        "from tensorflow.keras.preprocessing.image import ImageDataGenerator\n",
        "from tensorflow.keras.optimizers import Adam, Nadam\n",
        "from tensorflow.keras.callbacks import EarlyStopping\n",
        "from tensorflow.keras.layers import Dropout,SpatialDropout2D,GaussianDropout\n",
        "from tensorflow.keras.optimizers.schedules import ExponentialDecay\n",
        "from tensorflow.keras.regularizers import l1,l2\n",
        "from tensorflow.keras import backend as K\n",
        "from __future__ import absolute_import\n",
        "from __future__ import division\n",
        "from __future__ import print_function\n",
        "import tensorflow\n",
        "import tensorflow as tf\n",
        "import math\n",
        "import matplotlib.pyplot as plt\n",
        "import numpy as np\n",
        "from sklearn.metrics import accuracy_score, f1_score, precision_score, confusion_matrix, recall_score\n",
        "from sklearn.model_selection import StratifiedKFold\n",
        "import os\n",
        "import random\n",
        "import shutil"
      ]
    },
    {
      "cell_type": "code",
      "execution_count": 3,
      "metadata": {
        "id": "M-dUDyotW99U"
      },
      "outputs": [],
      "source": [
        "#from tensorflow.keras.optimizers import SGD"
      ]
    },
    {
      "cell_type": "code",
      "execution_count": 4,
      "metadata": {
        "id": "1SKzQPoLeGUS"
      },
      "outputs": [],
      "source": [
        "CLASS = 3\n",
        "#sourcepath isi semua data train, folder valid kosongin datanya sisai folder classnya\n",
        "sourcePath = '/content/drive/MyDrive/Colab Notebooks/Dataset 6'\n",
        "train_path = '/content/drive/MyDrive/Colab Notebooks/Dataset 6/train'\n",
        "valid_path = '/content/drive/MyDrive/Colab Notebooks/Dataset 6/valid'\n",
        "test_path = '/content/drive/MyDrive/Colab Notebooks/Dataset 6/test'\n",
        "#attention_module = 'cbam_block'\n",
        "#nico"
      ]
    },
    {
      "cell_type": "code",
      "execution_count": 5,
      "metadata": {
        "id": "qyuRvIz9mFu_"
      },
      "outputs": [],
      "source": [
        "classLabels =['covid','normal', 'pneumonia']"
      ]
    },
    {
      "cell_type": "code",
      "execution_count": 6,
      "metadata": {
        "id": "q2Q9CbMzY1Rn"
      },
      "outputs": [],
      "source": [
        "input = Input(shape=(256,256,3))"
      ]
    },
    {
      "cell_type": "code",
      "execution_count": 7,
      "metadata": {
        "id": "YpZNBOFOZBJL"
      },
      "outputs": [],
      "source": [
        "#Layer 1\n",
        "model = layers.Conv2D(32, (3,3), padding='same', name='conv_1', activation = 'relu')(input)\n",
        "model = layers.BatchNormalization(name='norm_1')(model)\n",
        "model = layers.MaxPooling2D(pool_size=(2, 2), strides= 2)(model)\n",
        "#attention_module = 'cbam_block'\n",
        "#y = attach_attention_module(model, attention_module)\n",
        "#model =  tensorflow.keras.layers.add([model, y])\n"
      ]
    },
    {
      "cell_type": "code",
      "execution_count": 8,
      "metadata": {
        "id": "pBvWdrCmZCsQ"
      },
      "outputs": [],
      "source": [
        "#Layer 2\n",
        "model = layers.Conv2D(64, (3,3), padding='same', name='conv_2', activation = 'relu')(model)\n",
        "model = layers.Dropout(0.1)(model)\n",
        "model = layers.BatchNormalization(name='norm_2')(model)\n",
        "model = layers.MaxPooling2D(pool_size=(2, 2), strides = 2)(model)\n",
        "\n",
        "#attention_module = 'cbam_block'\n",
        "#y = attach_attention_module(model, attention_module)\n",
        "#model =  tensorflow.keras.layers.add([model, y])\n"
      ]
    },
    {
      "cell_type": "code",
      "execution_count": 9,
      "metadata": {
        "id": "RBUvxL-9ZEO3"
      },
      "outputs": [],
      "source": [
        "# Layer 3\n",
        "model = layers.Conv2D(64, (3,3), padding='same', name='conv_3', activation = 'relu')(model)\n",
        "model = layers.BatchNormalization(name='norm_3')(model)\n",
        "model = layers.MaxPooling2D(pool_size=(2, 2), strides = 2)(model)\n",
        "\n",
        "#attention_module = 'cbam_block'\n",
        "#y = attach_attention_module(model, attention_module)\n",
        "#model =  tensorflow.keras.layers.add([model, y])\n",
        "\n"
      ]
    },
    {
      "cell_type": "code",
      "execution_count": 10,
      "metadata": {
        "id": "QKyPzn20ZI1Y"
      },
      "outputs": [],
      "source": [
        "# Layer 4\n",
        "model = layers.Conv2D(128, (3,3), padding='same', name='conv_4', activation = 'relu')(model)\n",
        "model = layers.Dropout(0.2)(model)\n",
        "model = layers.BatchNormalization(name='norm_4')(model)\n",
        "model = layers.MaxPooling2D(pool_size=(2, 2), strides = 2)(model)\n",
        "\n",
        "#attention_module = 'cbam_block'\n",
        "#y = attach_attention_module(model, attention_module)\n",
        "#model =  tensorflow.keras.layers.add([model, y])\n"
      ]
    },
    {
      "cell_type": "code",
      "execution_count": 11,
      "metadata": {
        "id": "tgLQSWDfZJ53"
      },
      "outputs": [],
      "source": [
        "# Layer 5\n",
        "model = layers.Conv2D(256, (3,3), padding='same', name='conv_5', activation = 'relu')(model)\n",
        "layer = layers.Conv2D(256, (3,3), padding='same', name='conv_5', activation = 'relu')\n",
        "batch = layers.BatchNormalization(name='norm_5')\n",
        "model = layers.Dropout(0.2)(model)\n",
        "model = layers.BatchNormalization(name='norm_5')(model)\n",
        "#model = layers.MaxPooling2D(pool_size=(2, 2), strides = 2)(model)"
      ]
    },
    {
      "cell_type": "code",
      "execution_count": 12,
      "metadata": {
        "id": "8_jONIoBZhXm"
      },
      "outputs": [],
      "source": [
        "model = layers.Flatten()(model)\n",
        "model = layers.Dense(128, activation = 'relu')(model)\n",
        "model = layers.Dropout(0.2)(model)\n",
        "output = layers.Dense(3,Activation('softmax'))(model)\n",
        "model = Model(input, output)"
      ]
    },
    {
      "cell_type": "code",
      "execution_count": 13,
      "metadata": {
        "id": "iDpUFSaVZigY"
      },
      "outputs": [],
      "source": [
        "#output = model.output_shape"
      ]
    },
    {
      "cell_type": "code",
      "execution_count": 14,
      "metadata": {
        "colab": {
          "base_uri": "https://localhost:8080/"
        },
        "id": "qRYlJT_4ZkhM",
        "outputId": "3206aa3f-1dcf-4531-b6e9-cd12b5dc244d"
      },
      "outputs": [
        {
          "output_type": "stream",
          "name": "stdout",
          "text": [
            "KerasTensor(type_spec=TensorSpec(shape=(None, 256, 256, 3), dtype=tf.float32, name='input_1'), name='input_1', description=\"created by layer 'input_1'\")\n"
          ]
        }
      ],
      "source": [
        "print(input)"
      ]
    },
    {
      "cell_type": "code",
      "execution_count": 15,
      "metadata": {
        "id": "JdlrgYZwZnEd"
      },
      "outputs": [],
      "source": [
        "opt = Nadam(learning_rate=0.01, beta_1=0.9, beta_2=0.999)"
      ]
    },
    {
      "cell_type": "code",
      "execution_count": 16,
      "metadata": {
        "id": "oOIL33yEZpPX"
      },
      "outputs": [],
      "source": [
        "model.compile(optimizer=opt, loss=\"sparse_categorical_crossentropy\", metrics=[\"accuracy\"] )"
      ]
    },
    {
      "cell_type": "code",
      "execution_count": 17,
      "metadata": {
        "colab": {
          "base_uri": "https://localhost:8080/"
        },
        "id": "99dNdRxNZqh5",
        "outputId": "ce15165a-da7b-4280-fe98-98a2138e26b3"
      },
      "outputs": [
        {
          "output_type": "stream",
          "name": "stdout",
          "text": [
            "Model: \"model\"\n",
            "_________________________________________________________________\n",
            " Layer (type)                Output Shape              Param #   \n",
            "=================================================================\n",
            " input_1 (InputLayer)        [(None, 256, 256, 3)]     0         \n",
            "                                                                 \n",
            " conv_1 (Conv2D)             (None, 256, 256, 32)      896       \n",
            "                                                                 \n",
            " norm_1 (BatchNormalization)  (None, 256, 256, 32)     128       \n",
            "                                                                 \n",
            " max_pooling2d (MaxPooling2D  (None, 128, 128, 32)     0         \n",
            " )                                                               \n",
            "                                                                 \n",
            " conv_2 (Conv2D)             (None, 128, 128, 64)      18496     \n",
            "                                                                 \n",
            " dropout (Dropout)           (None, 128, 128, 64)      0         \n",
            "                                                                 \n",
            " norm_2 (BatchNormalization)  (None, 128, 128, 64)     256       \n",
            "                                                                 \n",
            " max_pooling2d_1 (MaxPooling  (None, 64, 64, 64)       0         \n",
            " 2D)                                                             \n",
            "                                                                 \n",
            " conv_3 (Conv2D)             (None, 64, 64, 64)        36928     \n",
            "                                                                 \n",
            " norm_3 (BatchNormalization)  (None, 64, 64, 64)       256       \n",
            "                                                                 \n",
            " max_pooling2d_2 (MaxPooling  (None, 32, 32, 64)       0         \n",
            " 2D)                                                             \n",
            "                                                                 \n",
            " conv_4 (Conv2D)             (None, 32, 32, 128)       73856     \n",
            "                                                                 \n",
            " dropout_1 (Dropout)         (None, 32, 32, 128)       0         \n",
            "                                                                 \n",
            " norm_4 (BatchNormalization)  (None, 32, 32, 128)      512       \n",
            "                                                                 \n",
            " max_pooling2d_3 (MaxPooling  (None, 16, 16, 128)      0         \n",
            " 2D)                                                             \n",
            "                                                                 \n",
            " conv_5 (Conv2D)             (None, 16, 16, 256)       295168    \n",
            "                                                                 \n",
            " dropout_2 (Dropout)         (None, 16, 16, 256)       0         \n",
            "                                                                 \n",
            " norm_5 (BatchNormalization)  (None, 16, 16, 256)      1024      \n",
            "                                                                 \n",
            " flatten (Flatten)           (None, 65536)             0         \n",
            "                                                                 \n",
            " dense (Dense)               (None, 128)               8388736   \n",
            "                                                                 \n",
            " dropout_3 (Dropout)         (None, 128)               0         \n",
            "                                                                 \n",
            " dense_1 (Dense)             (None, 3)                 387       \n",
            "                                                                 \n",
            "=================================================================\n",
            "Total params: 8,816,643\n",
            "Trainable params: 8,815,555\n",
            "Non-trainable params: 1,088\n",
            "_________________________________________________________________\n",
            "None\n",
            "<keras.engine.functional.Functional object at 0x7ff79c179f10>\n"
          ]
        }
      ],
      "source": [
        "print(model.summary())\n",
        "print(model)"
      ]
    },
    {
      "cell_type": "code",
      "execution_count": 18,
      "metadata": {
        "id": "NIABPyRMYycd"
      },
      "outputs": [],
      "source": [
        "X = []\n",
        "Y = []\n",
        "def transferBetweenFolders(source, dest, splitRate): \n",
        "    global sourceFiles\n",
        "    sourceFiles=os.listdir(source)\n",
        "    if(len(sourceFiles)!=0):\n",
        "        transferFileNumbers=int(len(sourceFiles)*splitRate)\n",
        "        transferIndex=random.sample(range(0, len(sourceFiles)), transferFileNumbers)\n",
        "        for eachIndex in transferIndex:\n",
        "            shutil.move(source+str(sourceFiles[eachIndex]), dest+str(sourceFiles[eachIndex]))\n",
        "    else:\n",
        "        print(\"No file moved. Source empty!\")\n",
        "        "
      ]
    },
    {
      "cell_type": "code",
      "execution_count": 19,
      "metadata": {
        "colab": {
          "base_uri": "https://localhost:8080/"
        },
        "id": "Fh0THhOaY0Da",
        "outputId": "91e402cb-0efe-471b-e4d0-379d9b0f694a"
      },
      "outputs": [
        {
          "output_type": "stream",
          "name": "stdout",
          "text": [
            "No file moved. Source empty!\n",
            "No file moved. Source empty!\n",
            "No file moved. Source empty!\n"
          ]
        }
      ],
      "source": [
        "def transferAllClassBetweenFolders(source, dest, splitRate):\n",
        "    for label in classLabels:\n",
        "        transferBetweenFolders(sourcePath+'/'+source+'/'+label+'/', \n",
        "                               sourcePath+'/'+dest+'/'+label+'/', \n",
        "                               splitRate)\n",
        "#First cut all images from validation to train (if any exists)\n",
        "transferAllClassBetweenFolders('valid', 'train', 1.0)\n",
        "transferAllClassBetweenFolders('test', 'train', 1.0)\n",
        "#no valid\n",
        "#transferAllClassBetweenFolders('train', 'test', 0.2)"
      ]
    },
    {
      "cell_type": "code",
      "execution_count": 20,
      "metadata": {
        "id": "bvS9lltuY5_4"
      },
      "outputs": [],
      "source": [
        "def prepareNameWithLabels(folderName):\n",
        "    sourceFiles=os.listdir(sourcePath+'/train/'+folderName)\n",
        "    for val in sourceFiles:\n",
        "        X.append(val)\n",
        "        for i in range(len(classLabels)):\n",
        "          if(folderName==classLabels[i]):\n",
        "              Y.append(i)\n",
        "# Organize file names and class labels in X and Y variables\n",
        "for i in range(len(classLabels)):\n",
        "  prepareNameWithLabels(classLabels[i])\n",
        "\n",
        "def my_metrics(y_true, y_pred):\n",
        "    accuracy=accuracy_score(y_true, y_pred)\n",
        "    precision=precision_score(y_true, y_pred,average='micro')\n",
        "    f1Score=f1_score(y_true, y_pred, average='micro') \n",
        "    recall = recall_score(y_true, y_pred, average='micro')\n",
        "    print(\"Accuracy  : {}\".format(accuracy))\n",
        "    print(\"Precision : {}\".format(precision))\n",
        "    print(\"f1Score : {}\".format(f1Score))\n",
        "    print(\"Recall : {}\".format(recall))\n",
        "    cm=confusion_matrix(y_true, y_pred)\n",
        "    print(cm)\n",
        "\n",
        "    print(\"***----------------------------***\")  \n",
        "    return accuracy, precision, f1Score, recall"
      ]
    },
    {
      "cell_type": "code",
      "execution_count": 21,
      "metadata": {
        "colab": {
          "base_uri": "https://localhost:8080/"
        },
        "id": "7hjflR4gZW0Y",
        "outputId": "981814a9-bd3c-4d7d-a792-4a98dd240b03"
      },
      "outputs": [
        {
          "output_type": "stream",
          "name": "stdout",
          "text": [
            "No file moved. Source empty!\n",
            "No file moved. Source empty!\n",
            "No file moved. Source empty!\n",
            "No file moved. Source empty!\n",
            "No file moved. Source empty!\n",
            "No file moved. Source empty!\n",
            "['COVID(42).png' 'COVID(51).png' 'COVID(18).png' ...\n",
            " 'person98_virus_182.jpeg' 'person99_virus_183.jpeg'\n",
            " 'person97_virus_180.jpeg']\n",
            "[0 0 0 ... 2 2 2]\n",
            "StratifiedKFold(n_splits=5, random_state=None, shuffle=True)\n",
            "5\n",
            "<generator object _BaseKFold.split at 0x7ff79c11dbd0>\n"
          ]
        }
      ],
      "source": [
        "transferAllClassBetweenFolders('valid', 'train', 1.0)\n",
        "#no valid\n",
        "transferAllClassBetweenFolders('test', 'train', 1.0)\n",
        "X=np.asarray(X)\n",
        "Y=np.asarray(Y)\n",
        "\n",
        "print(X)\n",
        "print(Y)\n",
        "\n",
        "skf = StratifiedKFold(n_splits=5\n",
        "                      , shuffle=True)\n",
        "skf.get_n_splits(X, Y)\n",
        "print(skf)\n",
        "print(skf.get_n_splits(X,Y))\n",
        "print(skf.split(X,Y))\n",
        "foldNum=0\n",
        "overAllAcc = 0\n",
        "overAllPrec = 0\n",
        "overAllf1 = 0\n",
        "overAllRec = 0"
      ]
    },
    {
      "cell_type": "code",
      "execution_count": 22,
      "metadata": {
        "colab": {
          "base_uri": "https://localhost:8080/",
          "height": 1000
        },
        "id": "TsQVUi57ZDHg",
        "outputId": "b5c39116-f239-4b98-e64c-0fce9cba8fac"
      },
      "outputs": [
        {
          "output_type": "stream",
          "name": "stdout",
          "text": [
            "trn_indx: 2263 test_indx: 566\n",
            "No file moved. Source empty!\n",
            "No file moved. Source empty!\n",
            "No file moved. Source empty!\n",
            "No file moved. Source empty!\n",
            "No file moved. Source empty!\n",
            "No file moved. Source empty!\n",
            "Results for fold 1\n",
            "2263\n",
            "566\n",
            "Found 2263 images belonging to 3 classes.\n",
            "Found 566 images belonging to 3 classes.\n",
            "Epoch 1/25\n",
            "71/71 - 468s - loss: 9.2504 - accuracy: 0.7830 - 468s/epoch - 7s/step\n",
            "Epoch 2/25\n",
            "71/71 - 23s - loss: 0.7110 - accuracy: 0.8696 - 23s/epoch - 318ms/step\n",
            "Epoch 3/25\n",
            "71/71 - 22s - loss: 0.5535 - accuracy: 0.8175 - 22s/epoch - 315ms/step\n",
            "Epoch 4/25\n",
            "71/71 - 22s - loss: 0.3464 - accuracy: 0.8758 - 22s/epoch - 314ms/step\n",
            "Epoch 5/25\n",
            "71/71 - 22s - loss: 0.3485 - accuracy: 0.8714 - 22s/epoch - 315ms/step\n",
            "Epoch 6/25\n",
            "71/71 - 22s - loss: 0.3571 - accuracy: 0.8520 - 22s/epoch - 315ms/step\n",
            "Epoch 7/25\n",
            "71/71 - 23s - loss: 0.6328 - accuracy: 0.8458 - 23s/epoch - 318ms/step\n",
            "Epoch 8/25\n",
            "71/71 - 23s - loss: 0.6493 - accuracy: 0.8449 - 23s/epoch - 318ms/step\n",
            "Epoch 9/25\n",
            "71/71 - 22s - loss: 0.8242 - accuracy: 0.8162 - 22s/epoch - 317ms/step\n",
            "Epoch 10/25\n",
            "71/71 - 22s - loss: 0.5470 - accuracy: 0.8259 - 22s/epoch - 313ms/step\n",
            "Epoch 11/25\n",
            "71/71 - 22s - loss: 0.3995 - accuracy: 0.8480 - 22s/epoch - 313ms/step\n",
            "Epoch 12/25\n",
            "71/71 - 22s - loss: 0.4547 - accuracy: 0.7883 - 22s/epoch - 313ms/step\n",
            "Epoch 13/25\n",
            "71/71 - 22s - loss: 0.4146 - accuracy: 0.8060 - 22s/epoch - 314ms/step\n",
            "Epoch 14/25\n",
            "71/71 - 22s - loss: 0.6825 - accuracy: 0.7207 - 22s/epoch - 312ms/step\n",
            "Epoch 15/25\n",
            "71/71 - 22s - loss: 0.8021 - accuracy: 0.7601 - 22s/epoch - 312ms/step\n",
            "Epoch 16/25\n",
            "71/71 - 22s - loss: 0.5423 - accuracy: 0.7185 - 22s/epoch - 313ms/step\n",
            "Epoch 17/25\n",
            "71/71 - 22s - loss: 0.4290 - accuracy: 0.7795 - 22s/epoch - 313ms/step\n",
            "Epoch 18/25\n",
            "71/71 - 22s - loss: 0.4298 - accuracy: 0.8643 - 22s/epoch - 314ms/step\n",
            "Epoch 19/25\n",
            "71/71 - 22s - loss: 0.3601 - accuracy: 0.8299 - 22s/epoch - 313ms/step\n",
            "Epoch 20/25\n",
            "71/71 - 22s - loss: 0.4135 - accuracy: 0.8042 - 22s/epoch - 312ms/step\n",
            "Epoch 21/25\n",
            "71/71 - 22s - loss: 0.3745 - accuracy: 0.8290 - 22s/epoch - 311ms/step\n",
            "Epoch 22/25\n",
            "71/71 - 22s - loss: 0.3347 - accuracy: 0.8449 - 22s/epoch - 312ms/step\n",
            "Epoch 23/25\n",
            "71/71 - 22s - loss: 0.3257 - accuracy: 0.8577 - 22s/epoch - 313ms/step\n",
            "Epoch 24/25\n",
            "71/71 - 22s - loss: 0.3313 - accuracy: 0.8590 - 22s/epoch - 311ms/step\n",
            "Epoch 25/25\n",
            "71/71 - 22s - loss: 0.4115 - accuracy: 0.8427 - 22s/epoch - 314ms/step\n"
          ]
        },
        {
          "output_type": "display_data",
          "data": {
            "text/plain": [
              "<Figure size 432x288 with 1 Axes>"
            ],
            "image/png": "[encoded data removed]"
          },
          "metadata": {
            "needs_background": "light"
          }
        },
        {
          "output_type": "display_data",
          "data": {
            "text/plain": [
              "<Figure size 432x288 with 1 Axes>"
            ],
            "image/png": "[encoded data removed]"
          },
          "metadata": {
            "needs_background": "light"
          }
        },
        {
          "output_type": "stream",
          "name": "stdout",
          "text": [
            "***Performance Data***\n",
            "Accuracy  : 0.5318021201413428\n",
            "Precision : 0.5318021201413428\n",
            "f1Score : 0.5318021201413428\n",
            "Recall : 0.5318021201413428\n",
            "[[158   0  31]\n",
            " [ 58   1 130]\n",
            " [ 44   2 142]]\n",
            "***----------------------------***\n",
            "18/18 [==============================] - 6s 319ms/step - loss: 87.1151 - accuracy: 0.5318\n",
            "Overall Accuracy:  0.5318021201413428\n",
            "Overall Precision:  0.5318021201413428\n",
            "Overall f1Score:  0.5318021201413428\n",
            "Overall Recall:  0.5318021201413428\n",
            "***------------------End of Line------------------***\n",
            "trn_indx: 2263 test_indx: 566\n",
            "No file moved. Source empty!\n",
            "No file moved. Source empty!\n",
            "No file moved. Source empty!\n",
            "Results for fold 2\n",
            "2263\n",
            "566\n",
            "Found 2263 images belonging to 3 classes.\n",
            "Found 566 images belonging to 3 classes.\n",
            "Epoch 1/25\n",
            "71/71 - 22s - loss: 0.9879 - accuracy: 0.7013 - 22s/epoch - 311ms/step\n",
            "Epoch 2/25\n",
            "71/71 - 22s - loss: 0.6802 - accuracy: 0.6173 - 22s/epoch - 310ms/step\n",
            "Epoch 3/25\n",
            "71/71 - 22s - loss: 0.7322 - accuracy: 0.6328 - 22s/epoch - 312ms/step\n",
            "Epoch 4/25\n",
            "71/71 - 22s - loss: 0.6217 - accuracy: 0.6633 - 22s/epoch - 315ms/step\n",
            "Epoch 5/25\n",
            "71/71 - 22s - loss: 0.8001 - accuracy: 0.6549 - 22s/epoch - 312ms/step\n",
            "Epoch 6/25\n",
            "71/71 - 22s - loss: 0.8031 - accuracy: 0.6257 - 22s/epoch - 309ms/step\n",
            "Epoch 7/25\n",
            "71/71 - 22s - loss: 0.6633 - accuracy: 0.6186 - 22s/epoch - 309ms/step\n",
            "Epoch 8/25\n",
            "71/71 - 22s - loss: 0.9367 - accuracy: 0.6659 - 22s/epoch - 310ms/step\n",
            "Epoch 9/25\n",
            "71/71 - 22s - loss: 0.6219 - accuracy: 0.6686 - 22s/epoch - 309ms/step\n",
            "Epoch 10/25\n",
            "71/71 - 22s - loss: 0.6762 - accuracy: 0.6602 - 22s/epoch - 310ms/step\n",
            "Epoch 11/25\n",
            "71/71 - 22s - loss: 0.6047 - accuracy: 0.6637 - 22s/epoch - 314ms/step\n",
            "Epoch 12/25\n",
            "71/71 - 22s - loss: 0.5739 - accuracy: 0.6748 - 22s/epoch - 315ms/step\n",
            "Epoch 13/25\n",
            "71/71 - 23s - loss: 0.6407 - accuracy: 0.6390 - 23s/epoch - 319ms/step\n",
            "Epoch 14/25\n",
            "71/71 - 23s - loss: 0.6839 - accuracy: 0.6659 - 23s/epoch - 323ms/step\n",
            "Epoch 15/25\n",
            "71/71 - 23s - loss: 0.9807 - accuracy: 0.5639 - 23s/epoch - 322ms/step\n",
            "Epoch 16/25\n",
            "71/71 - 23s - loss: 0.9772 - accuracy: 0.6041 - 23s/epoch - 322ms/step\n",
            "Epoch 17/25\n",
            "71/71 - 23s - loss: 0.8829 - accuracy: 0.5970 - 23s/epoch - 323ms/step\n",
            "Epoch 18/25\n",
            "71/71 - 23s - loss: 0.7096 - accuracy: 0.6293 - 23s/epoch - 327ms/step\n",
            "Epoch 19/25\n",
            "71/71 - 23s - loss: 0.7219 - accuracy: 0.6111 - 23s/epoch - 322ms/step\n",
            "Epoch 20/25\n",
            "71/71 - 23s - loss: 0.6994 - accuracy: 0.6222 - 23s/epoch - 323ms/step\n",
            "Epoch 21/25\n",
            "71/71 - 23s - loss: 0.6901 - accuracy: 0.6390 - 23s/epoch - 322ms/step\n",
            "Epoch 22/25\n",
            "71/71 - 23s - loss: 0.8156 - accuracy: 0.5669 - 23s/epoch - 322ms/step\n",
            "Epoch 23/25\n",
            "71/71 - 23s - loss: 0.8000 - accuracy: 0.5767 - 23s/epoch - 322ms/step\n",
            "Epoch 24/25\n",
            "71/71 - 23s - loss: 0.7236 - accuracy: 0.6200 - 23s/epoch - 323ms/step\n",
            "Epoch 25/25\n",
            "71/71 - 23s - loss: 0.7114 - accuracy: 0.6204 - 23s/epoch - 323ms/step\n"
          ]
        },
        {
          "output_type": "display_data",
          "data": {
            "text/plain": [
              "<Figure size 432x288 with 1 Axes>"
            ],
            "image/png": "[encoded data removed]"
          },
          "metadata": {
            "needs_background": "light"
          }
        },
        {
          "output_type": "display_data",
          "data": {
            "text/plain": [
              "<Figure size 432x288 with 1 Axes>"
            ],
            "image/png": "[encoded data removed]"
          },
          "metadata": {
            "needs_background": "light"
          }
        },
        {
          "output_type": "stream",
          "name": "stdout",
          "text": [
            "***Performance Data***\n",
            "Accuracy  : 0.6113074204946997\n",
            "Precision : 0.6113074204946997\n",
            "f1Score : 0.6113074204946997\n",
            "Recall : 0.6113074204946997\n",
            "[[150   5  34]\n",
            " [  3   7 178]\n",
            " [  0   0 189]]\n",
            "***----------------------------***\n",
            "18/18 [==============================] - 6s 338ms/step - loss: 0.7486 - accuracy: 0.6113\n",
            "Overall Accuracy:  0.5715547703180213\n",
            "Overall Precision:  0.5715547703180213\n",
            "Overall f1Score:  0.5715547703180213\n",
            "Overall Recall:  0.5715547703180213\n",
            "***------------------End of Line------------------***\n",
            "trn_indx: 2263 test_indx: 566\n",
            "No file moved. Source empty!\n",
            "No file moved. Source empty!\n",
            "No file moved. Source empty!\n",
            "Results for fold 3\n",
            "2263\n",
            "566\n",
            "Found 2263 images belonging to 3 classes.\n",
            "Found 566 images belonging to 3 classes.\n",
            "Epoch 1/25\n",
            "71/71 - 23s - loss: 0.7851 - accuracy: 0.6182 - 23s/epoch - 328ms/step\n",
            "Epoch 2/25\n",
            "71/71 - 23s - loss: 0.7061 - accuracy: 0.6160 - 23s/epoch - 328ms/step\n",
            "Epoch 3/25\n",
            "71/71 - 23s - loss: 0.6923 - accuracy: 0.6266 - 23s/epoch - 326ms/step\n",
            "Epoch 4/25\n",
            "71/71 - 23s - loss: 2.0635 - accuracy: 0.6593 - 23s/epoch - 326ms/step\n",
            "Epoch 5/25\n",
            "71/71 - 23s - loss: 0.6997 - accuracy: 0.6270 - 23s/epoch - 327ms/step\n",
            "Epoch 6/25\n",
            "71/71 - 23s - loss: 0.6445 - accuracy: 0.6103 - 23s/epoch - 327ms/step\n",
            "Epoch 7/25\n",
            "71/71 - 23s - loss: 0.6178 - accuracy: 0.6359 - 23s/epoch - 324ms/step\n",
            "Epoch 8/25\n",
            "71/71 - 23s - loss: 0.6222 - accuracy: 0.6385 - 23s/epoch - 326ms/step\n",
            "Epoch 9/25\n",
            "71/71 - 23s - loss: 0.5625 - accuracy: 0.6385 - 23s/epoch - 323ms/step\n",
            "Epoch 10/25\n",
            "71/71 - 23s - loss: 0.7173 - accuracy: 0.6270 - 23s/epoch - 324ms/step\n",
            "Epoch 11/25\n",
            "71/71 - 23s - loss: 0.6635 - accuracy: 0.6416 - 23s/epoch - 325ms/step\n",
            "Epoch 12/25\n",
            "71/71 - 23s - loss: 0.5519 - accuracy: 0.6606 - 23s/epoch - 323ms/step\n",
            "Epoch 13/25\n",
            "71/71 - 23s - loss: 0.5942 - accuracy: 0.6615 - 23s/epoch - 326ms/step\n",
            "Epoch 14/25\n",
            "71/71 - 23s - loss: 0.5411 - accuracy: 0.6646 - 23s/epoch - 325ms/step\n",
            "Epoch 15/25\n",
            "71/71 - 23s - loss: 0.7191 - accuracy: 0.7194 - 23s/epoch - 324ms/step\n",
            "Epoch 16/25\n",
            "71/71 - 23s - loss: 0.5877 - accuracy: 0.6478 - 23s/epoch - 329ms/step\n",
            "Epoch 17/25\n",
            "71/71 - 23s - loss: 0.6230 - accuracy: 0.6589 - 23s/epoch - 324ms/step\n",
            "Epoch 18/25\n",
            "71/71 - 23s - loss: 0.5677 - accuracy: 0.6522 - 23s/epoch - 326ms/step\n",
            "Epoch 19/25\n",
            "71/71 - 23s - loss: 0.5630 - accuracy: 0.6783 - 23s/epoch - 329ms/step\n",
            "Epoch 20/25\n",
            "71/71 - 23s - loss: 0.6606 - accuracy: 0.6270 - 23s/epoch - 325ms/step\n",
            "Epoch 21/25\n",
            "71/71 - 23s - loss: 0.6069 - accuracy: 0.6465 - 23s/epoch - 325ms/step\n",
            "Epoch 22/25\n",
            "71/71 - 23s - loss: 0.7147 - accuracy: 0.6041 - 23s/epoch - 324ms/step\n",
            "Epoch 23/25\n",
            "71/71 - 23s - loss: 0.7475 - accuracy: 0.5943 - 23s/epoch - 323ms/step\n",
            "Epoch 24/25\n",
            "71/71 - 23s - loss: 0.6097 - accuracy: 0.6222 - 23s/epoch - 327ms/step\n",
            "Epoch 25/25\n",
            "71/71 - 23s - loss: 0.6166 - accuracy: 0.6341 - 23s/epoch - 327ms/step\n"
          ]
        },
        {
          "output_type": "display_data",
          "data": {
            "text/plain": [
              "<Figure size 432x288 with 1 Axes>"
            ],
            "image/png": "[encoded data removed]"
          },
          "metadata": {
            "needs_background": "light"
          }
        },
        {
          "output_type": "display_data",
          "data": {
            "text/plain": [
              "<Figure size 432x288 with 1 Axes>"
            ],
            "image/png": "[encoded data removed]"
          },
          "metadata": {
            "needs_background": "light"
          }
        },
        {
          "output_type": "stream",
          "name": "stdout",
          "text": [
            "***Performance Data***\n",
            "Accuracy  : 0.6607773851590106\n",
            "Precision : 0.6607773851590106\n",
            "f1Score : 0.6607773851590106\n",
            "Recall : 0.6607773851590106\n",
            "[[186   1   2]\n",
            " [  2 184   2]\n",
            " [  5 180   4]]\n",
            "***----------------------------***\n",
            "18/18 [==============================] - 6s 327ms/step - loss: 0.6493 - accuracy: 0.6608\n",
            "Overall Accuracy:  0.6012956419316844\n",
            "Overall Precision:  0.6012956419316844\n",
            "Overall f1Score:  0.6012956419316844\n",
            "Overall Recall:  0.6012956419316844\n",
            "***------------------End of Line------------------***\n",
            "trn_indx: 2263 test_indx: 566\n",
            "No file moved. Source empty!\n",
            "No file moved. Source empty!\n",
            "No file moved. Source empty!\n",
            "Results for fold 4\n",
            "2263\n",
            "566\n",
            "Found 2263 images belonging to 3 classes.\n",
            "Found 566 images belonging to 3 classes.\n",
            "Epoch 1/25\n",
            "71/71 - 23s - loss: 0.6256 - accuracy: 0.6275 - 23s/epoch - 330ms/step\n",
            "Epoch 2/25\n",
            "71/71 - 23s - loss: 0.6327 - accuracy: 0.6072 - 23s/epoch - 326ms/step\n",
            "Epoch 3/25\n",
            "71/71 - 23s - loss: 0.6850 - accuracy: 0.6076 - 23s/epoch - 328ms/step\n",
            "Epoch 4/25\n",
            "71/71 - 23s - loss: 0.6807 - accuracy: 0.6032 - 23s/epoch - 325ms/step\n",
            "Epoch 5/25\n",
            "71/71 - 23s - loss: 0.8617 - accuracy: 0.5541 - 23s/epoch - 328ms/step\n",
            "Epoch 6/25\n",
            "71/71 - 23s - loss: 0.8925 - accuracy: 0.6019 - 23s/epoch - 328ms/step\n",
            "Epoch 7/25\n",
            "71/71 - 23s - loss: 0.6780 - accuracy: 0.6209 - 23s/epoch - 326ms/step\n",
            "Epoch 8/25\n",
            "71/71 - 23s - loss: 0.6978 - accuracy: 0.6076 - 23s/epoch - 324ms/step\n",
            "Epoch 9/25\n",
            "71/71 - 23s - loss: 0.6538 - accuracy: 0.6116 - 23s/epoch - 325ms/step\n",
            "Epoch 10/25\n",
            "71/71 - 23s - loss: 0.6235 - accuracy: 0.6217 - 23s/epoch - 325ms/step\n",
            "Epoch 11/25\n",
            "71/71 - 23s - loss: 0.6310 - accuracy: 0.6372 - 23s/epoch - 325ms/step\n",
            "Epoch 12/25\n",
            "71/71 - 23s - loss: 0.6720 - accuracy: 0.6262 - 23s/epoch - 326ms/step\n",
            "Epoch 13/25\n",
            "71/71 - 23s - loss: 0.5874 - accuracy: 0.6421 - 23s/epoch - 327ms/step\n",
            "Epoch 14/25\n",
            "71/71 - 23s - loss: 0.5939 - accuracy: 0.6469 - 23s/epoch - 325ms/step\n",
            "Epoch 15/25\n",
            "71/71 - 23s - loss: 0.5417 - accuracy: 0.6425 - 23s/epoch - 321ms/step\n",
            "Epoch 16/25\n",
            "71/71 - 22s - loss: 0.6832 - accuracy: 0.6593 - 22s/epoch - 317ms/step\n",
            "Epoch 17/25\n",
            "71/71 - 22s - loss: 0.6091 - accuracy: 0.6240 - 22s/epoch - 314ms/step\n",
            "Epoch 18/25\n",
            "71/71 - 22s - loss: 0.5946 - accuracy: 0.6248 - 22s/epoch - 315ms/step\n",
            "Epoch 19/25\n",
            "71/71 - 23s - loss: 0.5565 - accuracy: 0.6430 - 23s/epoch - 318ms/step\n",
            "Epoch 20/25\n",
            "71/71 - 23s - loss: 0.5349 - accuracy: 0.6703 - 23s/epoch - 320ms/step\n",
            "Epoch 21/25\n",
            "71/71 - 22s - loss: 0.7374 - accuracy: 0.6522 - 22s/epoch - 317ms/step\n",
            "Epoch 22/25\n",
            "71/71 - 23s - loss: 0.7597 - accuracy: 0.6346 - 23s/epoch - 317ms/step\n",
            "Epoch 23/25\n",
            "71/71 - 22s - loss: 1.0297 - accuracy: 0.5541 - 22s/epoch - 314ms/step\n",
            "Epoch 24/25\n",
            "71/71 - 22s - loss: 1.2872 - accuracy: 0.5749 - 22s/epoch - 317ms/step\n",
            "Epoch 25/25\n",
            "71/71 - 23s - loss: 1.5088 - accuracy: 0.6898 - 23s/epoch - 317ms/step\n"
          ]
        },
        {
          "output_type": "display_data",
          "data": {
            "text/plain": [
              "<Figure size 432x288 with 1 Axes>"
            ],
            "image/png": "[encoded data removed]"
          },
          "metadata": {
            "needs_background": "light"
          }
        },
        {
          "output_type": "display_data",
          "data": {
            "text/plain": [
              "<Figure size 432x288 with 1 Axes>"
            ],
            "image/png": "[encoded data removed]"
          },
          "metadata": {
            "needs_background": "light"
          }
        },
        {
          "output_type": "stream",
          "name": "stdout",
          "text": [
            "***Performance Data***\n",
            "Accuracy  : 0.5159010600706714\n",
            "Precision : 0.5159010600706714\n",
            "f1Score : 0.5159010600706714\n",
            "Recall : 0.5159010600706714\n",
            "[[185   1   2]\n",
            " [122  67   0]\n",
            " [112  37  40]]\n",
            "***----------------------------***\n",
            "18/18 [==============================] - 6s 317ms/step - loss: 40.8041 - accuracy: 0.5159\n",
            "Overall Accuracy:  0.5799469964664311\n",
            "Overall Precision:  0.5799469964664311\n",
            "Overall f1Score:  0.5799469964664311\n",
            "Overall Recall:  0.5799469964664311\n",
            "***------------------End of Line------------------***\n",
            "trn_indx: 2264 test_indx: 565\n",
            "No file moved. Source empty!\n",
            "No file moved. Source empty!\n",
            "No file moved. Source empty!\n",
            "Results for fold 5\n",
            "2264\n",
            "565\n",
            "Found 2264 images belonging to 3 classes.\n",
            "Found 565 images belonging to 3 classes.\n",
            "Epoch 1/25\n",
            "71/71 - 23s - loss: 3.5514 - accuracy: 0.4620 - 23s/epoch - 317ms/step\n",
            "Epoch 2/25\n",
            "71/71 - 23s - loss: 1.0872 - accuracy: 0.3269 - 23s/epoch - 319ms/step\n",
            "Epoch 3/25\n",
            "71/71 - 23s - loss: 1.0845 - accuracy: 0.3304 - 23s/epoch - 317ms/step\n",
            "Epoch 4/25\n",
            "71/71 - 23s - loss: 1.2951 - accuracy: 0.3436 - 23s/epoch - 321ms/step\n",
            "Epoch 5/25\n",
            "71/71 - 23s - loss: 1.0925 - accuracy: 0.3370 - 23s/epoch - 321ms/step\n",
            "Epoch 6/25\n",
            "71/71 - 23s - loss: 1.0921 - accuracy: 0.3202 - 23s/epoch - 325ms/step\n",
            "Epoch 7/25\n",
            "71/71 - 22s - loss: 1.0920 - accuracy: 0.3269 - 22s/epoch - 316ms/step\n",
            "Epoch 8/25\n",
            "71/71 - 23s - loss: 1.0826 - accuracy: 0.3388 - 23s/epoch - 318ms/step\n",
            "Epoch 9/25\n",
            "71/71 - 23s - loss: 1.0808 - accuracy: 0.3392 - 23s/epoch - 317ms/step\n",
            "Epoch 10/25\n",
            "71/71 - 22s - loss: 1.0795 - accuracy: 0.3591 - 22s/epoch - 316ms/step\n",
            "Epoch 11/25\n",
            "71/71 - 22s - loss: 1.0775 - accuracy: 0.3419 - 22s/epoch - 315ms/step\n",
            "Epoch 12/25\n",
            "71/71 - 22s - loss: 1.0832 - accuracy: 0.3476 - 22s/epoch - 316ms/step\n",
            "Epoch 13/25\n",
            "71/71 - 22s - loss: 1.0985 - accuracy: 0.3233 - 22s/epoch - 315ms/step\n",
            "Epoch 14/25\n",
            "71/71 - 22s - loss: 1.0973 - accuracy: 0.3269 - 22s/epoch - 314ms/step\n",
            "Epoch 15/25\n",
            "71/71 - 22s - loss: 1.0970 - accuracy: 0.3189 - 22s/epoch - 316ms/step\n",
            "Epoch 16/25\n",
            "71/71 - 22s - loss: 1.0982 - accuracy: 0.3233 - 22s/epoch - 317ms/step\n",
            "Epoch 17/25\n",
            "71/71 - 22s - loss: 1.0980 - accuracy: 0.3238 - 22s/epoch - 317ms/step\n",
            "Epoch 18/25\n",
            "71/71 - 22s - loss: 1.0979 - accuracy: 0.3216 - 22s/epoch - 313ms/step\n",
            "Epoch 19/25\n",
            "71/71 - 22s - loss: 1.0971 - accuracy: 0.3339 - 22s/epoch - 316ms/step\n",
            "Epoch 20/25\n",
            "71/71 - 22s - loss: 1.0995 - accuracy: 0.3092 - 22s/epoch - 315ms/step\n",
            "Epoch 21/25\n",
            "71/71 - 22s - loss: 1.0912 - accuracy: 0.3101 - 22s/epoch - 315ms/step\n",
            "Epoch 22/25\n",
            "71/71 - 22s - loss: 1.0881 - accuracy: 0.3251 - 22s/epoch - 315ms/step\n",
            "Epoch 23/25\n",
            "71/71 - 22s - loss: 1.0842 - accuracy: 0.3388 - 22s/epoch - 317ms/step\n",
            "Epoch 24/25\n",
            "71/71 - 22s - loss: 1.0851 - accuracy: 0.3379 - 22s/epoch - 314ms/step\n",
            "Epoch 25/25\n",
            "71/71 - 22s - loss: 1.0836 - accuracy: 0.3335 - 22s/epoch - 315ms/step\n"
          ]
        },
        {
          "output_type": "display_data",
          "data": {
            "text/plain": [
              "<Figure size 432x288 with 1 Axes>"
            ],
            "image/png": "[encoded data removed]"
          },
          "metadata": {
            "needs_background": "light"
          }
        },
        {
          "output_type": "display_data",
          "data": {
            "text/plain": [
              "<Figure size 432x288 with 1 Axes>"
            ],
            "image/png": "[encoded data removed]"
          },
          "metadata": {
            "needs_background": "light"
          }
        },
        {
          "output_type": "stream",
          "name": "stdout",
          "text": [
            "***Performance Data***\n",
            "Accuracy  : 0.3486725663716814\n",
            "Precision : 0.3486725663716814\n",
            "f1Score : 0.3486725663716814\n",
            "Recall : 0.3486725663716814\n",
            "[[  0   0 188]\n",
            " [  0   9 180]\n",
            " [  0   0 188]]\n",
            "***----------------------------***\n",
            "18/18 [==============================] - 6s 324ms/step - loss: 1.0812 - accuracy: 0.3487\n",
            "Overall Accuracy:  0.5336921104474811\n",
            "Overall Precision:  0.5336921104474811\n",
            "Overall f1Score:  0.5336921104474811\n",
            "Overall Recall:  0.5336921104474811\n",
            "***------------------End of Line------------------***\n"
          ]
        }
      ],
      "source": [
        "for train_index, val_index in skf.split(X, Y):\n",
        "    print(\"trn_indx: %s test_indx: %s\" % (len(train_index), len(val_index)))\n",
        "    #First cut all images from validation to train (if any exists)\n",
        "    transferAllClassBetweenFolders('valid', 'train', 1.0)\n",
        "    #no valid\n",
        "    transferAllClassBetweenFolders('test', 'train', 1.0)\n",
        "    foldNum+=1\n",
        "    print(\"Results for fold\",foldNum)\n",
        "    X_train, X_val = X[train_index], X[val_index]\n",
        "    Y_train, Y_val = Y[train_index], Y[val_index]\n",
        "    print(len(X_train))\n",
        "    print(len(X_val))\n",
        "    # Move validation images of this fold from train folder to the validation folder\n",
        "    for eachIndex in range(len(X_val)):\n",
        "        classLabel=''\n",
        "        for i in range(len(classLabels)):\n",
        "          if(Y_val[eachIndex]==i):\n",
        "              classLabel=classLabels[i]\n",
        "        #Then, copy the validation images to the validation folder\n",
        "        shutil.move(sourcePath+'/train/'+classLabel+'/'+X_val[eachIndex], \n",
        "                    #sourcePath+'/valid/'+classLabel+'/'+X_val[eachIndex])\n",
        "        #without valid\n",
        "                    sourcePath+'/test/'+classLabel+'/'+X_val[eachIndex])\n",
        "        \n",
        "    train_batches = ImageDataGenerator().flow_from_directory(train_path, target_size=(256,256), classes=['covid', 'normal', 'pneumonia'], class_mode = 'sparse', batch_size = 32, shuffle=True)\n",
        "    #without valid\n",
        "    #valid_batches = ImageDataGenerator().flow_from_directory(valid_path, target_size=(256,256), classes=['covid', 'normal', 'pneumonia'], class_mode = 'sparse', batch_size = 32, shuffle=True)\n",
        "    test_batches = ImageDataGenerator().flow_from_directory(test_path, target_size=(256,256), classes=['covid', 'normal', 'pneumonia'], class_mode = 'sparse', batch_size = 32, shuffle=False)\n",
        "\n",
        "    history = model.fit(train_batches, \n",
        "                    #steps_per_epoch=sp_epoch, \n",
        "                    #without valid\n",
        "                    #validation_data=valid_batches, \n",
        "                    #validation_steps=10, \n",
        "                    epochs=25, \n",
        "                    verbose=2)\n",
        "    \n",
        "    \n",
        "    \n",
        "    plt.plot(history.history['accuracy'])\n",
        "    #plt.plot(history.history['val_accuracy'])\n",
        "    plt.title('Final Nadam Only - Model Accuracy')\n",
        "    plt.ylim(0,1.1)\n",
        "    plt.ylabel('accuracy')\n",
        "    plt.xlabel('epoch')\n",
        "    #plt.legend(['train', 'valid'], loc='upper left')\n",
        "    #without valid\n",
        "    plt.legend(['train'], loc='upper left')\n",
        "    plt.show()\n",
        "    # summarize history for loss\n",
        "    plt.plot(history.history['loss'])\n",
        "    #plt.plot(history.history['val_loss'])\n",
        "    plt.title('Final Nadam Only - Model Loss')\n",
        "    plt.ylim(0,1.1)\n",
        "    plt.ylabel('loss')\n",
        "    plt.xlabel('epoch')\n",
        "    #plt.legend(['train', 'valid'], loc='upper left')\n",
        "    #without valid\n",
        "    plt.legend(['train'], loc='upper left')\n",
        "    plt.show()\n",
        "    test_batches.reset()\n",
        "    Y_pred = model.predict(test_batches)\n",
        "    classes = test_batches.classes[test_batches.index_array]\n",
        "    y_pred = np.argmax(Y_pred, axis=-1)\n",
        "    #print(\"***Performance on Test Data***\")  \n",
        "    #print(sum(y_pred==classes)/10000)\n",
        "    confusion_matrix(test_batches.classes[test_batches.index_array],y_pred)\n",
        "    #predictions = model.predict(test_batches, verbose=1)\n",
        "    #yPredictions = np.argmax(predictions, axis=1)\n",
        "    #print(yPredictions)\n",
        "    #true_classes = test_batches.classes\n",
        "    # evaluate validation performance\n",
        "    print(\"***Performance Data***\")    \n",
        "    #valAcc, valPrec, valFScore = my_metrics(true_classes, yPredictions)\n",
        "    valAcc, valPrec, valFScore, valRec = my_metrics(classes, y_pred)\n",
        "    overAllAcc = overAllAcc+valAcc\n",
        "    overAllPrec = overAllPrec+valPrec\n",
        "    overAllf1 = overAllf1+valFScore\n",
        "    overAllRec = overAllRec+valRec\n",
        "    \n",
        "    model.evaluate(test_batches)\n",
        "    print(\"Overall Accuracy: \",  overAllAcc/foldNum)\n",
        "    print(\"Overall Precision: \",  overAllPrec/foldNum)\n",
        "    print(\"Overall f1Score: \",  overAllf1/foldNum)\n",
        "    print(\"Overall Recall: \",  overAllRec/foldNum)\n",
        "\n",
        "    print(\"***------------------End of Line------------------***\")"
      ]
    }
  ],
  "metadata": {
    "accelerator": "GPU",
    "colab": {
      "collapsed_sections": [],
      "machine_shape": "hm",
      "name": "2022_Nadam_wo Cbam_B.ipynb",
      "provenance": [],
      "include_colab_link": true
    },
    "kernelspec": {
      "display_name": "Python 3",
      "name": "python3"
    },
    "language_info": {
      "name": "python"
    }
  },
  "nbformat": 4,
  "nbformat_minor": 0
}