{
  "cells": [
    {
      "cell_type": "markdown",
      "metadata": {
        "id": "view-in-github",
        "colab_type": "text"
      },
      "source": [
        "<a href=\"https://colab.research.google.com/github/NicoAN42/SKRPSI/blob/main/2022_Nadam_All_Lyr_Cbam_tt_B.ipynb\" target=\"_parent\"><img src=\"https://colab.research.google.com/assets/colab-badge.svg\" alt=\"Open In Colab\"/></a>"
      ]
    },
    {
      "cell_type": "code",
      "execution_count": 1,
      "metadata": {
        "colab": {
          "base_uri": "https://localhost:8080/"
        },
        "id": "bd3mi5ZLdBSv",
        "outputId": "57a693e2-5e86-40f5-c2d3-e10437271403"
      },
      "outputs": [
        {
          "output_type": "stream",
          "name": "stdout",
          "text": [
            "Mounted at /content/drive\n"
          ]
        }
      ],
      "source": [
        "#mount dataset\n",
        "from google.colab import drive\n",
        "drive.mount('/content/drive')\n"
      ]
    },
    {
      "cell_type": "code",
      "execution_count": 2,
      "metadata": {
        "id": "mNr5eLs1WiKT"
      },
      "outputs": [],
      "source": [
        "from tensorflow.keras.layers import Conv2D, Input, concatenate, Activation, InputLayer, Dense, Reshape, Flatten, Add, multiply, Permute, Lambda, Concatenate\n",
        "from tensorflow.keras.layers import LeakyReLU,ReLU, MaxPooling2D, BatchNormalization,GlobalMaxPooling2D,GlobalAveragePooling2D\n",
        "from tensorflow.keras.models import Model, Sequential\n",
        "from tensorflow.keras import layers\n",
        "from tensorflow.keras.activations import softmax,sigmoid\n",
        "from tensorflow.keras.preprocessing.image import ImageDataGenerator\n",
        "from tensorflow.keras.optimizers import Adam, Nadam\n",
        "from tensorflow.keras.callbacks import EarlyStopping\n",
        "from tensorflow.keras.layers import Dropout,SpatialDropout2D,GaussianDropout\n",
        "from tensorflow.keras.optimizers.schedules import ExponentialDecay\n",
        "from tensorflow.keras.regularizers import l1,l2\n",
        "from tensorflow.keras import backend as K\n",
        "from __future__ import absolute_import\n",
        "from __future__ import division\n",
        "from __future__ import print_function\n",
        "import tensorflow\n",
        "import tensorflow as tf\n",
        "import math\n",
        "import matplotlib.pyplot as plt\n",
        "import numpy as np\n",
        "from sklearn.metrics import accuracy_score, f1_score, precision_score, confusion_matrix, recall_score\n",
        "from sklearn.model_selection import StratifiedKFold\n",
        "import os\n",
        "import random\n",
        "import shutil"
      ]
    },
    {
      "cell_type": "code",
      "execution_count": 3,
      "metadata": {
        "id": "M-dUDyotW99U"
      },
      "outputs": [],
      "source": [
        "#from tensorflow.keras.optimizers import SGD"
      ]
    },
    {
      "cell_type": "code",
      "execution_count": 4,
      "metadata": {
        "id": "1SKzQPoLeGUS"
      },
      "outputs": [],
      "source": [
        "CLASS = 3\n",
        "#sourcepath isi semua data train, folder valid kosongin datanya sisai folder classnya\n",
        "sourcePath = '/content/drive/MyDrive/Colab Notebooks/Dataset 5'\n",
        "train_path = '/content/drive/MyDrive/Colab Notebooks/Dataset 5/train'\n",
        "valid_path = '/content/drive/MyDrive/Colab Notebooks/Dataset 5/valid'\n",
        "test_path = '/content/drive/MyDrive/Colab Notebooks/Dataset 5/test'\n",
        "attention_module = 'cbam_block'\n",
        "#nico"
      ]
    },
    {
      "cell_type": "code",
      "execution_count": 5,
      "metadata": {
        "id": "qyuRvIz9mFu_"
      },
      "outputs": [],
      "source": [
        "classLabels =['covid','normal', 'pneumonia']"
      ]
    },
    {
      "cell_type": "code",
      "execution_count": 6,
      "metadata": {
        "id": "IiymK5QRgQVC"
      },
      "outputs": [],
      "source": [
        "def attach_attention_module(net, attention_module):\n",
        "  #if attention_module == 'se_block': # SE_block\n",
        "    #net = se_block(net)\n",
        "  if attention_module == 'cbam_block': # CBAM_block\n",
        "    net = cbam_block(net)\n",
        "  else:\n",
        "    raise Exception(\"'{}' is not supported attention module!\".format(attention_module))\n",
        "\n",
        "  return net"
      ]
    },
    {
      "cell_type": "code",
      "execution_count": 7,
      "metadata": {
        "id": "4E-9i3yHgQX8"
      },
      "outputs": [],
      "source": [
        "def cbam_block(cbam_feature, ratio=8):\n",
        "\t\"\"\"Contains the implementation of Convolutional Block Attention Module(CBAM) block.\n",
        "\tAs described in https://arxiv.org/abs/1807.06521.\n",
        "\t\"\"\"\n",
        "\t\n",
        "\tcbam_feature = channel_attention(cbam_feature, ratio)\n",
        "\tcbam_feature = spatial_attention(cbam_feature)\n",
        "\treturn cbam_feature\n"
      ]
    },
    {
      "cell_type": "code",
      "execution_count": 8,
      "metadata": {
        "id": "doOnf8U9YBM-"
      },
      "outputs": [],
      "source": [
        "def channel_attention(input_feature, ratio=8):\n",
        "\t\n",
        "\tchannel_axis = 1 if K.image_data_format() == \"channels_first\" else -1\n",
        "\tchannel = input_feature.shape[channel_axis]\n",
        "\t\n",
        "\tshared_layer_one = Dense(channel//ratio,\n",
        "\t\t\t\t\t\t\t activation='relu',\n",
        "\t\t\t\t\t\t\t kernel_initializer='he_normal',\n",
        "\t\t\t\t\t\t\t use_bias=True,\n",
        "\t\t\t\t\t\t\t bias_initializer='zeros')\n",
        "\tshared_layer_two = Dense(channel,\n",
        "\t\t\t\t\t\t\t kernel_initializer='he_normal',\n",
        "\t\t\t\t\t\t\t use_bias=True,\n",
        "\t\t\t\t\t\t\t bias_initializer='zeros')\n",
        "\t\n",
        "\tavg_pool = GlobalAveragePooling2D()(input_feature)    \n",
        "\tavg_pool = Reshape((1,1,channel))(avg_pool)\n",
        "\tassert avg_pool.shape[1:] == (1,1,channel)\n",
        "\tavg_pool = shared_layer_one(avg_pool)\n",
        "\tassert avg_pool.shape[1:] == (1,1,channel//ratio)\n",
        "\tavg_pool = shared_layer_two(avg_pool)\n",
        "\tassert avg_pool.shape[1:] == (1,1,channel)\n",
        "\t\n",
        "\tmax_pool = GlobalMaxPooling2D()(input_feature)\n",
        "\tmax_pool = Reshape((1,1,channel))(max_pool)\n",
        "\tassert max_pool.shape[1:] == (1,1,channel)\n",
        "\tmax_pool = shared_layer_one(max_pool)\n",
        "\tassert max_pool.shape[1:] == (1,1,channel//ratio)\n",
        "\tmax_pool = shared_layer_two(max_pool)\n",
        "\tassert max_pool.shape[1:] == (1,1,channel)\n",
        "\t\n",
        "\tcbam_feature = Add()([avg_pool,max_pool])\n",
        "\tcbam_feature = Activation('sigmoid')(cbam_feature)\n",
        "\t\n",
        "\tif K.image_data_format() == \"channels_first\":\n",
        "\t\tcbam_feature = Permute((3, 1, 2))(cbam_feature)\n",
        "\t\n",
        "\treturn multiply([input_feature, cbam_feature])"
      ]
    },
    {
      "cell_type": "code",
      "execution_count": 9,
      "metadata": {
        "id": "Xl7CStcEYE_h"
      },
      "outputs": [],
      "source": [
        "def spatial_attention(input_feature):\n",
        "\tkernel_size = 7\n",
        "\t\n",
        "\tif K.image_data_format() == \"channels_first\":\n",
        "\t\tchannel = input_feature.shape[1]\n",
        "\t\tcbam_feature = Permute((2,3,1))(input_feature)\n",
        "\telse:\n",
        "\t\tchannel = input_feature.shape[-1]\n",
        "\t\tcbam_feature = input_feature\n",
        "\t\n",
        "\tavg_pool = Lambda(lambda x: K.mean(x, axis=3, keepdims=True))(cbam_feature)\n",
        "\tassert avg_pool.shape[-1] == 1\n",
        "\tmax_pool = Lambda(lambda x: K.max(x, axis=3, keepdims=True))(cbam_feature)\n",
        "\tassert max_pool.shape[-1] == 1\n",
        "\tconcat = Concatenate(axis=3)([avg_pool, max_pool])\n",
        "\tassert concat.shape[-1] == 2\n",
        "\tcbam_feature = Conv2D(filters = 1,\n",
        "\t\t\t\t\tkernel_size=kernel_size,\n",
        "\t\t\t\t\tstrides=1,\n",
        "\t\t\t\t\tpadding='same',\n",
        "\t\t\t\t\tactivation='sigmoid',\n",
        "\t\t\t\t\tkernel_initializer='he_normal',\n",
        "\t\t\t\t\tuse_bias=False)(concat)\t\n",
        "\tassert cbam_feature.shape[-1] == 1\n",
        "\t\n",
        "\tif K.image_data_format() == \"channels_first\":\n",
        "\t\tcbam_feature = Permute((3, 1, 2))(cbam_feature)\n",
        "\t\t\n",
        "\treturn multiply([input_feature, cbam_feature])"
      ]
    },
    {
      "cell_type": "code",
      "execution_count": 10,
      "metadata": {
        "id": "q2Q9CbMzY1Rn"
      },
      "outputs": [],
      "source": [
        "input = Input(shape=(256,256,3))"
      ]
    },
    {
      "cell_type": "code",
      "execution_count": 11,
      "metadata": {
        "id": "YpZNBOFOZBJL"
      },
      "outputs": [],
      "source": [
        "#Layer 1\n",
        "model = layers.Conv2D(32, (3,3), padding='same', name='conv_1', activation = 'relu')(input)\n",
        "model = layers.BatchNormalization(name='norm_1')(model)\n",
        "model = layers.MaxPooling2D(pool_size=(2, 2), strides= 2)(model)\n",
        "attention_module = 'cbam_block'\n",
        "y = attach_attention_module(model, attention_module)\n",
        "model =  tensorflow.keras.layers.add([model, y])\n"
      ]
    },
    {
      "cell_type": "code",
      "execution_count": 12,
      "metadata": {
        "id": "pBvWdrCmZCsQ"
      },
      "outputs": [],
      "source": [
        "#Layer 2\n",
        "model = layers.Conv2D(64, (3,3), padding='same', name='conv_2', activation = 'relu')(model)\n",
        "model = layers.Dropout(0.1)(model)\n",
        "model = layers.BatchNormalization(name='norm_2')(model)\n",
        "model = layers.MaxPooling2D(pool_size=(2, 2), strides = 2)(model)\n",
        "\n",
        "attention_module = 'cbam_block'\n",
        "y = attach_attention_module(model, attention_module)\n",
        "model =  tensorflow.keras.layers.add([model, y])\n"
      ]
    },
    {
      "cell_type": "code",
      "execution_count": 13,
      "metadata": {
        "id": "RBUvxL-9ZEO3"
      },
      "outputs": [],
      "source": [
        "# Layer 3\n",
        "model = layers.Conv2D(64, (3,3), padding='same', name='conv_3', activation = 'relu')(model)\n",
        "model = layers.BatchNormalization(name='norm_3')(model)\n",
        "model = layers.MaxPooling2D(pool_size=(2, 2), strides = 2)(model)\n",
        "\n",
        "attention_module = 'cbam_block'\n",
        "y = attach_attention_module(model, attention_module)\n",
        "model =  tensorflow.keras.layers.add([model, y])\n",
        "\n"
      ]
    },
    {
      "cell_type": "code",
      "execution_count": 14,
      "metadata": {
        "id": "QKyPzn20ZI1Y"
      },
      "outputs": [],
      "source": [
        "# Layer 4\n",
        "model = layers.Conv2D(128, (3,3), padding='same', name='conv_4', activation = 'relu')(model)\n",
        "model = layers.Dropout(0.2)(model)\n",
        "model = layers.BatchNormalization(name='norm_4')(model)\n",
        "model = layers.MaxPooling2D(pool_size=(2, 2), strides = 2)(model)\n",
        "\n",
        "attention_module = 'cbam_block'\n",
        "y = attach_attention_module(model, attention_module)\n",
        "model =  tensorflow.keras.layers.add([model, y])\n"
      ]
    },
    {
      "cell_type": "code",
      "execution_count": 15,
      "metadata": {
        "id": "tgLQSWDfZJ53"
      },
      "outputs": [],
      "source": [
        "# Layer 5\n",
        "model = layers.Conv2D(256, (3,3), padding='same', name='conv_5', activation = 'relu')(model)\n",
        "layer = layers.Conv2D(256, (3,3), padding='same', name='conv_5', activation = 'relu')\n",
        "batch = layers.BatchNormalization(name='norm_5')\n",
        "model = layers.Dropout(0.2)(model)\n",
        "model = layers.BatchNormalization(name='norm_5')(model)\n",
        "#model = layers.MaxPooling2D(pool_size=(2, 2), strides = 2)(model)"
      ]
    },
    {
      "cell_type": "code",
      "execution_count": 16,
      "metadata": {
        "id": "8_jONIoBZhXm"
      },
      "outputs": [],
      "source": [
        "model = layers.Flatten()(model)\n",
        "model = layers.Dense(128, activation = 'relu')(model)\n",
        "model = layers.Dropout(0.2)(model)\n",
        "output = layers.Dense(3,Activation('softmax'))(model)\n",
        "model = Model(input, output)"
      ]
    },
    {
      "cell_type": "code",
      "execution_count": 17,
      "metadata": {
        "colab": {
          "base_uri": "https://localhost:8080/"
        },
        "id": "qRYlJT_4ZkhM",
        "outputId": "988afdc7-3808-4be0-d1f8-39b0ed674299"
      },
      "outputs": [
        {
          "output_type": "stream",
          "name": "stdout",
          "text": [
            "KerasTensor(type_spec=TensorSpec(shape=(None, 256, 256, 3), dtype=tf.float32, name='input_1'), name='input_1', description=\"created by layer 'input_1'\")\n"
          ]
        }
      ],
      "source": [
        "print(input)"
      ]
    },
    {
      "cell_type": "code",
      "execution_count": 18,
      "metadata": {
        "id": "JdlrgYZwZnEd"
      },
      "outputs": [],
      "source": [
        "opt = Nadam(learning_rate=0.01, beta_1=0.9, beta_2=0.999)"
      ]
    },
    {
      "cell_type": "code",
      "execution_count": 19,
      "metadata": {
        "id": "oOIL33yEZpPX"
      },
      "outputs": [],
      "source": [
        "model.compile(optimizer=opt, loss=\"sparse_categorical_crossentropy\", metrics=[\"accuracy\"] )"
      ]
    },
    {
      "cell_type": "code",
      "execution_count": 20,
      "metadata": {
        "colab": {
          "base_uri": "https://localhost:8080/"
        },
        "id": "99dNdRxNZqh5",
        "outputId": "1dc24cf6-0fd5-4430-c758-b96613ff221e"
      },
      "outputs": [
        {
          "output_type": "stream",
          "name": "stdout",
          "text": [
            "Model: \"model\"\n",
            "__________________________________________________________________________________________________\n",
            " Layer (type)                   Output Shape         Param #     Connected to                     \n",
            "==================================================================================================\n",
            " input_1 (InputLayer)           [(None, 256, 256, 3  0           []                               \n",
            "                                )]                                                                \n",
            "                                                                                                  \n",
            " conv_1 (Conv2D)                (None, 256, 256, 32  896         ['input_1[0][0]']                \n",
            "                                )                                                                 \n",
            "                                                                                                  \n",
            " norm_1 (BatchNormalization)    (None, 256, 256, 32  128         ['conv_1[0][0]']                 \n",
            "                                )                                                                 \n",
            "                                                                                                  \n",
            " max_pooling2d (MaxPooling2D)   (None, 128, 128, 32  0           ['norm_1[0][0]']                 \n",
            "                                )                                                                 \n",
            "                                                                                                  \n",
            " global_average_pooling2d (Glob  (None, 32)          0           ['max_pooling2d[0][0]']          \n",
            " alAveragePooling2D)                                                                              \n",
            "                                                                                                  \n",
            " global_max_pooling2d (GlobalMa  (None, 32)          0           ['max_pooling2d[0][0]']          \n",
            " xPooling2D)                                                                                      \n",
            "                                                                                                  \n",
            " reshape (Reshape)              (None, 1, 1, 32)     0           ['global_average_pooling2d[0][0]'\n",
            "                                                                 ]                                \n",
            "                                                                                                  \n",
            " reshape_1 (Reshape)            (None, 1, 1, 32)     0           ['global_max_pooling2d[0][0]']   \n",
            "                                                                                                  \n",
            " dense (Dense)                  (None, 1, 1, 4)      132         ['reshape[0][0]',                \n",
            "                                                                  'reshape_1[0][0]']              \n",
            "                                                                                                  \n",
            " dense_1 (Dense)                (None, 1, 1, 32)     160         ['dense[0][0]',                  \n",
            "                                                                  'dense[1][0]']                  \n",
            "                                                                                                  \n",
            " add (Add)                      (None, 1, 1, 32)     0           ['dense_1[0][0]',                \n",
            "                                                                  'dense_1[1][0]']                \n",
            "                                                                                                  \n",
            " activation (Activation)        (None, 1, 1, 32)     0           ['add[0][0]']                    \n",
            "                                                                                                  \n",
            " multiply (Multiply)            (None, 128, 128, 32  0           ['max_pooling2d[0][0]',          \n",
            "                                )                                 'activation[0][0]']             \n",
            "                                                                                                  \n",
            " lambda (Lambda)                (None, 128, 128, 1)  0           ['multiply[0][0]']               \n",
            "                                                                                                  \n",
            " lambda_1 (Lambda)              (None, 128, 128, 1)  0           ['multiply[0][0]']               \n",
            "                                                                                                  \n",
            " concatenate (Concatenate)      (None, 128, 128, 2)  0           ['lambda[0][0]',                 \n",
            "                                                                  'lambda_1[0][0]']               \n",
            "                                                                                                  \n",
            " conv2d (Conv2D)                (None, 128, 128, 1)  98          ['concatenate[0][0]']            \n",
            "                                                                                                  \n",
            " multiply_1 (Multiply)          (None, 128, 128, 32  0           ['multiply[0][0]',               \n",
            "                                )                                 'conv2d[0][0]']                 \n",
            "                                                                                                  \n",
            " add_1 (Add)                    (None, 128, 128, 32  0           ['max_pooling2d[0][0]',          \n",
            "                                )                                 'multiply_1[0][0]']             \n",
            "                                                                                                  \n",
            " conv_2 (Conv2D)                (None, 128, 128, 64  18496       ['add_1[0][0]']                  \n",
            "                                )                                                                 \n",
            "                                                                                                  \n",
            " dropout (Dropout)              (None, 128, 128, 64  0           ['conv_2[0][0]']                 \n",
            "                                )                                                                 \n",
            "                                                                                                  \n",
            " norm_2 (BatchNormalization)    (None, 128, 128, 64  256         ['dropout[0][0]']                \n",
            "                                )                                                                 \n",
            "                                                                                                  \n",
            " max_pooling2d_1 (MaxPooling2D)  (None, 64, 64, 64)  0           ['norm_2[0][0]']                 \n",
            "                                                                                                  \n",
            " global_average_pooling2d_1 (Gl  (None, 64)          0           ['max_pooling2d_1[0][0]']        \n",
            " obalAveragePooling2D)                                                                            \n",
            "                                                                                                  \n",
            " global_max_pooling2d_1 (Global  (None, 64)          0           ['max_pooling2d_1[0][0]']        \n",
            " MaxPooling2D)                                                                                    \n",
            "                                                                                                  \n",
            " reshape_2 (Reshape)            (None, 1, 1, 64)     0           ['global_average_pooling2d_1[0][0\n",
            "                                                                 ]']                              \n",
            "                                                                                                  \n",
            " reshape_3 (Reshape)            (None, 1, 1, 64)     0           ['global_max_pooling2d_1[0][0]'] \n",
            "                                                                                                  \n",
            " dense_2 (Dense)                (None, 1, 1, 8)      520         ['reshape_2[0][0]',              \n",
            "                                                                  'reshape_3[0][0]']              \n",
            "                                                                                                  \n",
            " dense_3 (Dense)                (None, 1, 1, 64)     576         ['dense_2[0][0]',                \n",
            "                                                                  'dense_2[1][0]']                \n",
            "                                                                                                  \n",
            " add_2 (Add)                    (None, 1, 1, 64)     0           ['dense_3[0][0]',                \n",
            "                                                                  'dense_3[1][0]']                \n",
            "                                                                                                  \n",
            " activation_1 (Activation)      (None, 1, 1, 64)     0           ['add_2[0][0]']                  \n",
            "                                                                                                  \n",
            " multiply_2 (Multiply)          (None, 64, 64, 64)   0           ['max_pooling2d_1[0][0]',        \n",
            "                                                                  'activation_1[0][0]']           \n",
            "                                                                                                  \n",
            " lambda_2 (Lambda)              (None, 64, 64, 1)    0           ['multiply_2[0][0]']             \n",
            "                                                                                                  \n",
            " lambda_3 (Lambda)              (None, 64, 64, 1)    0           ['multiply_2[0][0]']             \n",
            "                                                                                                  \n",
            " concatenate_1 (Concatenate)    (None, 64, 64, 2)    0           ['lambda_2[0][0]',               \n",
            "                                                                  'lambda_3[0][0]']               \n",
            "                                                                                                  \n",
            " conv2d_1 (Conv2D)              (None, 64, 64, 1)    98          ['concatenate_1[0][0]']          \n",
            "                                                                                                  \n",
            " multiply_3 (Multiply)          (None, 64, 64, 64)   0           ['multiply_2[0][0]',             \n",
            "                                                                  'conv2d_1[0][0]']               \n",
            "                                                                                                  \n",
            " add_3 (Add)                    (None, 64, 64, 64)   0           ['max_pooling2d_1[0][0]',        \n",
            "                                                                  'multiply_3[0][0]']             \n",
            "                                                                                                  \n",
            " conv_3 (Conv2D)                (None, 64, 64, 64)   36928       ['add_3[0][0]']                  \n",
            "                                                                                                  \n",
            " norm_3 (BatchNormalization)    (None, 64, 64, 64)   256         ['conv_3[0][0]']                 \n",
            "                                                                                                  \n",
            " max_pooling2d_2 (MaxPooling2D)  (None, 32, 32, 64)  0           ['norm_3[0][0]']                 \n",
            "                                                                                                  \n",
            " global_average_pooling2d_2 (Gl  (None, 64)          0           ['max_pooling2d_2[0][0]']        \n",
            " obalAveragePooling2D)                                                                            \n",
            "                                                                                                  \n",
            " global_max_pooling2d_2 (Global  (None, 64)          0           ['max_pooling2d_2[0][0]']        \n",
            " MaxPooling2D)                                                                                    \n",
            "                                                                                                  \n",
            " reshape_4 (Reshape)            (None, 1, 1, 64)     0           ['global_average_pooling2d_2[0][0\n",
            "                                                                 ]']                              \n",
            "                                                                                                  \n",
            " reshape_5 (Reshape)            (None, 1, 1, 64)     0           ['global_max_pooling2d_2[0][0]'] \n",
            "                                                                                                  \n",
            " dense_4 (Dense)                (None, 1, 1, 8)      520         ['reshape_4[0][0]',              \n",
            "                                                                  'reshape_5[0][0]']              \n",
            "                                                                                                  \n",
            " dense_5 (Dense)                (None, 1, 1, 64)     576         ['dense_4[0][0]',                \n",
            "                                                                  'dense_4[1][0]']                \n",
            "                                                                                                  \n",
            " add_4 (Add)                    (None, 1, 1, 64)     0           ['dense_5[0][0]',                \n",
            "                                                                  'dense_5[1][0]']                \n",
            "                                                                                                  \n",
            " activation_2 (Activation)      (None, 1, 1, 64)     0           ['add_4[0][0]']                  \n",
            "                                                                                                  \n",
            " multiply_4 (Multiply)          (None, 32, 32, 64)   0           ['max_pooling2d_2[0][0]',        \n",
            "                                                                  'activation_2[0][0]']           \n",
            "                                                                                                  \n",
            " lambda_4 (Lambda)              (None, 32, 32, 1)    0           ['multiply_4[0][0]']             \n",
            "                                                                                                  \n",
            " lambda_5 (Lambda)              (None, 32, 32, 1)    0           ['multiply_4[0][0]']             \n",
            "                                                                                                  \n",
            " concatenate_2 (Concatenate)    (None, 32, 32, 2)    0           ['lambda_4[0][0]',               \n",
            "                                                                  'lambda_5[0][0]']               \n",
            "                                                                                                  \n",
            " conv2d_2 (Conv2D)              (None, 32, 32, 1)    98          ['concatenate_2[0][0]']          \n",
            "                                                                                                  \n",
            " multiply_5 (Multiply)          (None, 32, 32, 64)   0           ['multiply_4[0][0]',             \n",
            "                                                                  'conv2d_2[0][0]']               \n",
            "                                                                                                  \n",
            " add_5 (Add)                    (None, 32, 32, 64)   0           ['max_pooling2d_2[0][0]',        \n",
            "                                                                  'multiply_5[0][0]']             \n",
            "                                                                                                  \n",
            " conv_4 (Conv2D)                (None, 32, 32, 128)  73856       ['add_5[0][0]']                  \n",
            "                                                                                                  \n",
            " dropout_1 (Dropout)            (None, 32, 32, 128)  0           ['conv_4[0][0]']                 \n",
            "                                                                                                  \n",
            " norm_4 (BatchNormalization)    (None, 32, 32, 128)  512         ['dropout_1[0][0]']              \n",
            "                                                                                                  \n",
            " max_pooling2d_3 (MaxPooling2D)  (None, 16, 16, 128)  0          ['norm_4[0][0]']                 \n",
            "                                                                                                  \n",
            " global_average_pooling2d_3 (Gl  (None, 128)         0           ['max_pooling2d_3[0][0]']        \n",
            " obalAveragePooling2D)                                                                            \n",
            "                                                                                                  \n",
            " global_max_pooling2d_3 (Global  (None, 128)         0           ['max_pooling2d_3[0][0]']        \n",
            " MaxPooling2D)                                                                                    \n",
            "                                                                                                  \n",
            " reshape_6 (Reshape)            (None, 1, 1, 128)    0           ['global_average_pooling2d_3[0][0\n",
            "                                                                 ]']                              \n",
            "                                                                                                  \n",
            " reshape_7 (Reshape)            (None, 1, 1, 128)    0           ['global_max_pooling2d_3[0][0]'] \n",
            "                                                                                                  \n",
            " dense_6 (Dense)                (None, 1, 1, 16)     2064        ['reshape_6[0][0]',              \n",
            "                                                                  'reshape_7[0][0]']              \n",
            "                                                                                                  \n",
            " dense_7 (Dense)                (None, 1, 1, 128)    2176        ['dense_6[0][0]',                \n",
            "                                                                  'dense_6[1][0]']                \n",
            "                                                                                                  \n",
            " add_6 (Add)                    (None, 1, 1, 128)    0           ['dense_7[0][0]',                \n",
            "                                                                  'dense_7[1][0]']                \n",
            "                                                                                                  \n",
            " activation_3 (Activation)      (None, 1, 1, 128)    0           ['add_6[0][0]']                  \n",
            "                                                                                                  \n",
            " multiply_6 (Multiply)          (None, 16, 16, 128)  0           ['max_pooling2d_3[0][0]',        \n",
            "                                                                  'activation_3[0][0]']           \n",
            "                                                                                                  \n",
            " lambda_6 (Lambda)              (None, 16, 16, 1)    0           ['multiply_6[0][0]']             \n",
            "                                                                                                  \n",
            " lambda_7 (Lambda)              (None, 16, 16, 1)    0           ['multiply_6[0][0]']             \n",
            "                                                                                                  \n",
            " concatenate_3 (Concatenate)    (None, 16, 16, 2)    0           ['lambda_6[0][0]',               \n",
            "                                                                  'lambda_7[0][0]']               \n",
            "                                                                                                  \n",
            " conv2d_3 (Conv2D)              (None, 16, 16, 1)    98          ['concatenate_3[0][0]']          \n",
            "                                                                                                  \n",
            " multiply_7 (Multiply)          (None, 16, 16, 128)  0           ['multiply_6[0][0]',             \n",
            "                                                                  'conv2d_3[0][0]']               \n",
            "                                                                                                  \n",
            " add_7 (Add)                    (None, 16, 16, 128)  0           ['max_pooling2d_3[0][0]',        \n",
            "                                                                  'multiply_7[0][0]']             \n",
            "                                                                                                  \n",
            " conv_5 (Conv2D)                (None, 16, 16, 256)  295168      ['add_7[0][0]']                  \n",
            "                                                                                                  \n",
            " dropout_2 (Dropout)            (None, 16, 16, 256)  0           ['conv_5[0][0]']                 \n",
            "                                                                                                  \n",
            " norm_5 (BatchNormalization)    (None, 16, 16, 256)  1024        ['dropout_2[0][0]']              \n",
            "                                                                                                  \n",
            " flatten (Flatten)              (None, 65536)        0           ['norm_5[0][0]']                 \n",
            "                                                                                                  \n",
            " dense_8 (Dense)                (None, 128)          8388736     ['flatten[0][0]']                \n",
            "                                                                                                  \n",
            " dropout_3 (Dropout)            (None, 128)          0           ['dense_8[0][0]']                \n",
            "                                                                                                  \n",
            " dense_9 (Dense)                (None, 3)            387         ['dropout_3[0][0]']              \n",
            "                                                                                                  \n",
            "==================================================================================================\n",
            "Total params: 8,823,759\n",
            "Trainable params: 8,822,671\n",
            "Non-trainable params: 1,088\n",
            "__________________________________________________________________________________________________\n",
            "None\n",
            "<keras.engine.functional.Functional object at 0x7f05de2aa7d0>\n"
          ]
        }
      ],
      "source": [
        "print(model.summary())\n",
        "print(model)"
      ]
    },
    {
      "cell_type": "code",
      "execution_count": 21,
      "metadata": {
        "id": "NIABPyRMYycd"
      },
      "outputs": [],
      "source": [
        "X = []\n",
        "Y = []\n",
        "def transferBetweenFolders(source, dest, splitRate): \n",
        "    global sourceFiles\n",
        "    sourceFiles=os.listdir(source)\n",
        "    if(len(sourceFiles)!=0):\n",
        "        transferFileNumbers=int(len(sourceFiles)*splitRate)\n",
        "        transferIndex=random.sample(range(0, len(sourceFiles)), transferFileNumbers)\n",
        "        for eachIndex in transferIndex:\n",
        "            shutil.move(source+str(sourceFiles[eachIndex]), dest+str(sourceFiles[eachIndex]))\n",
        "    else:\n",
        "        print(\"No file moved. Source empty!\")\n",
        "        "
      ]
    },
    {
      "cell_type": "code",
      "execution_count": 22,
      "metadata": {
        "id": "Fh0THhOaY0Da",
        "colab": {
          "base_uri": "https://localhost:8080/"
        },
        "outputId": "22f7ee39-4809-433e-d82b-1e8e338664d7"
      },
      "outputs": [
        {
          "output_type": "stream",
          "name": "stdout",
          "text": [
            "No file moved. Source empty!\n",
            "No file moved. Source empty!\n",
            "No file moved. Source empty!\n"
          ]
        }
      ],
      "source": [
        "def transferAllClassBetweenFolders(source, dest, splitRate):\n",
        "    for label in classLabels:\n",
        "        transferBetweenFolders(sourcePath+'/'+source+'/'+label+'/', \n",
        "                               sourcePath+'/'+dest+'/'+label+'/', \n",
        "                               splitRate)\n",
        "#First cut all images from validation to train (if any exists)\n",
        "transferAllClassBetweenFolders('valid', 'train', 1.0)\n",
        "#no valid\n",
        "transferAllClassBetweenFolders('test', 'train', 1.0)"
      ]
    },
    {
      "cell_type": "code",
      "execution_count": 23,
      "metadata": {
        "id": "bvS9lltuY5_4"
      },
      "outputs": [],
      "source": [
        "def prepareNameWithLabels(folderName):\n",
        "    sourceFiles=os.listdir(sourcePath+'/train/'+folderName)\n",
        "    for val in sourceFiles:\n",
        "        X.append(val)\n",
        "        for i in range(len(classLabels)):\n",
        "          if(folderName==classLabels[i]):\n",
        "              Y.append(i)\n",
        "# Organize file names and class labels in X and Y variables\n",
        "for i in range(len(classLabels)):\n",
        "  prepareNameWithLabels(classLabels[i])\n",
        "\n",
        "def my_metrics(y_true, y_pred):\n",
        "    accuracy=accuracy_score(y_true, y_pred)\n",
        "    precision=precision_score(y_true, y_pred,average='micro')\n",
        "    f1Score=f1_score(y_true, y_pred, average='micro') \n",
        "    recall = recall_score(y_true, y_pred, average='micro')\n",
        "    print(\"Accuracy  : {}\".format(accuracy))\n",
        "    print(\"Precision : {}\".format(precision))\n",
        "    print(\"f1Score : {}\".format(f1Score))\n",
        "    print(\"Recall : {}\".format(recall))\n",
        "    cm=confusion_matrix(y_true, y_pred)\n",
        "    print(cm)\n",
        "\n",
        "    print(\"***----------------------------***\")  \n",
        "    return accuracy, precision, f1Score, recall"
      ]
    },
    {
      "cell_type": "code",
      "execution_count": 24,
      "metadata": {
        "colab": {
          "base_uri": "https://localhost:8080/"
        },
        "id": "7hjflR4gZW0Y",
        "outputId": "f0deac96-08f5-4b61-81b5-5c607c503a40"
      },
      "outputs": [
        {
          "output_type": "stream",
          "name": "stdout",
          "text": [
            "No file moved. Source empty!\n",
            "No file moved. Source empty!\n",
            "No file moved. Source empty!\n",
            "No file moved. Source empty!\n",
            "No file moved. Source empty!\n",
            "No file moved. Source empty!\n",
            "['COVID(43).png' 'COVID(104).png' 'COVID(11).png' ...\n",
            " 'person98_virus_182.jpeg' 'person99_virus_183.jpeg'\n",
            " 'person97_virus_180.jpeg']\n",
            "[0 0 0 ... 2 2 2]\n",
            "StratifiedKFold(n_splits=5, random_state=None, shuffle=True)\n",
            "5\n",
            "<generator object _BaseKFold.split at 0x7f05de26b750>\n"
          ]
        }
      ],
      "source": [
        "transferAllClassBetweenFolders('valid', 'train', 1.0)\n",
        "transferAllClassBetweenFolders('test', 'train', 1.0)\n",
        "X=np.asarray(X)\n",
        "Y=np.asarray(Y)\n",
        "\n",
        "print(X)\n",
        "print(Y)\n",
        "\n",
        "skf = StratifiedKFold(n_splits=5\n",
        "                      , shuffle=True)\n",
        "skf.get_n_splits(X, Y)\n",
        "print(skf)\n",
        "print(skf.get_n_splits(X,Y))\n",
        "print(skf.split(X,Y))\n",
        "foldNum=0\n",
        "overAllAcc = 0\n",
        "overAllPrec = 0\n",
        "overAllf1 = 0\n",
        "overAllRec = 0"
      ]
    },
    {
      "cell_type": "code",
      "execution_count": 25,
      "metadata": {
        "colab": {
          "base_uri": "https://localhost:8080/",
          "height": 1000
        },
        "id": "TsQVUi57ZDHg",
        "outputId": "7620c150-943a-4690-c255-abc006928f7a"
      },
      "outputs": [
        {
          "output_type": "stream",
          "name": "stdout",
          "text": [
            "trn_indx: 2268 test_indx: 567\n",
            "No file moved. Source empty!\n",
            "No file moved. Source empty!\n",
            "No file moved. Source empty!\n",
            "No file moved. Source empty!\n",
            "No file moved. Source empty!\n",
            "No file moved. Source empty!\n",
            "Results for fold 1\n",
            "2268\n",
            "567\n",
            "Found 2268 images belonging to 3 classes.\n",
            "Found 567 images belonging to 3 classes.\n",
            "Epoch 1/25\n",
            "71/71 - 725s - loss: 7.8197 - accuracy: 0.7324 - 725s/epoch - 10s/step\n",
            "Epoch 2/25\n",
            "71/71 - 26s - loss: 0.6375 - accuracy: 0.7760 - 26s/epoch - 361ms/step\n",
            "Epoch 3/25\n",
            "71/71 - 26s - loss: 0.5940 - accuracy: 0.8038 - 26s/epoch - 361ms/step\n",
            "Epoch 4/25\n",
            "71/71 - 26s - loss: 0.5092 - accuracy: 0.8183 - 26s/epoch - 360ms/step\n",
            "Epoch 5/25\n",
            "71/71 - 25s - loss: 0.4439 - accuracy: 0.8523 - 25s/epoch - 356ms/step\n",
            "Epoch 6/25\n",
            "71/71 - 25s - loss: 0.4382 - accuracy: 0.8576 - 25s/epoch - 357ms/step\n",
            "Epoch 7/25\n",
            "71/71 - 25s - loss: 0.4777 - accuracy: 0.8016 - 25s/epoch - 358ms/step\n",
            "Epoch 8/25\n",
            "71/71 - 25s - loss: 0.6431 - accuracy: 0.8064 - 25s/epoch - 359ms/step\n",
            "Epoch 9/25\n",
            "71/71 - 26s - loss: 0.6204 - accuracy: 0.7782 - 26s/epoch - 360ms/step\n",
            "Epoch 10/25\n",
            "71/71 - 26s - loss: 0.5803 - accuracy: 0.8382 - 26s/epoch - 359ms/step\n",
            "Epoch 11/25\n",
            "71/71 - 26s - loss: 1.0151 - accuracy: 0.8148 - 26s/epoch - 359ms/step\n",
            "Epoch 12/25\n",
            "71/71 - 26s - loss: 0.6473 - accuracy: 0.8201 - 26s/epoch - 360ms/step\n",
            "Epoch 13/25\n",
            "71/71 - 25s - loss: 0.3621 - accuracy: 0.8743 - 25s/epoch - 357ms/step\n",
            "Epoch 14/25\n",
            "71/71 - 25s - loss: 0.3655 - accuracy: 0.8968 - 25s/epoch - 355ms/step\n",
            "Epoch 15/25\n",
            "71/71 - 25s - loss: 0.3189 - accuracy: 0.8973 - 25s/epoch - 356ms/step\n",
            "Epoch 16/25\n",
            "71/71 - 25s - loss: 0.5377 - accuracy: 0.8439 - 25s/epoch - 354ms/step\n",
            "Epoch 17/25\n",
            "71/71 - 25s - loss: 0.5868 - accuracy: 0.7787 - 25s/epoch - 352ms/step\n",
            "Epoch 18/25\n",
            "71/71 - 25s - loss: 0.4496 - accuracy: 0.8536 - 25s/epoch - 354ms/step\n",
            "Epoch 19/25\n",
            "71/71 - 25s - loss: 0.5940 - accuracy: 0.8589 - 25s/epoch - 352ms/step\n",
            "Epoch 20/25\n",
            "71/71 - 25s - loss: 0.6128 - accuracy: 0.7597 - 25s/epoch - 352ms/step\n",
            "Epoch 21/25\n",
            "71/71 - 25s - loss: 0.5929 - accuracy: 0.7910 - 25s/epoch - 351ms/step\n",
            "Epoch 22/25\n",
            "71/71 - 25s - loss: 0.6012 - accuracy: 0.7099 - 25s/epoch - 349ms/step\n",
            "Epoch 23/25\n",
            "71/71 - 25s - loss: 0.6164 - accuracy: 0.7108 - 25s/epoch - 351ms/step\n",
            "Epoch 24/25\n",
            "71/71 - 25s - loss: 0.7699 - accuracy: 0.6614 - 25s/epoch - 353ms/step\n",
            "Epoch 25/25\n",
            "71/71 - 25s - loss: 0.8326 - accuracy: 0.7033 - 25s/epoch - 353ms/step\n"
          ]
        },
        {
          "output_type": "display_data",
          "data": {
            "text/plain": [
              "<Figure size 432x288 with 1 Axes>"
            ],
            "image/png": "[encoded data removed]"
          },
          "metadata": {
            "needs_background": "light"
          }
        },
        {
          "output_type": "display_data",
          "data": {
            "text/plain": [
              "<Figure size 432x288 with 1 Axes>"
            ],
            "image/png": "[encoded data removed]"
          },
          "metadata": {
            "needs_background": "light"
          }
        },
        {
          "output_type": "stream",
          "name": "stdout",
          "text": [
            "***Performance Data***\n",
            "Accuracy  : 0.855379188712522\n",
            "Precision : 0.855379188712522\n",
            "f1Score : 0.855379188712522\n",
            "Recall : 0.855379188712522\n",
            "[[169   3  17]\n",
            " [  0 133  57]\n",
            " [  2   3 183]]\n",
            "***----------------------------***\n",
            "18/18 [==============================] - 7s 355ms/step - loss: 0.7864 - accuracy: 0.8554\n",
            "***-----------------------------------------------***\n",
            "Overall Accuracy:  0.855379188712522\n",
            "Overall Precision:  0.855379188712522\n",
            "Overall f1Score:  0.855379188712522\n",
            "Overall Recall:  0.855379188712522\n",
            "***------------------End of Line------------------***\n",
            "trn_indx: 2268 test_indx: 567\n",
            "No file moved. Source empty!\n",
            "No file moved. Source empty!\n",
            "No file moved. Source empty!\n",
            "Results for fold 2\n",
            "2268\n",
            "567\n",
            "Found 2268 images belonging to 3 classes.\n",
            "Found 567 images belonging to 3 classes.\n",
            "Epoch 1/25\n",
            "71/71 - 25s - loss: 0.8951 - accuracy: 0.7324 - 25s/epoch - 357ms/step\n",
            "Epoch 2/25\n",
            "71/71 - 25s - loss: 0.7262 - accuracy: 0.7187 - 25s/epoch - 357ms/step\n",
            "Epoch 3/25\n",
            "71/71 - 25s - loss: 0.5911 - accuracy: 0.8034 - 25s/epoch - 356ms/step\n",
            "Epoch 4/25\n",
            "71/71 - 25s - loss: 0.6168 - accuracy: 0.7518 - 25s/epoch - 358ms/step\n",
            "Epoch 5/25\n",
            "71/71 - 25s - loss: 0.6577 - accuracy: 0.7773 - 25s/epoch - 356ms/step\n",
            "Epoch 6/25\n",
            "71/71 - 25s - loss: 0.5568 - accuracy: 0.8263 - 25s/epoch - 356ms/step\n",
            "Epoch 7/25\n",
            "71/71 - 25s - loss: 0.6571 - accuracy: 0.7897 - 25s/epoch - 354ms/step\n",
            "Epoch 8/25\n",
            "71/71 - 25s - loss: 0.6386 - accuracy: 0.7985 - 25s/epoch - 353ms/step\n",
            "Epoch 9/25\n",
            "71/71 - 25s - loss: 0.5466 - accuracy: 0.7906 - 25s/epoch - 354ms/step\n",
            "Epoch 10/25\n",
            "71/71 - 25s - loss: 0.4706 - accuracy: 0.8426 - 25s/epoch - 356ms/step\n",
            "Epoch 11/25\n",
            "71/71 - 25s - loss: 0.4700 - accuracy: 0.8470 - 25s/epoch - 355ms/step\n",
            "Epoch 12/25\n",
            "71/71 - 25s - loss: 0.4277 - accuracy: 0.8549 - 25s/epoch - 350ms/step\n",
            "Epoch 13/25\n",
            "71/71 - 25s - loss: 0.5322 - accuracy: 0.8201 - 25s/epoch - 355ms/step\n",
            "Epoch 14/25\n",
            "71/71 - 25s - loss: 0.4192 - accuracy: 0.8796 - 25s/epoch - 354ms/step\n",
            "Epoch 15/25\n",
            "71/71 - 25s - loss: 0.3907 - accuracy: 0.8598 - 25s/epoch - 352ms/step\n",
            "Epoch 16/25\n",
            "71/71 - 25s - loss: 0.4083 - accuracy: 0.8739 - 25s/epoch - 355ms/step\n",
            "Epoch 17/25\n",
            "71/71 - 25s - loss: 0.4356 - accuracy: 0.8735 - 25s/epoch - 356ms/step\n",
            "Epoch 18/25\n",
            "71/71 - 25s - loss: 0.4483 - accuracy: 0.8651 - 25s/epoch - 352ms/step\n",
            "Epoch 19/25\n",
            "71/71 - 25s - loss: 0.3380 - accuracy: 0.8959 - 25s/epoch - 357ms/step\n",
            "Epoch 20/25\n",
            "71/71 - 25s - loss: 0.3079 - accuracy: 0.8929 - 25s/epoch - 354ms/step\n",
            "Epoch 21/25\n",
            "71/71 - 25s - loss: 0.2891 - accuracy: 0.9008 - 25s/epoch - 353ms/step\n",
            "Epoch 22/25\n",
            "71/71 - 25s - loss: 0.3072 - accuracy: 0.8893 - 25s/epoch - 354ms/step\n",
            "Epoch 23/25\n",
            "71/71 - 25s - loss: 0.2935 - accuracy: 0.9065 - 25s/epoch - 355ms/step\n",
            "Epoch 24/25\n",
            "71/71 - 25s - loss: 0.5580 - accuracy: 0.8735 - 25s/epoch - 355ms/step\n",
            "Epoch 25/25\n",
            "71/71 - 25s - loss: 0.6379 - accuracy: 0.6702 - 25s/epoch - 356ms/step\n"
          ]
        },
        {
          "output_type": "display_data",
          "data": {
            "text/plain": [
              "<Figure size 432x288 with 1 Axes>"
            ],
            "image/png": "[encoded data removed]"
          },
          "metadata": {
            "needs_background": "light"
          }
        },
        {
          "output_type": "display_data",
          "data": {
            "text/plain": [
              "<Figure size 432x288 with 1 Axes>"
            ],
            "image/png": "[encoded data removed]"
          },
          "metadata": {
            "needs_background": "light"
          }
        },
        {
          "output_type": "stream",
          "name": "stdout",
          "text": [
            "***Performance Data***\n",
            "Accuracy  : 0.6490299823633157\n",
            "Precision : 0.6490299823633157\n",
            "f1Score : 0.6490299823633157\n",
            "Recall : 0.6490299823633157\n",
            "[[178   0  11]\n",
            " [  0  12 178]\n",
            " [ 10   0 178]]\n",
            "***----------------------------***\n",
            "18/18 [==============================] - 6s 345ms/step - loss: 1.0293 - accuracy: 0.6490\n",
            "***-----------------------------------------------***\n",
            "Overall Accuracy:  0.7522045855379189\n",
            "Overall Precision:  0.7522045855379189\n",
            "Overall f1Score:  0.7522045855379189\n",
            "Overall Recall:  0.7522045855379189\n",
            "***------------------End of Line------------------***\n",
            "trn_indx: 2268 test_indx: 567\n",
            "No file moved. Source empty!\n",
            "No file moved. Source empty!\n",
            "No file moved. Source empty!\n",
            "Results for fold 3\n",
            "2268\n",
            "567\n",
            "Found 2268 images belonging to 3 classes.\n",
            "Found 567 images belonging to 3 classes.\n",
            "Epoch 1/25\n",
            "71/71 - 25s - loss: 0.7772 - accuracy: 0.6570 - 25s/epoch - 355ms/step\n",
            "Epoch 2/25\n",
            "71/71 - 25s - loss: 1.2049 - accuracy: 0.5428 - 25s/epoch - 351ms/step\n",
            "Epoch 3/25\n",
            "71/71 - 26s - loss: 1.0840 - accuracy: 0.3915 - 26s/epoch - 359ms/step\n",
            "Epoch 4/25\n",
            "71/71 - 25s - loss: 1.0782 - accuracy: 0.3567 - 25s/epoch - 358ms/step\n",
            "Epoch 5/25\n",
            "71/71 - 25s - loss: 1.0780 - accuracy: 0.3382 - 25s/epoch - 355ms/step\n",
            "Epoch 6/25\n",
            "71/71 - 25s - loss: 1.3066 - accuracy: 0.3444 - 25s/epoch - 352ms/step\n",
            "Epoch 7/25\n",
            "71/71 - 25s - loss: 1.0810 - accuracy: 0.3298 - 25s/epoch - 353ms/step\n",
            "Epoch 8/25\n",
            "71/71 - 25s - loss: 1.0790 - accuracy: 0.3347 - 25s/epoch - 354ms/step\n",
            "Epoch 9/25\n",
            "71/71 - 25s - loss: 1.0798 - accuracy: 0.3435 - 25s/epoch - 351ms/step\n",
            "Epoch 10/25\n",
            "71/71 - 25s - loss: 1.1297 - accuracy: 0.3448 - 25s/epoch - 355ms/step\n",
            "Epoch 11/25\n",
            "71/71 - 25s - loss: 1.1001 - accuracy: 0.3245 - 25s/epoch - 357ms/step\n",
            "Epoch 12/25\n",
            "71/71 - 25s - loss: 1.0991 - accuracy: 0.3188 - 25s/epoch - 356ms/step\n",
            "Epoch 13/25\n",
            "71/71 - 25s - loss: 1.0992 - accuracy: 0.3192 - 25s/epoch - 356ms/step\n",
            "Epoch 14/25\n",
            "71/71 - 25s - loss: 1.0994 - accuracy: 0.3364 - 25s/epoch - 355ms/step\n",
            "Epoch 15/25\n",
            "71/71 - 25s - loss: 1.0988 - accuracy: 0.3302 - 25s/epoch - 353ms/step\n",
            "Epoch 16/25\n",
            "71/71 - 25s - loss: 1.0980 - accuracy: 0.3245 - 25s/epoch - 351ms/step\n",
            "Epoch 17/25\n",
            "71/71 - 25s - loss: 1.3695 - accuracy: 0.3276 - 25s/epoch - 350ms/step\n",
            "Epoch 18/25\n",
            "71/71 - 24s - loss: 4.6987 - accuracy: 0.3501 - 24s/epoch - 345ms/step\n",
            "Epoch 19/25\n",
            "71/71 - 25s - loss: 3.2397 - accuracy: 0.3382 - 25s/epoch - 346ms/step\n",
            "Epoch 20/25\n",
            "71/71 - 25s - loss: 1.0847 - accuracy: 0.3382 - 25s/epoch - 345ms/step\n",
            "Epoch 21/25\n",
            "71/71 - 24s - loss: 1.1000 - accuracy: 0.3325 - 24s/epoch - 345ms/step\n",
            "Epoch 22/25\n",
            "71/71 - 25s - loss: 1.1322 - accuracy: 0.3466 - 25s/epoch - 346ms/step\n",
            "Epoch 23/25\n",
            "71/71 - 25s - loss: 1.2537 - accuracy: 0.3810 - 25s/epoch - 346ms/step\n",
            "Epoch 24/25\n",
            "71/71 - 25s - loss: 1.0855 - accuracy: 0.3377 - 25s/epoch - 349ms/step\n",
            "Epoch 25/25\n",
            "71/71 - 25s - loss: 1.0661 - accuracy: 0.3651 - 25s/epoch - 353ms/step\n"
          ]
        },
        {
          "output_type": "display_data",
          "data": {
            "text/plain": [
              "<Figure size 432x288 with 1 Axes>"
            ],
            "image/png": "[encoded data removed]"
          },
          "metadata": {
            "needs_background": "light"
          }
        },
        {
          "output_type": "display_data",
          "data": {
            "text/plain": [
              "<Figure size 432x288 with 1 Axes>"
            ],
            "image/png": "[encoded data removed]"
          },
          "metadata": {
            "needs_background": "light"
          }
        },
        {
          "output_type": "stream",
          "name": "stdout",
          "text": [
            "***Performance Data***\n",
            "Accuracy  : 0.37037037037037035\n",
            "Precision : 0.37037037037037035\n",
            "f1Score : 0.37037037037037035\n",
            "Recall : 0.37037037037037035\n",
            "[[ 21   0 168]\n",
            " [  1   0 188]\n",
            " [  0   0 189]]\n",
            "***----------------------------***\n",
            "18/18 [==============================] - 6s 359ms/step - loss: 1.1983 - accuracy: 0.3704\n",
            "***-----------------------------------------------***\n",
            "Overall Accuracy:  0.6249265138154027\n",
            "Overall Precision:  0.6249265138154027\n",
            "Overall f1Score:  0.6249265138154027\n",
            "Overall Recall:  0.6249265138154027\n",
            "***------------------End of Line------------------***\n",
            "trn_indx: 2268 test_indx: 567\n",
            "No file moved. Source empty!\n",
            "No file moved. Source empty!\n",
            "No file moved. Source empty!\n",
            "Results for fold 4\n",
            "2268\n",
            "567\n",
            "Found 2268 images belonging to 3 classes.\n",
            "Found 567 images belonging to 3 classes.\n",
            "Epoch 1/25\n",
            "71/71 - 25s - loss: 1.2001 - accuracy: 0.3417 - 25s/epoch - 353ms/step\n",
            "Epoch 2/25\n",
            "71/71 - 25s - loss: 1.0888 - accuracy: 0.3439 - 25s/epoch - 355ms/step\n",
            "Epoch 3/25\n",
            "71/71 - 25s - loss: 1.0852 - accuracy: 0.3298 - 25s/epoch - 354ms/step\n",
            "Epoch 4/25\n",
            "71/71 - 25s - loss: 1.0879 - accuracy: 0.3369 - 25s/epoch - 354ms/step\n",
            "Epoch 5/25\n",
            "71/71 - 25s - loss: 1.1001 - accuracy: 0.3377 - 25s/epoch - 352ms/step\n",
            "Epoch 6/25\n",
            "71/71 - 25s - loss: 1.0858 - accuracy: 0.3452 - 25s/epoch - 353ms/step\n",
            "Epoch 7/25\n",
            "71/71 - 25s - loss: 1.0852 - accuracy: 0.3439 - 25s/epoch - 350ms/step\n",
            "Epoch 8/25\n",
            "71/71 - 25s - loss: 1.0837 - accuracy: 0.3422 - 25s/epoch - 351ms/step\n",
            "Epoch 9/25\n",
            "71/71 - 25s - loss: 1.0947 - accuracy: 0.3298 - 25s/epoch - 349ms/step\n",
            "Epoch 10/25\n",
            "71/71 - 25s - loss: 1.0992 - accuracy: 0.3272 - 25s/epoch - 349ms/step\n",
            "Epoch 11/25\n",
            "71/71 - 25s - loss: 1.0987 - accuracy: 0.3342 - 25s/epoch - 351ms/step\n",
            "Epoch 12/25\n",
            "71/71 - 25s - loss: 1.1000 - accuracy: 0.3228 - 25s/epoch - 351ms/step\n",
            "Epoch 13/25\n",
            "71/71 - 25s - loss: 1.0997 - accuracy: 0.3241 - 25s/epoch - 351ms/step\n",
            "Epoch 14/25\n",
            "71/71 - 25s - loss: 1.0984 - accuracy: 0.3245 - 25s/epoch - 353ms/step\n",
            "Epoch 15/25\n",
            "71/71 - 25s - loss: 1.0995 - accuracy: 0.3355 - 25s/epoch - 358ms/step\n",
            "Epoch 16/25\n",
            "71/71 - 25s - loss: 1.0987 - accuracy: 0.3153 - 25s/epoch - 353ms/step\n",
            "Epoch 17/25\n",
            "71/71 - 25s - loss: 1.0997 - accuracy: 0.3250 - 25s/epoch - 354ms/step\n",
            "Epoch 18/25\n",
            "71/71 - 25s - loss: 1.0987 - accuracy: 0.3289 - 25s/epoch - 353ms/step\n",
            "Epoch 19/25\n",
            "71/71 - 25s - loss: 1.0995 - accuracy: 0.3364 - 25s/epoch - 352ms/step\n",
            "Epoch 20/25\n",
            "71/71 - 25s - loss: 1.0993 - accuracy: 0.3161 - 25s/epoch - 352ms/step\n",
            "Epoch 21/25\n",
            "71/71 - 25s - loss: 1.0994 - accuracy: 0.3250 - 25s/epoch - 354ms/step\n",
            "Epoch 22/25\n",
            "71/71 - 25s - loss: 1.0991 - accuracy: 0.3307 - 25s/epoch - 358ms/step\n",
            "Epoch 23/25\n",
            "71/71 - 25s - loss: 1.0989 - accuracy: 0.3298 - 25s/epoch - 356ms/step\n",
            "Epoch 24/25\n",
            "71/71 - 25s - loss: 1.0994 - accuracy: 0.3241 - 25s/epoch - 351ms/step\n",
            "Epoch 25/25\n",
            "71/71 - 25s - loss: 1.0994 - accuracy: 0.3113 - 25s/epoch - 356ms/step\n"
          ]
        },
        {
          "output_type": "display_data",
          "data": {
            "text/plain": [
              "<Figure size 432x288 with 1 Axes>"
            ],
            "image/png": "[encoded data removed]"
          },
          "metadata": {
            "needs_background": "light"
          }
        },
        {
          "output_type": "display_data",
          "data": {
            "text/plain": [
              "<Figure size 432x288 with 1 Axes>"
            ],
            "image/png": "[encoded data removed]"
          },
          "metadata": {
            "needs_background": "light"
          }
        },
        {
          "output_type": "stream",
          "name": "stdout",
          "text": [
            "***Performance Data***\n",
            "Accuracy  : 0.3350970017636684\n",
            "Precision : 0.3350970017636684\n",
            "f1Score : 0.3350970017636684\n",
            "Recall : 0.3350970017636684\n",
            "[[  0 188   0]\n",
            " [  0 190   0]\n",
            " [  0 189   0]]\n",
            "***----------------------------***\n",
            "18/18 [==============================] - 6s 358ms/step - loss: 1.0987 - accuracy: 0.3351\n",
            "***-----------------------------------------------***\n",
            "Overall Accuracy:  0.5524691358024691\n",
            "Overall Precision:  0.5524691358024691\n",
            "Overall f1Score:  0.5524691358024691\n",
            "Overall Recall:  0.5524691358024691\n",
            "***------------------End of Line------------------***\n",
            "trn_indx: 2268 test_indx: 567\n",
            "No file moved. Source empty!\n",
            "No file moved. Source empty!\n",
            "No file moved. Source empty!\n",
            "Results for fold 5\n",
            "2268\n",
            "567\n",
            "Found 2268 images belonging to 3 classes.\n",
            "Found 567 images belonging to 3 classes.\n",
            "Epoch 1/25\n",
            "71/71 - 26s - loss: 1.0994 - accuracy: 0.3333 - 26s/epoch - 361ms/step\n",
            "Epoch 2/25\n",
            "71/71 - 26s - loss: 1.0990 - accuracy: 0.3148 - 26s/epoch - 361ms/step\n",
            "Epoch 3/25\n",
            "71/71 - 26s - loss: 1.0994 - accuracy: 0.3219 - 26s/epoch - 361ms/step\n",
            "Epoch 4/25\n",
            "71/71 - 25s - loss: 1.0991 - accuracy: 0.3342 - 25s/epoch - 358ms/step\n",
            "Epoch 5/25\n",
            "71/71 - 26s - loss: 1.0993 - accuracy: 0.3272 - 26s/epoch - 360ms/step\n",
            "Epoch 6/25\n",
            "71/71 - 25s - loss: 1.0987 - accuracy: 0.3329 - 25s/epoch - 356ms/step\n",
            "Epoch 7/25\n",
            "Epoch 8/25\n",
            "71/71 - 25s - loss: 1.0980 - accuracy: 0.3316 - 25s/epoch - 359ms/step\n",
            "Epoch 9/25\n",
            "71/71 - 25s - loss: 1.1012 - accuracy: 0.3347 - 25s/epoch - 358ms/step\n",
            "Epoch 10/25\n",
            "71/71 - 25s - loss: 1.1018 - accuracy: 0.3241 - 25s/epoch - 357ms/step\n",
            "Epoch 11/25\n",
            "71/71 - 26s - loss: 1.0995 - accuracy: 0.3386 - 26s/epoch - 361ms/step\n",
            "Epoch 12/25\n",
            "71/71 - 25s - loss: 1.0998 - accuracy: 0.3329 - 25s/epoch - 356ms/step\n",
            "Epoch 13/25\n",
            "71/71 - 25s - loss: 1.0994 - accuracy: 0.3289 - 25s/epoch - 359ms/step\n",
            "Epoch 14/25\n",
            "71/71 - 25s - loss: 1.0996 - accuracy: 0.3294 - 25s/epoch - 356ms/step\n",
            "Epoch 15/25\n",
            "71/71 - 25s - loss: 1.0996 - accuracy: 0.3338 - 25s/epoch - 353ms/step\n",
            "Epoch 16/25\n",
            "71/71 - 25s - loss: 1.0993 - accuracy: 0.3311 - 25s/epoch - 353ms/step\n",
            "Epoch 17/25\n",
            "71/71 - 25s - loss: 1.0997 - accuracy: 0.3294 - 25s/epoch - 354ms/step\n",
            "Epoch 18/25\n",
            "71/71 - 25s - loss: 1.0998 - accuracy: 0.3183 - 25s/epoch - 351ms/step\n",
            "Epoch 19/25\n",
            "71/71 - 25s - loss: 1.0994 - accuracy: 0.3333 - 25s/epoch - 353ms/step\n",
            "Epoch 20/25\n",
            "71/71 - 25s - loss: 1.0992 - accuracy: 0.3095 - 25s/epoch - 354ms/step\n",
            "Epoch 21/25\n",
            "71/71 - 25s - loss: 1.0992 - accuracy: 0.3188 - 25s/epoch - 351ms/step\n",
            "Epoch 22/25\n",
            "71/71 - 25s - loss: 1.0991 - accuracy: 0.3347 - 25s/epoch - 350ms/step\n",
            "Epoch 23/25\n",
            "71/71 - 25s - loss: 1.0995 - accuracy: 0.3135 - 25s/epoch - 353ms/step\n",
            "Epoch 24/25\n",
            "71/71 - 25s - loss: 1.0992 - accuracy: 0.3316 - 25s/epoch - 353ms/step\n",
            "Epoch 25/25\n",
            "71/71 - 25s - loss: 1.0993 - accuracy: 0.3294 - 25s/epoch - 349ms/step\n"
          ]
        },
        {
          "output_type": "display_data",
          "data": {
            "text/plain": [
              "<Figure size 432x288 with 1 Axes>"
            ],
            "image/png": "[encoded data removed]"
          },
          "metadata": {
            "needs_background": "light"
          }
        },
        {
          "output_type": "display_data",
          "data": {
            "text/plain": [
              "<Figure size 432x288 with 1 Axes>"
            ],
            "image/png": "[encoded data removed]"
          },
          "metadata": {
            "needs_background": "light"
          }
        },
        {
          "output_type": "stream",
          "name": "stdout",
          "text": [
            "***Performance Data***\n",
            "Accuracy  : 0.3350970017636684\n",
            "Precision : 0.3350970017636684\n",
            "f1Score : 0.3350970017636684\n",
            "Recall : 0.3350970017636684\n",
            "[[  0 188   0]\n",
            " [  0 190   0]\n",
            " [  0 189   0]]\n",
            "***----------------------------***\n",
            "18/18 [==============================] - 6s 353ms/step - loss: 1.0988 - accuracy: 0.3351\n",
            "***-----------------------------------------------***\n",
            "Overall Accuracy:  0.508994708994709\n",
            "Overall Precision:  0.508994708994709\n",
            "Overall f1Score:  0.508994708994709\n",
            "Overall Recall:  0.508994708994709\n",
            "***------------------End of Line------------------***\n"
          ]
        }
      ],
      "source": [
        "for train_index, val_index in skf.split(X, Y):\n",
        "    print(\"trn_indx: %s test_indx: %s\" % (len(train_index), len(val_index)))\n",
        "    #First cut all images from validation to train (if any exists)\n",
        "    transferAllClassBetweenFolders('valid', 'train', 1.0)\n",
        "    #no valid\n",
        "    transferAllClassBetweenFolders('test', 'train', 1.0)\n",
        "    foldNum+=1\n",
        "    print(\"Results for fold\",foldNum)\n",
        "    X_train, X_val = X[train_index], X[val_index]\n",
        "    Y_train, Y_val = Y[train_index], Y[val_index]\n",
        "    print(len(X_train))\n",
        "    print(len(X_val))\n",
        "    # Move validation images of this fold from train folder to the validation folder\n",
        "    for eachIndex in range(len(X_val)):\n",
        "        classLabel=''\n",
        "        for i in range(len(classLabels)):\n",
        "          if(Y_val[eachIndex]==i):\n",
        "              classLabel=classLabels[i]\n",
        "        #Then, copy the validation images to the validation folder\n",
        "        shutil.move(sourcePath+'/train/'+classLabel+'/'+X_val[eachIndex], \n",
        "                    #sourcePath+'/valid/'+classLabel+'/'+X_val[eachIndex])\n",
        "        #without valid\n",
        "                    sourcePath+'/test/'+classLabel+'/'+X_val[eachIndex])\n",
        "        \n",
        "    train_batches = ImageDataGenerator().flow_from_directory(train_path, target_size=(256,256), classes=['covid', 'normal', 'pneumonia'], class_mode = 'sparse', batch_size = 32, shuffle=True)\n",
        "    #without valid\n",
        "    #valid_batches = ImageDataGenerator().flow_from_directory(valid_path, target_size=(256,256), classes=['covid', 'normal', 'pneumonia'], class_mode = 'sparse', batch_size = 32, shuffle=True)\n",
        "    test_batches = ImageDataGenerator().flow_from_directory(test_path, target_size=(256,256), classes=['covid', 'normal', 'pneumonia'], class_mode = 'sparse', batch_size = 32, shuffle=False)\n",
        "\n",
        "    history = model.fit(train_batches, \n",
        "                    #steps_per_epoch=sp_epoch, \n",
        "                    #without valid\n",
        "                    #validation_data=valid_batches, \n",
        "                    #validation_steps=10, \n",
        "                    epochs=25, \n",
        "                    verbose=2)\n",
        "    \n",
        "    \n",
        "    \n",
        "    plt.plot(history.history['accuracy'])\n",
        "    #plt.plot(history.history['val_accuracy'])\n",
        "    plt.title('Nadam All Layer - Model Accuracy')\n",
        "    plt.ylim(0,1.1)\n",
        "    plt.ylabel('accuracy')\n",
        "    plt.xlabel('epoch')\n",
        "    #plt.legend(['train', 'valid'], loc='upper left')\n",
        "    #without valid\n",
        "    plt.legend(['train'], loc='upper left')\n",
        "    plt.show()\n",
        "    # summarize history for loss\n",
        "    plt.plot(history.history['loss'])\n",
        "    #plt.plot(history.history['val_loss'])\n",
        "    plt.title('Nadam All Layer - Model Loss')\n",
        "    plt.ylim(0,1.1)\n",
        "    plt.ylabel('loss')\n",
        "    plt.xlabel('epoch')\n",
        "    #plt.legend(['train', 'valid'], loc='upper left')\n",
        "    #without valid\n",
        "    plt.legend(['train'], loc='upper left')\n",
        "    plt.show()\n",
        "    test_batches.reset()\n",
        "    Y_pred = model.predict(test_batches)\n",
        "    classes = test_batches.classes[test_batches.index_array]\n",
        "    y_pred = np.argmax(Y_pred, axis=-1)\n",
        "    #print(\"***Performance on Test Data***\")  \n",
        "    #print(sum(y_pred==classes)/10000)\n",
        "    confusion_matrix(test_batches.classes[test_batches.index_array],y_pred)\n",
        "    #predictions = model.predict(test_batches, verbose=1)\n",
        "    #yPredictions = np.argmax(predictions, axis=1)\n",
        "    #print(yPredictions)\n",
        "    #true_classes = test_batches.classes\n",
        "    # evaluate validation performance\n",
        "    print(\"***Performance Data***\")    \n",
        "    #valAcc, valPrec, valFScore = my_metrics(true_classes, yPredictions)\n",
        "    valAcc, valPrec, valFScore, valRec = my_metrics(classes, y_pred)\n",
        "    overAllAcc = overAllAcc+valAcc\n",
        "    overAllPrec = overAllPrec+valPrec\n",
        "    overAllf1 = overAllf1+valFScore\n",
        "    overAllRec = overAllRec+valRec\n",
        "    \n",
        "    model.evaluate(test_batches)\n",
        "    print(\"***-----------------------------------------------***\")  \n",
        "    print(\"Overall Accuracy: \",  overAllAcc/foldNum)\n",
        "    print(\"Overall Precision: \",  overAllPrec/foldNum)\n",
        "    print(\"Overall f1Score: \",  overAllf1/foldNum)\n",
        "    print(\"Overall Recall: \",  overAllRec/foldNum)\n",
        "\n",
        "    print(\"***------------------End of Line------------------***\")"
      ]
    }
  ],
  "metadata": {
    "accelerator": "GPU",
    "colab": {
      "collapsed_sections": [],
      "machine_shape": "hm",
      "name": "2022_Nadam_All Lyr Cbam_tt_B.ipynb",
      "provenance": [],
      "include_colab_link": true
    },
    "kernelspec": {
      "display_name": "Python 3",
      "name": "python3"
    },
    "language_info": {
      "name": "python"
    }
  },
  "nbformat": 4,
  "nbformat_minor": 0
}