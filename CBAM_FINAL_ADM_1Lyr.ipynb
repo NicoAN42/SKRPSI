{
  "cells": [
    {
      "cell_type": "markdown",
      "metadata": {
        "id": "view-in-github",
        "colab_type": "text"
      },
      "source": [
        "<a href=\"https://colab.research.google.com/github/NicoAN42/SKRPSI/blob/main/CBAM_FINAL_2.ipynb\" target=\"_parent\"><img src=\"https://colab.research.google.com/assets/colab-badge.svg\" alt=\"Open In Colab\"/></a>"
      ]
    },
    {
      "cell_type": "code",
      "execution_count": 1,
      "metadata": {
        "colab": {
          "base_uri": "https://localhost:8080/"
        },
        "id": "bd3mi5ZLdBSv",
        "outputId": "3864e333-bcd6-460a-ccab-c66ad7cbebe0"
      },
      "outputs": [
        {
          "output_type": "stream",
          "name": "stdout",
          "text": [
            "Mounted at /content/drive\n"
          ]
        }
      ],
      "source": [
        "#mount dataset\n",
        "from google.colab import drive\n",
        "drive.mount('/content/drive')\n"
      ]
    },
    {
      "cell_type": "code",
      "execution_count": 2,
      "metadata": {
        "id": "mNr5eLs1WiKT"
      },
      "outputs": [],
      "source": [
        "from tensorflow.keras.layers import Conv2D, Input, concatenate, Activation, InputLayer, Dense, Reshape, Flatten, Add, multiply, Permute, Lambda, Concatenate\n",
        "from tensorflow.keras.layers import LeakyReLU,ReLU, MaxPooling2D, BatchNormalization,GlobalMaxPooling2D,GlobalAveragePooling2D\n",
        "from tensorflow.keras.models import Model, Sequential\n",
        "from tensorflow.keras import layers\n",
        "from tensorflow.keras.activations import softmax,sigmoid\n",
        "from tensorflow.keras.preprocessing.image import ImageDataGenerator\n",
        "from tensorflow.keras.optimizers import Adam, Nadam\n",
        "from tensorflow.keras.callbacks import EarlyStopping\n",
        "from tensorflow.keras.layers import Dropout,SpatialDropout2D,GaussianDropout\n",
        "from tensorflow.keras.optimizers.schedules import ExponentialDecay\n",
        "from tensorflow.keras.regularizers import l1,l2\n",
        "from tensorflow.keras import backend as K\n",
        "from __future__ import absolute_import\n",
        "from __future__ import division\n",
        "from __future__ import print_function\n",
        "import tensorflow\n",
        "import tensorflow as tf\n",
        "import math\n",
        "import matplotlib.pyplot as plt\n",
        "import numpy as np\n",
        "from sklearn.metrics import accuracy_score, f1_score, precision_score, confusion_matrix, recall_score\n",
        "from sklearn.model_selection import StratifiedKFold\n",
        "import os\n",
        "import random\n",
        "import shutil"
      ]
    },
    {
      "cell_type": "code",
      "execution_count": 3,
      "metadata": {
        "id": "M-dUDyotW99U"
      },
      "outputs": [],
      "source": [
        "#from tensorflow.keras.optimizers import SGD"
      ]
    },
    {
      "cell_type": "code",
      "execution_count": 4,
      "metadata": {
        "id": "1SKzQPoLeGUS"
      },
      "outputs": [],
      "source": [
        "CLASS = 3\n",
        "#sourcepath isi semua data train, folder valid kosongin datanya sisai folder classnya\n",
        "sourcePath = '/content/drive/MyDrive/Colab Notebooks/Dataset 11'\n",
        "train_path = '/content/drive/MyDrive/Colab Notebooks/Dataset 11/train'\n",
        "valid_path = '/content/drive/MyDrive/Colab Notebooks/Dataset 11/valid'\n",
        "test_path = '/content/drive/MyDrive/Colab Notebooks/Dataset 11/test'\n",
        "attention_module = 'cbam_block'\n",
        "#nico"
      ]
    },
    {
      "cell_type": "code",
      "execution_count": 5,
      "metadata": {
        "id": "qyuRvIz9mFu_"
      },
      "outputs": [],
      "source": [
        "classLabels =['covid','normal', 'pneumonia']"
      ]
    },
    {
      "cell_type": "code",
      "execution_count": 6,
      "metadata": {
        "id": "IiymK5QRgQVC"
      },
      "outputs": [],
      "source": [
        "def attach_attention_module(net, attention_module):\n",
        "  #if attention_module == 'se_block': # SE_block\n",
        "    #net = se_block(net)\n",
        "  if attention_module == 'cbam_block': # CBAM_block\n",
        "    net = cbam_block(net)\n",
        "  else:\n",
        "    raise Exception(\"'{}' is not supported attention module!\".format(attention_module))\n",
        "\n",
        "  return net"
      ]
    },
    {
      "cell_type": "code",
      "execution_count": 7,
      "metadata": {
        "id": "4E-9i3yHgQX8"
      },
      "outputs": [],
      "source": [
        "def cbam_block(cbam_feature, ratio=8):\n",
        "\t\"\"\"Contains the implementation of Convolutional Block Attention Module(CBAM) block.\n",
        "\tAs described in https://arxiv.org/abs/1807.06521.\n",
        "\t\"\"\"\n",
        "\t\n",
        "\tcbam_feature = channel_attention(cbam_feature, ratio)\n",
        "\tcbam_feature = spatial_attention(cbam_feature)\n",
        "\treturn cbam_feature\n"
      ]
    },
    {
      "cell_type": "code",
      "execution_count": 8,
      "metadata": {
        "id": "doOnf8U9YBM-"
      },
      "outputs": [],
      "source": [
        "def channel_attention(input_feature, ratio=8):\n",
        "\t\n",
        "\tchannel_axis = 1 if K.image_data_format() == \"channels_first\" else -1\n",
        "\tchannel = input_feature.shape[channel_axis]\n",
        "\t\n",
        "\tshared_layer_one = Dense(channel//ratio,\n",
        "\t\t\t\t\t\t\t activation='relu',\n",
        "\t\t\t\t\t\t\t kernel_initializer='he_normal',\n",
        "\t\t\t\t\t\t\t use_bias=True,\n",
        "\t\t\t\t\t\t\t bias_initializer='zeros')\n",
        "\tshared_layer_two = Dense(channel,\n",
        "\t\t\t\t\t\t\t kernel_initializer='he_normal',\n",
        "\t\t\t\t\t\t\t use_bias=True,\n",
        "\t\t\t\t\t\t\t bias_initializer='zeros')\n",
        "\t\n",
        "\tavg_pool = GlobalAveragePooling2D()(input_feature)    \n",
        "\tavg_pool = Reshape((1,1,channel))(avg_pool)\n",
        "\tassert avg_pool.shape[1:] == (1,1,channel)\n",
        "\tavg_pool = shared_layer_one(avg_pool)\n",
        "\tassert avg_pool.shape[1:] == (1,1,channel//ratio)\n",
        "\tavg_pool = shared_layer_two(avg_pool)\n",
        "\tassert avg_pool.shape[1:] == (1,1,channel)\n",
        "\t\n",
        "\tmax_pool = GlobalMaxPooling2D()(input_feature)\n",
        "\tmax_pool = Reshape((1,1,channel))(max_pool)\n",
        "\tassert max_pool.shape[1:] == (1,1,channel)\n",
        "\tmax_pool = shared_layer_one(max_pool)\n",
        "\tassert max_pool.shape[1:] == (1,1,channel//ratio)\n",
        "\tmax_pool = shared_layer_two(max_pool)\n",
        "\tassert max_pool.shape[1:] == (1,1,channel)\n",
        "\t\n",
        "\tcbam_feature = Add()([avg_pool,max_pool])\n",
        "\tcbam_feature = Activation('sigmoid')(cbam_feature)\n",
        "\t\n",
        "\tif K.image_data_format() == \"channels_first\":\n",
        "\t\tcbam_feature = Permute((3, 1, 2))(cbam_feature)\n",
        "\t\n",
        "\treturn multiply([input_feature, cbam_feature])"
      ]
    },
    {
      "cell_type": "code",
      "execution_count": 9,
      "metadata": {
        "id": "Xl7CStcEYE_h"
      },
      "outputs": [],
      "source": [
        "def spatial_attention(input_feature):\n",
        "\tkernel_size = 7\n",
        "\t\n",
        "\tif K.image_data_format() == \"channels_first\":\n",
        "\t\tchannel = input_feature.shape[1]\n",
        "\t\tcbam_feature = Permute((2,3,1))(input_feature)\n",
        "\telse:\n",
        "\t\tchannel = input_feature.shape[-1]\n",
        "\t\tcbam_feature = input_feature\n",
        "\t\n",
        "\tavg_pool = Lambda(lambda x: K.mean(x, axis=3, keepdims=True))(cbam_feature)\n",
        "\tassert avg_pool.shape[-1] == 1\n",
        "\tmax_pool = Lambda(lambda x: K.max(x, axis=3, keepdims=True))(cbam_feature)\n",
        "\tassert max_pool.shape[-1] == 1\n",
        "\tconcat = Concatenate(axis=3)([avg_pool, max_pool])\n",
        "\tassert concat.shape[-1] == 2\n",
        "\tcbam_feature = Conv2D(filters = 1,\n",
        "\t\t\t\t\tkernel_size=kernel_size,\n",
        "\t\t\t\t\tstrides=1,\n",
        "\t\t\t\t\tpadding='same',\n",
        "\t\t\t\t\tactivation='sigmoid',\n",
        "\t\t\t\t\tkernel_initializer='he_normal',\n",
        "\t\t\t\t\tuse_bias=False)(concat)\t\n",
        "\tassert cbam_feature.shape[-1] == 1\n",
        "\t\n",
        "\tif K.image_data_format() == \"channels_first\":\n",
        "\t\tcbam_feature = Permute((3, 1, 2))(cbam_feature)\n",
        "\t\t\n",
        "\treturn multiply([input_feature, cbam_feature])"
      ]
    },
    {
      "cell_type": "code",
      "execution_count": 10,
      "metadata": {
        "id": "q2Q9CbMzY1Rn"
      },
      "outputs": [],
      "source": [
        "input = Input(shape=(256,256,3))"
      ]
    },
    {
      "cell_type": "code",
      "execution_count": 11,
      "metadata": {
        "id": "YpZNBOFOZBJL"
      },
      "outputs": [],
      "source": [
        "#Layer 1\n",
        "model = layers.Conv2D(32, (3,3), padding='same', name='conv_1', activation = 'relu')(input)\n",
        "model = layers.BatchNormalization(name='norm_1')(model)\n",
        "model = layers.MaxPooling2D(pool_size=(2, 2), strides= 2)(model)\n",
        "attention_module = 'cbam_block'\n",
        "y = attach_attention_module(model, attention_module)\n",
        "model =  tensorflow.keras.layers.add([model, y])\n"
      ]
    },
    {
      "cell_type": "code",
      "execution_count": 12,
      "metadata": {
        "id": "pBvWdrCmZCsQ"
      },
      "outputs": [],
      "source": [
        "#Layer 2\n",
        "model = layers.Conv2D(64, (3,3), padding='same', name='conv_2', activation = 'relu')(model)\n",
        "model = layers.Dropout(0.1)(model)\n",
        "model = layers.BatchNormalization(name='norm_2')(model)\n",
        "model = layers.MaxPooling2D(pool_size=(2, 2), strides = 2)(model)\n",
        "\n",
        "attention_module = 'cbam_block'\n",
        "y = attach_attention_module(model, attention_module)\n",
        "model =  tensorflow.keras.layers.add([model, y])\n"
      ]
    },
    {
      "cell_type": "code",
      "execution_count": 13,
      "metadata": {
        "id": "RBUvxL-9ZEO3"
      },
      "outputs": [],
      "source": [
        "# Layer 3\n",
        "model = layers.Conv2D(64, (3,3), padding='same', name='conv_3', activation = 'relu')(model)\n",
        "model = layers.BatchNormalization(name='norm_3')(model)\n",
        "model = layers.MaxPooling2D(pool_size=(2, 2), strides = 2)(model)\n",
        "\n",
        "attention_module = 'cbam_block'\n",
        "y = attach_attention_module(model, attention_module)\n",
        "model =  tensorflow.keras.layers.add([model, y])\n",
        "\n"
      ]
    },
    {
      "cell_type": "code",
      "execution_count": 14,
      "metadata": {
        "id": "QKyPzn20ZI1Y"
      },
      "outputs": [],
      "source": [
        "# Layer 4\n",
        "model = layers.Conv2D(128, (3,3), padding='same', name='conv_4', activation = 'relu')(model)\n",
        "model = layers.Dropout(0.2)(model)\n",
        "model = layers.BatchNormalization(name='norm_4')(model)\n",
        "model = layers.MaxPooling2D(pool_size=(2, 2), strides = 2)(model)\n",
        "\n",
        "attention_module = 'cbam_block'\n",
        "y = attach_attention_module(model, attention_module)\n",
        "model =  tensorflow.keras.layers.add([model, y])\n"
      ]
    },
    {
      "cell_type": "code",
      "execution_count": 15,
      "metadata": {
        "id": "tgLQSWDfZJ53"
      },
      "outputs": [],
      "source": [
        "# Layer 5\n",
        "model = layers.Conv2D(256, (3,3), padding='same', name='conv_5', activation = 'relu')(model)\n",
        "layer = layers.Conv2D(256, (3,3), padding='same', name='conv_5', activation = 'relu')\n",
        "batch = layers.BatchNormalization(name='norm_5')\n",
        "model = layers.Dropout(0.2)(model)\n",
        "model = layers.BatchNormalization(name='norm_5')(model)\n",
        "#model = layers.MaxPooling2D(pool_size=(2, 2), strides = 2)(model)"
      ]
    },
    {
      "cell_type": "code",
      "execution_count": 16,
      "metadata": {
        "id": "8_jONIoBZhXm"
      },
      "outputs": [],
      "source": [
        "model = layers.Flatten()(model)\n",
        "model = layers.Dense(128, activation = 'relu')(model)\n",
        "model = layers.Dropout(0.2)(model)\n",
        "output = layers.Dense(3,Activation('softmax'))(model)\n",
        "model = Model(input, output)"
      ]
    },
    {
      "cell_type": "code",
      "execution_count": 17,
      "metadata": {
        "id": "iDpUFSaVZigY"
      },
      "outputs": [],
      "source": [
        "#output = model.output_shape"
      ]
    },
    {
      "cell_type": "code",
      "execution_count": 18,
      "metadata": {
        "colab": {
          "base_uri": "https://localhost:8080/"
        },
        "id": "qRYlJT_4ZkhM",
        "outputId": "34a5e37c-a378-4c32-b4b3-2ac533f6c825"
      },
      "outputs": [
        {
          "output_type": "stream",
          "name": "stdout",
          "text": [
            "KerasTensor(type_spec=TensorSpec(shape=(None, 256, 256, 3), dtype=tf.float32, name='input_1'), name='input_1', description=\"created by layer 'input_1'\")\n"
          ]
        }
      ],
      "source": [
        "print(input)"
      ]
    },
    {
      "cell_type": "code",
      "execution_count": 19,
      "metadata": {
        "id": "1AMvVOzNL8Bw"
      },
      "outputs": [],
      "source": [
        "#initial_learning_rate=0.0001"
      ]
    },
    {
      "cell_type": "code",
      "execution_count": 20,
      "metadata": {
        "id": "DwCqyvBhLupX"
      },
      "outputs": [],
      "source": [
        "#lr_schedule = ExponentialDecay(\n",
        "#   initial_learning_rate, decay_steps=100000, decay_rate=0.96, staircase=True\n",
        "#)\n"
      ]
    },
    {
      "cell_type": "code",
      "execution_count": 21,
      "metadata": {
        "id": "JdlrgYZwZnEd"
      },
      "outputs": [],
      "source": [
        "opt = Nadam(learning_rate=0.001, beta_1=0.9, beta_2=0.999)"
      ]
    },
    {
      "cell_type": "code",
      "execution_count": 22,
      "metadata": {
        "id": "oOIL33yEZpPX"
      },
      "outputs": [],
      "source": [
        "model.compile(optimizer=opt, loss=\"sparse_categorical_crossentropy\", metrics=[\"accuracy\"] )"
      ]
    },
    {
      "cell_type": "code",
      "execution_count": 23,
      "metadata": {
        "colab": {
          "base_uri": "https://localhost:8080/"
        },
        "id": "99dNdRxNZqh5",
        "outputId": "793059d4-54c4-41ec-98cb-9e9e950264f4"
      },
      "outputs": [
        {
          "output_type": "stream",
          "name": "stdout",
          "text": [
            "Model: \"model\"\n",
            "__________________________________________________________________________________________________\n",
            " Layer (type)                   Output Shape         Param #     Connected to                     \n",
            "==================================================================================================\n",
            " input_1 (InputLayer)           [(None, 256, 256, 3  0           []                               \n",
            "                                )]                                                                \n",
            "                                                                                                  \n",
            " conv_1 (Conv2D)                (None, 256, 256, 32  896         ['input_1[0][0]']                \n",
            "                                )                                                                 \n",
            "                                                                                                  \n",
            " norm_1 (BatchNormalization)    (None, 256, 256, 32  128         ['conv_1[0][0]']                 \n",
            "                                )                                                                 \n",
            "                                                                                                  \n",
            " max_pooling2d (MaxPooling2D)   (None, 128, 128, 32  0           ['norm_1[0][0]']                 \n",
            "                                )                                                                 \n",
            "                                                                                                  \n",
            " global_average_pooling2d (Glob  (None, 32)          0           ['max_pooling2d[0][0]']          \n",
            " alAveragePooling2D)                                                                              \n",
            "                                                                                                  \n",
            " global_max_pooling2d (GlobalMa  (None, 32)          0           ['max_pooling2d[0][0]']          \n",
            " xPooling2D)                                                                                      \n",
            "                                                                                                  \n",
            " reshape (Reshape)              (None, 1, 1, 32)     0           ['global_average_pooling2d[0][0]'\n",
            "                                                                 ]                                \n",
            "                                                                                                  \n",
            " reshape_1 (Reshape)            (None, 1, 1, 32)     0           ['global_max_pooling2d[0][0]']   \n",
            "                                                                                                  \n",
            " dense (Dense)                  (None, 1, 1, 4)      132         ['reshape[0][0]',                \n",
            "                                                                  'reshape_1[0][0]']              \n",
            "                                                                                                  \n",
            " dense_1 (Dense)                (None, 1, 1, 32)     160         ['dense[0][0]',                  \n",
            "                                                                  'dense[1][0]']                  \n",
            "                                                                                                  \n",
            " add (Add)                      (None, 1, 1, 32)     0           ['dense_1[0][0]',                \n",
            "                                                                  'dense_1[1][0]']                \n",
            "                                                                                                  \n",
            " activation (Activation)        (None, 1, 1, 32)     0           ['add[0][0]']                    \n",
            "                                                                                                  \n",
            " multiply (Multiply)            (None, 128, 128, 32  0           ['max_pooling2d[0][0]',          \n",
            "                                )                                 'activation[0][0]']             \n",
            "                                                                                                  \n",
            " lambda (Lambda)                (None, 128, 128, 1)  0           ['multiply[0][0]']               \n",
            "                                                                                                  \n",
            " lambda_1 (Lambda)              (None, 128, 128, 1)  0           ['multiply[0][0]']               \n",
            "                                                                                                  \n",
            " concatenate (Concatenate)      (None, 128, 128, 2)  0           ['lambda[0][0]',                 \n",
            "                                                                  'lambda_1[0][0]']               \n",
            "                                                                                                  \n",
            " conv2d (Conv2D)                (None, 128, 128, 1)  98          ['concatenate[0][0]']            \n",
            "                                                                                                  \n",
            " multiply_1 (Multiply)          (None, 128, 128, 32  0           ['multiply[0][0]',               \n",
            "                                )                                 'conv2d[0][0]']                 \n",
            "                                                                                                  \n",
            " add_1 (Add)                    (None, 128, 128, 32  0           ['max_pooling2d[0][0]',          \n",
            "                                )                                 'multiply_1[0][0]']             \n",
            "                                                                                                  \n",
            " conv_2 (Conv2D)                (None, 128, 128, 64  18496       ['add_1[0][0]']                  \n",
            "                                )                                                                 \n",
            "                                                                                                  \n",
            " dropout (Dropout)              (None, 128, 128, 64  0           ['conv_2[0][0]']                 \n",
            "                                )                                                                 \n",
            "                                                                                                  \n",
            " norm_2 (BatchNormalization)    (None, 128, 128, 64  256         ['dropout[0][0]']                \n",
            "                                )                                                                 \n",
            "                                                                                                  \n",
            " max_pooling2d_1 (MaxPooling2D)  (None, 64, 64, 64)  0           ['norm_2[0][0]']                 \n",
            "                                                                                                  \n",
            " global_average_pooling2d_1 (Gl  (None, 64)          0           ['max_pooling2d_1[0][0]']        \n",
            " obalAveragePooling2D)                                                                            \n",
            "                                                                                                  \n",
            " global_max_pooling2d_1 (Global  (None, 64)          0           ['max_pooling2d_1[0][0]']        \n",
            " MaxPooling2D)                                                                                    \n",
            "                                                                                                  \n",
            " reshape_2 (Reshape)            (None, 1, 1, 64)     0           ['global_average_pooling2d_1[0][0\n",
            "                                                                 ]']                              \n",
            "                                                                                                  \n",
            " reshape_3 (Reshape)            (None, 1, 1, 64)     0           ['global_max_pooling2d_1[0][0]'] \n",
            "                                                                                                  \n",
            " dense_2 (Dense)                (None, 1, 1, 8)      520         ['reshape_2[0][0]',              \n",
            "                                                                  'reshape_3[0][0]']              \n",
            "                                                                                                  \n",
            " dense_3 (Dense)                (None, 1, 1, 64)     576         ['dense_2[0][0]',                \n",
            "                                                                  'dense_2[1][0]']                \n",
            "                                                                                                  \n",
            " add_2 (Add)                    (None, 1, 1, 64)     0           ['dense_3[0][0]',                \n",
            "                                                                  'dense_3[1][0]']                \n",
            "                                                                                                  \n",
            " activation_1 (Activation)      (None, 1, 1, 64)     0           ['add_2[0][0]']                  \n",
            "                                                                                                  \n",
            " multiply_2 (Multiply)          (None, 64, 64, 64)   0           ['max_pooling2d_1[0][0]',        \n",
            "                                                                  'activation_1[0][0]']           \n",
            "                                                                                                  \n",
            " lambda_2 (Lambda)              (None, 64, 64, 1)    0           ['multiply_2[0][0]']             \n",
            "                                                                                                  \n",
            " lambda_3 (Lambda)              (None, 64, 64, 1)    0           ['multiply_2[0][0]']             \n",
            "                                                                                                  \n",
            " concatenate_1 (Concatenate)    (None, 64, 64, 2)    0           ['lambda_2[0][0]',               \n",
            "                                                                  'lambda_3[0][0]']               \n",
            "                                                                                                  \n",
            " conv2d_1 (Conv2D)              (None, 64, 64, 1)    98          ['concatenate_1[0][0]']          \n",
            "                                                                                                  \n",
            " multiply_3 (Multiply)          (None, 64, 64, 64)   0           ['multiply_2[0][0]',             \n",
            "                                                                  'conv2d_1[0][0]']               \n",
            "                                                                                                  \n",
            " add_3 (Add)                    (None, 64, 64, 64)   0           ['max_pooling2d_1[0][0]',        \n",
            "                                                                  'multiply_3[0][0]']             \n",
            "                                                                                                  \n",
            " conv_3 (Conv2D)                (None, 64, 64, 64)   36928       ['add_3[0][0]']                  \n",
            "                                                                                                  \n",
            " norm_3 (BatchNormalization)    (None, 64, 64, 64)   256         ['conv_3[0][0]']                 \n",
            "                                                                                                  \n",
            " max_pooling2d_2 (MaxPooling2D)  (None, 32, 32, 64)  0           ['norm_3[0][0]']                 \n",
            "                                                                                                  \n",
            " global_average_pooling2d_2 (Gl  (None, 64)          0           ['max_pooling2d_2[0][0]']        \n",
            " obalAveragePooling2D)                                                                            \n",
            "                                                                                                  \n",
            " global_max_pooling2d_2 (Global  (None, 64)          0           ['max_pooling2d_2[0][0]']        \n",
            " MaxPooling2D)                                                                                    \n",
            "                                                                                                  \n",
            " reshape_4 (Reshape)            (None, 1, 1, 64)     0           ['global_average_pooling2d_2[0][0\n",
            "                                                                 ]']                              \n",
            "                                                                                                  \n",
            " reshape_5 (Reshape)            (None, 1, 1, 64)     0           ['global_max_pooling2d_2[0][0]'] \n",
            "                                                                                                  \n",
            " dense_4 (Dense)                (None, 1, 1, 8)      520         ['reshape_4[0][0]',              \n",
            "                                                                  'reshape_5[0][0]']              \n",
            "                                                                                                  \n",
            " dense_5 (Dense)                (None, 1, 1, 64)     576         ['dense_4[0][0]',                \n",
            "                                                                  'dense_4[1][0]']                \n",
            "                                                                                                  \n",
            " add_4 (Add)                    (None, 1, 1, 64)     0           ['dense_5[0][0]',                \n",
            "                                                                  'dense_5[1][0]']                \n",
            "                                                                                                  \n",
            " activation_2 (Activation)      (None, 1, 1, 64)     0           ['add_4[0][0]']                  \n",
            "                                                                                                  \n",
            " multiply_4 (Multiply)          (None, 32, 32, 64)   0           ['max_pooling2d_2[0][0]',        \n",
            "                                                                  'activation_2[0][0]']           \n",
            "                                                                                                  \n",
            " lambda_4 (Lambda)              (None, 32, 32, 1)    0           ['multiply_4[0][0]']             \n",
            "                                                                                                  \n",
            " lambda_5 (Lambda)              (None, 32, 32, 1)    0           ['multiply_4[0][0]']             \n",
            "                                                                                                  \n",
            " concatenate_2 (Concatenate)    (None, 32, 32, 2)    0           ['lambda_4[0][0]',               \n",
            "                                                                  'lambda_5[0][0]']               \n",
            "                                                                                                  \n",
            " conv2d_2 (Conv2D)              (None, 32, 32, 1)    98          ['concatenate_2[0][0]']          \n",
            "                                                                                                  \n",
            " multiply_5 (Multiply)          (None, 32, 32, 64)   0           ['multiply_4[0][0]',             \n",
            "                                                                  'conv2d_2[0][0]']               \n",
            "                                                                                                  \n",
            " add_5 (Add)                    (None, 32, 32, 64)   0           ['max_pooling2d_2[0][0]',        \n",
            "                                                                  'multiply_5[0][0]']             \n",
            "                                                                                                  \n",
            " conv_4 (Conv2D)                (None, 32, 32, 128)  73856       ['add_5[0][0]']                  \n",
            "                                                                                                  \n",
            " dropout_1 (Dropout)            (None, 32, 32, 128)  0           ['conv_4[0][0]']                 \n",
            "                                                                                                  \n",
            " norm_4 (BatchNormalization)    (None, 32, 32, 128)  512         ['dropout_1[0][0]']              \n",
            "                                                                                                  \n",
            " max_pooling2d_3 (MaxPooling2D)  (None, 16, 16, 128)  0          ['norm_4[0][0]']                 \n",
            "                                                                                                  \n",
            " global_average_pooling2d_3 (Gl  (None, 128)         0           ['max_pooling2d_3[0][0]']        \n",
            " obalAveragePooling2D)                                                                            \n",
            "                                                                                                  \n",
            " global_max_pooling2d_3 (Global  (None, 128)         0           ['max_pooling2d_3[0][0]']        \n",
            " MaxPooling2D)                                                                                    \n",
            "                                                                                                  \n",
            " reshape_6 (Reshape)            (None, 1, 1, 128)    0           ['global_average_pooling2d_3[0][0\n",
            "                                                                 ]']                              \n",
            "                                                                                                  \n",
            " reshape_7 (Reshape)            (None, 1, 1, 128)    0           ['global_max_pooling2d_3[0][0]'] \n",
            "                                                                                                  \n",
            " dense_6 (Dense)                (None, 1, 1, 16)     2064        ['reshape_6[0][0]',              \n",
            "                                                                  'reshape_7[0][0]']              \n",
            "                                                                                                  \n",
            " dense_7 (Dense)                (None, 1, 1, 128)    2176        ['dense_6[0][0]',                \n",
            "                                                                  'dense_6[1][0]']                \n",
            "                                                                                                  \n",
            " add_6 (Add)                    (None, 1, 1, 128)    0           ['dense_7[0][0]',                \n",
            "                                                                  'dense_7[1][0]']                \n",
            "                                                                                                  \n",
            " activation_3 (Activation)      (None, 1, 1, 128)    0           ['add_6[0][0]']                  \n",
            "                                                                                                  \n",
            " multiply_6 (Multiply)          (None, 16, 16, 128)  0           ['max_pooling2d_3[0][0]',        \n",
            "                                                                  'activation_3[0][0]']           \n",
            "                                                                                                  \n",
            " lambda_6 (Lambda)              (None, 16, 16, 1)    0           ['multiply_6[0][0]']             \n",
            "                                                                                                  \n",
            " lambda_7 (Lambda)              (None, 16, 16, 1)    0           ['multiply_6[0][0]']             \n",
            "                                                                                                  \n",
            " concatenate_3 (Concatenate)    (None, 16, 16, 2)    0           ['lambda_6[0][0]',               \n",
            "                                                                  'lambda_7[0][0]']               \n",
            "                                                                                                  \n",
            " conv2d_3 (Conv2D)              (None, 16, 16, 1)    98          ['concatenate_3[0][0]']          \n",
            "                                                                                                  \n",
            " multiply_7 (Multiply)          (None, 16, 16, 128)  0           ['multiply_6[0][0]',             \n",
            "                                                                  'conv2d_3[0][0]']               \n",
            "                                                                                                  \n",
            " add_7 (Add)                    (None, 16, 16, 128)  0           ['max_pooling2d_3[0][0]',        \n",
            "                                                                  'multiply_7[0][0]']             \n",
            "                                                                                                  \n",
            " conv_5 (Conv2D)                (None, 16, 16, 256)  295168      ['add_7[0][0]']                  \n",
            "                                                                                                  \n",
            " dropout_2 (Dropout)            (None, 16, 16, 256)  0           ['conv_5[0][0]']                 \n",
            "                                                                                                  \n",
            " norm_5 (BatchNormalization)    (None, 16, 16, 256)  1024        ['dropout_2[0][0]']              \n",
            "                                                                                                  \n",
            " flatten (Flatten)              (None, 65536)        0           ['norm_5[0][0]']                 \n",
            "                                                                                                  \n",
            " dense_8 (Dense)                (None, 128)          8388736     ['flatten[0][0]']                \n",
            "                                                                                                  \n",
            " dropout_3 (Dropout)            (None, 128)          0           ['dense_8[0][0]']                \n",
            "                                                                                                  \n",
            " dense_9 (Dense)                (None, 3)            387         ['dropout_3[0][0]']              \n",
            "                                                                                                  \n",
            "==================================================================================================\n",
            "Total params: 8,823,759\n",
            "Trainable params: 8,822,671\n",
            "Non-trainable params: 1,088\n",
            "__________________________________________________________________________________________________\n",
            "None\n",
            "<keras.engine.functional.Functional object at 0x7f40c0199310>\n"
          ]
        }
      ],
      "source": [
        "print(model.summary())\n",
        "print(model)"
      ]
    },
    {
      "cell_type": "code",
      "execution_count": 24,
      "metadata": {
        "id": "NIABPyRMYycd"
      },
      "outputs": [],
      "source": [
        "X = []\n",
        "Y = []\n",
        "def transferBetweenFolders(source, dest, splitRate): \n",
        "    global sourceFiles\n",
        "    sourceFiles=os.listdir(source)\n",
        "    if(len(sourceFiles)!=0):\n",
        "        transferFileNumbers=int(len(sourceFiles)*splitRate)\n",
        "        transferIndex=random.sample(range(0, len(sourceFiles)), transferFileNumbers)\n",
        "        for eachIndex in transferIndex:\n",
        "            shutil.move(source+str(sourceFiles[eachIndex]), dest+str(sourceFiles[eachIndex]))\n",
        "    else:\n",
        "        print(\"No file moved. Source empty!\")\n",
        "        "
      ]
    },
    {
      "cell_type": "code",
      "execution_count": 25,
      "metadata": {
        "id": "Fh0THhOaY0Da"
      },
      "outputs": [],
      "source": [
        "def transferAllClassBetweenFolders(source, dest, splitRate):\n",
        "    for label in classLabels:\n",
        "        transferBetweenFolders(sourcePath+'/'+source+'/'+label+'/', \n",
        "                               sourcePath+'/'+dest+'/'+label+'/', \n",
        "                               splitRate)\n",
        "#First cut all images from validation to train (if any exists)\n",
        "transferAllClassBetweenFolders('valid', 'train', 1.0)\n",
        "#no valid\n",
        "transferAllClassBetweenFolders('test', 'train', 1.0)"
      ]
    },
    {
      "cell_type": "code",
      "execution_count": 26,
      "metadata": {
        "id": "bvS9lltuY5_4"
      },
      "outputs": [],
      "source": [
        "def prepareNameWithLabels(folderName):\n",
        "    sourceFiles=os.listdir(sourcePath+'/train/'+folderName)\n",
        "    for val in sourceFiles:\n",
        "        X.append(val)\n",
        "        for i in range(len(classLabels)):\n",
        "          if(folderName==classLabels[i]):\n",
        "              Y.append(i)\n",
        "# Organize file names and class labels in X and Y variables\n",
        "for i in range(len(classLabels)):\n",
        "  prepareNameWithLabels(classLabels[i])\n",
        "\n",
        "def my_metrics(y_true, y_pred):\n",
        "    accuracy=accuracy_score(y_true, y_pred)\n",
        "    precision=precision_score(y_true, y_pred,average='micro')\n",
        "    f1Score=f1_score(y_true, y_pred, average='micro') \n",
        "    recall = recall_score(y_true, y_pred, average='micro')\n",
        "    print(\"Accuracy  : {}\".format(accuracy))\n",
        "    print(\"Precision : {}\".format(precision))\n",
        "    print(\"f1Score : {}\".format(f1Score))\n",
        "    print(\"Recall : {}\".format(recall))\n",
        "    cm=confusion_matrix(y_true, y_pred)\n",
        "    print(cm)\n",
        "\n",
        "    print(\"***----------------------------***\")  \n",
        "    return accuracy, precision, f1Score, recall"
      ]
    },
    {
      "cell_type": "code",
      "execution_count": 27,
      "metadata": {
        "colab": {
          "base_uri": "https://localhost:8080/"
        },
        "id": "7hjflR4gZW0Y",
        "outputId": "db34ceeb-6f6d-4f24-c9aa-325518a3b7b9"
      },
      "outputs": [
        {
          "output_type": "stream",
          "name": "stdout",
          "text": [
            "No file moved. Source empty!\n",
            "No file moved. Source empty!\n",
            "No file moved. Source empty!\n",
            "No file moved. Source empty!\n",
            "No file moved. Source empty!\n",
            "No file moved. Source empty!\n",
            "['COVID(50).png' 'COVID(25).png' 'COVID(34).png' ...\n",
            " 'person260_bacteria_1224.jpeg' 'person263_bacteria_1227.jpeg'\n",
            " 'person259_bacteria_1220.jpeg']\n",
            "[0 0 0 ... 2 2 2]\n",
            "StratifiedKFold(n_splits=5, random_state=None, shuffle=True)\n",
            "5\n",
            "<generator object _BaseKFold.split at 0x7f40c01091d0>\n"
          ]
        }
      ],
      "source": [
        "transferAllClassBetweenFolders('valid', 'train', 1.0)\n",
        "transferAllClassBetweenFolders('test', 'train', 1.0)\n",
        "X=np.asarray(X)\n",
        "Y=np.asarray(Y)\n",
        "\n",
        "print(X)\n",
        "print(Y)\n",
        "\n",
        "skf = StratifiedKFold(n_splits=5\n",
        "                      , shuffle=True)\n",
        "skf.get_n_splits(X, Y)\n",
        "print(skf)\n",
        "print(skf.get_n_splits(X,Y))\n",
        "print(skf.split(X,Y))\n",
        "foldNum=0\n",
        "overAllAcc = 0\n",
        "overAllPrec = 0\n",
        "overAllf1 = 0\n",
        "overAllRec = 0"
      ]
    },
    {
      "cell_type": "code",
      "execution_count": 28,
      "metadata": {
        "colab": {
          "base_uri": "https://localhost:8080/",
          "height": 1000
        },
        "id": "TsQVUi57ZDHg",
        "outputId": "6bfb9e91-3007-40e2-d4b2-ade38f5630c4"
      },
      "outputs": [
        {
          "output_type": "stream",
          "name": "stdout",
          "text": [
            "trn_indx: 2160 test_indx: 540\n",
            "No file moved. Source empty!\n",
            "No file moved. Source empty!\n",
            "No file moved. Source empty!\n",
            "No file moved. Source empty!\n",
            "No file moved. Source empty!\n",
            "No file moved. Source empty!\n",
            "Results for fold 1\n",
            "2160\n",
            "540\n",
            "Found 2160 images belonging to 3 classes.\n",
            "Found 540 images belonging to 3 classes.\n",
            "Epoch 1/25\n",
            "68/68 - 350s - loss: 0.6401 - accuracy: 0.8949 - 350s/epoch - 5s/step\n",
            "Epoch 2/25\n",
            "68/68 - 26s - loss: 0.2154 - accuracy: 0.9449 - 26s/epoch - 376ms/step\n",
            "Epoch 3/25\n",
            "68/68 - 25s - loss: 0.1272 - accuracy: 0.9620 - 25s/epoch - 373ms/step\n",
            "Epoch 4/25\n",
            "68/68 - 25s - loss: 0.0756 - accuracy: 0.9741 - 25s/epoch - 368ms/step\n",
            "Epoch 5/25\n",
            "68/68 - 25s - loss: 0.1669 - accuracy: 0.9634 - 25s/epoch - 366ms/step\n",
            "Epoch 6/25\n",
            "68/68 - 25s - loss: 0.2501 - accuracy: 0.9449 - 25s/epoch - 365ms/step\n",
            "Epoch 7/25\n",
            "68/68 - 25s - loss: 0.0845 - accuracy: 0.9722 - 25s/epoch - 367ms/step\n",
            "Epoch 8/25\n",
            "68/68 - 25s - loss: 0.0625 - accuracy: 0.9787 - 25s/epoch - 362ms/step\n",
            "Epoch 9/25\n",
            "68/68 - 24s - loss: 0.0473 - accuracy: 0.9815 - 24s/epoch - 359ms/step\n",
            "Epoch 10/25\n",
            "68/68 - 24s - loss: 0.0279 - accuracy: 0.9935 - 24s/epoch - 355ms/step\n",
            "Epoch 11/25\n",
            "68/68 - 25s - loss: 0.0326 - accuracy: 0.9912 - 25s/epoch - 363ms/step\n",
            "Epoch 12/25\n",
            "68/68 - 25s - loss: 0.0176 - accuracy: 0.9944 - 25s/epoch - 362ms/step\n",
            "Epoch 13/25\n",
            "68/68 - 25s - loss: 0.0159 - accuracy: 0.9931 - 25s/epoch - 360ms/step\n",
            "Epoch 14/25\n",
            "68/68 - 24s - loss: 0.0278 - accuracy: 0.9926 - 24s/epoch - 357ms/step\n",
            "Epoch 15/25\n",
            "68/68 - 25s - loss: 0.4641 - accuracy: 0.9301 - 25s/epoch - 365ms/step\n",
            "Epoch 16/25\n",
            "68/68 - 24s - loss: 0.1501 - accuracy: 0.9593 - 24s/epoch - 359ms/step\n",
            "Epoch 17/25\n",
            "68/68 - 24s - loss: 0.0702 - accuracy: 0.9764 - 24s/epoch - 359ms/step\n",
            "Epoch 18/25\n",
            "68/68 - 24s - loss: 0.0337 - accuracy: 0.9856 - 24s/epoch - 355ms/step\n",
            "Epoch 19/25\n",
            "68/68 - 24s - loss: 0.0291 - accuracy: 0.9884 - 24s/epoch - 356ms/step\n",
            "Epoch 20/25\n",
            "68/68 - 24s - loss: 0.0528 - accuracy: 0.9843 - 24s/epoch - 354ms/step\n",
            "Epoch 21/25\n",
            "68/68 - 24s - loss: 0.0289 - accuracy: 0.9912 - 24s/epoch - 352ms/step\n",
            "Epoch 22/25\n",
            "68/68 - 24s - loss: 0.0192 - accuracy: 0.9917 - 24s/epoch - 354ms/step\n",
            "Epoch 23/25\n",
            "68/68 - 23s - loss: 0.0145 - accuracy: 0.9954 - 23s/epoch - 345ms/step\n",
            "Epoch 24/25\n",
            "68/68 - 24s - loss: 0.0153 - accuracy: 0.9944 - 24s/epoch - 350ms/step\n",
            "Epoch 25/25\n",
            "68/68 - 24s - loss: 0.0156 - accuracy: 0.9958 - 24s/epoch - 359ms/step\n"
          ]
        },
        {
          "output_type": "display_data",
          "data": {
            "text/plain": [
              "<Figure size 432x288 with 1 Axes>"
            ],
            "image/png": "[encoded data removed]"
          },
          "metadata": {
            "needs_background": "light"
          }
        },
        {
          "output_type": "display_data",
          "data": {
            "text/plain": [
              "<Figure size 432x288 with 1 Axes>"
            ],
            "image/png": "[encoded data removed]"
          },
          "metadata": {
            "needs_background": "light"
          }
        },
        {
          "output_type": "stream",
          "name": "stdout",
          "text": [
            "***Performance Data***\n",
            "Accuracy  : 0.9259259259259259\n",
            "Precision : 0.9259259259259259\n",
            "f1Score : 0.9259259259259259\n",
            "Recall : 0.9259259259259259\n",
            "[[168   6   6]\n",
            " [  2 153  25]\n",
            " [  1   0 179]]\n",
            "***----------------------------***\n",
            "17/17 [==============================] - 7s 384ms/step - loss: 0.3611 - accuracy: 0.9259\n",
            "***-----------------------------------------------***\n",
            "Overall Accuracy:  0.9259259259259259\n",
            "Overall Precision:  0.9259259259259259\n",
            "Overall f1Score:  0.9259259259259259\n",
            "Overall Recall:  0.9259259259259259\n",
            "***------------------End of Line------------------***\n",
            "trn_indx: 2160 test_indx: 540\n",
            "No file moved. Source empty!\n",
            "No file moved. Source empty!\n",
            "No file moved. Source empty!\n",
            "Results for fold 2\n",
            "2160\n",
            "540\n",
            "Found 2160 images belonging to 3 classes.\n",
            "Found 540 images belonging to 3 classes.\n",
            "Epoch 1/25\n",
            "68/68 - 26s - loss: 0.0555 - accuracy: 0.9866 - 26s/epoch - 376ms/step\n",
            "Epoch 2/25\n",
            "68/68 - 26s - loss: 0.0867 - accuracy: 0.9769 - 26s/epoch - 375ms/step\n",
            "Epoch 3/25\n",
            "68/68 - 25s - loss: 0.0224 - accuracy: 0.9912 - 25s/epoch - 372ms/step\n",
            "Epoch 4/25\n",
            "68/68 - 25s - loss: 0.0244 - accuracy: 0.9907 - 25s/epoch - 368ms/step\n",
            "Epoch 5/25\n",
            "68/68 - 25s - loss: 0.0084 - accuracy: 0.9977 - 25s/epoch - 363ms/step\n",
            "Epoch 6/25\n",
            "68/68 - 25s - loss: 0.0049 - accuracy: 0.9991 - 25s/epoch - 361ms/step\n",
            "Epoch 7/25\n",
            "68/68 - 25s - loss: 0.0092 - accuracy: 0.9972 - 25s/epoch - 362ms/step\n",
            "Epoch 8/25\n",
            "68/68 - 24s - loss: 0.0091 - accuracy: 0.9968 - 24s/epoch - 356ms/step\n",
            "Epoch 9/25\n",
            "68/68 - 25s - loss: 0.0063 - accuracy: 0.9972 - 25s/epoch - 368ms/step\n",
            "Epoch 10/25\n",
            "68/68 - 25s - loss: 0.0103 - accuracy: 0.9963 - 25s/epoch - 363ms/step\n",
            "Epoch 11/25\n",
            "68/68 - 25s - loss: 0.0086 - accuracy: 0.9968 - 25s/epoch - 369ms/step\n",
            "Epoch 12/25\n",
            "68/68 - 25s - loss: 0.0610 - accuracy: 0.9856 - 25s/epoch - 364ms/step\n",
            "Epoch 13/25\n",
            "68/68 - 25s - loss: 0.0500 - accuracy: 0.9852 - 25s/epoch - 363ms/step\n",
            "Epoch 14/25\n",
            "68/68 - 24s - loss: 0.0443 - accuracy: 0.9921 - 24s/epoch - 358ms/step\n",
            "Epoch 15/25\n",
            "68/68 - 24s - loss: 0.0118 - accuracy: 0.9968 - 24s/epoch - 356ms/step\n",
            "Epoch 16/25\n",
            "68/68 - 24s - loss: 0.0160 - accuracy: 0.9940 - 24s/epoch - 356ms/step\n",
            "Epoch 17/25\n",
            "68/68 - 24s - loss: 0.0056 - accuracy: 0.9968 - 24s/epoch - 356ms/step\n",
            "Epoch 18/25\n",
            "68/68 - 24s - loss: 0.0162 - accuracy: 0.9958 - 24s/epoch - 358ms/step\n",
            "Epoch 19/25\n",
            "68/68 - 24s - loss: 0.0092 - accuracy: 0.9963 - 24s/epoch - 358ms/step\n",
            "Epoch 20/25\n",
            "68/68 - 24s - loss: 0.0191 - accuracy: 0.9968 - 24s/epoch - 353ms/step\n",
            "Epoch 21/25\n",
            "68/68 - 24s - loss: 0.0447 - accuracy: 0.9875 - 24s/epoch - 357ms/step\n",
            "Epoch 22/25\n",
            "68/68 - 24s - loss: 0.0293 - accuracy: 0.9889 - 24s/epoch - 359ms/step\n",
            "Epoch 23/25\n",
            "68/68 - 25s - loss: 0.0936 - accuracy: 0.9829 - 25s/epoch - 360ms/step\n",
            "Epoch 24/25\n",
            "68/68 - 24s - loss: 0.0147 - accuracy: 0.9935 - 24s/epoch - 352ms/step\n",
            "Epoch 25/25\n",
            "68/68 - 24s - loss: 0.0190 - accuracy: 0.9926 - 24s/epoch - 359ms/step\n"
          ]
        },
        {
          "output_type": "display_data",
          "data": {
            "text/plain": [
              "<Figure size 432x288 with 1 Axes>"
            ],
            "image/png": "[encoded data removed]"
          },
          "metadata": {
            "needs_background": "light"
          }
        },
        {
          "output_type": "display_data",
          "data": {
            "text/plain": [
              "<Figure size 432x288 with 1 Axes>"
            ],
            "image/png": "[encoded data removed]"
          },
          "metadata": {
            "needs_background": "light"
          }
        },
        {
          "output_type": "stream",
          "name": "stdout",
          "text": [
            "***Performance Data***\n",
            "Accuracy  : 0.8851851851851852\n",
            "Precision : 0.8851851851851852\n",
            "f1Score : 0.8851851851851851\n",
            "Recall : 0.8851851851851852\n",
            "[[180   0   0]\n",
            " [ 13 121  46]\n",
            " [  3   0 177]]\n",
            "***----------------------------***\n",
            "17/17 [==============================] - 6s 372ms/step - loss: 0.2890 - accuracy: 0.8852\n",
            "***-----------------------------------------------***\n",
            "Overall Accuracy:  0.9055555555555556\n",
            "Overall Precision:  0.9055555555555556\n",
            "Overall f1Score:  0.9055555555555554\n",
            "Overall Recall:  0.9055555555555556\n",
            "***------------------End of Line------------------***\n",
            "trn_indx: 2160 test_indx: 540\n",
            "No file moved. Source empty!\n",
            "No file moved. Source empty!\n",
            "No file moved. Source empty!\n",
            "Results for fold 3\n",
            "2160\n",
            "540\n",
            "Found 2160 images belonging to 3 classes.\n",
            "Found 540 images belonging to 3 classes.\n",
            "Epoch 1/25\n",
            "68/68 - 24s - loss: 0.0462 - accuracy: 0.9884 - 24s/epoch - 353ms/step\n",
            "Epoch 2/25\n",
            "68/68 - 24s - loss: 0.0362 - accuracy: 0.9903 - 24s/epoch - 355ms/step\n",
            "Epoch 3/25\n",
            "68/68 - 25s - loss: 0.0191 - accuracy: 0.9940 - 25s/epoch - 361ms/step\n",
            "Epoch 4/25\n",
            "68/68 - 24s - loss: 0.0157 - accuracy: 0.9958 - 24s/epoch - 356ms/step\n",
            "Epoch 5/25\n",
            "68/68 - 24s - loss: 0.0082 - accuracy: 0.9977 - 24s/epoch - 356ms/step\n",
            "Epoch 6/25\n",
            "68/68 - 24s - loss: 0.0067 - accuracy: 0.9968 - 24s/epoch - 360ms/step\n",
            "Epoch 7/25\n",
            "68/68 - 25s - loss: 0.0037 - accuracy: 0.9986 - 25s/epoch - 363ms/step\n",
            "Epoch 8/25\n",
            "68/68 - 25s - loss: 0.0237 - accuracy: 0.9958 - 25s/epoch - 367ms/step\n",
            "Epoch 9/25\n",
            "68/68 - 25s - loss: 0.0383 - accuracy: 0.9921 - 25s/epoch - 373ms/step\n",
            "Epoch 10/25\n",
            "68/68 - 25s - loss: 0.0233 - accuracy: 0.9958 - 25s/epoch - 362ms/step\n",
            "Epoch 11/25\n",
            "68/68 - 25s - loss: 0.0330 - accuracy: 0.9903 - 25s/epoch - 368ms/step\n",
            "Epoch 12/25\n",
            "68/68 - 25s - loss: 0.0094 - accuracy: 0.9981 - 25s/epoch - 375ms/step\n",
            "Epoch 13/25\n",
            "68/68 - 24s - loss: 0.0084 - accuracy: 0.9968 - 24s/epoch - 358ms/step\n",
            "Epoch 14/25\n",
            "68/68 - 25s - loss: 0.0462 - accuracy: 0.9912 - 25s/epoch - 363ms/step\n",
            "Epoch 15/25\n",
            "68/68 - 24s - loss: 0.0263 - accuracy: 0.9944 - 24s/epoch - 357ms/step\n",
            "Epoch 16/25\n",
            "68/68 - 24s - loss: 0.0203 - accuracy: 0.9958 - 24s/epoch - 359ms/step\n",
            "Epoch 17/25\n",
            "68/68 - 24s - loss: 0.0179 - accuracy: 0.9935 - 24s/epoch - 349ms/step\n",
            "Epoch 18/25\n",
            "68/68 - 24s - loss: 0.0110 - accuracy: 0.9972 - 24s/epoch - 351ms/step\n",
            "Epoch 19/25\n",
            "68/68 - 24s - loss: 0.0060 - accuracy: 0.9986 - 24s/epoch - 350ms/step\n",
            "Epoch 20/25\n",
            "68/68 - 24s - loss: 9.7465e-04 - accuracy: 1.0000 - 24s/epoch - 346ms/step\n",
            "Epoch 21/25\n",
            "68/68 - 24s - loss: 0.0084 - accuracy: 0.9981 - 24s/epoch - 352ms/step\n",
            "Epoch 22/25\n",
            "68/68 - 24s - loss: 0.0043 - accuracy: 0.9981 - 24s/epoch - 346ms/step\n",
            "Epoch 23/25\n",
            "68/68 - 24s - loss: 0.0041 - accuracy: 0.9981 - 24s/epoch - 347ms/step\n",
            "Epoch 24/25\n",
            "68/68 - 24s - loss: 0.0342 - accuracy: 0.9931 - 24s/epoch - 354ms/step\n",
            "Epoch 25/25\n",
            "68/68 - 24s - loss: 0.0385 - accuracy: 0.9944 - 24s/epoch - 350ms/step\n"
          ]
        },
        {
          "output_type": "display_data",
          "data": {
            "text/plain": [
              "<Figure size 432x288 with 1 Axes>"
            ],
            "image/png": "[encoded data removed]"
          },
          "metadata": {
            "needs_background": "light"
          }
        },
        {
          "output_type": "display_data",
          "data": {
            "text/plain": [
              "<Figure size 432x288 with 1 Axes>"
            ],
            "image/png": "[encoded data removed]"
          },
          "metadata": {
            "needs_background": "light"
          }
        },
        {
          "output_type": "stream",
          "name": "stdout",
          "text": [
            "***Performance Data***\n",
            "Accuracy  : 0.9425925925925925\n",
            "Precision : 0.9425925925925925\n",
            "f1Score : 0.9425925925925925\n",
            "Recall : 0.9425925925925925\n",
            "[[172   8   0]\n",
            " [  0 180   0]\n",
            " [  5  18 157]]\n",
            "***----------------------------***\n",
            "17/17 [==============================] - 6s 372ms/step - loss: 0.3935 - accuracy: 0.9426\n",
            "***-----------------------------------------------***\n",
            "Overall Accuracy:  0.9179012345679012\n",
            "Overall Precision:  0.9179012345679012\n",
            "Overall f1Score:  0.9179012345679012\n",
            "Overall Recall:  0.9179012345679012\n",
            "***------------------End of Line------------------***\n",
            "trn_indx: 2160 test_indx: 540\n",
            "No file moved. Source empty!\n",
            "No file moved. Source empty!\n",
            "No file moved. Source empty!\n",
            "Results for fold 4\n",
            "2160\n",
            "540\n",
            "Found 2160 images belonging to 3 classes.\n",
            "Found 540 images belonging to 3 classes.\n",
            "Epoch 1/25\n",
            "68/68 - 24s - loss: 0.0706 - accuracy: 0.9866 - 24s/epoch - 357ms/step\n",
            "Epoch 2/25\n",
            "68/68 - 24s - loss: 0.0552 - accuracy: 0.9856 - 24s/epoch - 351ms/step\n",
            "Epoch 3/25\n",
            "68/68 - 24s - loss: 0.0253 - accuracy: 0.9917 - 24s/epoch - 349ms/step\n",
            "Epoch 4/25\n",
            "68/68 - 23s - loss: 0.0062 - accuracy: 0.9986 - 23s/epoch - 342ms/step\n",
            "Epoch 5/25\n",
            "68/68 - 23s - loss: 0.0098 - accuracy: 0.9981 - 23s/epoch - 340ms/step\n",
            "Epoch 6/25\n",
            "68/68 - 23s - loss: 0.0118 - accuracy: 0.9968 - 23s/epoch - 343ms/step\n",
            "Epoch 7/25\n",
            "68/68 - 24s - loss: 0.0164 - accuracy: 0.9944 - 24s/epoch - 346ms/step\n",
            "Epoch 8/25\n",
            "68/68 - 23s - loss: 0.0071 - accuracy: 0.9981 - 23s/epoch - 345ms/step\n",
            "Epoch 9/25\n",
            "68/68 - 24s - loss: 0.0173 - accuracy: 0.9958 - 24s/epoch - 347ms/step\n",
            "Epoch 10/25\n",
            "68/68 - 23s - loss: 0.0486 - accuracy: 0.9907 - 23s/epoch - 343ms/step\n",
            "Epoch 11/25\n",
            "68/68 - 23s - loss: 0.0256 - accuracy: 0.9931 - 23s/epoch - 344ms/step\n",
            "Epoch 12/25\n",
            "68/68 - 23s - loss: 0.0224 - accuracy: 0.9949 - 23s/epoch - 344ms/step\n",
            "Epoch 13/25\n",
            "68/68 - 23s - loss: 0.0295 - accuracy: 0.9935 - 23s/epoch - 344ms/step\n",
            "Epoch 14/25\n",
            "68/68 - 24s - loss: 0.0923 - accuracy: 0.9894 - 24s/epoch - 346ms/step\n",
            "Epoch 15/25\n",
            "68/68 - 24s - loss: 0.1372 - accuracy: 0.9847 - 24s/epoch - 347ms/step\n",
            "Epoch 16/25\n",
            "68/68 - 23s - loss: 0.0248 - accuracy: 0.9907 - 23s/epoch - 345ms/step\n",
            "Epoch 17/25\n",
            "68/68 - 23s - loss: 0.0464 - accuracy: 0.9898 - 23s/epoch - 346ms/step\n",
            "Epoch 18/25\n",
            "68/68 - 24s - loss: 0.0174 - accuracy: 0.9944 - 24s/epoch - 347ms/step\n",
            "Epoch 19/25\n",
            "68/68 - 23s - loss: 0.0148 - accuracy: 0.9958 - 23s/epoch - 344ms/step\n",
            "Epoch 20/25\n",
            "68/68 - 25s - loss: 0.0047 - accuracy: 0.9986 - 25s/epoch - 362ms/step\n",
            "Epoch 21/25\n",
            "68/68 - 26s - loss: 0.0038 - accuracy: 0.9991 - 26s/epoch - 388ms/step\n",
            "Epoch 22/25\n",
            "68/68 - 27s - loss: 0.0054 - accuracy: 0.9986 - 27s/epoch - 397ms/step\n",
            "Epoch 23/25\n",
            "68/68 - 27s - loss: 0.0187 - accuracy: 0.9963 - 27s/epoch - 393ms/step\n",
            "Epoch 24/25\n",
            "68/68 - 26s - loss: 0.0052 - accuracy: 0.9972 - 26s/epoch - 389ms/step\n",
            "Epoch 25/25\n",
            "68/68 - 26s - loss: 0.0030 - accuracy: 0.9991 - 26s/epoch - 387ms/step\n"
          ]
        },
        {
          "output_type": "display_data",
          "data": {
            "text/plain": [
              "<Figure size 432x288 with 1 Axes>"
            ],
            "image/png": "[encoded data removed]"
          },
          "metadata": {
            "needs_background": "light"
          }
        },
        {
          "output_type": "display_data",
          "data": {
            "text/plain": [
              "<Figure size 432x288 with 1 Axes>"
            ],
            "image/png": "[encoded data removed]"
          },
          "metadata": {
            "needs_background": "light"
          }
        },
        {
          "output_type": "stream",
          "name": "stdout",
          "text": [
            "***Performance Data***\n",
            "Accuracy  : 0.9611111111111111\n",
            "Precision : 0.9611111111111111\n",
            "f1Score : 0.9611111111111111\n",
            "Recall : 0.9611111111111111\n",
            "[[180   0   0]\n",
            " [  3 160  17]\n",
            " [  1   0 179]]\n",
            "***----------------------------***\n",
            "17/17 [==============================] - 7s 421ms/step - loss: 0.1832 - accuracy: 0.9611\n",
            "***-----------------------------------------------***\n",
            "Overall Accuracy:  0.9287037037037037\n",
            "Overall Precision:  0.9287037037037037\n",
            "Overall f1Score:  0.9287037037037037\n",
            "Overall Recall:  0.9287037037037037\n",
            "***------------------End of Line------------------***\n",
            "trn_indx: 2160 test_indx: 540\n",
            "No file moved. Source empty!\n",
            "No file moved. Source empty!\n",
            "No file moved. Source empty!\n",
            "Results for fold 5\n",
            "2160\n",
            "540\n",
            "Found 2160 images belonging to 3 classes.\n",
            "Found 540 images belonging to 3 classes.\n",
            "Epoch 1/25\n",
            "68/68 - 27s - loss: 0.0276 - accuracy: 0.9963 - 27s/epoch - 400ms/step\n",
            "Epoch 2/25\n",
            "68/68 - 27s - loss: 0.0078 - accuracy: 0.9977 - 27s/epoch - 399ms/step\n",
            "Epoch 3/25\n",
            "68/68 - 27s - loss: 0.0055 - accuracy: 0.9981 - 27s/epoch - 397ms/step\n",
            "Epoch 4/25\n",
            "68/68 - 27s - loss: 0.0044 - accuracy: 0.9986 - 27s/epoch - 396ms/step\n",
            "Epoch 5/25\n",
            "68/68 - 27s - loss: 0.0041 - accuracy: 0.9981 - 27s/epoch - 394ms/step\n",
            "Epoch 6/25\n",
            "68/68 - 27s - loss: 0.0090 - accuracy: 0.9986 - 27s/epoch - 396ms/step\n",
            "Epoch 7/25\n",
            "68/68 - 27s - loss: 0.0076 - accuracy: 0.9972 - 27s/epoch - 392ms/step\n",
            "Epoch 8/25\n",
            "68/68 - 27s - loss: 0.0071 - accuracy: 0.9981 - 27s/epoch - 391ms/step\n",
            "Epoch 9/25\n",
            "68/68 - 27s - loss: 0.0058 - accuracy: 0.9981 - 27s/epoch - 391ms/step\n",
            "Epoch 10/25\n",
            "68/68 - 26s - loss: 0.0185 - accuracy: 0.9958 - 26s/epoch - 385ms/step\n",
            "Epoch 11/25\n",
            "68/68 - 26s - loss: 0.0497 - accuracy: 0.9907 - 26s/epoch - 386ms/step\n",
            "Epoch 12/25\n",
            "68/68 - 26s - loss: 0.0350 - accuracy: 0.9926 - 26s/epoch - 383ms/step\n",
            "Epoch 13/25\n",
            "68/68 - 26s - loss: 0.0398 - accuracy: 0.9940 - 26s/epoch - 385ms/step\n",
            "Epoch 14/25\n",
            "68/68 - 26s - loss: 0.0204 - accuracy: 0.9968 - 26s/epoch - 389ms/step\n",
            "Epoch 15/25\n",
            "68/68 - 26s - loss: 0.0950 - accuracy: 0.9824 - 26s/epoch - 386ms/step\n",
            "Epoch 16/25\n",
            "68/68 - 26s - loss: 0.0516 - accuracy: 0.9898 - 26s/epoch - 386ms/step\n",
            "Epoch 17/25\n",
            "68/68 - 26s - loss: 0.0184 - accuracy: 0.9935 - 26s/epoch - 387ms/step\n",
            "Epoch 18/25\n",
            "68/68 - 26s - loss: 0.0094 - accuracy: 0.9972 - 26s/epoch - 386ms/step\n",
            "Epoch 19/25\n",
            "68/68 - 27s - loss: 0.0053 - accuracy: 0.9986 - 27s/epoch - 391ms/step\n",
            "Epoch 20/25\n",
            "68/68 - 27s - loss: 0.0236 - accuracy: 0.9949 - 27s/epoch - 393ms/step\n",
            "Epoch 21/25\n",
            "68/68 - 26s - loss: 0.0051 - accuracy: 0.9972 - 26s/epoch - 389ms/step\n",
            "Epoch 22/25\n",
            "68/68 - 26s - loss: 0.0118 - accuracy: 0.9968 - 26s/epoch - 386ms/step\n",
            "Epoch 23/25\n",
            "68/68 - 26s - loss: 0.0067 - accuracy: 0.9977 - 26s/epoch - 385ms/step\n",
            "Epoch 24/25\n",
            "68/68 - 26s - loss: 0.0022 - accuracy: 0.9995 - 26s/epoch - 384ms/step\n",
            "Epoch 25/25\n",
            "68/68 - 26s - loss: 0.0041 - accuracy: 0.9981 - 26s/epoch - 385ms/step\n"
          ]
        },
        {
          "output_type": "display_data",
          "data": {
            "text/plain": [
              "<Figure size 432x288 with 1 Axes>"
            ],
            "image/png": "[encoded data removed]"
          },
          "metadata": {
            "needs_background": "light"
          }
        },
        {
          "output_type": "display_data",
          "data": {
            "text/plain": [
              "<Figure size 432x288 with 1 Axes>"
            ],
            "image/png": "[encoded data removed]"
          },
          "metadata": {
            "needs_background": "light"
          }
        },
        {
          "output_type": "stream",
          "name": "stdout",
          "text": [
            "***Performance Data***\n",
            "Accuracy  : 0.9981481481481481\n",
            "Precision : 0.9981481481481481\n",
            "f1Score : 0.9981481481481481\n",
            "Recall : 0.9981481481481481\n",
            "[[180   0   0]\n",
            " [  0 179   1]\n",
            " [  0   0 180]]\n",
            "***----------------------------***\n",
            "17/17 [==============================] - 6s 391ms/step - loss: 0.0063 - accuracy: 0.9981\n",
            "***-----------------------------------------------***\n",
            "Overall Accuracy:  0.9425925925925925\n",
            "Overall Precision:  0.9425925925925925\n",
            "Overall f1Score:  0.9425925925925925\n",
            "Overall Recall:  0.9425925925925925\n",
            "***------------------End of Line------------------***\n"
          ]
        }
      ],
      "source": [
        "for train_index, val_index in skf.split(X, Y):\n",
        "    print(\"trn_indx: %s test_indx: %s\" % (len(train_index), len(val_index)))\n",
        "    #First cut all images from validation to train (if any exists)\n",
        "    transferAllClassBetweenFolders('valid', 'train', 1.0)\n",
        "    #no valid\n",
        "    transferAllClassBetweenFolders('test', 'train', 1.0)\n",
        "    foldNum+=1\n",
        "    print(\"Results for fold\",foldNum)\n",
        "    X_train, X_val = X[train_index], X[val_index]\n",
        "    Y_train, Y_val = Y[train_index], Y[val_index]\n",
        "    print(len(X_train))\n",
        "    print(len(X_val))\n",
        "    # Move validation images of this fold from train folder to the validation folder\n",
        "    for eachIndex in range(len(X_val)):\n",
        "        classLabel=''\n",
        "        for i in range(len(classLabels)):\n",
        "          if(Y_val[eachIndex]==i):\n",
        "              classLabel=classLabels[i]\n",
        "        #Then, copy the validation images to the validation folder\n",
        "        shutil.move(sourcePath+'/train/'+classLabel+'/'+X_val[eachIndex], \n",
        "                    #sourcePath+'/valid/'+classLabel+'/'+X_val[eachIndex])\n",
        "        #without valid\n",
        "                    sourcePath+'/test/'+classLabel+'/'+X_val[eachIndex])\n",
        "        \n",
        "    train_batches = ImageDataGenerator().flow_from_directory(train_path, target_size=(256,256), classes=['covid', 'normal', 'pneumonia'], class_mode = 'sparse', batch_size = 32, shuffle=True)\n",
        "    #without valid\n",
        "    #valid_batches = ImageDataGenerator().flow_from_directory(valid_path, target_size=(256,256), classes=['covid', 'normal', 'pneumonia'], class_mode = 'sparse', batch_size = 32, shuffle=True)\n",
        "    test_batches = ImageDataGenerator().flow_from_directory(test_path, target_size=(256,256), classes=['covid', 'normal', 'pneumonia'], class_mode = 'sparse', batch_size = 32, shuffle=False)\n",
        "\n",
        "    history = model.fit(train_batches, \n",
        "                    #steps_per_epoch=sp_epoch, \n",
        "                    #without valid\n",
        "                    #validation_data=valid_batches, \n",
        "                    #validation_steps=10, \n",
        "                    epochs=25, \n",
        "                    verbose=2)\n",
        "    \n",
        "    \n",
        "    \n",
        "    plt.plot(history.history['accuracy'])\n",
        "    #plt.plot(history.history['val_accuracy'])\n",
        "    plt.title('Final Cbam model accuracy')\n",
        "    plt.ylim(0,1.1)\n",
        "    plt.ylabel('accuracy')\n",
        "    plt.xlabel('epoch')\n",
        "    #plt.legend(['train', 'valid'], loc='upper left')\n",
        "    #without valid\n",
        "    plt.legend(['train'], loc='upper left')\n",
        "    plt.show()\n",
        "    # summarize history for loss\n",
        "    plt.plot(history.history['loss'])\n",
        "    #plt.plot(history.history['val_loss'])\n",
        "    plt.title('Final Cbam model loss')\n",
        "    plt.ylim(0,1.1)\n",
        "    plt.ylabel('loss')\n",
        "    plt.xlabel('epoch')\n",
        "    #plt.legend(['train', 'valid'], loc='upper left')\n",
        "    #without valid\n",
        "    plt.legend(['train'], loc='upper left')\n",
        "    plt.show()\n",
        "    test_batches.reset()\n",
        "    Y_pred = model.predict(test_batches)\n",
        "    classes = test_batches.classes[test_batches.index_array]\n",
        "    y_pred = np.argmax(Y_pred, axis=-1)\n",
        "    #print(\"***Performance on Test Data***\")  \n",
        "    #print(sum(y_pred==classes)/10000)\n",
        "    confusion_matrix(test_batches.classes[test_batches.index_array],y_pred)\n",
        "    #predictions = model.predict(test_batches, verbose=1)\n",
        "    #yPredictions = np.argmax(predictions, axis=1)\n",
        "    #print(yPredictions)\n",
        "    #true_classes = test_batches.classes\n",
        "    # evaluate validation performance\n",
        "    print(\"***Performance Data***\")    \n",
        "    #valAcc, valPrec, valFScore = my_metrics(true_classes, yPredictions)\n",
        "    valAcc, valPrec, valFScore, valRec = my_metrics(classes, y_pred)\n",
        "    overAllAcc = overAllAcc+valAcc\n",
        "    overAllPrec = overAllPrec+valPrec\n",
        "    overAllf1 = overAllf1+valFScore\n",
        "    overAllRec = overAllRec+valRec\n",
        "    \n",
        "    model.evaluate(test_batches)\n",
        "    print(\"***-----------------------------------------------***\")  \n",
        "    print(\"Overall Accuracy: \",  overAllAcc/foldNum)\n",
        "    print(\"Overall Precision: \",  overAllPrec/foldNum)\n",
        "    print(\"Overall f1Score: \",  overAllf1/foldNum)\n",
        "    print(\"Overall Recall: \",  overAllRec/foldNum)\n",
        "\n",
        "    print(\"***------------------End of Line------------------***\")    "
      ]
    }
  ],
  "metadata": {
    "accelerator": "GPU",
    "colab": {
      "collapsed_sections": [],
      "machine_shape": "hm",
      "name": "CBAM_FINAL.ipynb",
      "provenance": [],
      "include_colab_link": true
    },
    "kernelspec": {
      "display_name": "Python 3",
      "name": "python3"
    },
    "language_info": {
      "name": "python"
    }
  },
  "nbformat": 4,
  "nbformat_minor": 0
}
