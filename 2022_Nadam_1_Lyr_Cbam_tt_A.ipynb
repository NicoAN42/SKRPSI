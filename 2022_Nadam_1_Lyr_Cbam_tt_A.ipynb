{
  "cells": [
    {
      "cell_type": "markdown",
      "metadata": {
        "id": "view-in-github",
        "colab_type": "text"
      },
      "source": [
        "<a href=\"https://colab.research.google.com/github/NicoAN42/SKRPSI/blob/main/2022_Nadam_1_Lyr_Cbam_tt_A.ipynb\" target=\"_parent\"><img src=\"https://colab.research.google.com/assets/colab-badge.svg\" alt=\"Open In Colab\"/></a>"
      ]
    },
    {
      "cell_type": "code",
      "execution_count": null,
      "metadata": {
        "colab": {
          "base_uri": "https://localhost:8080/"
        },
        "id": "bd3mi5ZLdBSv",
        "outputId": "1804e5bb-20ae-4d25-e256-56e1070a925e"
      },
      "outputs": [
        {
          "output_type": "stream",
          "name": "stdout",
          "text": [
            "Mounted at /content/drive\n"
          ]
        }
      ],
      "source": [
        "#mount dataset\n",
        "from google.colab import drive\n",
        "drive.mount('/content/drive')\n"
      ]
    },
    {
      "cell_type": "code",
      "execution_count": null,
      "metadata": {
        "id": "mNr5eLs1WiKT"
      },
      "outputs": [],
      "source": [
        "from tensorflow.keras.layers import Conv2D, Input, concatenate, Activation, InputLayer, Dense, Reshape, Flatten, Add, multiply, Permute, Lambda, Concatenate\n",
        "from tensorflow.keras.layers import LeakyReLU,ReLU, MaxPooling2D, BatchNormalization,GlobalMaxPooling2D,GlobalAveragePooling2D\n",
        "from tensorflow.keras.models import Model, Sequential\n",
        "from tensorflow.keras import layers\n",
        "from tensorflow.keras.activations import softmax,sigmoid\n",
        "from tensorflow.keras.preprocessing.image import ImageDataGenerator\n",
        "from tensorflow.keras.optimizers import Adam, Nadam\n",
        "from tensorflow.keras.callbacks import EarlyStopping\n",
        "from tensorflow.keras.layers import Dropout,SpatialDropout2D,GaussianDropout\n",
        "from tensorflow.keras.optimizers.schedules import ExponentialDecay\n",
        "from tensorflow.keras.regularizers import l1,l2\n",
        "from tensorflow.keras import backend as K\n",
        "from __future__ import absolute_import\n",
        "from __future__ import division\n",
        "from __future__ import print_function\n",
        "import tensorflow\n",
        "import tensorflow as tf\n",
        "import math\n",
        "import matplotlib.pyplot as plt\n",
        "import numpy as np\n",
        "from sklearn.metrics import accuracy_score, f1_score, precision_score, confusion_matrix, recall_score\n",
        "from sklearn.model_selection import StratifiedKFold\n",
        "import os\n",
        "import random\n",
        "import shutil"
      ]
    },
    {
      "cell_type": "code",
      "execution_count": null,
      "metadata": {
        "id": "M-dUDyotW99U"
      },
      "outputs": [],
      "source": [
        "#from tensorflow.keras.optimizers import SGD"
      ]
    },
    {
      "cell_type": "code",
      "execution_count": null,
      "metadata": {
        "id": "1SKzQPoLeGUS"
      },
      "outputs": [],
      "source": [
        "CLASS = 3\n",
        "#sourcepath isi semua data train, folder valid kosongin datanya sisai folder classnya\n",
        "sourcePath = '/content/drive/MyDrive/Colab Notebooks/Dataset 1'\n",
        "train_path = '/content/drive/MyDrive/Colab Notebooks/Dataset 1/train'\n",
        "valid_path = '/content/drive/MyDrive/Colab Notebooks/Dataset 1/valid'\n",
        "test_path = '/content/drive/MyDrive/Colab Notebooks/Dataset 1/test'\n",
        "attention_module = 'cbam_block'\n",
        "#nico"
      ]
    },
    {
      "cell_type": "code",
      "execution_count": null,
      "metadata": {
        "id": "qyuRvIz9mFu_"
      },
      "outputs": [],
      "source": [
        "classLabels =['covid','normal', 'pneumonia']"
      ]
    },
    {
      "cell_type": "code",
      "execution_count": null,
      "metadata": {
        "id": "IiymK5QRgQVC"
      },
      "outputs": [],
      "source": [
        "def attach_attention_module(net, attention_module):\n",
        "  #if attention_module == 'se_block': # SE_block\n",
        "    #net = se_block(net)\n",
        "  if attention_module == 'cbam_block': # CBAM_block\n",
        "    net = cbam_block(net)\n",
        "  else:\n",
        "    raise Exception(\"'{}' is not supported attention module!\".format(attention_module))\n",
        "\n",
        "  return net"
      ]
    },
    {
      "cell_type": "code",
      "execution_count": null,
      "metadata": {
        "id": "4E-9i3yHgQX8"
      },
      "outputs": [],
      "source": [
        "def cbam_block(cbam_feature, ratio=8):\n",
        "\t\"\"\"Contains the implementation of Convolutional Block Attention Module(CBAM) block.\n",
        "\tAs described in https://arxiv.org/abs/1807.06521.\n",
        "\t\"\"\"\n",
        "\t\n",
        "\tcbam_feature = channel_attention(cbam_feature, ratio)\n",
        "\tcbam_feature = spatial_attention(cbam_feature)\n",
        "\treturn cbam_feature\n"
      ]
    },
    {
      "cell_type": "code",
      "execution_count": null,
      "metadata": {
        "id": "doOnf8U9YBM-"
      },
      "outputs": [],
      "source": [
        "def channel_attention(input_feature, ratio=8):\n",
        "\t\n",
        "\tchannel_axis = 1 if K.image_data_format() == \"channels_first\" else -1\n",
        "\tchannel = input_feature.shape[channel_axis]\n",
        "\t\n",
        "\tshared_layer_one = Dense(channel//ratio,\n",
        "\t\t\t\t\t\t\t activation='relu',\n",
        "\t\t\t\t\t\t\t kernel_initializer='he_normal',\n",
        "\t\t\t\t\t\t\t use_bias=True,\n",
        "\t\t\t\t\t\t\t bias_initializer='zeros')\n",
        "\tshared_layer_two = Dense(channel,\n",
        "\t\t\t\t\t\t\t kernel_initializer='he_normal',\n",
        "\t\t\t\t\t\t\t use_bias=True,\n",
        "\t\t\t\t\t\t\t bias_initializer='zeros')\n",
        "\t\n",
        "\tavg_pool = GlobalAveragePooling2D()(input_feature)    \n",
        "\tavg_pool = Reshape((1,1,channel))(avg_pool)\n",
        "\tassert avg_pool.shape[1:] == (1,1,channel)\n",
        "\tavg_pool = shared_layer_one(avg_pool)\n",
        "\tassert avg_pool.shape[1:] == (1,1,channel//ratio)\n",
        "\tavg_pool = shared_layer_two(avg_pool)\n",
        "\tassert avg_pool.shape[1:] == (1,1,channel)\n",
        "\t\n",
        "\tmax_pool = GlobalMaxPooling2D()(input_feature)\n",
        "\tmax_pool = Reshape((1,1,channel))(max_pool)\n",
        "\tassert max_pool.shape[1:] == (1,1,channel)\n",
        "\tmax_pool = shared_layer_one(max_pool)\n",
        "\tassert max_pool.shape[1:] == (1,1,channel//ratio)\n",
        "\tmax_pool = shared_layer_two(max_pool)\n",
        "\tassert max_pool.shape[1:] == (1,1,channel)\n",
        "\t\n",
        "\tcbam_feature = Add()([avg_pool,max_pool])\n",
        "\tcbam_feature = Activation('sigmoid')(cbam_feature)\n",
        "\t\n",
        "\tif K.image_data_format() == \"channels_first\":\n",
        "\t\tcbam_feature = Permute((3, 1, 2))(cbam_feature)\n",
        "\t\n",
        "\treturn multiply([input_feature, cbam_feature])"
      ]
    },
    {
      "cell_type": "code",
      "execution_count": null,
      "metadata": {
        "id": "Xl7CStcEYE_h"
      },
      "outputs": [],
      "source": [
        "def spatial_attention(input_feature):\n",
        "\tkernel_size = 7\n",
        "\t\n",
        "\tif K.image_data_format() == \"channels_first\":\n",
        "\t\tchannel = input_feature.shape[1]\n",
        "\t\tcbam_feature = Permute((2,3,1))(input_feature)\n",
        "\telse:\n",
        "\t\tchannel = input_feature.shape[-1]\n",
        "\t\tcbam_feature = input_feature\n",
        "\t\n",
        "\tavg_pool = Lambda(lambda x: K.mean(x, axis=3, keepdims=True))(cbam_feature)\n",
        "\tassert avg_pool.shape[-1] == 1\n",
        "\tmax_pool = Lambda(lambda x: K.max(x, axis=3, keepdims=True))(cbam_feature)\n",
        "\tassert max_pool.shape[-1] == 1\n",
        "\tconcat = Concatenate(axis=3)([avg_pool, max_pool])\n",
        "\tassert concat.shape[-1] == 2\n",
        "\tcbam_feature = Conv2D(filters = 1,\n",
        "\t\t\t\t\tkernel_size=kernel_size,\n",
        "\t\t\t\t\tstrides=1,\n",
        "\t\t\t\t\tpadding='same',\n",
        "\t\t\t\t\tactivation='sigmoid',\n",
        "\t\t\t\t\tkernel_initializer='he_normal',\n",
        "\t\t\t\t\tuse_bias=False)(concat)\t\n",
        "\tassert cbam_feature.shape[-1] == 1\n",
        "\t\n",
        "\tif K.image_data_format() == \"channels_first\":\n",
        "\t\tcbam_feature = Permute((3, 1, 2))(cbam_feature)\n",
        "\t\t\n",
        "\treturn multiply([input_feature, cbam_feature])"
      ]
    },
    {
      "cell_type": "code",
      "execution_count": null,
      "metadata": {
        "id": "q2Q9CbMzY1Rn"
      },
      "outputs": [],
      "source": [
        "input = Input(shape=(256,256,3))"
      ]
    },
    {
      "cell_type": "code",
      "execution_count": null,
      "metadata": {
        "id": "YpZNBOFOZBJL"
      },
      "outputs": [],
      "source": [
        "#Layer 1\n",
        "model = layers.Conv2D(32, (3,3), padding='same', name='conv_1', activation = 'relu')(input)\n",
        "model = layers.BatchNormalization(name='norm_1')(model)\n",
        "#model = layers.MaxPooling2D(pool_size=(2, 2), strides= 2)(model)\n",
        "attention_module = 'cbam_block'\n",
        "y = attach_attention_module(model, attention_module)\n",
        "model =  tensorflow.keras.layers.add([model, y])\n"
      ]
    },
    {
      "cell_type": "code",
      "execution_count": null,
      "metadata": {
        "id": "pBvWdrCmZCsQ"
      },
      "outputs": [],
      "source": [
        "#Layer 2\n",
        "model = layers.Conv2D(64, (3,3), padding='same', name='conv_2', activation = 'relu')(model)\n",
        "model = layers.Dropout(0.1)(model)\n",
        "model = layers.BatchNormalization(name='norm_2')(model)\n",
        "model = layers.MaxPooling2D(pool_size=(2, 2), strides = 2)(model)\n",
        "\n",
        "#attention_module = 'cbam_block'\n",
        "#y = attach_attention_module(model, attention_module)\n",
        "#model =  tensorflow.keras.layers.add([model, y])\n"
      ]
    },
    {
      "cell_type": "code",
      "execution_count": null,
      "metadata": {
        "id": "RBUvxL-9ZEO3"
      },
      "outputs": [],
      "source": [
        "# Layer 3\n",
        "model = layers.Conv2D(64, (3,3), padding='same', name='conv_3', activation = 'relu')(model)\n",
        "model = layers.BatchNormalization(name='norm_3')(model)\n",
        "model = layers.MaxPooling2D(pool_size=(2, 2), strides = 2)(model)\n",
        "\n",
        "#attention_module = 'cbam_block'\n",
        "#y = attach_attention_module(model, attention_module)\n",
        "#model =  tensorflow.keras.layers.add([model, y])\n",
        "\n"
      ]
    },
    {
      "cell_type": "code",
      "execution_count": null,
      "metadata": {
        "id": "QKyPzn20ZI1Y"
      },
      "outputs": [],
      "source": [
        "# Layer 4\n",
        "model = layers.Conv2D(128, (3,3), padding='same', name='conv_4', activation = 'relu')(model)\n",
        "model = layers.Dropout(0.2)(model)\n",
        "model = layers.BatchNormalization(name='norm_4')(model)\n",
        "model = layers.MaxPooling2D(pool_size=(2, 2), strides = 2)(model)\n",
        "\n",
        "#attention_module = 'cbam_block'\n",
        "#y = attach_attention_module(model, attention_module)\n",
        "#model =  tensorflow.keras.layers.add([model, y])\n"
      ]
    },
    {
      "cell_type": "code",
      "execution_count": null,
      "metadata": {
        "id": "tgLQSWDfZJ53"
      },
      "outputs": [],
      "source": [
        "# Layer 5\n",
        "model = layers.Conv2D(256, (3,3), padding='same', name='conv_5', activation = 'relu')(model)\n",
        "layer = layers.Conv2D(256, (3,3), padding='same', name='conv_5', activation = 'relu')\n",
        "batch = layers.BatchNormalization(name='norm_5')\n",
        "model = layers.Dropout(0.2)(model)\n",
        "model = layers.BatchNormalization(name='norm_5')(model)\n",
        "#model = layers.MaxPooling2D(pool_size=(2, 2), strides = 2)(model)"
      ]
    },
    {
      "cell_type": "code",
      "execution_count": null,
      "metadata": {
        "id": "8_jONIoBZhXm"
      },
      "outputs": [],
      "source": [
        "model = layers.Flatten()(model)\n",
        "model = layers.Dense(128, activation = 'relu')(model)\n",
        "model = layers.Dropout(0.2)(model)\n",
        "output = layers.Dense(3,Activation('softmax'))(model)\n",
        "model = Model(input, output)"
      ]
    },
    {
      "cell_type": "code",
      "execution_count": null,
      "metadata": {
        "colab": {
          "base_uri": "https://localhost:8080/"
        },
        "id": "qRYlJT_4ZkhM",
        "outputId": "a8c986fb-472a-4431-a401-fb9badc0a22c"
      },
      "outputs": [
        {
          "output_type": "stream",
          "name": "stdout",
          "text": [
            "KerasTensor(type_spec=TensorSpec(shape=(None, 256, 256, 3), dtype=tf.float32, name='input_1'), name='input_1', description=\"created by layer 'input_1'\")\n"
          ]
        }
      ],
      "source": [
        "print(input)"
      ]
    },
    {
      "cell_type": "code",
      "execution_count": null,
      "metadata": {
        "id": "JdlrgYZwZnEd"
      },
      "outputs": [],
      "source": [
        "opt = Nadam(learning_rate=0.001, beta_1=0.9, beta_2=0.999)"
      ]
    },
    {
      "cell_type": "code",
      "execution_count": null,
      "metadata": {
        "id": "oOIL33yEZpPX"
      },
      "outputs": [],
      "source": [
        "model.compile(optimizer=opt, loss=\"sparse_categorical_crossentropy\", metrics=[\"accuracy\"] )"
      ]
    },
    {
      "cell_type": "code",
      "execution_count": null,
      "metadata": {
        "colab": {
          "base_uri": "https://localhost:8080/"
        },
        "id": "99dNdRxNZqh5",
        "outputId": "669647e5-f57c-47b3-e31c-e11220115cfb"
      },
      "outputs": [
        {
          "output_type": "stream",
          "name": "stdout",
          "text": [
            "Model: \"model\"\n",
            "__________________________________________________________________________________________________\n",
            " Layer (type)                   Output Shape         Param #     Connected to                     \n",
            "==================================================================================================\n",
            " input_1 (InputLayer)           [(None, 256, 256, 3  0           []                               \n",
            "                                )]                                                                \n",
            "                                                                                                  \n",
            " conv_1 (Conv2D)                (None, 256, 256, 32  896         ['input_1[0][0]']                \n",
            "                                )                                                                 \n",
            "                                                                                                  \n",
            " norm_1 (BatchNormalization)    (None, 256, 256, 32  128         ['conv_1[0][0]']                 \n",
            "                                )                                                                 \n",
            "                                                                                                  \n",
            " global_average_pooling2d (Glob  (None, 32)          0           ['norm_1[0][0]']                 \n",
            " alAveragePooling2D)                                                                              \n",
            "                                                                                                  \n",
            " global_max_pooling2d (GlobalMa  (None, 32)          0           ['norm_1[0][0]']                 \n",
            " xPooling2D)                                                                                      \n",
            "                                                                                                  \n",
            " reshape (Reshape)              (None, 1, 1, 32)     0           ['global_average_pooling2d[0][0]'\n",
            "                                                                 ]                                \n",
            "                                                                                                  \n",
            " reshape_1 (Reshape)            (None, 1, 1, 32)     0           ['global_max_pooling2d[0][0]']   \n",
            "                                                                                                  \n",
            " dense (Dense)                  (None, 1, 1, 4)      132         ['reshape[0][0]',                \n",
            "                                                                  'reshape_1[0][0]']              \n",
            "                                                                                                  \n",
            " dense_1 (Dense)                (None, 1, 1, 32)     160         ['dense[0][0]',                  \n",
            "                                                                  'dense[1][0]']                  \n",
            "                                                                                                  \n",
            " add (Add)                      (None, 1, 1, 32)     0           ['dense_1[0][0]',                \n",
            "                                                                  'dense_1[1][0]']                \n",
            "                                                                                                  \n",
            " activation (Activation)        (None, 1, 1, 32)     0           ['add[0][0]']                    \n",
            "                                                                                                  \n",
            " multiply (Multiply)            (None, 256, 256, 32  0           ['norm_1[0][0]',                 \n",
            "                                )                                 'activation[0][0]']             \n",
            "                                                                                                  \n",
            " lambda (Lambda)                (None, 256, 256, 1)  0           ['multiply[0][0]']               \n",
            "                                                                                                  \n",
            " lambda_1 (Lambda)              (None, 256, 256, 1)  0           ['multiply[0][0]']               \n",
            "                                                                                                  \n",
            " concatenate (Concatenate)      (None, 256, 256, 2)  0           ['lambda[0][0]',                 \n",
            "                                                                  'lambda_1[0][0]']               \n",
            "                                                                                                  \n",
            " conv2d (Conv2D)                (None, 256, 256, 1)  98          ['concatenate[0][0]']            \n",
            "                                                                                                  \n",
            " multiply_1 (Multiply)          (None, 256, 256, 32  0           ['multiply[0][0]',               \n",
            "                                )                                 'conv2d[0][0]']                 \n",
            "                                                                                                  \n",
            " add_1 (Add)                    (None, 256, 256, 32  0           ['norm_1[0][0]',                 \n",
            "                                )                                 'multiply_1[0][0]']             \n",
            "                                                                                                  \n",
            " conv_2 (Conv2D)                (None, 256, 256, 64  18496       ['add_1[0][0]']                  \n",
            "                                )                                                                 \n",
            "                                                                                                  \n",
            " dropout (Dropout)              (None, 256, 256, 64  0           ['conv_2[0][0]']                 \n",
            "                                )                                                                 \n",
            "                                                                                                  \n",
            " norm_2 (BatchNormalization)    (None, 256, 256, 64  256         ['dropout[0][0]']                \n",
            "                                )                                                                 \n",
            "                                                                                                  \n",
            " max_pooling2d (MaxPooling2D)   (None, 128, 128, 64  0           ['norm_2[0][0]']                 \n",
            "                                )                                                                 \n",
            "                                                                                                  \n",
            " conv_3 (Conv2D)                (None, 128, 128, 64  36928       ['max_pooling2d[0][0]']          \n",
            "                                )                                                                 \n",
            "                                                                                                  \n",
            " norm_3 (BatchNormalization)    (None, 128, 128, 64  256         ['conv_3[0][0]']                 \n",
            "                                )                                                                 \n",
            "                                                                                                  \n",
            " max_pooling2d_1 (MaxPooling2D)  (None, 64, 64, 64)  0           ['norm_3[0][0]']                 \n",
            "                                                                                                  \n",
            " conv_4 (Conv2D)                (None, 64, 64, 128)  73856       ['max_pooling2d_1[0][0]']        \n",
            "                                                                                                  \n",
            " dropout_1 (Dropout)            (None, 64, 64, 128)  0           ['conv_4[0][0]']                 \n",
            "                                                                                                  \n",
            " norm_4 (BatchNormalization)    (None, 64, 64, 128)  512         ['dropout_1[0][0]']              \n",
            "                                                                                                  \n",
            " max_pooling2d_2 (MaxPooling2D)  (None, 32, 32, 128)  0          ['norm_4[0][0]']                 \n",
            "                                                                                                  \n",
            " conv_5 (Conv2D)                (None, 32, 32, 256)  295168      ['max_pooling2d_2[0][0]']        \n",
            "                                                                                                  \n",
            " dropout_2 (Dropout)            (None, 32, 32, 256)  0           ['conv_5[0][0]']                 \n",
            "                                                                                                  \n",
            " norm_5 (BatchNormalization)    (None, 32, 32, 256)  1024        ['dropout_2[0][0]']              \n",
            "                                                                                                  \n",
            " flatten (Flatten)              (None, 262144)       0           ['norm_5[0][0]']                 \n",
            "                                                                                                  \n",
            " dense_2 (Dense)                (None, 128)          33554560    ['flatten[0][0]']                \n",
            "                                                                                                  \n",
            " dropout_3 (Dropout)            (None, 128)          0           ['dense_2[0][0]']                \n",
            "                                                                                                  \n",
            " dense_3 (Dense)                (None, 3)            387         ['dropout_3[0][0]']              \n",
            "                                                                                                  \n",
            "==================================================================================================\n",
            "Total params: 33,982,857\n",
            "Trainable params: 33,981,769\n",
            "Non-trainable params: 1,088\n",
            "__________________________________________________________________________________________________\n",
            "None\n",
            "<keras.engine.functional.Functional object at 0x7feaf6867e50>\n"
          ]
        }
      ],
      "source": [
        "print(model.summary())\n",
        "print(model)"
      ]
    },
    {
      "cell_type": "code",
      "execution_count": null,
      "metadata": {
        "id": "NIABPyRMYycd"
      },
      "outputs": [],
      "source": [
        "X = []\n",
        "Y = []\n",
        "def transferBetweenFolders(source, dest, splitRate): \n",
        "    global sourceFiles\n",
        "    sourceFiles=os.listdir(source)\n",
        "    if(len(sourceFiles)!=0):\n",
        "        transferFileNumbers=int(len(sourceFiles)*splitRate)\n",
        "        transferIndex=random.sample(range(0, len(sourceFiles)), transferFileNumbers)\n",
        "        for eachIndex in transferIndex:\n",
        "            shutil.move(source+str(sourceFiles[eachIndex]), dest+str(sourceFiles[eachIndex]))\n",
        "    else:\n",
        "        print(\"No file moved. Source empty!\")\n",
        "        "
      ]
    },
    {
      "cell_type": "code",
      "execution_count": null,
      "metadata": {
        "colab": {
          "base_uri": "https://localhost:8080/"
        },
        "id": "Fh0THhOaY0Da",
        "outputId": "cacc06e8-1805-43d8-80e5-2de15f2b3755"
      },
      "outputs": [
        {
          "output_type": "stream",
          "name": "stdout",
          "text": [
            "No file moved. Source empty!\n",
            "No file moved. Source empty!\n",
            "No file moved. Source empty!\n"
          ]
        }
      ],
      "source": [
        "def transferAllClassBetweenFolders(source, dest, splitRate):\n",
        "    for label in classLabels:\n",
        "        transferBetweenFolders(sourcePath+'/'+source+'/'+label+'/', \n",
        "                               sourcePath+'/'+dest+'/'+label+'/', \n",
        "                               splitRate)\n",
        "#First cut all images from validation to train (if any exists)\n",
        "transferAllClassBetweenFolders('valid', 'train', 1.0)\n",
        "transferAllClassBetweenFolders('test', 'train', 1.0)\n",
        "\n",
        "#transferAllClassBetweenFolders('train', 'test', 0.2)"
      ]
    },
    {
      "cell_type": "code",
      "execution_count": null,
      "metadata": {
        "id": "bvS9lltuY5_4"
      },
      "outputs": [],
      "source": [
        "def prepareNameWithLabels(folderName):\n",
        "    sourceFiles=os.listdir(sourcePath+'/train/'+folderName)\n",
        "    for val in sourceFiles:\n",
        "        X.append(val)\n",
        "        for i in range(len(classLabels)):\n",
        "          if(folderName==classLabels[i]):\n",
        "              Y.append(i)\n",
        "# Organize file names and class labels in X and Y variables\n",
        "for i in range(len(classLabels)):\n",
        "  prepareNameWithLabels(classLabels[i])\n",
        "\n",
        "def my_metrics(y_true, y_pred):\n",
        "    accuracy=accuracy_score(y_true, y_pred)\n",
        "    precision=precision_score(y_true, y_pred,average='micro')\n",
        "    f1Score=f1_score(y_true, y_pred, average='micro') \n",
        "    recall = recall_score(y_true, y_pred, average='micro')\n",
        "    print(\"Accuracy  : {}\".format(accuracy))\n",
        "    print(\"Precision : {}\".format(precision))\n",
        "    print(\"f1Score : {}\".format(f1Score))\n",
        "    print(\"Recall : {}\".format(recall))\n",
        "    cm=confusion_matrix(y_true, y_pred)\n",
        "    print(cm)\n",
        "\n",
        "    print(\"***----------------------------***\")  \n",
        "    return accuracy, precision, f1Score, recall"
      ]
    },
    {
      "cell_type": "code",
      "execution_count": null,
      "metadata": {
        "colab": {
          "base_uri": "https://localhost:8080/"
        },
        "id": "7hjflR4gZW0Y",
        "outputId": "93f4f9f4-49c9-45bb-b222-ba6741934d41"
      },
      "outputs": [
        {
          "output_type": "stream",
          "name": "stdout",
          "text": [
            "No file moved. Source empty!\n",
            "No file moved. Source empty!\n",
            "No file moved. Source empty!\n",
            "No file moved. Source empty!\n",
            "No file moved. Source empty!\n",
            "No file moved. Source empty!\n",
            "['COVID(27).png' 'COVID(30).png' 'COVID(34).png' ...\n",
            " 'person98_virus_182.jpeg' 'person97_virus_181.jpeg'\n",
            " 'person97_virus_180.jpeg']\n",
            "[0 0 0 ... 2 2 2]\n",
            "StratifiedKFold(n_splits=5, random_state=None, shuffle=True)\n",
            "5\n",
            "<generator object _BaseKFold.split at 0x7feaf682d650>\n"
          ]
        }
      ],
      "source": [
        "transferAllClassBetweenFolders('valid', 'train', 1.0)\n",
        "#no valid\n",
        "transferAllClassBetweenFolders('test', 'train', 1.0)\n",
        "X=np.asarray(X)\n",
        "Y=np.asarray(Y)\n",
        "\n",
        "print(X)\n",
        "print(Y)\n",
        "\n",
        "skf = StratifiedKFold(n_splits=5\n",
        "                      , shuffle=True)\n",
        "skf.get_n_splits(X, Y)\n",
        "print(skf)\n",
        "print(skf.get_n_splits(X,Y))\n",
        "print(skf.split(X,Y))\n",
        "foldNum=0\n",
        "overAllAcc = 0\n",
        "overAllPrec = 0\n",
        "overAllf1 = 0\n",
        "overAllRec = 0"
      ]
    },
    {
      "cell_type": "code",
      "execution_count": null,
      "metadata": {
        "colab": {
          "base_uri": "https://localhost:8080/",
          "height": 1000
        },
        "id": "TsQVUi57ZDHg",
        "outputId": "ec88c0ca-2611-48ff-fa9f-89be4fe27c0a"
      },
      "outputs": [
        {
          "metadata": {
            "tags": null
          },
          "name": "stdout",
          "output_type": "stream",
          "text": [
            "trn_indx: 2263 test_indx: 566\n",
            "No file moved. Source empty!\n",
            "No file moved. Source empty!\n",
            "No file moved. Source empty!\n",
            "No file moved. Source empty!\n",
            "No file moved. Source empty!\n",
            "No file moved. Source empty!\n",
            "Results for fold 1\n",
            "2263\n",
            "566\n",
            "Found 2263 images belonging to 3 classes.\n",
            "Found 566 images belonging to 3 classes.\n",
            "Epoch 1/25\n",
            "71/71 - 385s - loss: 2.0373 - accuracy: 0.8661 - 385s/epoch - 5s/step\n",
            "Epoch 2/25\n",
            "71/71 - 54s - loss: 0.5278 - accuracy: 0.9174 - 54s/epoch - 758ms/step\n",
            "Epoch 3/25\n",
            "71/71 - 54s - loss: 0.3564 - accuracy: 0.9399 - 54s/epoch - 756ms/step\n",
            "Epoch 4/25\n",
            "71/71 - 54s - loss: 0.1467 - accuracy: 0.9616 - 54s/epoch - 756ms/step\n",
            "Epoch 5/25\n",
            "71/71 - 54s - loss: 0.1178 - accuracy: 0.9722 - 54s/epoch - 757ms/step\n",
            "Epoch 6/25\n",
            "71/71 - 54s - loss: 0.1021 - accuracy: 0.9775 - 54s/epoch - 756ms/step\n",
            "Epoch 7/25\n",
            "71/71 - 54s - loss: 0.0953 - accuracy: 0.9753 - 54s/epoch - 757ms/step\n",
            "Epoch 8/25\n",
            "71/71 - 54s - loss: 0.0739 - accuracy: 0.9797 - 54s/epoch - 757ms/step\n",
            "Epoch 9/25\n",
            "71/71 - 54s - loss: 0.0418 - accuracy: 0.9872 - 54s/epoch - 757ms/step\n",
            "Epoch 10/25\n",
            "71/71 - 54s - loss: 0.0358 - accuracy: 0.9881 - 54s/epoch - 757ms/step\n",
            "Epoch 11/25\n",
            "71/71 - 54s - loss: 0.0219 - accuracy: 0.9907 - 54s/epoch - 758ms/step\n",
            "Epoch 12/25\n",
            "71/71 - 54s - loss: 0.0450 - accuracy: 0.9885 - 54s/epoch - 756ms/step\n",
            "Epoch 13/25\n",
            "71/71 - 54s - loss: 0.0165 - accuracy: 0.9912 - 54s/epoch - 760ms/step\n",
            "Epoch 14/25\n",
            "71/71 - 54s - loss: 0.0443 - accuracy: 0.9890 - 54s/epoch - 758ms/step\n",
            "Epoch 15/25\n",
            "71/71 - 54s - loss: 0.0572 - accuracy: 0.9823 - 54s/epoch - 758ms/step\n",
            "Epoch 16/25\n",
            "71/71 - 54s - loss: 0.0505 - accuracy: 0.9854 - 54s/epoch - 757ms/step\n",
            "Epoch 17/25\n",
            "71/71 - 54s - loss: 0.0344 - accuracy: 0.9885 - 54s/epoch - 758ms/step\n",
            "Epoch 18/25\n",
            "71/71 - 54s - loss: 0.0750 - accuracy: 0.9814 - 54s/epoch - 758ms/step\n",
            "Epoch 19/25\n",
            "71/71 - 54s - loss: 0.0498 - accuracy: 0.9863 - 54s/epoch - 757ms/step\n",
            "Epoch 20/25\n",
            "71/71 - 54s - loss: 0.0439 - accuracy: 0.9854 - 54s/epoch - 757ms/step\n",
            "Epoch 21/25\n",
            "71/71 - 54s - loss: 0.0668 - accuracy: 0.9823 - 54s/epoch - 757ms/step\n",
            "Epoch 22/25\n",
            "71/71 - 54s - loss: 0.0540 - accuracy: 0.9845 - 54s/epoch - 759ms/step\n",
            "Epoch 23/25\n",
            "71/71 - 54s - loss: 0.0833 - accuracy: 0.9841 - 54s/epoch - 758ms/step\n",
            "Epoch 24/25\n",
            "71/71 - 54s - loss: 0.1713 - accuracy: 0.9819 - 54s/epoch - 758ms/step\n",
            "Epoch 25/25\n",
            "71/71 - 54s - loss: 0.0966 - accuracy: 0.9783 - 54s/epoch - 759ms/step\n"
          ]
        },
        {
          "data": {
            "image/png": "[encoded data removed]",
            "text/plain": [
              "<Figure size 432x288 with 1 Axes>"
            ]
          },
          "metadata": {},
          "output_type": "display_data"
        },
        {
          "data": {
            "image/png": "[encoded data removed]",
            "text/plain": [
              "<Figure size 432x288 with 1 Axes>"
            ]
          },
          "metadata": {},
          "output_type": "display_data"
        },
        {
          "metadata": {
            "tags": null
          },
          "name": "stdout",
          "output_type": "stream",
          "text": [
            "***Performance Data***\n",
            "Accuracy  : 0.931095406360424\n",
            "Precision : 0.931095406360424\n",
            "f1Score : 0.9310954063604239\n",
            "Recall : 0.931095406360424\n",
            "[[189   0   0]\n",
            " [ 19 161   9]\n",
            " [  7   4 177]]\n",
            "***----------------------------***\n",
            "18/18 [==============================] - 9s 479ms/step - loss: 0.2394 - accuracy: 0.9311\n",
            "***-----------------------------------------------***\n",
            "Overall Accuracy:  0.931095406360424\n",
            "Overall Precision:  0.931095406360424\n",
            "Overall f1Score:  0.9310954063604239\n",
            "Overall Recall:  0.931095406360424\n",
            "***------------------End of Line------------------***\n",
            "trn_indx: 2263 test_indx: 566\n",
            "No file moved. Source empty!\n",
            "No file moved. Source empty!\n",
            "No file moved. Source empty!\n",
            "Results for fold 2\n",
            "2263\n",
            "566\n",
            "Found 2263 images belonging to 3 classes.\n",
            "Found 566 images belonging to 3 classes.\n",
            "Epoch 1/25\n",
            "71/71 - 54s - loss: 0.1042 - accuracy: 0.9753 - 54s/epoch - 761ms/step\n",
            "Epoch 2/25\n",
            "71/71 - 54s - loss: 0.0641 - accuracy: 0.9854 - 54s/epoch - 762ms/step\n",
            "Epoch 3/25\n",
            "71/71 - 54s - loss: 0.1513 - accuracy: 0.9779 - 54s/epoch - 760ms/step\n",
            "Epoch 4/25\n",
            "71/71 - 54s - loss: 0.0917 - accuracy: 0.9806 - 54s/epoch - 761ms/step\n",
            "Epoch 5/25\n",
            "71/71 - 54s - loss: 0.0372 - accuracy: 0.9872 - 54s/epoch - 760ms/step\n",
            "Epoch 6/25\n",
            "71/71 - 54s - loss: 0.0145 - accuracy: 0.9920 - 54s/epoch - 760ms/step\n",
            "Epoch 7/25\n",
            "71/71 - 54s - loss: 0.0176 - accuracy: 0.9969 - 54s/epoch - 759ms/step\n",
            "Epoch 8/25\n",
            "71/71 - 54s - loss: 0.0112 - accuracy: 0.9965 - 54s/epoch - 762ms/step\n",
            "Epoch 9/25\n",
            "71/71 - 54s - loss: 0.0160 - accuracy: 0.9965 - 54s/epoch - 759ms/step\n",
            "Epoch 10/25\n",
            "71/71 - 54s - loss: 0.0290 - accuracy: 0.9912 - 54s/epoch - 758ms/step\n",
            "Epoch 11/25\n",
            "71/71 - 54s - loss: 0.0163 - accuracy: 0.9951 - 54s/epoch - 760ms/step\n",
            "Epoch 12/25\n",
            "71/71 - 54s - loss: 0.0104 - accuracy: 0.9973 - 54s/epoch - 764ms/step\n",
            "Epoch 13/25\n",
            "71/71 - 54s - loss: 0.0048 - accuracy: 0.9982 - 54s/epoch - 760ms/step\n",
            "Epoch 14/25\n",
            "71/71 - 54s - loss: 0.0310 - accuracy: 0.9938 - 54s/epoch - 759ms/step\n",
            "Epoch 15/25\n",
            "71/71 - 54s - loss: 0.0203 - accuracy: 0.9938 - 54s/epoch - 759ms/step\n",
            "Epoch 16/25\n",
            "71/71 - 54s - loss: 0.0156 - accuracy: 0.9951 - 54s/epoch - 760ms/step\n",
            "Epoch 17/25\n",
            "71/71 - 54s - loss: 0.0053 - accuracy: 0.9987 - 54s/epoch - 758ms/step\n",
            "Epoch 18/25\n",
            "71/71 - 54s - loss: 0.0344 - accuracy: 0.9916 - 54s/epoch - 759ms/step\n",
            "Epoch 19/25\n",
            "71/71 - 54s - loss: 0.0093 - accuracy: 0.9965 - 54s/epoch - 760ms/step\n",
            "Epoch 20/25\n",
            "71/71 - 54s - loss: 0.0086 - accuracy: 0.9969 - 54s/epoch - 758ms/step\n",
            "Epoch 21/25\n",
            "71/71 - 54s - loss: 0.0180 - accuracy: 0.9943 - 54s/epoch - 761ms/step\n",
            "Epoch 22/25\n",
            "71/71 - 54s - loss: 0.0318 - accuracy: 0.9951 - 54s/epoch - 757ms/step\n",
            "Epoch 23/25\n",
            "71/71 - 54s - loss: 0.0495 - accuracy: 0.9960 - 54s/epoch - 759ms/step\n",
            "Epoch 24/25\n",
            "71/71 - 54s - loss: 0.5857 - accuracy: 0.9704 - 54s/epoch - 757ms/step\n",
            "Epoch 25/25\n",
            "71/71 - 54s - loss: 0.2367 - accuracy: 0.9673 - 54s/epoch - 762ms/step\n"
          ]
        },
        {
          "data": {
            "image/png": "[encoded data removed]",
            "text/plain": [
              "<Figure size 432x288 with 1 Axes>"
            ]
          },
          "metadata": {},
          "output_type": "display_data"
        },
        {
          "data": {
            "image/png": "[encoded data removed]",
            "text/plain": [
              "<Figure size 432x288 with 1 Axes>"
            ]
          },
          "metadata": {},
          "output_type": "display_data"
        },
        {
          "metadata": {
            "tags": null
          },
          "name": "stdout",
          "output_type": "stream",
          "text": [
            "***Performance Data***\n",
            "Accuracy  : 0.9646643109540636\n",
            "Precision : 0.9646643109540636\n",
            "f1Score : 0.9646643109540636\n",
            "Recall : 0.9646643109540636\n",
            "[[189   0   0]\n",
            " [  0 173  15]\n",
            " [  3   2 184]]\n",
            "***----------------------------***\n",
            "18/18 [==============================] - 8s 454ms/step - loss: 0.1104 - accuracy: 0.9647\n",
            "***-----------------------------------------------***\n",
            "Overall Accuracy:  0.9478798586572438\n",
            "Overall Precision:  0.9478798586572438\n",
            "Overall f1Score:  0.9478798586572437\n",
            "Overall Recall:  0.9478798586572438\n",
            "***------------------End of Line------------------***\n",
            "trn_indx: 2263 test_indx: 566\n",
            "No file moved. Source empty!\n",
            "No file moved. Source empty!\n",
            "No file moved. Source empty!\n",
            "Results for fold 3\n",
            "2263\n",
            "566\n",
            "Found 2263 images belonging to 3 classes.\n",
            "Found 566 images belonging to 3 classes.\n",
            "Epoch 1/25\n",
            "71/71 - 54s - loss: 0.0928 - accuracy: 0.9806 - 54s/epoch - 762ms/step\n",
            "Epoch 2/25\n",
            "71/71 - 54s - loss: 0.0606 - accuracy: 0.9828 - 54s/epoch - 758ms/step\n",
            "Epoch 3/25\n",
            "71/71 - 54s - loss: 0.0276 - accuracy: 0.9916 - 54s/epoch - 759ms/step\n",
            "Epoch 4/25\n",
            "71/71 - 54s - loss: 0.0212 - accuracy: 0.9920 - 54s/epoch - 759ms/step\n",
            "Epoch 5/25\n",
            "71/71 - 54s - loss: 0.0183 - accuracy: 0.9943 - 54s/epoch - 760ms/step\n",
            "Epoch 6/25\n",
            "71/71 - 54s - loss: 0.0388 - accuracy: 0.9920 - 54s/epoch - 761ms/step\n",
            "Epoch 7/25\n",
            "71/71 - 54s - loss: 0.0153 - accuracy: 0.9929 - 54s/epoch - 758ms/step\n",
            "Epoch 8/25\n",
            "71/71 - 54s - loss: 0.0225 - accuracy: 0.9956 - 54s/epoch - 758ms/step\n",
            "Epoch 9/25\n",
            "71/71 - 54s - loss: 0.0177 - accuracy: 0.9956 - 54s/epoch - 757ms/step\n",
            "Epoch 10/25\n",
            "71/71 - 54s - loss: 0.0170 - accuracy: 0.9965 - 54s/epoch - 759ms/step\n",
            "Epoch 11/25\n",
            "71/71 - 54s - loss: 0.0138 - accuracy: 0.9965 - 54s/epoch - 758ms/step\n",
            "Epoch 12/25\n",
            "71/71 - 54s - loss: 0.0077 - accuracy: 0.9982 - 54s/epoch - 764ms/step\n",
            "Epoch 13/25\n",
            "71/71 - 54s - loss: 0.0214 - accuracy: 0.9960 - 54s/epoch - 765ms/step\n",
            "Epoch 14/25\n",
            "71/71 - 54s - loss: 0.0193 - accuracy: 0.9965 - 54s/epoch - 760ms/step\n",
            "Epoch 15/25\n",
            "71/71 - 54s - loss: 0.0227 - accuracy: 0.9934 - 54s/epoch - 758ms/step\n",
            "Epoch 16/25\n",
            "71/71 - 54s - loss: 0.0132 - accuracy: 0.9969 - 54s/epoch - 759ms/step\n",
            "Epoch 17/25\n",
            "71/71 - 54s - loss: 0.0233 - accuracy: 0.9973 - 54s/epoch - 757ms/step\n",
            "Epoch 18/25\n",
            "71/71 - 54s - loss: 0.0057 - accuracy: 0.9991 - 54s/epoch - 758ms/step\n",
            "Epoch 19/25\n",
            "71/71 - 54s - loss: 0.0066 - accuracy: 0.9987 - 54s/epoch - 757ms/step\n",
            "Epoch 20/25\n",
            "71/71 - 54s - loss: 0.0088 - accuracy: 0.9969 - 54s/epoch - 758ms/step\n",
            "Epoch 21/25\n",
            "71/71 - 54s - loss: 0.0071 - accuracy: 0.9978 - 54s/epoch - 757ms/step\n",
            "Epoch 22/25\n",
            "71/71 - 54s - loss: 0.0059 - accuracy: 0.9991 - 54s/epoch - 756ms/step\n",
            "Epoch 23/25\n",
            "71/71 - 54s - loss: 0.0294 - accuracy: 0.9951 - 54s/epoch - 758ms/step\n",
            "Epoch 24/25\n",
            "71/71 - 54s - loss: 0.0404 - accuracy: 0.9920 - 54s/epoch - 758ms/step\n",
            "Epoch 25/25\n",
            "71/71 - 54s - loss: 0.0352 - accuracy: 0.9951 - 54s/epoch - 759ms/step\n"
          ]
        },
        {
          "data": {
            "image/png": "[encoded data removed]",
            "text/plain": [
              "<Figure size 432x288 with 1 Axes>"
            ]
          },
          "metadata": {},
          "output_type": "display_data"
        },
        {
          "data": {
            "image/png": "[encoded data removed]",
            "text/plain": [
              "<Figure size 432x288 with 1 Axes>"
            ]
          },
          "metadata": {},
          "output_type": "display_data"
        },
        {
          "metadata": {
            "tags": null
          },
          "name": "stdout",
          "output_type": "stream",
          "text": [
            "***Performance Data***\n",
            "Accuracy  : 0.9717314487632509\n",
            "Precision : 0.9717314487632509\n",
            "f1Score : 0.9717314487632509\n",
            "Recall : 0.9717314487632509\n",
            "[[188   0   1]\n",
            " [  7 175   6]\n",
            " [  2   0 187]]\n",
            "***----------------------------***\n",
            "18/18 [==============================] - 8s 433ms/step - loss: 0.1083 - accuracy: 0.9717\n",
            "***-----------------------------------------------***\n",
            "Overall Accuracy:  0.9558303886925795\n",
            "Overall Precision:  0.9558303886925795\n",
            "Overall f1Score:  0.9558303886925795\n",
            "Overall Recall:  0.9558303886925795\n",
            "***------------------End of Line------------------***\n",
            "trn_indx: 2263 test_indx: 566\n",
            "No file moved. Source empty!\n",
            "No file moved. Source empty!\n",
            "No file moved. Source empty!\n",
            "Results for fold 4\n",
            "2263\n",
            "566\n",
            "Found 2263 images belonging to 3 classes.\n",
            "Found 566 images belonging to 3 classes.\n",
            "Epoch 1/25\n",
            "71/71 - 54s - loss: 0.0165 - accuracy: 0.9934 - 54s/epoch - 758ms/step\n",
            "Epoch 2/25\n",
            "71/71 - 54s - loss: 0.0151 - accuracy: 0.9943 - 54s/epoch - 764ms/step\n",
            "Epoch 3/25\n",
            "71/71 - 54s - loss: 0.0107 - accuracy: 0.9956 - 54s/epoch - 757ms/step\n",
            "Epoch 4/25\n",
            "71/71 - 54s - loss: 0.0181 - accuracy: 0.9929 - 54s/epoch - 756ms/step\n",
            "Epoch 5/25\n",
            "71/71 - 54s - loss: 0.0419 - accuracy: 0.9898 - 54s/epoch - 758ms/step\n",
            "Epoch 6/25\n",
            "71/71 - 54s - loss: 0.0272 - accuracy: 0.9916 - 54s/epoch - 760ms/step\n",
            "Epoch 7/25\n",
            "71/71 - 54s - loss: 0.0430 - accuracy: 0.9876 - 54s/epoch - 756ms/step\n",
            "Epoch 8/25\n",
            "71/71 - 54s - loss: 0.0168 - accuracy: 0.9951 - 54s/epoch - 756ms/step\n",
            "Epoch 9/25\n",
            "71/71 - 54s - loss: 0.0204 - accuracy: 0.9929 - 54s/epoch - 758ms/step\n",
            "Epoch 10/25\n",
            "71/71 - 54s - loss: 0.0651 - accuracy: 0.9890 - 54s/epoch - 758ms/step\n",
            "Epoch 11/25\n",
            "71/71 - 54s - loss: 0.0911 - accuracy: 0.9775 - 54s/epoch - 758ms/step\n",
            "Epoch 12/25\n",
            "71/71 - 54s - loss: 0.0819 - accuracy: 0.9885 - 54s/epoch - 756ms/step\n",
            "Epoch 13/25\n",
            "71/71 - 54s - loss: 0.0342 - accuracy: 0.9912 - 54s/epoch - 757ms/step\n",
            "Epoch 14/25\n",
            "71/71 - 54s - loss: 0.0807 - accuracy: 0.9881 - 54s/epoch - 758ms/step\n",
            "Epoch 15/25\n",
            "71/71 - 54s - loss: 0.0594 - accuracy: 0.9872 - 54s/epoch - 758ms/step\n",
            "Epoch 16/25\n",
            "71/71 - 54s - loss: 0.0177 - accuracy: 0.9947 - 54s/epoch - 756ms/step\n",
            "Epoch 17/25\n",
            "71/71 - 54s - loss: 0.0226 - accuracy: 0.9956 - 54s/epoch - 757ms/step\n",
            "Epoch 18/25\n",
            "71/71 - 54s - loss: 0.0457 - accuracy: 0.9929 - 54s/epoch - 759ms/step\n",
            "Epoch 19/25\n",
            "71/71 - 54s - loss: 0.0087 - accuracy: 0.9965 - 54s/epoch - 759ms/step\n",
            "Epoch 20/25\n",
            "71/71 - 54s - loss: 0.0069 - accuracy: 0.9978 - 54s/epoch - 758ms/step\n",
            "Epoch 21/25\n",
            "71/71 - 54s - loss: 0.0066 - accuracy: 0.9973 - 54s/epoch - 759ms/step\n",
            "Epoch 22/25\n",
            "71/71 - 54s - loss: 0.0065 - accuracy: 0.9973 - 54s/epoch - 758ms/step\n",
            "Epoch 23/25\n",
            "71/71 - 54s - loss: 0.0099 - accuracy: 0.9969 - 54s/epoch - 758ms/step\n",
            "Epoch 24/25\n",
            "71/71 - 54s - loss: 0.0128 - accuracy: 0.9965 - 54s/epoch - 759ms/step\n",
            "Epoch 25/25\n",
            "71/71 - 54s - loss: 0.0114 - accuracy: 0.9973 - 54s/epoch - 762ms/step\n"
          ]
        },
        {
          "data": {
            "image/png": "[encoded data removed]",
            "text/plain": [
              "<Figure size 432x288 with 1 Axes>"
            ]
          },
          "metadata": {},
          "output_type": "display_data"
        },
        {
          "data": {
            "image/png": "[encoded data removed]",
            "text/plain": [
              "<Figure size 432x288 with 1 Axes>"
            ]
          },
          "metadata": {},
          "output_type": "display_data"
        },
        {
          "output_type": "stream",
          "name": "stdout",
          "text": [
            "***Performance Data***\n",
            "Accuracy  : 0.9646643109540636\n",
            "Precision : 0.9646643109540636\n",
            "f1Score : 0.9646643109540636\n",
            "Recall : 0.9646643109540636\n",
            "[[188   0   0]\n",
            " [  1 188   0]\n",
            " [  5  14 170]]\n",
            "***----------------------------***\n",
            "18/18 [==============================] - 8s 437ms/step - loss: 1.0358 - accuracy: 0.9647\n",
            "***-----------------------------------------------***\n",
            "Overall Accuracy:  0.9580388692579505\n",
            "Overall Precision:  0.9580388692579505\n",
            "Overall f1Score:  0.9580388692579505\n",
            "Overall Recall:  0.9580388692579505\n",
            "***------------------End of Line------------------***\n",
            "trn_indx: 2264 test_indx: 565\n",
            "No file moved. Source empty!\n",
            "No file moved. Source empty!\n",
            "No file moved. Source empty!\n",
            "Results for fold 5\n",
            "2264\n",
            "565\n",
            "Found 2264 images belonging to 3 classes.\n",
            "Found 565 images belonging to 3 classes.\n",
            "Epoch 1/25\n",
            "71/71 - 57s - loss: 0.0214 - accuracy: 0.9951 - 57s/epoch - 803ms/step\n",
            "Epoch 2/25\n",
            "71/71 - 54s - loss: 0.0059 - accuracy: 0.9973 - 54s/epoch - 757ms/step\n",
            "Epoch 3/25\n",
            "71/71 - 54s - loss: 0.0093 - accuracy: 0.9965 - 54s/epoch - 760ms/step\n",
            "Epoch 4/25\n",
            "71/71 - 54s - loss: 0.0196 - accuracy: 0.9943 - 54s/epoch - 762ms/step\n",
            "Epoch 5/25\n",
            "71/71 - 54s - loss: 0.1517 - accuracy: 0.9810 - 54s/epoch - 757ms/step\n",
            "Epoch 6/25\n",
            "71/71 - 54s - loss: 0.0410 - accuracy: 0.9943 - 54s/epoch - 759ms/step\n",
            "Epoch 7/25\n",
            "71/71 - 54s - loss: 0.1048 - accuracy: 0.9912 - 54s/epoch - 757ms/step\n",
            "Epoch 8/25\n",
            "71/71 - 54s - loss: 0.0245 - accuracy: 0.9938 - 54s/epoch - 757ms/step\n",
            "Epoch 9/25\n",
            "71/71 - 54s - loss: 0.0182 - accuracy: 0.9934 - 54s/epoch - 758ms/step\n",
            "Epoch 10/25\n",
            "71/71 - 54s - loss: 0.0129 - accuracy: 0.9947 - 54s/epoch - 759ms/step\n",
            "Epoch 11/25\n",
            "71/71 - 54s - loss: 0.0100 - accuracy: 0.9965 - 54s/epoch - 758ms/step\n",
            "Epoch 12/25\n",
            "71/71 - 54s - loss: 0.0115 - accuracy: 0.9943 - 54s/epoch - 758ms/step\n",
            "Epoch 13/25\n",
            "71/71 - 54s - loss: 0.0090 - accuracy: 0.9987 - 54s/epoch - 761ms/step\n",
            "Epoch 14/25\n",
            "71/71 - 54s - loss: 0.0250 - accuracy: 0.9934 - 54s/epoch - 759ms/step\n",
            "Epoch 15/25\n",
            "71/71 - 54s - loss: 0.0160 - accuracy: 0.9934 - 54s/epoch - 756ms/step\n",
            "Epoch 16/25\n",
            "71/71 - 54s - loss: 0.0070 - accuracy: 0.9973 - 54s/epoch - 758ms/step\n",
            "Epoch 17/25\n",
            "71/71 - 54s - loss: 0.0093 - accuracy: 0.9969 - 54s/epoch - 760ms/step\n",
            "Epoch 18/25\n",
            "71/71 - 54s - loss: 0.0040 - accuracy: 0.9991 - 54s/epoch - 759ms/step\n",
            "Epoch 19/25\n",
            "71/71 - 54s - loss: 0.0068 - accuracy: 0.9969 - 54s/epoch - 757ms/step\n",
            "Epoch 20/25\n",
            "71/71 - 54s - loss: 0.0195 - accuracy: 0.9982 - 54s/epoch - 763ms/step\n",
            "Epoch 21/25\n",
            "71/71 - 54s - loss: 0.0432 - accuracy: 0.9965 - 54s/epoch - 762ms/step\n",
            "Epoch 22/25\n",
            "71/71 - 54s - loss: 1.4252 - accuracy: 0.9766 - 54s/epoch - 762ms/step\n",
            "Epoch 23/25\n",
            "71/71 - 54s - loss: 0.7560 - accuracy: 0.9748 - 54s/epoch - 758ms/step\n",
            "Epoch 24/25\n",
            "71/71 - 54s - loss: 0.0723 - accuracy: 0.9938 - 54s/epoch - 758ms/step\n",
            "Epoch 25/25\n",
            "71/71 - 54s - loss: 0.1037 - accuracy: 0.9912 - 54s/epoch - 757ms/step\n"
          ]
        },
        {
          "output_type": "display_data",
          "data": {
            "text/plain": [
              "<Figure size 432x288 with 1 Axes>"
            ],
            "image/png": "[encoded data removed]"
          },
          "metadata": {
            "needs_background": "light"
          }
        },
        {
          "output_type": "display_data",
          "data": {
            "text/plain": [
              "<Figure size 432x288 with 1 Axes>"
            ],
            "image/png": "[encoded data removed]"
          },
          "metadata": {
            "needs_background": "light"
          }
        },
        {
          "output_type": "stream",
          "name": "stdout",
          "text": [
            "***Performance Data***\n",
            "Accuracy  : 0.8920353982300885\n",
            "Precision : 0.8920353982300885\n",
            "f1Score : 0.8920353982300885\n",
            "Recall : 0.8920353982300885\n",
            "[[188   0   0]\n",
            " [  2 132  55]\n",
            " [  4   0 184]]\n",
            "***----------------------------***\n",
            "18/18 [==============================] - 8s 429ms/step - loss: 0.1771 - accuracy: 0.8920\n",
            "***-----------------------------------------------***\n",
            "Overall Accuracy:  0.9448381750523781\n",
            "Overall Precision:  0.9448381750523781\n",
            "Overall f1Score:  0.9448381750523781\n",
            "Overall Recall:  0.9448381750523781\n",
            "***------------------End of Line------------------***\n"
          ]
        }
      ],
      "source": [
        "for train_index, val_index in skf.split(X, Y):\n",
        "    print(\"trn_indx: %s test_indx: %s\" % (len(train_index), len(val_index)))\n",
        "    #First cut all images from validation to train (if any exists)\n",
        "    transferAllClassBetweenFolders('valid', 'train', 1.0)\n",
        "    #no valid\n",
        "    transferAllClassBetweenFolders('test', 'train', 1.0)\n",
        "    foldNum+=1\n",
        "    print(\"Results for fold\",foldNum)\n",
        "    X_train, X_val = X[train_index], X[val_index]\n",
        "    Y_train, Y_val = Y[train_index], Y[val_index]\n",
        "    print(len(X_train))\n",
        "    print(len(X_val))\n",
        "    # Move validation images of this fold from train folder to the validation folder\n",
        "    for eachIndex in range(len(X_val)):\n",
        "        classLabel=''\n",
        "        for i in range(len(classLabels)):\n",
        "          if(Y_val[eachIndex]==i):\n",
        "              classLabel=classLabels[i]\n",
        "        #Then, copy the validation images to the validation folder\n",
        "        shutil.move(sourcePath+'/train/'+classLabel+'/'+X_val[eachIndex], \n",
        "                    #sourcePath+'/valid/'+classLabel+'/'+X_val[eachIndex])\n",
        "        #without valid\n",
        "                    sourcePath+'/test/'+classLabel+'/'+X_val[eachIndex])\n",
        "        \n",
        "    train_batches = ImageDataGenerator().flow_from_directory(train_path, target_size=(256,256), classes=['covid', 'normal', 'pneumonia'], class_mode = 'sparse', batch_size = 32, shuffle=True)\n",
        "    #without valid\n",
        "    #valid_batches = ImageDataGenerator().flow_from_directory(valid_path, target_size=(256,256), classes=['covid', 'normal', 'pneumonia'], class_mode = 'sparse', batch_size = 32, shuffle=True)\n",
        "    test_batches = ImageDataGenerator().flow_from_directory(test_path, target_size=(256,256), classes=['covid', 'normal', 'pneumonia'], class_mode = 'sparse', batch_size = 32, shuffle=False)\n",
        "\n",
        "    history = model.fit(train_batches, \n",
        "                    #steps_per_epoch=sp_epoch, \n",
        "                    #without valid\n",
        "                    #validation_data=valid_batches, \n",
        "                    #validation_steps=10, \n",
        "                    epochs=25, \n",
        "                    verbose=2)\n",
        "    \n",
        "    \n",
        "    \n",
        "    plt.plot(history.history['accuracy'])\n",
        "    #plt.plot(history.history['val_accuracy'])\n",
        "    plt.title('Nadam 1 Layer Cbam - Model Accuracy')\n",
        "    plt.ylim(0,1.1)\n",
        "    plt.ylabel('accuracy')\n",
        "    plt.xlabel('epoch')\n",
        "    #plt.legend(['train', 'valid'], loc='upper left')\n",
        "    #without valid\n",
        "    plt.legend(['train'], loc='upper left')\n",
        "    plt.show()\n",
        "    # summarize history for loss\n",
        "    plt.plot(history.history['loss'])\n",
        "    #plt.plot(history.history['val_loss'])\n",
        "    plt.title('Nadam 1 Layer Cbam - Model Loss')\n",
        "    plt.ylim(0,1.1)\n",
        "    plt.ylabel('loss')\n",
        "    plt.xlabel('epoch')\n",
        "    #plt.legend(['train', 'valid'], loc='upper left')\n",
        "    #without valid\n",
        "    plt.legend(['train'], loc='upper left')\n",
        "    plt.show()\n",
        "    test_batches.reset()\n",
        "    Y_pred = model.predict(test_batches)\n",
        "    classes = test_batches.classes[test_batches.index_array]\n",
        "    y_pred = np.argmax(Y_pred, axis=-1)\n",
        "    #print(\"***Performance on Test Data***\")  \n",
        "    #print(sum(y_pred==classes)/10000)\n",
        "    confusion_matrix(test_batches.classes[test_batches.index_array],y_pred)\n",
        "    #predictions = model.predict(test_batches, verbose=1)\n",
        "    #yPredictions = np.argmax(predictions, axis=1)\n",
        "    #print(yPredictions)\n",
        "    #true_classes = test_batches.classes\n",
        "    # evaluate validation performance\n",
        "    print(\"***Performance Data***\")    \n",
        "    #valAcc, valPrec, valFScore = my_metrics(true_classes, yPredictions)\n",
        "    valAcc, valPrec, valFScore, valRec = my_metrics(classes, y_pred)\n",
        "    overAllAcc = overAllAcc+valAcc\n",
        "    overAllPrec = overAllPrec+valPrec\n",
        "    overAllf1 = overAllf1+valFScore\n",
        "    overAllRec = overAllRec+valRec\n",
        "    \n",
        "    model.evaluate(test_batches)\n",
        "    print(\"***-----------------------------------------------***\")  \n",
        "    print(\"Overall Accuracy: \",  overAllAcc/foldNum)\n",
        "    print(\"Overall Precision: \",  overAllPrec/foldNum)\n",
        "    print(\"Overall f1Score: \",  overAllf1/foldNum)\n",
        "    print(\"Overall Recall: \",  overAllRec/foldNum)\n",
        "\n",
        "    print(\"***------------------End of Line------------------***\")    "
      ]
    }
  ],
  "metadata": {
    "accelerator": "GPU",
    "colab": {
      "collapsed_sections": [],
      "machine_shape": "hm",
      "name": "2022_Nadam_1 Lyr Cbam_tt_A.ipynb",
      "provenance": [],
      "include_colab_link": true
    },
    "kernelspec": {
      "display_name": "Python 3",
      "name": "python3"
    },
    "language_info": {
      "name": "python"
    }
  },
  "nbformat": 4,
  "nbformat_minor": 0
}