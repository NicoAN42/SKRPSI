{
  "cells": [
    {
      "cell_type": "markdown",
      "metadata": {
        "id": "view-in-github",
        "colab_type": "text"
      },
      "source": [
        "<a href=\"https://colab.research.google.com/github/NicoAN42/SKRPSI/blob/main/CBAM_FINAL_NDM_ALyr_vtt.ipynb\" target=\"_parent\"><img src=\"https://colab.research.google.com/assets/colab-badge.svg\" alt=\"Open In Colab\"/></a>"
      ]
    },
    {
      "cell_type": "code",
      "execution_count": 1,
      "metadata": {
        "colab": {
          "base_uri": "https://localhost:8080/"
        },
        "id": "bd3mi5ZLdBSv",
        "outputId": "9e6bcc97-cf01-4eb9-dd2e-c5fc67a7b5dc"
      },
      "outputs": [
        {
          "output_type": "stream",
          "name": "stdout",
          "text": [
            "Mounted at /content/drive\n"
          ]
        }
      ],
      "source": [
        "#mount dataset\n",
        "from google.colab import drive\n",
        "drive.mount('/content/drive')\n"
      ]
    },
    {
      "cell_type": "code",
      "execution_count": 2,
      "metadata": {
        "id": "mNr5eLs1WiKT"
      },
      "outputs": [],
      "source": [
        "from tensorflow.keras.layers import Conv2D, Input, concatenate, Activation, InputLayer, Dense, Reshape, Flatten, Add, multiply, Permute, Lambda, Concatenate\n",
        "from tensorflow.keras.layers import LeakyReLU,ReLU, MaxPooling2D, BatchNormalization,GlobalMaxPooling2D,GlobalAveragePooling2D\n",
        "from tensorflow.keras.models import Model, Sequential\n",
        "from tensorflow.keras import layers\n",
        "from tensorflow.keras.activations import softmax,sigmoid\n",
        "from tensorflow.keras.preprocessing.image import ImageDataGenerator\n",
        "from tensorflow.keras.optimizers import Adam, Nadam\n",
        "from tensorflow.keras.callbacks import EarlyStopping\n",
        "from tensorflow.keras.layers import Dropout,SpatialDropout2D,GaussianDropout\n",
        "from tensorflow.keras.optimizers.schedules import ExponentialDecay\n",
        "from tensorflow.keras.regularizers import l1,l2\n",
        "from tensorflow.keras import backend as K\n",
        "from __future__ import absolute_import\n",
        "from __future__ import division\n",
        "from __future__ import print_function\n",
        "import tensorflow\n",
        "import tensorflow as tf\n",
        "import math\n",
        "import matplotlib.pyplot as plt\n",
        "import numpy as np\n",
        "from sklearn.metrics import accuracy_score, f1_score, precision_score, confusion_matrix, recall_score\n",
        "from sklearn.model_selection import StratifiedKFold\n",
        "import os\n",
        "import random\n",
        "import shutil"
      ]
    },
    {
      "cell_type": "code",
      "execution_count": 3,
      "metadata": {
        "id": "M-dUDyotW99U"
      },
      "outputs": [],
      "source": [
        "#from tensorflow.keras.optimizers import SGD"
      ]
    },
    {
      "cell_type": "code",
      "execution_count": 4,
      "metadata": {
        "id": "1SKzQPoLeGUS"
      },
      "outputs": [],
      "source": [
        "CLASS = 3\n",
        "#sourcepath isi semua data train, folder valid kosongin datanya sisai folder classnya\n",
        "sourcePath = '/content/drive/MyDrive/Colab Notebooks/Dataset 11'\n",
        "train_path = '/content/drive/MyDrive/Colab Notebooks/Dataset 11/train'\n",
        "valid_path = '/content/drive/MyDrive/Colab Notebooks/Dataset 11/valid'\n",
        "test_path = '/content/drive/MyDrive/Colab Notebooks/Dataset 11/test'\n",
        "attention_module = 'cbam_block'\n",
        "#nico"
      ]
    },
    {
      "cell_type": "code",
      "execution_count": 5,
      "metadata": {
        "id": "qyuRvIz9mFu_"
      },
      "outputs": [],
      "source": [
        "classLabels =['covid','normal', 'pneumonia']"
      ]
    },
    {
      "cell_type": "code",
      "execution_count": 6,
      "metadata": {
        "id": "IiymK5QRgQVC"
      },
      "outputs": [],
      "source": [
        "def attach_attention_module(net, attention_module):\n",
        "  #if attention_module == 'se_block': # SE_block\n",
        "    #net = se_block(net)\n",
        "  if attention_module == 'cbam_block': # CBAM_block\n",
        "    net = cbam_block(net)\n",
        "  else:\n",
        "    raise Exception(\"'{}' is not supported attention module!\".format(attention_module))\n",
        "\n",
        "  return net"
      ]
    },
    {
      "cell_type": "code",
      "execution_count": 7,
      "metadata": {
        "id": "4E-9i3yHgQX8"
      },
      "outputs": [],
      "source": [
        "def cbam_block(cbam_feature, ratio=8):\n",
        "\t\"\"\"Contains the implementation of Convolutional Block Attention Module(CBAM) block.\n",
        "\tAs described in https://arxiv.org/abs/1807.06521.\n",
        "\t\"\"\"\n",
        "\t\n",
        "\tcbam_feature = channel_attention(cbam_feature, ratio)\n",
        "\tcbam_feature = spatial_attention(cbam_feature)\n",
        "\treturn cbam_feature\n"
      ]
    },
    {
      "cell_type": "code",
      "execution_count": 8,
      "metadata": {
        "id": "doOnf8U9YBM-"
      },
      "outputs": [],
      "source": [
        "def channel_attention(input_feature, ratio=8):\n",
        "\t\n",
        "\tchannel_axis = 1 if K.image_data_format() == \"channels_first\" else -1\n",
        "\tchannel = input_feature.shape[channel_axis]\n",
        "\t\n",
        "\tshared_layer_one = Dense(channel//ratio,\n",
        "\t\t\t\t\t\t\t activation='relu',\n",
        "\t\t\t\t\t\t\t kernel_initializer='he_normal',\n",
        "\t\t\t\t\t\t\t use_bias=True,\n",
        "\t\t\t\t\t\t\t bias_initializer='zeros')\n",
        "\tshared_layer_two = Dense(channel,\n",
        "\t\t\t\t\t\t\t kernel_initializer='he_normal',\n",
        "\t\t\t\t\t\t\t use_bias=True,\n",
        "\t\t\t\t\t\t\t bias_initializer='zeros')\n",
        "\t\n",
        "\tavg_pool = GlobalAveragePooling2D()(input_feature)    \n",
        "\tavg_pool = Reshape((1,1,channel))(avg_pool)\n",
        "\tassert avg_pool.shape[1:] == (1,1,channel)\n",
        "\tavg_pool = shared_layer_one(avg_pool)\n",
        "\tassert avg_pool.shape[1:] == (1,1,channel//ratio)\n",
        "\tavg_pool = shared_layer_two(avg_pool)\n",
        "\tassert avg_pool.shape[1:] == (1,1,channel)\n",
        "\t\n",
        "\tmax_pool = GlobalMaxPooling2D()(input_feature)\n",
        "\tmax_pool = Reshape((1,1,channel))(max_pool)\n",
        "\tassert max_pool.shape[1:] == (1,1,channel)\n",
        "\tmax_pool = shared_layer_one(max_pool)\n",
        "\tassert max_pool.shape[1:] == (1,1,channel//ratio)\n",
        "\tmax_pool = shared_layer_two(max_pool)\n",
        "\tassert max_pool.shape[1:] == (1,1,channel)\n",
        "\t\n",
        "\tcbam_feature = Add()([avg_pool,max_pool])\n",
        "\tcbam_feature = Activation('sigmoid')(cbam_feature)\n",
        "\t\n",
        "\tif K.image_data_format() == \"channels_first\":\n",
        "\t\tcbam_feature = Permute((3, 1, 2))(cbam_feature)\n",
        "\t\n",
        "\treturn multiply([input_feature, cbam_feature])"
      ]
    },
    {
      "cell_type": "code",
      "execution_count": 9,
      "metadata": {
        "id": "Xl7CStcEYE_h"
      },
      "outputs": [],
      "source": [
        "def spatial_attention(input_feature):\n",
        "\tkernel_size = 7\n",
        "\t\n",
        "\tif K.image_data_format() == \"channels_first\":\n",
        "\t\tchannel = input_feature.shape[1]\n",
        "\t\tcbam_feature = Permute((2,3,1))(input_feature)\n",
        "\telse:\n",
        "\t\tchannel = input_feature.shape[-1]\n",
        "\t\tcbam_feature = input_feature\n",
        "\t\n",
        "\tavg_pool = Lambda(lambda x: K.mean(x, axis=3, keepdims=True))(cbam_feature)\n",
        "\tassert avg_pool.shape[-1] == 1\n",
        "\tmax_pool = Lambda(lambda x: K.max(x, axis=3, keepdims=True))(cbam_feature)\n",
        "\tassert max_pool.shape[-1] == 1\n",
        "\tconcat = Concatenate(axis=3)([avg_pool, max_pool])\n",
        "\tassert concat.shape[-1] == 2\n",
        "\tcbam_feature = Conv2D(filters = 1,\n",
        "\t\t\t\t\tkernel_size=kernel_size,\n",
        "\t\t\t\t\tstrides=1,\n",
        "\t\t\t\t\tpadding='same',\n",
        "\t\t\t\t\tactivation='sigmoid',\n",
        "\t\t\t\t\tkernel_initializer='he_normal',\n",
        "\t\t\t\t\tuse_bias=False)(concat)\t\n",
        "\tassert cbam_feature.shape[-1] == 1\n",
        "\t\n",
        "\tif K.image_data_format() == \"channels_first\":\n",
        "\t\tcbam_feature = Permute((3, 1, 2))(cbam_feature)\n",
        "\t\t\n",
        "\treturn multiply([input_feature, cbam_feature])"
      ]
    },
    {
      "cell_type": "code",
      "execution_count": 10,
      "metadata": {
        "id": "q2Q9CbMzY1Rn"
      },
      "outputs": [],
      "source": [
        "input = Input(shape=(256,256,3))"
      ]
    },
    {
      "cell_type": "code",
      "execution_count": 11,
      "metadata": {
        "id": "YpZNBOFOZBJL"
      },
      "outputs": [],
      "source": [
        "#Layer 1\n",
        "model = layers.Conv2D(32, (3,3), padding='same', name='conv_1', activation = 'relu')(input)\n",
        "model = layers.BatchNormalization(name='norm_1')(model)\n",
        "model = layers.MaxPooling2D(pool_size=(2, 2), strides= 2)(model)\n",
        "attention_module = 'cbam_block'\n",
        "y = attach_attention_module(model, attention_module)\n",
        "model =  tensorflow.keras.layers.add([model, y])\n"
      ]
    },
    {
      "cell_type": "code",
      "execution_count": 12,
      "metadata": {
        "id": "pBvWdrCmZCsQ"
      },
      "outputs": [],
      "source": [
        "#Layer 2\n",
        "model = layers.Conv2D(64, (3,3), padding='same', name='conv_2', activation = 'relu')(model)\n",
        "model = layers.Dropout(0.1)(model)\n",
        "model = layers.BatchNormalization(name='norm_2')(model)\n",
        "model = layers.MaxPooling2D(pool_size=(2, 2), strides = 2)(model)\n",
        "\n",
        "attention_module = 'cbam_block'\n",
        "y = attach_attention_module(model, attention_module)\n",
        "model =  tensorflow.keras.layers.add([model, y])\n"
      ]
    },
    {
      "cell_type": "code",
      "execution_count": 13,
      "metadata": {
        "id": "RBUvxL-9ZEO3"
      },
      "outputs": [],
      "source": [
        "# Layer 3\n",
        "model = layers.Conv2D(64, (3,3), padding='same', name='conv_3', activation = 'relu')(model)\n",
        "model = layers.BatchNormalization(name='norm_3')(model)\n",
        "model = layers.MaxPooling2D(pool_size=(2, 2), strides = 2)(model)\n",
        "\n",
        "attention_module = 'cbam_block'\n",
        "y = attach_attention_module(model, attention_module)\n",
        "model =  tensorflow.keras.layers.add([model, y])\n",
        "\n"
      ]
    },
    {
      "cell_type": "code",
      "execution_count": 14,
      "metadata": {
        "id": "QKyPzn20ZI1Y"
      },
      "outputs": [],
      "source": [
        "# Layer 4\n",
        "model = layers.Conv2D(128, (3,3), padding='same', name='conv_4', activation = 'relu')(model)\n",
        "model = layers.Dropout(0.2)(model)\n",
        "model = layers.BatchNormalization(name='norm_4')(model)\n",
        "model = layers.MaxPooling2D(pool_size=(2, 2), strides = 2)(model)\n",
        "\n",
        "attention_module = 'cbam_block'\n",
        "y = attach_attention_module(model, attention_module)\n",
        "model =  tensorflow.keras.layers.add([model, y])\n"
      ]
    },
    {
      "cell_type": "code",
      "execution_count": 15,
      "metadata": {
        "id": "tgLQSWDfZJ53"
      },
      "outputs": [],
      "source": [
        "# Layer 5\n",
        "model = layers.Conv2D(256, (3,3), padding='same', name='conv_5', activation = 'relu')(model)\n",
        "layer = layers.Conv2D(256, (3,3), padding='same', name='conv_5', activation = 'relu')\n",
        "batch = layers.BatchNormalization(name='norm_5')\n",
        "model = layers.Dropout(0.2)(model)\n",
        "model = layers.BatchNormalization(name='norm_5')(model)\n",
        "#model = layers.MaxPooling2D(pool_size=(2, 2), strides = 2)(model)"
      ]
    },
    {
      "cell_type": "code",
      "execution_count": 16,
      "metadata": {
        "id": "8_jONIoBZhXm"
      },
      "outputs": [],
      "source": [
        "model = layers.Flatten()(model)\n",
        "model = layers.Dense(128, activation = 'relu')(model)\n",
        "model = layers.Dropout(0.2)(model)\n",
        "output = layers.Dense(3,Activation('softmax'))(model)\n",
        "model = Model(input, output)"
      ]
    },
    {
      "cell_type": "code",
      "execution_count": 17,
      "metadata": {
        "id": "iDpUFSaVZigY"
      },
      "outputs": [],
      "source": [
        "#output = model.output_shape"
      ]
    },
    {
      "cell_type": "code",
      "execution_count": 18,
      "metadata": {
        "colab": {
          "base_uri": "https://localhost:8080/"
        },
        "id": "qRYlJT_4ZkhM",
        "outputId": "46722e62-5cd4-494b-d37c-ef42574eb2d4"
      },
      "outputs": [
        {
          "output_type": "stream",
          "name": "stdout",
          "text": [
            "KerasTensor(type_spec=TensorSpec(shape=(None, 256, 256, 3), dtype=tf.float32, name='input_1'), name='input_1', description=\"created by layer 'input_1'\")\n"
          ]
        }
      ],
      "source": [
        "print(input)"
      ]
    },
    {
      "cell_type": "code",
      "execution_count": 19,
      "metadata": {
        "id": "1AMvVOzNL8Bw"
      },
      "outputs": [],
      "source": [
        "#initial_learning_rate=0.0001"
      ]
    },
    {
      "cell_type": "code",
      "execution_count": 20,
      "metadata": {
        "id": "DwCqyvBhLupX"
      },
      "outputs": [],
      "source": [
        "#lr_schedule = ExponentialDecay(\n",
        "#   initial_learning_rate, decay_steps=100000, decay_rate=0.96, staircase=True\n",
        "#)\n"
      ]
    },
    {
      "cell_type": "code",
      "execution_count": 21,
      "metadata": {
        "id": "JdlrgYZwZnEd"
      },
      "outputs": [],
      "source": [
        "opt = Nadam(learning_rate=0.001, beta_1=0.9, beta_2=0.999)"
      ]
    },
    {
      "cell_type": "code",
      "execution_count": 22,
      "metadata": {
        "id": "oOIL33yEZpPX"
      },
      "outputs": [],
      "source": [
        "model.compile(optimizer=opt, loss=\"sparse_categorical_crossentropy\", metrics=[\"accuracy\"] )"
      ]
    },
    {
      "cell_type": "code",
      "execution_count": 23,
      "metadata": {
        "colab": {
          "base_uri": "https://localhost:8080/"
        },
        "id": "99dNdRxNZqh5",
        "outputId": "23aa96d3-744a-4baa-858a-f498a2b8a83d"
      },
      "outputs": [
        {
          "output_type": "stream",
          "name": "stdout",
          "text": [
            "Model: \"model\"\n",
            "__________________________________________________________________________________________________\n",
            " Layer (type)                   Output Shape         Param #     Connected to                     \n",
            "==================================================================================================\n",
            " input_1 (InputLayer)           [(None, 256, 256, 3  0           []                               \n",
            "                                )]                                                                \n",
            "                                                                                                  \n",
            " conv_1 (Conv2D)                (None, 256, 256, 32  896         ['input_1[0][0]']                \n",
            "                                )                                                                 \n",
            "                                                                                                  \n",
            " norm_1 (BatchNormalization)    (None, 256, 256, 32  128         ['conv_1[0][0]']                 \n",
            "                                )                                                                 \n",
            "                                                                                                  \n",
            " max_pooling2d (MaxPooling2D)   (None, 128, 128, 32  0           ['norm_1[0][0]']                 \n",
            "                                )                                                                 \n",
            "                                                                                                  \n",
            " global_average_pooling2d (Glob  (None, 32)          0           ['max_pooling2d[0][0]']          \n",
            " alAveragePooling2D)                                                                              \n",
            "                                                                                                  \n",
            " global_max_pooling2d (GlobalMa  (None, 32)          0           ['max_pooling2d[0][0]']          \n",
            " xPooling2D)                                                                                      \n",
            "                                                                                                  \n",
            " reshape (Reshape)              (None, 1, 1, 32)     0           ['global_average_pooling2d[0][0]'\n",
            "                                                                 ]                                \n",
            "                                                                                                  \n",
            " reshape_1 (Reshape)            (None, 1, 1, 32)     0           ['global_max_pooling2d[0][0]']   \n",
            "                                                                                                  \n",
            " dense (Dense)                  (None, 1, 1, 4)      132         ['reshape[0][0]',                \n",
            "                                                                  'reshape_1[0][0]']              \n",
            "                                                                                                  \n",
            " dense_1 (Dense)                (None, 1, 1, 32)     160         ['dense[0][0]',                  \n",
            "                                                                  'dense[1][0]']                  \n",
            "                                                                                                  \n",
            " add (Add)                      (None, 1, 1, 32)     0           ['dense_1[0][0]',                \n",
            "                                                                  'dense_1[1][0]']                \n",
            "                                                                                                  \n",
            " activation (Activation)        (None, 1, 1, 32)     0           ['add[0][0]']                    \n",
            "                                                                                                  \n",
            " multiply (Multiply)            (None, 128, 128, 32  0           ['max_pooling2d[0][0]',          \n",
            "                                )                                 'activation[0][0]']             \n",
            "                                                                                                  \n",
            " lambda (Lambda)                (None, 128, 128, 1)  0           ['multiply[0][0]']               \n",
            "                                                                                                  \n",
            " lambda_1 (Lambda)              (None, 128, 128, 1)  0           ['multiply[0][0]']               \n",
            "                                                                                                  \n",
            " concatenate (Concatenate)      (None, 128, 128, 2)  0           ['lambda[0][0]',                 \n",
            "                                                                  'lambda_1[0][0]']               \n",
            "                                                                                                  \n",
            " conv2d (Conv2D)                (None, 128, 128, 1)  98          ['concatenate[0][0]']            \n",
            "                                                                                                  \n",
            " multiply_1 (Multiply)          (None, 128, 128, 32  0           ['multiply[0][0]',               \n",
            "                                )                                 'conv2d[0][0]']                 \n",
            "                                                                                                  \n",
            " add_1 (Add)                    (None, 128, 128, 32  0           ['max_pooling2d[0][0]',          \n",
            "                                )                                 'multiply_1[0][0]']             \n",
            "                                                                                                  \n",
            " conv_2 (Conv2D)                (None, 128, 128, 64  18496       ['add_1[0][0]']                  \n",
            "                                )                                                                 \n",
            "                                                                                                  \n",
            " dropout (Dropout)              (None, 128, 128, 64  0           ['conv_2[0][0]']                 \n",
            "                                )                                                                 \n",
            "                                                                                                  \n",
            " norm_2 (BatchNormalization)    (None, 128, 128, 64  256         ['dropout[0][0]']                \n",
            "                                )                                                                 \n",
            "                                                                                                  \n",
            " max_pooling2d_1 (MaxPooling2D)  (None, 64, 64, 64)  0           ['norm_2[0][0]']                 \n",
            "                                                                                                  \n",
            " global_average_pooling2d_1 (Gl  (None, 64)          0           ['max_pooling2d_1[0][0]']        \n",
            " obalAveragePooling2D)                                                                            \n",
            "                                                                                                  \n",
            " global_max_pooling2d_1 (Global  (None, 64)          0           ['max_pooling2d_1[0][0]']        \n",
            " MaxPooling2D)                                                                                    \n",
            "                                                                                                  \n",
            " reshape_2 (Reshape)            (None, 1, 1, 64)     0           ['global_average_pooling2d_1[0][0\n",
            "                                                                 ]']                              \n",
            "                                                                                                  \n",
            " reshape_3 (Reshape)            (None, 1, 1, 64)     0           ['global_max_pooling2d_1[0][0]'] \n",
            "                                                                                                  \n",
            " dense_2 (Dense)                (None, 1, 1, 8)      520         ['reshape_2[0][0]',              \n",
            "                                                                  'reshape_3[0][0]']              \n",
            "                                                                                                  \n",
            " dense_3 (Dense)                (None, 1, 1, 64)     576         ['dense_2[0][0]',                \n",
            "                                                                  'dense_2[1][0]']                \n",
            "                                                                                                  \n",
            " add_2 (Add)                    (None, 1, 1, 64)     0           ['dense_3[0][0]',                \n",
            "                                                                  'dense_3[1][0]']                \n",
            "                                                                                                  \n",
            " activation_1 (Activation)      (None, 1, 1, 64)     0           ['add_2[0][0]']                  \n",
            "                                                                                                  \n",
            " multiply_2 (Multiply)          (None, 64, 64, 64)   0           ['max_pooling2d_1[0][0]',        \n",
            "                                                                  'activation_1[0][0]']           \n",
            "                                                                                                  \n",
            " lambda_2 (Lambda)              (None, 64, 64, 1)    0           ['multiply_2[0][0]']             \n",
            "                                                                                                  \n",
            " lambda_3 (Lambda)              (None, 64, 64, 1)    0           ['multiply_2[0][0]']             \n",
            "                                                                                                  \n",
            " concatenate_1 (Concatenate)    (None, 64, 64, 2)    0           ['lambda_2[0][0]',               \n",
            "                                                                  'lambda_3[0][0]']               \n",
            "                                                                                                  \n",
            " conv2d_1 (Conv2D)              (None, 64, 64, 1)    98          ['concatenate_1[0][0]']          \n",
            "                                                                                                  \n",
            " multiply_3 (Multiply)          (None, 64, 64, 64)   0           ['multiply_2[0][0]',             \n",
            "                                                                  'conv2d_1[0][0]']               \n",
            "                                                                                                  \n",
            " add_3 (Add)                    (None, 64, 64, 64)   0           ['max_pooling2d_1[0][0]',        \n",
            "                                                                  'multiply_3[0][0]']             \n",
            "                                                                                                  \n",
            " conv_3 (Conv2D)                (None, 64, 64, 64)   36928       ['add_3[0][0]']                  \n",
            "                                                                                                  \n",
            " norm_3 (BatchNormalization)    (None, 64, 64, 64)   256         ['conv_3[0][0]']                 \n",
            "                                                                                                  \n",
            " max_pooling2d_2 (MaxPooling2D)  (None, 32, 32, 64)  0           ['norm_3[0][0]']                 \n",
            "                                                                                                  \n",
            " global_average_pooling2d_2 (Gl  (None, 64)          0           ['max_pooling2d_2[0][0]']        \n",
            " obalAveragePooling2D)                                                                            \n",
            "                                                                                                  \n",
            " global_max_pooling2d_2 (Global  (None, 64)          0           ['max_pooling2d_2[0][0]']        \n",
            " MaxPooling2D)                                                                                    \n",
            "                                                                                                  \n",
            " reshape_4 (Reshape)            (None, 1, 1, 64)     0           ['global_average_pooling2d_2[0][0\n",
            "                                                                 ]']                              \n",
            "                                                                                                  \n",
            " reshape_5 (Reshape)            (None, 1, 1, 64)     0           ['global_max_pooling2d_2[0][0]'] \n",
            "                                                                                                  \n",
            " dense_4 (Dense)                (None, 1, 1, 8)      520         ['reshape_4[0][0]',              \n",
            "                                                                  'reshape_5[0][0]']              \n",
            "                                                                                                  \n",
            " dense_5 (Dense)                (None, 1, 1, 64)     576         ['dense_4[0][0]',                \n",
            "                                                                  'dense_4[1][0]']                \n",
            "                                                                                                  \n",
            " add_4 (Add)                    (None, 1, 1, 64)     0           ['dense_5[0][0]',                \n",
            "                                                                  'dense_5[1][0]']                \n",
            "                                                                                                  \n",
            " activation_2 (Activation)      (None, 1, 1, 64)     0           ['add_4[0][0]']                  \n",
            "                                                                                                  \n",
            " multiply_4 (Multiply)          (None, 32, 32, 64)   0           ['max_pooling2d_2[0][0]',        \n",
            "                                                                  'activation_2[0][0]']           \n",
            "                                                                                                  \n",
            " lambda_4 (Lambda)              (None, 32, 32, 1)    0           ['multiply_4[0][0]']             \n",
            "                                                                                                  \n",
            " lambda_5 (Lambda)              (None, 32, 32, 1)    0           ['multiply_4[0][0]']             \n",
            "                                                                                                  \n",
            " concatenate_2 (Concatenate)    (None, 32, 32, 2)    0           ['lambda_4[0][0]',               \n",
            "                                                                  'lambda_5[0][0]']               \n",
            "                                                                                                  \n",
            " conv2d_2 (Conv2D)              (None, 32, 32, 1)    98          ['concatenate_2[0][0]']          \n",
            "                                                                                                  \n",
            " multiply_5 (Multiply)          (None, 32, 32, 64)   0           ['multiply_4[0][0]',             \n",
            "                                                                  'conv2d_2[0][0]']               \n",
            "                                                                                                  \n",
            " add_5 (Add)                    (None, 32, 32, 64)   0           ['max_pooling2d_2[0][0]',        \n",
            "                                                                  'multiply_5[0][0]']             \n",
            "                                                                                                  \n",
            " conv_4 (Conv2D)                (None, 32, 32, 128)  73856       ['add_5[0][0]']                  \n",
            "                                                                                                  \n",
            " dropout_1 (Dropout)            (None, 32, 32, 128)  0           ['conv_4[0][0]']                 \n",
            "                                                                                                  \n",
            " norm_4 (BatchNormalization)    (None, 32, 32, 128)  512         ['dropout_1[0][0]']              \n",
            "                                                                                                  \n",
            " max_pooling2d_3 (MaxPooling2D)  (None, 16, 16, 128)  0          ['norm_4[0][0]']                 \n",
            "                                                                                                  \n",
            " global_average_pooling2d_3 (Gl  (None, 128)         0           ['max_pooling2d_3[0][0]']        \n",
            " obalAveragePooling2D)                                                                            \n",
            "                                                                                                  \n",
            " global_max_pooling2d_3 (Global  (None, 128)         0           ['max_pooling2d_3[0][0]']        \n",
            " MaxPooling2D)                                                                                    \n",
            "                                                                                                  \n",
            " reshape_6 (Reshape)            (None, 1, 1, 128)    0           ['global_average_pooling2d_3[0][0\n",
            "                                                                 ]']                              \n",
            "                                                                                                  \n",
            " reshape_7 (Reshape)            (None, 1, 1, 128)    0           ['global_max_pooling2d_3[0][0]'] \n",
            "                                                                                                  \n",
            " dense_6 (Dense)                (None, 1, 1, 16)     2064        ['reshape_6[0][0]',              \n",
            "                                                                  'reshape_7[0][0]']              \n",
            "                                                                                                  \n",
            " dense_7 (Dense)                (None, 1, 1, 128)    2176        ['dense_6[0][0]',                \n",
            "                                                                  'dense_6[1][0]']                \n",
            "                                                                                                  \n",
            " add_6 (Add)                    (None, 1, 1, 128)    0           ['dense_7[0][0]',                \n",
            "                                                                  'dense_7[1][0]']                \n",
            "                                                                                                  \n",
            " activation_3 (Activation)      (None, 1, 1, 128)    0           ['add_6[0][0]']                  \n",
            "                                                                                                  \n",
            " multiply_6 (Multiply)          (None, 16, 16, 128)  0           ['max_pooling2d_3[0][0]',        \n",
            "                                                                  'activation_3[0][0]']           \n",
            "                                                                                                  \n",
            " lambda_6 (Lambda)              (None, 16, 16, 1)    0           ['multiply_6[0][0]']             \n",
            "                                                                                                  \n",
            " lambda_7 (Lambda)              (None, 16, 16, 1)    0           ['multiply_6[0][0]']             \n",
            "                                                                                                  \n",
            " concatenate_3 (Concatenate)    (None, 16, 16, 2)    0           ['lambda_6[0][0]',               \n",
            "                                                                  'lambda_7[0][0]']               \n",
            "                                                                                                  \n",
            " conv2d_3 (Conv2D)              (None, 16, 16, 1)    98          ['concatenate_3[0][0]']          \n",
            "                                                                                                  \n",
            " multiply_7 (Multiply)          (None, 16, 16, 128)  0           ['multiply_6[0][0]',             \n",
            "                                                                  'conv2d_3[0][0]']               \n",
            "                                                                                                  \n",
            " add_7 (Add)                    (None, 16, 16, 128)  0           ['max_pooling2d_3[0][0]',        \n",
            "                                                                  'multiply_7[0][0]']             \n",
            "                                                                                                  \n",
            " conv_5 (Conv2D)                (None, 16, 16, 256)  295168      ['add_7[0][0]']                  \n",
            "                                                                                                  \n",
            " dropout_2 (Dropout)            (None, 16, 16, 256)  0           ['conv_5[0][0]']                 \n",
            "                                                                                                  \n",
            " norm_5 (BatchNormalization)    (None, 16, 16, 256)  1024        ['dropout_2[0][0]']              \n",
            "                                                                                                  \n",
            " flatten (Flatten)              (None, 65536)        0           ['norm_5[0][0]']                 \n",
            "                                                                                                  \n",
            " dense_8 (Dense)                (None, 128)          8388736     ['flatten[0][0]']                \n",
            "                                                                                                  \n",
            " dropout_3 (Dropout)            (None, 128)          0           ['dense_8[0][0]']                \n",
            "                                                                                                  \n",
            " dense_9 (Dense)                (None, 3)            387         ['dropout_3[0][0]']              \n",
            "                                                                                                  \n",
            "==================================================================================================\n",
            "Total params: 8,823,759\n",
            "Trainable params: 8,822,671\n",
            "Non-trainable params: 1,088\n",
            "__________________________________________________________________________________________________\n",
            "None\n",
            "<keras.engine.functional.Functional object at 0x7f10c229d110>\n"
          ]
        }
      ],
      "source": [
        "print(model.summary())\n",
        "print(model)"
      ]
    },
    {
      "cell_type": "code",
      "execution_count": 24,
      "metadata": {
        "id": "NIABPyRMYycd"
      },
      "outputs": [],
      "source": [
        "X = []\n",
        "Y = []\n",
        "def transferBetweenFolders(source, dest, splitRate): \n",
        "    global sourceFiles\n",
        "    sourceFiles=os.listdir(source)\n",
        "    if(len(sourceFiles)!=0):\n",
        "        transferFileNumbers=int(len(sourceFiles)*splitRate)\n",
        "        transferIndex=random.sample(range(0, len(sourceFiles)), transferFileNumbers)\n",
        "        for eachIndex in transferIndex:\n",
        "            shutil.move(source+str(sourceFiles[eachIndex]), dest+str(sourceFiles[eachIndex]))\n",
        "    else:\n",
        "        print(\"No file moved. Source empty!\")\n",
        "        "
      ]
    },
    {
      "cell_type": "code",
      "execution_count": 25,
      "metadata": {
        "id": "Fh0THhOaY0Da"
      },
      "outputs": [],
      "source": [
        "def transferAllClassBetweenFolders(source, dest, splitRate):\n",
        "    for label in classLabels:\n",
        "        transferBetweenFolders(sourcePath+'/'+source+'/'+label+'/', \n",
        "                               sourcePath+'/'+dest+'/'+label+'/', \n",
        "                               splitRate)\n",
        "#First cut all images from validation to train (if any exists)\n",
        "transferAllClassBetweenFolders('valid', 'train', 1.0)\n",
        "transferAllClassBetweenFolders('test', 'train', 1.0)\n",
        "#no valid\n",
        "transferAllClassBetweenFolders('train', 'test', 0.2)"
      ]
    },
    {
      "cell_type": "code",
      "execution_count": 26,
      "metadata": {
        "id": "bvS9lltuY5_4"
      },
      "outputs": [],
      "source": [
        "def prepareNameWithLabels(folderName):\n",
        "    sourceFiles=os.listdir(sourcePath+'/train/'+folderName)\n",
        "    for val in sourceFiles:\n",
        "        X.append(val)\n",
        "        for i in range(len(classLabels)):\n",
        "          if(folderName==classLabels[i]):\n",
        "              Y.append(i)\n",
        "# Organize file names and class labels in X and Y variables\n",
        "for i in range(len(classLabels)):\n",
        "  prepareNameWithLabels(classLabels[i])\n",
        "\n",
        "def my_metrics(y_true, y_pred):\n",
        "    accuracy=accuracy_score(y_true, y_pred)\n",
        "    precision=precision_score(y_true, y_pred,average='micro')\n",
        "    f1Score=f1_score(y_true, y_pred, average='micro') \n",
        "    recall = recall_score(y_true, y_pred, average='micro')\n",
        "    print(\"Accuracy  : {}\".format(accuracy))\n",
        "    print(\"Precision : {}\".format(precision))\n",
        "    print(\"f1Score : {}\".format(f1Score))\n",
        "    print(\"Recall : {}\".format(recall))\n",
        "    cm=confusion_matrix(y_true, y_pred)\n",
        "    print(cm)\n",
        "\n",
        "    print(\"***----------------------------***\")  \n",
        "    return accuracy, precision, f1Score, recall"
      ]
    },
    {
      "cell_type": "code",
      "execution_count": 27,
      "metadata": {
        "colab": {
          "base_uri": "https://localhost:8080/"
        },
        "id": "7hjflR4gZW0Y",
        "outputId": "f1c9c927-428f-4044-8511-e65531a223d3"
      },
      "outputs": [
        {
          "output_type": "stream",
          "name": "stdout",
          "text": [
            "No file moved. Source empty!\n",
            "No file moved. Source empty!\n",
            "No file moved. Source empty!\n",
            "['COVID(35).png' 'COVID(80).png' 'COVID(105).png' ...\n",
            " 'person260_bacteria_1223.jpeg' 'person263_bacteria_1227.jpeg'\n",
            " 'person258_bacteria_1215.jpeg']\n",
            "[0 0 0 ... 2 2 2]\n",
            "StratifiedKFold(n_splits=5, random_state=None, shuffle=True)\n",
            "5\n",
            "<generator object _BaseKFold.split at 0x7f10c2262ad0>\n"
          ]
        }
      ],
      "source": [
        "transferAllClassBetweenFolders('valid', 'train', 1.0)\n",
        "#no valid\n",
        "#transferAllClassBetweenFolders('test', 'train', 1.0)\n",
        "X=np.asarray(X)\n",
        "Y=np.asarray(Y)\n",
        "\n",
        "print(X)\n",
        "print(Y)\n",
        "\n",
        "skf = StratifiedKFold(n_splits=5\n",
        "                      , shuffle=True)\n",
        "skf.get_n_splits(X, Y)\n",
        "print(skf)\n",
        "print(skf.get_n_splits(X,Y))\n",
        "print(skf.split(X,Y))\n",
        "foldNum=0\n",
        "overAllAcc = 0\n",
        "overAllPrec = 0\n",
        "overAllf1 = 0\n",
        "overAllRec = 0"
      ]
    },
    {
      "cell_type": "code",
      "execution_count": 28,
      "metadata": {
        "colab": {
          "base_uri": "https://localhost:8080/",
          "height": 1000
        },
        "id": "TsQVUi57ZDHg",
        "outputId": "242802d6-3461-445e-93ea-7539e779dab4"
      },
      "outputs": [
        {
          "output_type": "stream",
          "name": "stdout",
          "text": [
            "trn_indx: 1728 test_indx: 432\n",
            "No file moved. Source empty!\n",
            "No file moved. Source empty!\n",
            "No file moved. Source empty!\n",
            "Results for fold 1\n",
            "1728\n",
            "432\n",
            "Found 1728 images belonging to 3 classes.\n",
            "Found 432 images belonging to 3 classes.\n",
            "Found 540 images belonging to 3 classes.\n",
            "Epoch 1/25\n",
            "54/54 - 794s - loss: 1.0030 - accuracy: 0.8628 - val_loss: 29.6219 - val_accuracy: 0.3565 - 794s/epoch - 15s/step\n",
            "Epoch 2/25\n",
            "54/54 - 23s - loss: 0.2572 - accuracy: 0.9288 - val_loss: 3.9161 - val_accuracy: 0.5903 - 23s/epoch - 421ms/step\n",
            "Epoch 3/25\n",
            "54/54 - 23s - loss: 0.1328 - accuracy: 0.9595 - val_loss: 0.1336 - val_accuracy: 0.9468 - 23s/epoch - 420ms/step\n",
            "Epoch 4/25\n",
            "54/54 - 23s - loss: 0.1131 - accuracy: 0.9659 - val_loss: 0.9503 - val_accuracy: 0.8380 - 23s/epoch - 420ms/step\n",
            "Epoch 5/25\n",
            "54/54 - 23s - loss: 0.1177 - accuracy: 0.9716 - val_loss: 0.1318 - val_accuracy: 0.9745 - 23s/epoch - 417ms/step\n",
            "Epoch 6/25\n",
            "54/54 - 22s - loss: 0.1155 - accuracy: 0.9664 - val_loss: 0.1678 - val_accuracy: 0.9468 - 22s/epoch - 416ms/step\n",
            "Epoch 7/25\n",
            "54/54 - 22s - loss: 0.0439 - accuracy: 0.9838 - val_loss: 0.1905 - val_accuracy: 0.9537 - 22s/epoch - 416ms/step\n",
            "Epoch 8/25\n",
            "54/54 - 23s - loss: 0.0247 - accuracy: 0.9919 - val_loss: 0.2195 - val_accuracy: 0.9560 - 23s/epoch - 417ms/step\n",
            "Epoch 9/25\n",
            "54/54 - 22s - loss: 0.0878 - accuracy: 0.9780 - val_loss: 0.5872 - val_accuracy: 0.8912 - 22s/epoch - 416ms/step\n",
            "Epoch 10/25\n",
            "54/54 - 23s - loss: 0.0403 - accuracy: 0.9855 - val_loss: 0.0858 - val_accuracy: 0.9792 - 23s/epoch - 420ms/step\n",
            "Epoch 11/25\n",
            "54/54 - 23s - loss: 0.0151 - accuracy: 0.9942 - val_loss: 0.2076 - val_accuracy: 0.9583 - 23s/epoch - 417ms/step\n",
            "Epoch 12/25\n",
            "54/54 - 23s - loss: 0.0164 - accuracy: 0.9936 - val_loss: 0.1634 - val_accuracy: 0.9421 - 23s/epoch - 417ms/step\n",
            "Epoch 13/25\n",
            "54/54 - 23s - loss: 0.1824 - accuracy: 0.9618 - val_loss: 0.7763 - val_accuracy: 0.8935 - 23s/epoch - 418ms/step\n",
            "Epoch 14/25\n",
            "54/54 - 22s - loss: 0.1135 - accuracy: 0.9745 - val_loss: 0.8556 - val_accuracy: 0.8403 - 22s/epoch - 416ms/step\n",
            "Epoch 15/25\n",
            "54/54 - 22s - loss: 0.0748 - accuracy: 0.9803 - val_loss: 0.3988 - val_accuracy: 0.9352 - 22s/epoch - 416ms/step\n",
            "Epoch 16/25\n",
            "54/54 - 22s - loss: 0.0439 - accuracy: 0.9838 - val_loss: 0.2268 - val_accuracy: 0.9653 - 22s/epoch - 413ms/step\n",
            "Epoch 17/25\n",
            "54/54 - 23s - loss: 0.0314 - accuracy: 0.9878 - val_loss: 0.5149 - val_accuracy: 0.9421 - 23s/epoch - 417ms/step\n",
            "Epoch 18/25\n",
            "54/54 - 23s - loss: 0.0686 - accuracy: 0.9838 - val_loss: 0.1409 - val_accuracy: 0.9769 - 23s/epoch - 417ms/step\n",
            "Epoch 19/25\n",
            "54/54 - 22s - loss: 0.0350 - accuracy: 0.9936 - val_loss: 0.4936 - val_accuracy: 0.9352 - 22s/epoch - 413ms/step\n",
            "Epoch 20/25\n",
            "54/54 - 22s - loss: 0.0531 - accuracy: 0.9884 - val_loss: 0.2712 - val_accuracy: 0.9560 - 22s/epoch - 415ms/step\n",
            "Epoch 21/25\n",
            "54/54 - 22s - loss: 0.0523 - accuracy: 0.9873 - val_loss: 0.6172 - val_accuracy: 0.8310 - 22s/epoch - 415ms/step\n",
            "Epoch 22/25\n",
            "54/54 - 22s - loss: 0.0245 - accuracy: 0.9931 - val_loss: 0.2177 - val_accuracy: 0.9282 - 22s/epoch - 415ms/step\n",
            "Epoch 23/25\n",
            "54/54 - 22s - loss: 0.0066 - accuracy: 0.9983 - val_loss: 0.1851 - val_accuracy: 0.9421 - 22s/epoch - 415ms/step\n",
            "Epoch 24/25\n",
            "54/54 - 23s - loss: 0.0259 - accuracy: 0.9948 - val_loss: 0.3203 - val_accuracy: 0.9444 - 23s/epoch - 417ms/step\n",
            "Epoch 25/25\n",
            "54/54 - 22s - loss: 0.0159 - accuracy: 0.9925 - val_loss: 0.1070 - val_accuracy: 0.9861 - 22s/epoch - 415ms/step\n"
          ]
        },
        {
          "output_type": "display_data",
          "data": {
            "text/plain": [
              "<Figure size 432x288 with 1 Axes>"
            ],
            "image/png": "[encoded data removed]"
          },
          "metadata": {
            "needs_background": "light"
          }
        },
        {
          "output_type": "display_data",
          "data": {
            "text/plain": [
              "<Figure size 432x288 with 1 Axes>"
            ],
            "image/png": "[encoded data removed]"
          },
          "metadata": {
            "needs_background": "light"
          }
        },
        {
          "output_type": "stream",
          "name": "stdout",
          "text": [
            "***Performance Data***\n",
            "Accuracy  : 0.975925925925926\n",
            "Precision : 0.975925925925926\n",
            "f1Score : 0.975925925925926\n",
            "Recall : 0.975925925925926\n",
            "[[179   0   1]\n",
            " [  1 175   4]\n",
            " [  2   5 173]]\n",
            "***----------------------------***\n",
            "17/17 [==============================] - 5s 334ms/step - loss: 0.1638 - accuracy: 0.9759\n",
            "***-----------------------------------------------***\n",
            "Overall Accuracy:  0.975925925925926\n",
            "Overall Precision:  0.975925925925926\n",
            "Overall f1Score:  0.975925925925926\n",
            "Overall Recall:  0.975925925925926\n",
            "***------------------End of Line------------------***\n",
            "trn_indx: 1728 test_indx: 432\n",
            "Results for fold 2\n",
            "1728\n",
            "432\n",
            "Found 1728 images belonging to 3 classes.\n",
            "Found 432 images belonging to 3 classes.\n",
            "Found 540 images belonging to 3 classes.\n",
            "Epoch 1/25\n",
            "54/54 - 23s - loss: 0.0685 - accuracy: 0.9907 - val_loss: 0.2241 - val_accuracy: 0.9306 - 23s/epoch - 429ms/step\n",
            "Epoch 2/25\n",
            "54/54 - 23s - loss: 0.0205 - accuracy: 0.9931 - val_loss: 0.0355 - val_accuracy: 0.9907 - 23s/epoch - 419ms/step\n",
            "Epoch 3/25\n",
            "54/54 - 23s - loss: 0.0262 - accuracy: 0.9931 - val_loss: 0.0673 - val_accuracy: 0.9815 - 23s/epoch - 422ms/step\n",
            "Epoch 4/25\n",
            "54/54 - 23s - loss: 0.0236 - accuracy: 0.9936 - val_loss: 0.0733 - val_accuracy: 0.9861 - 23s/epoch - 421ms/step\n",
            "Epoch 5/25\n",
            "54/54 - 23s - loss: 0.0220 - accuracy: 0.9931 - val_loss: 0.7506 - val_accuracy: 0.9329 - 23s/epoch - 420ms/step\n",
            "Epoch 6/25\n",
            "54/54 - 23s - loss: 0.0100 - accuracy: 0.9948 - val_loss: 0.0933 - val_accuracy: 0.9745 - 23s/epoch - 420ms/step\n",
            "Epoch 7/25\n",
            "54/54 - 23s - loss: 0.0059 - accuracy: 0.9965 - val_loss: 0.0035 - val_accuracy: 0.9977 - 23s/epoch - 419ms/step\n",
            "Epoch 8/25\n",
            "54/54 - 23s - loss: 0.0026 - accuracy: 0.9988 - val_loss: 0.0103 - val_accuracy: 0.9931 - 23s/epoch - 420ms/step\n",
            "Epoch 9/25\n",
            "54/54 - 23s - loss: 9.6481e-04 - accuracy: 1.0000 - val_loss: 0.0093 - val_accuracy: 0.9954 - 23s/epoch - 419ms/step\n",
            "Epoch 10/25\n",
            "54/54 - 23s - loss: 7.1189e-04 - accuracy: 1.0000 - val_loss: 0.0035 - val_accuracy: 0.9977 - 23s/epoch - 420ms/step\n",
            "Epoch 11/25\n",
            "54/54 - 23s - loss: 8.4321e-04 - accuracy: 0.9994 - val_loss: 0.0073 - val_accuracy: 0.9954 - 23s/epoch - 420ms/step\n",
            "Epoch 12/25\n",
            "54/54 - 23s - loss: 0.0014 - accuracy: 0.9994 - val_loss: 0.0030 - val_accuracy: 1.0000 - 23s/epoch - 419ms/step\n",
            "Epoch 13/25\n",
            "54/54 - 23s - loss: 0.0049 - accuracy: 0.9983 - val_loss: 0.0699 - val_accuracy: 0.9884 - 23s/epoch - 418ms/step\n",
            "Epoch 14/25\n",
            "54/54 - 23s - loss: 0.0016 - accuracy: 0.9994 - val_loss: 0.0460 - val_accuracy: 0.9907 - 23s/epoch - 422ms/step\n",
            "Epoch 15/25\n",
            "54/54 - 23s - loss: 0.0011 - accuracy: 0.9994 - val_loss: 0.0099 - val_accuracy: 0.9977 - 23s/epoch - 419ms/step\n",
            "Epoch 16/25\n",
            "54/54 - 23s - loss: 0.0099 - accuracy: 0.9977 - val_loss: 0.4939 - val_accuracy: 0.9028 - 23s/epoch - 421ms/step\n",
            "Epoch 17/25\n",
            "54/54 - 23s - loss: 0.0226 - accuracy: 0.9936 - val_loss: 0.3138 - val_accuracy: 0.8889 - 23s/epoch - 422ms/step\n",
            "Epoch 18/25\n",
            "54/54 - 23s - loss: 0.2920 - accuracy: 0.9635 - val_loss: 0.3343 - val_accuracy: 0.9514 - 23s/epoch - 421ms/step\n",
            "Epoch 19/25\n",
            "54/54 - 23s - loss: 0.1854 - accuracy: 0.9734 - val_loss: 0.4919 - val_accuracy: 0.8333 - 23s/epoch - 426ms/step\n",
            "Epoch 20/25\n",
            "54/54 - 23s - loss: 0.0550 - accuracy: 0.9890 - val_loss: 0.2847 - val_accuracy: 0.9097 - 23s/epoch - 429ms/step\n",
            "Epoch 21/25\n",
            "54/54 - 23s - loss: 0.0219 - accuracy: 0.9919 - val_loss: 0.3222 - val_accuracy: 0.8796 - 23s/epoch - 426ms/step\n",
            "Epoch 22/25\n",
            "54/54 - 23s - loss: 0.0197 - accuracy: 0.9931 - val_loss: 0.1314 - val_accuracy: 0.9722 - 23s/epoch - 422ms/step\n",
            "Epoch 23/25\n",
            "54/54 - 23s - loss: 0.0129 - accuracy: 0.9965 - val_loss: 0.1148 - val_accuracy: 0.9560 - 23s/epoch - 420ms/step\n",
            "Epoch 24/25\n",
            "54/54 - 23s - loss: 0.0060 - accuracy: 0.9971 - val_loss: 0.0622 - val_accuracy: 0.9815 - 23s/epoch - 422ms/step\n",
            "Epoch 25/25\n",
            "54/54 - 23s - loss: 0.0142 - accuracy: 0.9954 - val_loss: 1.1105 - val_accuracy: 0.8866 - 23s/epoch - 419ms/step\n"
          ]
        },
        {
          "output_type": "display_data",
          "data": {
            "text/plain": [
              "<Figure size 432x288 with 1 Axes>"
            ],
            "image/png": "[encoded data removed]"
          },
          "metadata": {
            "needs_background": "light"
          }
        },
        {
          "output_type": "display_data",
          "data": {
            "text/plain": [
              "<Figure size 432x288 with 1 Axes>"
            ],
            "image/png": "[encoded data removed]"
          },
          "metadata": {
            "needs_background": "light"
          }
        },
        {
          "output_type": "stream",
          "name": "stdout",
          "text": [
            "***Performance Data***\n",
            "Accuracy  : 0.9055555555555556\n",
            "Precision : 0.9055555555555556\n",
            "f1Score : 0.9055555555555556\n",
            "Recall : 0.9055555555555556\n",
            "[[156  24   0]\n",
            " [  1 179   0]\n",
            " [  3  23 154]]\n",
            "***----------------------------***\n",
            "17/17 [==============================] - 6s 337ms/step - loss: 1.1567 - accuracy: 0.9056\n",
            "***-----------------------------------------------***\n",
            "Overall Accuracy:  0.9407407407407408\n",
            "Overall Precision:  0.9407407407407408\n",
            "Overall f1Score:  0.9407407407407408\n",
            "Overall Recall:  0.9407407407407408\n",
            "***------------------End of Line------------------***\n",
            "trn_indx: 1728 test_indx: 432\n",
            "Results for fold 3\n",
            "1728\n",
            "432\n",
            "Found 1728 images belonging to 3 classes.\n",
            "Found 432 images belonging to 3 classes.\n",
            "Found 540 images belonging to 3 classes.\n",
            "Epoch 1/25\n",
            "54/54 - 24s - loss: 0.0399 - accuracy: 0.9884 - val_loss: 0.3791 - val_accuracy: 0.9352 - 24s/epoch - 438ms/step\n",
            "Epoch 2/25\n",
            "54/54 - 24s - loss: 0.0206 - accuracy: 0.9971 - val_loss: 0.0537 - val_accuracy: 0.9815 - 24s/epoch - 437ms/step\n",
            "Epoch 3/25\n",
            "54/54 - 23s - loss: 0.0193 - accuracy: 0.9948 - val_loss: 0.2423 - val_accuracy: 0.9630 - 23s/epoch - 423ms/step\n",
            "Epoch 4/25\n",
            "54/54 - 23s - loss: 0.0141 - accuracy: 0.9948 - val_loss: 0.2004 - val_accuracy: 0.9722 - 23s/epoch - 419ms/step\n",
            "Epoch 5/25\n",
            "54/54 - 23s - loss: 0.0209 - accuracy: 0.9936 - val_loss: 0.3013 - val_accuracy: 0.8681 - 23s/epoch - 418ms/step\n",
            "Epoch 6/25\n",
            "54/54 - 23s - loss: 0.0069 - accuracy: 0.9965 - val_loss: 0.0880 - val_accuracy: 0.9676 - 23s/epoch - 423ms/step\n",
            "Epoch 7/25\n",
            "54/54 - 23s - loss: 0.0101 - accuracy: 0.9959 - val_loss: 0.0903 - val_accuracy: 0.9583 - 23s/epoch - 422ms/step\n",
            "Epoch 8/25\n",
            "54/54 - 22s - loss: 0.0043 - accuracy: 0.9988 - val_loss: 0.0321 - val_accuracy: 0.9861 - 22s/epoch - 414ms/step\n",
            "Epoch 9/25\n",
            "54/54 - 23s - loss: 0.0021 - accuracy: 1.0000 - val_loss: 0.0123 - val_accuracy: 0.9954 - 23s/epoch - 420ms/step\n",
            "Epoch 10/25\n",
            "54/54 - 23s - loss: 0.0018 - accuracy: 0.9994 - val_loss: 0.0103 - val_accuracy: 0.9954 - 23s/epoch - 424ms/step\n",
            "Epoch 11/25\n",
            "54/54 - 23s - loss: 0.0012 - accuracy: 0.9994 - val_loss: 0.3067 - val_accuracy: 0.9560 - 23s/epoch - 422ms/step\n",
            "Epoch 12/25\n",
            "54/54 - 23s - loss: 0.0071 - accuracy: 0.9977 - val_loss: 0.0268 - val_accuracy: 0.9884 - 23s/epoch - 419ms/step\n",
            "Epoch 13/25\n",
            "54/54 - 23s - loss: 0.0059 - accuracy: 0.9983 - val_loss: 0.1206 - val_accuracy: 0.9699 - 23s/epoch - 421ms/step\n",
            "Epoch 14/25\n",
            "54/54 - 23s - loss: 0.0222 - accuracy: 0.9936 - val_loss: 0.6485 - val_accuracy: 0.9259 - 23s/epoch - 428ms/step\n",
            "Epoch 15/25\n",
            "54/54 - 23s - loss: 0.0033 - accuracy: 0.9988 - val_loss: 3.6805 - val_accuracy: 0.8773 - 23s/epoch - 432ms/step\n",
            "Epoch 16/25\n",
            "54/54 - 23s - loss: 0.0043 - accuracy: 0.9983 - val_loss: 0.2244 - val_accuracy: 0.9653 - 23s/epoch - 430ms/step\n",
            "Epoch 17/25\n",
            "54/54 - 23s - loss: 0.0095 - accuracy: 0.9965 - val_loss: 0.0286 - val_accuracy: 0.9931 - 23s/epoch - 422ms/step\n",
            "Epoch 18/25\n",
            "54/54 - 23s - loss: 0.0020 - accuracy: 0.9994 - val_loss: 0.0095 - val_accuracy: 0.9977 - 23s/epoch - 417ms/step\n",
            "Epoch 19/25\n",
            "54/54 - 23s - loss: 4.5150e-04 - accuracy: 1.0000 - val_loss: 0.0194 - val_accuracy: 0.9954 - 23s/epoch - 419ms/step\n",
            "Epoch 20/25\n",
            "54/54 - 23s - loss: 9.4838e-04 - accuracy: 1.0000 - val_loss: 0.0180 - val_accuracy: 0.9977 - 23s/epoch - 424ms/step\n",
            "Epoch 21/25\n",
            "54/54 - 23s - loss: 0.0018 - accuracy: 0.9988 - val_loss: 0.0299 - val_accuracy: 0.9884 - 23s/epoch - 419ms/step\n",
            "Epoch 22/25\n",
            "54/54 - 23s - loss: 0.0053 - accuracy: 0.9971 - val_loss: 0.7882 - val_accuracy: 0.9468 - 23s/epoch - 434ms/step\n",
            "Epoch 23/25\n",
            "54/54 - 23s - loss: 0.0025 - accuracy: 0.9988 - val_loss: 1.6433 - val_accuracy: 0.9282 - 23s/epoch - 425ms/step\n",
            "Epoch 24/25\n",
            "54/54 - 23s - loss: 0.0051 - accuracy: 0.9988 - val_loss: 0.0125 - val_accuracy: 0.9931 - 23s/epoch - 420ms/step\n",
            "Epoch 25/25\n",
            "54/54 - 23s - loss: 0.0207 - accuracy: 0.9931 - val_loss: 0.0786 - val_accuracy: 0.9838 - 23s/epoch - 422ms/step\n"
          ]
        },
        {
          "output_type": "display_data",
          "data": {
            "text/plain": [
              "<Figure size 432x288 with 1 Axes>"
            ],
            "image/png": "[encoded data removed]"
          },
          "metadata": {
            "needs_background": "light"
          }
        },
        {
          "output_type": "display_data",
          "data": {
            "text/plain": [
              "<Figure size 432x288 with 1 Axes>"
            ],
            "image/png": "[encoded data removed]"
          },
          "metadata": {
            "needs_background": "light"
          }
        },
        {
          "output_type": "stream",
          "name": "stdout",
          "text": [
            "***Performance Data***\n",
            "Accuracy  : 0.9685185185185186\n",
            "Precision : 0.9685185185185186\n",
            "f1Score : 0.9685185185185186\n",
            "Recall : 0.9685185185185186\n",
            "[[178   0   2]\n",
            " [  2 175   3]\n",
            " [  4   6 170]]\n",
            "***----------------------------***\n",
            "17/17 [==============================] - 6s 335ms/step - loss: 0.2803 - accuracy: 0.9685\n",
            "***-----------------------------------------------***\n",
            "Overall Accuracy:  0.9500000000000001\n",
            "Overall Precision:  0.9500000000000001\n",
            "Overall f1Score:  0.9500000000000001\n",
            "Overall Recall:  0.9500000000000001\n",
            "***------------------End of Line------------------***\n",
            "trn_indx: 1728 test_indx: 432\n",
            "Results for fold 4\n",
            "1728\n",
            "432\n",
            "Found 1728 images belonging to 3 classes.\n",
            "Found 432 images belonging to 3 classes.\n",
            "Found 540 images belonging to 3 classes.\n",
            "Epoch 1/25\n",
            "54/54 - 23s - loss: 0.0230 - accuracy: 0.9936 - val_loss: 0.1166 - val_accuracy: 0.9907 - 23s/epoch - 425ms/step\n",
            "Epoch 2/25\n",
            "54/54 - 23s - loss: 0.0148 - accuracy: 0.9959 - val_loss: 0.0059 - val_accuracy: 0.9977 - 23s/epoch - 423ms/step\n",
            "Epoch 3/25\n",
            "54/54 - 23s - loss: 0.0050 - accuracy: 0.9994 - val_loss: 0.1779 - val_accuracy: 0.9699 - 23s/epoch - 425ms/step\n",
            "Epoch 4/25\n",
            "54/54 - 23s - loss: 0.0432 - accuracy: 0.9925 - val_loss: 0.0058 - val_accuracy: 0.9977 - 23s/epoch - 423ms/step\n",
            "Epoch 5/25\n",
            "54/54 - 23s - loss: 0.1262 - accuracy: 0.9786 - val_loss: 0.0584 - val_accuracy: 0.9931 - 23s/epoch - 419ms/step\n",
            "Epoch 6/25\n",
            "54/54 - 23s - loss: 0.0470 - accuracy: 0.9884 - val_loss: 0.0905 - val_accuracy: 0.9769 - 23s/epoch - 418ms/step\n",
            "Epoch 7/25\n",
            "54/54 - 23s - loss: 0.0408 - accuracy: 0.9896 - val_loss: 1.6769 - val_accuracy: 0.9259 - 23s/epoch - 421ms/step\n",
            "Epoch 8/25\n",
            "54/54 - 23s - loss: 0.0124 - accuracy: 0.9965 - val_loss: 0.2195 - val_accuracy: 0.9282 - 23s/epoch - 421ms/step\n",
            "Epoch 9/25\n",
            "54/54 - 23s - loss: 0.0146 - accuracy: 0.9954 - val_loss: 0.0304 - val_accuracy: 0.9954 - 23s/epoch - 420ms/step\n",
            "Epoch 10/25\n",
            "54/54 - 23s - loss: 0.0158 - accuracy: 0.9954 - val_loss: 1.3991 - val_accuracy: 0.7731 - 23s/epoch - 419ms/step\n",
            "Epoch 11/25\n",
            "54/54 - 23s - loss: 0.0123 - accuracy: 0.9977 - val_loss: 0.4784 - val_accuracy: 0.8657 - 23s/epoch - 424ms/step\n",
            "Epoch 12/25\n",
            "54/54 - 23s - loss: 0.0026 - accuracy: 0.9994 - val_loss: 0.3405 - val_accuracy: 0.9028 - 23s/epoch - 419ms/step\n",
            "Epoch 13/25\n",
            "54/54 - 23s - loss: 0.0171 - accuracy: 0.9971 - val_loss: 0.6352 - val_accuracy: 0.9468 - 23s/epoch - 420ms/step\n",
            "Epoch 14/25\n",
            "54/54 - 23s - loss: 0.0039 - accuracy: 0.9988 - val_loss: 0.0028 - val_accuracy: 1.0000 - 23s/epoch - 419ms/step\n",
            "Epoch 15/25\n",
            "54/54 - 23s - loss: 0.0029 - accuracy: 0.9988 - val_loss: 0.0136 - val_accuracy: 0.9931 - 23s/epoch - 419ms/step\n",
            "Epoch 16/25\n",
            "54/54 - 23s - loss: 0.0065 - accuracy: 0.9983 - val_loss: 0.1509 - val_accuracy: 0.9722 - 23s/epoch - 425ms/step\n",
            "Epoch 17/25\n",
            "54/54 - 23s - loss: 0.0019 - accuracy: 1.0000 - val_loss: 0.0110 - val_accuracy: 0.9977 - 23s/epoch - 430ms/step\n",
            "Epoch 18/25\n",
            "54/54 - 23s - loss: 0.0046 - accuracy: 0.9988 - val_loss: 0.0118 - val_accuracy: 0.9977 - 23s/epoch - 429ms/step\n",
            "Epoch 19/25\n",
            "54/54 - 23s - loss: 0.0208 - accuracy: 0.9954 - val_loss: 15.0271 - val_accuracy: 0.7269 - 23s/epoch - 429ms/step\n",
            "Epoch 20/25\n",
            "54/54 - 24s - loss: 0.0463 - accuracy: 0.9907 - val_loss: 0.1768 - val_accuracy: 0.9421 - 24s/epoch - 437ms/step\n",
            "Epoch 21/25\n",
            "54/54 - 24s - loss: 0.0059 - accuracy: 0.9983 - val_loss: 0.3560 - val_accuracy: 0.8773 - 24s/epoch - 445ms/step\n",
            "Epoch 22/25\n",
            "54/54 - 24s - loss: 0.0109 - accuracy: 0.9988 - val_loss: 0.1142 - val_accuracy: 0.9583 - 24s/epoch - 438ms/step\n",
            "Epoch 23/25\n",
            "54/54 - 23s - loss: 0.0028 - accuracy: 0.9983 - val_loss: 0.1588 - val_accuracy: 0.9444 - 23s/epoch - 432ms/step\n",
            "Epoch 24/25\n",
            "54/54 - 23s - loss: 0.0243 - accuracy: 0.9948 - val_loss: 0.1830 - val_accuracy: 0.9583 - 23s/epoch - 422ms/step\n",
            "Epoch 25/25\n",
            "54/54 - 23s - loss: 0.0591 - accuracy: 0.9919 - val_loss: 4.0649 - val_accuracy: 0.8310 - 23s/epoch - 424ms/step\n"
          ]
        },
        {
          "output_type": "display_data",
          "data": {
            "text/plain": [
              "<Figure size 432x288 with 1 Axes>"
            ],
            "image/png": "[encoded data removed]"
          },
          "metadata": {
            "needs_background": "light"
          }
        },
        {
          "output_type": "display_data",
          "data": {
            "text/plain": [
              "<Figure size 432x288 with 1 Axes>"
            ],
            "image/png": "[encoded data removed]"
          },
          "metadata": {
            "needs_background": "light"
          }
        },
        {
          "output_type": "stream",
          "name": "stdout",
          "text": [
            "***Performance Data***\n",
            "Accuracy  : 0.8\n",
            "Precision : 0.8\n",
            "f1Score : 0.8000000000000002\n",
            "Recall : 0.8\n",
            "[[125  53   2]\n",
            " [  0 171   9]\n",
            " [  1  43 136]]\n",
            "***----------------------------***\n",
            "17/17 [==============================] - 6s 335ms/step - loss: 6.2513 - accuracy: 0.8000\n",
            "***-----------------------------------------------***\n",
            "Overall Accuracy:  0.9125000000000001\n",
            "Overall Precision:  0.9125000000000001\n",
            "Overall f1Score:  0.9125000000000001\n",
            "Overall Recall:  0.9125000000000001\n",
            "***------------------End of Line------------------***\n",
            "trn_indx: 1728 test_indx: 432\n",
            "Results for fold 5\n",
            "1728\n",
            "432\n",
            "Found 1728 images belonging to 3 classes.\n",
            "Found 432 images belonging to 3 classes.\n",
            "Found 540 images belonging to 3 classes.\n",
            "Epoch 1/25\n",
            "54/54 - 23s - loss: 0.0911 - accuracy: 0.9884 - val_loss: 1.1784 - val_accuracy: 0.9375 - 23s/epoch - 434ms/step\n",
            "Epoch 2/25\n",
            "54/54 - 23s - loss: 0.0835 - accuracy: 0.9861 - val_loss: 0.1523 - val_accuracy: 0.9722 - 23s/epoch - 428ms/step\n",
            "Epoch 3/25\n",
            "54/54 - 23s - loss: 0.0700 - accuracy: 0.9913 - val_loss: 0.0155 - val_accuracy: 0.9931 - 23s/epoch - 426ms/step\n",
            "Epoch 4/25\n",
            "54/54 - 23s - loss: 0.0399 - accuracy: 0.9936 - val_loss: 0.5560 - val_accuracy: 0.9560 - 23s/epoch - 424ms/step\n",
            "Epoch 5/25\n",
            "54/54 - 23s - loss: 0.0165 - accuracy: 0.9942 - val_loss: 0.0249 - val_accuracy: 0.9907 - 23s/epoch - 426ms/step\n",
            "Epoch 6/25\n",
            "54/54 - 23s - loss: 0.0084 - accuracy: 0.9971 - val_loss: 0.0063 - val_accuracy: 0.9977 - 23s/epoch - 422ms/step\n",
            "Epoch 7/25\n",
            "54/54 - 23s - loss: 0.0084 - accuracy: 0.9977 - val_loss: 0.0030 - val_accuracy: 0.9977 - 23s/epoch - 423ms/step\n",
            "Epoch 8/25\n",
            "54/54 - 23s - loss: 0.0053 - accuracy: 0.9977 - val_loss: 0.1043 - val_accuracy: 0.9931 - 23s/epoch - 424ms/step\n",
            "Epoch 9/25\n",
            "54/54 - 23s - loss: 0.0110 - accuracy: 0.9965 - val_loss: 0.2011 - val_accuracy: 0.9884 - 23s/epoch - 423ms/step\n",
            "Epoch 10/25\n",
            "54/54 - 23s - loss: 0.0136 - accuracy: 0.9965 - val_loss: 0.0303 - val_accuracy: 0.9977 - 23s/epoch - 423ms/step\n",
            "Epoch 11/25\n",
            "54/54 - 23s - loss: 0.0095 - accuracy: 0.9965 - val_loss: 0.0502 - val_accuracy: 0.9954 - 23s/epoch - 422ms/step\n",
            "Epoch 12/25\n",
            "54/54 - 23s - loss: 0.0037 - accuracy: 0.9983 - val_loss: 0.0628 - val_accuracy: 0.9907 - 23s/epoch - 423ms/step\n",
            "Epoch 13/25\n",
            "54/54 - 23s - loss: 8.1777e-04 - accuracy: 1.0000 - val_loss: 0.0456 - val_accuracy: 0.9954 - 23s/epoch - 423ms/step\n",
            "Epoch 14/25\n",
            "54/54 - 23s - loss: 0.0016 - accuracy: 0.9994 - val_loss: 17.7452 - val_accuracy: 0.7616 - 23s/epoch - 427ms/step\n",
            "Epoch 15/25\n",
            "54/54 - 23s - loss: 0.0160 - accuracy: 0.9965 - val_loss: 0.0829 - val_accuracy: 0.9931 - 23s/epoch - 425ms/step\n",
            "Epoch 16/25\n",
            "54/54 - 23s - loss: 8.8970e-04 - accuracy: 1.0000 - val_loss: 0.0746 - val_accuracy: 0.9931 - 23s/epoch - 426ms/step\n",
            "Epoch 17/25\n",
            "54/54 - 23s - loss: 0.0012 - accuracy: 0.9994 - val_loss: 0.0730 - val_accuracy: 0.9954 - 23s/epoch - 434ms/step\n",
            "Epoch 18/25\n",
            "54/54 - 24s - loss: 0.0014 - accuracy: 0.9994 - val_loss: 0.0675 - val_accuracy: 0.9977 - 24s/epoch - 445ms/step\n",
            "Epoch 19/25\n",
            "54/54 - 23s - loss: 0.0030 - accuracy: 0.9988 - val_loss: 9.7965 - val_accuracy: 0.8056 - 23s/epoch - 430ms/step\n",
            "Epoch 20/25\n",
            "54/54 - 23s - loss: 0.0055 - accuracy: 0.9977 - val_loss: 0.2334 - val_accuracy: 0.9792 - 23s/epoch - 429ms/step\n",
            "Epoch 21/25\n",
            "54/54 - 23s - loss: 0.0022 - accuracy: 0.9994 - val_loss: 0.0425 - val_accuracy: 0.9954 - 23s/epoch - 428ms/step\n",
            "Epoch 22/25\n",
            "54/54 - 23s - loss: 0.0016 - accuracy: 0.9994 - val_loss: 0.0361 - val_accuracy: 0.9954 - 23s/epoch - 432ms/step\n",
            "Epoch 23/25\n",
            "54/54 - 23s - loss: 8.0646e-04 - accuracy: 1.0000 - val_loss: 0.0577 - val_accuracy: 0.9954 - 23s/epoch - 424ms/step\n",
            "Epoch 24/25\n",
            "54/54 - 23s - loss: 0.0032 - accuracy: 0.9988 - val_loss: 0.0384 - val_accuracy: 0.9931 - 23s/epoch - 428ms/step\n",
            "Epoch 25/25\n",
            "54/54 - 23s - loss: 0.0028 - accuracy: 0.9994 - val_loss: 0.4643 - val_accuracy: 0.9583 - 23s/epoch - 429ms/step\n"
          ]
        },
        {
          "output_type": "display_data",
          "data": {
            "text/plain": [
              "<Figure size 432x288 with 1 Axes>"
            ],
            "image/png": "[encoded data removed]"
          },
          "metadata": {
            "needs_background": "light"
          }
        },
        {
          "output_type": "display_data",
          "data": {
            "text/plain": [
              "<Figure size 432x288 with 1 Axes>"
            ],
            "image/png": "[encoded data removed]"
          },
          "metadata": {
            "needs_background": "light"
          }
        },
        {
          "output_type": "stream",
          "name": "stdout",
          "text": [
            "***Performance Data***\n",
            "Accuracy  : 0.937037037037037\n",
            "Precision : 0.937037037037037\n",
            "f1Score : 0.937037037037037\n",
            "Recall : 0.937037037037037\n",
            "[[173   6   1]\n",
            " [  1 179   0]\n",
            " [  1  25 154]]\n",
            "***----------------------------***\n",
            "17/17 [==============================] - 6s 341ms/step - loss: 1.8128 - accuracy: 0.9370\n",
            "***-----------------------------------------------***\n",
            "Overall Accuracy:  0.9174074074074074\n",
            "Overall Precision:  0.9174074074074074\n",
            "Overall f1Score:  0.9174074074074074\n",
            "Overall Recall:  0.9174074074074074\n",
            "***------------------End of Line------------------***\n"
          ]
        }
      ],
      "source": [
        "for train_index, val_index in skf.split(X, Y):\n",
        "    print(\"trn_indx: %s test_indx: %s\" % (len(train_index), len(val_index)))\n",
        "    #First cut all images from validation to train (if any exists)\n",
        "    transferAllClassBetweenFolders('valid', 'train', 1.0)\n",
        "    #no valid\n",
        "    #transferAllClassBetweenFolders('test', 'train', 1.0)\n",
        "    foldNum+=1\n",
        "    print(\"Results for fold\",foldNum)\n",
        "    X_train, X_val = X[train_index], X[val_index]\n",
        "    Y_train, Y_val = Y[train_index], Y[val_index]\n",
        "    print(len(X_train))\n",
        "    print(len(X_val))\n",
        "    # Move validation images of this fold from train folder to the validation folder\n",
        "    for eachIndex in range(len(X_val)):\n",
        "        classLabel=''\n",
        "        for i in range(len(classLabels)):\n",
        "          if(Y_val[eachIndex]==i):\n",
        "              classLabel=classLabels[i]\n",
        "        #Then, copy the validation images to the validation folder\n",
        "        shutil.move(sourcePath+'/train/'+classLabel+'/'+X_val[eachIndex], \n",
        "                    sourcePath+'/valid/'+classLabel+'/'+X_val[eachIndex])\n",
        "        #without valid\n",
        "                    #sourcePath+'/test/'+classLabel+'/'+X_val[eachIndex])\n",
        "        \n",
        "    train_batches = ImageDataGenerator().flow_from_directory(train_path, target_size=(256,256), classes=['covid', 'normal', 'pneumonia'], class_mode = 'sparse', batch_size = 32, shuffle=True)\n",
        "    #without valid\n",
        "    valid_batches = ImageDataGenerator().flow_from_directory(valid_path, target_size=(256,256), classes=['covid', 'normal', 'pneumonia'], class_mode = 'sparse', batch_size = 32, shuffle=True)\n",
        "    test_batches = ImageDataGenerator().flow_from_directory(test_path, target_size=(256,256), classes=['covid', 'normal', 'pneumonia'], class_mode = 'sparse', batch_size = 32, shuffle=False)\n",
        "\n",
        "    history = model.fit(train_batches, \n",
        "                    #steps_per_epoch=sp_epoch, \n",
        "                    #without valid\n",
        "                    validation_data=valid_batches, \n",
        "                    #validation_steps=10, \n",
        "                    epochs=25, \n",
        "                    verbose=2)\n",
        "    \n",
        "    \n",
        "    \n",
        "    plt.plot(history.history['accuracy'])\n",
        "    plt.plot(history.history['val_accuracy'])\n",
        "    plt.title('Final Cbam model accuracy')\n",
        "    plt.ylim(0,1.1)\n",
        "    plt.ylabel('accuracy')\n",
        "    plt.xlabel('epoch')\n",
        "    plt.legend(['train', 'valid'], loc='upper left')\n",
        "    #without valid\n",
        "    #plt.legend(['train'], loc='upper left')\n",
        "    plt.show()\n",
        "    # summarize history for loss\n",
        "    plt.plot(history.history['loss'])\n",
        "    plt.plot(history.history['val_loss'])\n",
        "    plt.title('Final Cbam model loss')\n",
        "    plt.ylim(0,1.1)\n",
        "    plt.ylabel('loss')\n",
        "    plt.xlabel('epoch')\n",
        "    plt.legend(['train', 'valid'], loc='upper left')\n",
        "    #without valid\n",
        "    #plt.legend(['train'], loc='upper left')\n",
        "    plt.show()\n",
        "    test_batches.reset()\n",
        "    Y_pred = model.predict(test_batches)\n",
        "    classes = test_batches.classes[test_batches.index_array]\n",
        "    y_pred = np.argmax(Y_pred, axis=-1)\n",
        "    #print(\"***Performance on Test Data***\")  \n",
        "    #print(sum(y_pred==classes)/10000)\n",
        "    confusion_matrix(test_batches.classes[test_batches.index_array],y_pred)\n",
        "    #predictions = model.predict(test_batches, verbose=1)\n",
        "    #yPredictions = np.argmax(predictions, axis=1)\n",
        "    #print(yPredictions)\n",
        "    #true_classes = test_batches.classes\n",
        "    # evaluate validation performance\n",
        "    print(\"***Performance Data***\")    \n",
        "    #valAcc, valPrec, valFScore = my_metrics(true_classes, yPredictions)\n",
        "    valAcc, valPrec, valFScore, valRec = my_metrics(classes, y_pred)\n",
        "    overAllAcc = overAllAcc+valAcc\n",
        "    overAllPrec = overAllPrec+valPrec\n",
        "    overAllf1 = overAllf1+valFScore\n",
        "    overAllRec = overAllRec+valRec\n",
        "    \n",
        "    model.evaluate(test_batches)\n",
        "    print(\"***-----------------------------------------------***\")  \n",
        "    print(\"Overall Accuracy: \",  overAllAcc/foldNum)\n",
        "    print(\"Overall Precision: \",  overAllPrec/foldNum)\n",
        "    print(\"Overall f1Score: \",  overAllf1/foldNum)\n",
        "    print(\"Overall Recall: \",  overAllRec/foldNum)\n",
        "\n",
        "    print(\"***------------------End of Line------------------***\")    "
      ]
    }
  ],
  "metadata": {
    "accelerator": "GPU",
    "colab": {
      "collapsed_sections": [],
      "machine_shape": "hm",
      "name": "CBAM_FINAL.ipynb",
      "provenance": [],
      "include_colab_link": true
    },
    "kernelspec": {
      "display_name": "Python 3",
      "name": "python3"
    },
    "language_info": {
      "name": "python"
    }
  },
  "nbformat": 4,
  "nbformat_minor": 0
}