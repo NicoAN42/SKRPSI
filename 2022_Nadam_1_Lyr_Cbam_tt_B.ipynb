{
  "cells": [
    {
      "cell_type": "markdown",
      "metadata": {
        "id": "view-in-github",
        "colab_type": "text"
      },
      "source": [
        "<a href=\"https://colab.research.google.com/github/NicoAN42/SKRPSI/blob/main/2022_Nadam_1_Lyr_Cbam_tt_B.ipynb\" target=\"_parent\"><img src=\"https://colab.research.google.com/assets/colab-badge.svg\" alt=\"Open In Colab\"/></a>"
      ]
    },
    {
      "cell_type": "code",
      "execution_count": 2,
      "metadata": {
        "colab": {
          "base_uri": "https://localhost:8080/"
        },
        "id": "bd3mi5ZLdBSv",
        "outputId": "62f073ef-2b96-49e8-9835-bac2ee033e93"
      },
      "outputs": [
        {
          "output_type": "stream",
          "name": "stdout",
          "text": [
            "Mounted at /content/drive\n"
          ]
        }
      ],
      "source": [
        "#mount dataset\n",
        "from google.colab import drive\n",
        "drive.mount('/content/drive')\n"
      ]
    },
    {
      "cell_type": "code",
      "execution_count": 3,
      "metadata": {
        "id": "mNr5eLs1WiKT"
      },
      "outputs": [],
      "source": [
        "from tensorflow.keras.layers import Conv2D, Input, concatenate, Activation, InputLayer, Dense, Reshape, Flatten, Add, multiply, Permute, Lambda, Concatenate\n",
        "from tensorflow.keras.layers import LeakyReLU,ReLU, MaxPooling2D, BatchNormalization,GlobalMaxPooling2D,GlobalAveragePooling2D\n",
        "from tensorflow.keras.models import Model, Sequential\n",
        "from tensorflow.keras import layers\n",
        "from tensorflow.keras.activations import softmax,sigmoid\n",
        "from tensorflow.keras.preprocessing.image import ImageDataGenerator\n",
        "from tensorflow.keras.optimizers import Adam, Nadam\n",
        "from tensorflow.keras.callbacks import EarlyStopping\n",
        "from tensorflow.keras.layers import Dropout,SpatialDropout2D,GaussianDropout\n",
        "from tensorflow.keras.optimizers.schedules import ExponentialDecay\n",
        "from tensorflow.keras.regularizers import l1,l2\n",
        "from tensorflow.keras import backend as K\n",
        "from __future__ import absolute_import\n",
        "from __future__ import division\n",
        "from __future__ import print_function\n",
        "import tensorflow\n",
        "import tensorflow as tf\n",
        "import math\n",
        "import matplotlib.pyplot as plt\n",
        "import numpy as np\n",
        "from sklearn.metrics import accuracy_score, f1_score, precision_score, confusion_matrix, recall_score\n",
        "from sklearn.model_selection import StratifiedKFold\n",
        "import os\n",
        "import random\n",
        "import shutil"
      ]
    },
    {
      "cell_type": "code",
      "execution_count": 4,
      "metadata": {
        "id": "M-dUDyotW99U"
      },
      "outputs": [],
      "source": [
        "#from tensorflow.keras.optimizers import SGD"
      ]
    },
    {
      "cell_type": "code",
      "execution_count": 5,
      "metadata": {
        "id": "1SKzQPoLeGUS"
      },
      "outputs": [],
      "source": [
        "CLASS = 3\n",
        "#sourcepath isi semua data train, folder valid kosongin datanya sisai folder classnya\n",
        "sourcePath = '/content/drive/MyDrive/Colab Notebooks/Dataset 4'\n",
        "train_path = '/content/drive/MyDrive/Colab Notebooks/Dataset 4/train'\n",
        "valid_path = '/content/drive/MyDrive/Colab Notebooks/Dataset 4/valid'\n",
        "test_path = '/content/drive/MyDrive/Colab Notebooks/Dataset 4/test'\n",
        "attention_module = 'cbam_block'\n",
        "#nico"
      ]
    },
    {
      "cell_type": "code",
      "execution_count": 6,
      "metadata": {
        "id": "qyuRvIz9mFu_"
      },
      "outputs": [],
      "source": [
        "classLabels =['covid','normal', 'pneumonia']"
      ]
    },
    {
      "cell_type": "code",
      "execution_count": 7,
      "metadata": {
        "id": "IiymK5QRgQVC"
      },
      "outputs": [],
      "source": [
        "def attach_attention_module(net, attention_module):\n",
        "  #if attention_module == 'se_block': # SE_block\n",
        "    #net = se_block(net)\n",
        "  if attention_module == 'cbam_block': # CBAM_block\n",
        "    net = cbam_block(net)\n",
        "  else:\n",
        "    raise Exception(\"'{}' is not supported attention module!\".format(attention_module))\n",
        "\n",
        "  return net"
      ]
    },
    {
      "cell_type": "code",
      "execution_count": 8,
      "metadata": {
        "id": "4E-9i3yHgQX8"
      },
      "outputs": [],
      "source": [
        "def cbam_block(cbam_feature, ratio=8):\n",
        "\t\"\"\"Contains the implementation of Convolutional Block Attention Module(CBAM) block.\n",
        "\tAs described in https://arxiv.org/abs/1807.06521.\n",
        "\t\"\"\"\n",
        "\t\n",
        "\tcbam_feature = channel_attention(cbam_feature, ratio)\n",
        "\tcbam_feature = spatial_attention(cbam_feature)\n",
        "\treturn cbam_feature\n"
      ]
    },
    {
      "cell_type": "code",
      "execution_count": 9,
      "metadata": {
        "id": "doOnf8U9YBM-"
      },
      "outputs": [],
      "source": [
        "def channel_attention(input_feature, ratio=8):\n",
        "\t\n",
        "\tchannel_axis = 1 if K.image_data_format() == \"channels_first\" else -1\n",
        "\tchannel = input_feature.shape[channel_axis]\n",
        "\t\n",
        "\tshared_layer_one = Dense(channel//ratio,\n",
        "\t\t\t\t\t\t\t activation='relu',\n",
        "\t\t\t\t\t\t\t kernel_initializer='he_normal',\n",
        "\t\t\t\t\t\t\t use_bias=True,\n",
        "\t\t\t\t\t\t\t bias_initializer='zeros')\n",
        "\tshared_layer_two = Dense(channel,\n",
        "\t\t\t\t\t\t\t kernel_initializer='he_normal',\n",
        "\t\t\t\t\t\t\t use_bias=True,\n",
        "\t\t\t\t\t\t\t bias_initializer='zeros')\n",
        "\t\n",
        "\tavg_pool = GlobalAveragePooling2D()(input_feature)    \n",
        "\tavg_pool = Reshape((1,1,channel))(avg_pool)\n",
        "\tassert avg_pool.shape[1:] == (1,1,channel)\n",
        "\tavg_pool = shared_layer_one(avg_pool)\n",
        "\tassert avg_pool.shape[1:] == (1,1,channel//ratio)\n",
        "\tavg_pool = shared_layer_two(avg_pool)\n",
        "\tassert avg_pool.shape[1:] == (1,1,channel)\n",
        "\t\n",
        "\tmax_pool = GlobalMaxPooling2D()(input_feature)\n",
        "\tmax_pool = Reshape((1,1,channel))(max_pool)\n",
        "\tassert max_pool.shape[1:] == (1,1,channel)\n",
        "\tmax_pool = shared_layer_one(max_pool)\n",
        "\tassert max_pool.shape[1:] == (1,1,channel//ratio)\n",
        "\tmax_pool = shared_layer_two(max_pool)\n",
        "\tassert max_pool.shape[1:] == (1,1,channel)\n",
        "\t\n",
        "\tcbam_feature = Add()([avg_pool,max_pool])\n",
        "\tcbam_feature = Activation('sigmoid')(cbam_feature)\n",
        "\t\n",
        "\tif K.image_data_format() == \"channels_first\":\n",
        "\t\tcbam_feature = Permute((3, 1, 2))(cbam_feature)\n",
        "\t\n",
        "\treturn multiply([input_feature, cbam_feature])"
      ]
    },
    {
      "cell_type": "code",
      "execution_count": 10,
      "metadata": {
        "id": "Xl7CStcEYE_h"
      },
      "outputs": [],
      "source": [
        "def spatial_attention(input_feature):\n",
        "\tkernel_size = 7\n",
        "\t\n",
        "\tif K.image_data_format() == \"channels_first\":\n",
        "\t\tchannel = input_feature.shape[1]\n",
        "\t\tcbam_feature = Permute((2,3,1))(input_feature)\n",
        "\telse:\n",
        "\t\tchannel = input_feature.shape[-1]\n",
        "\t\tcbam_feature = input_feature\n",
        "\t\n",
        "\tavg_pool = Lambda(lambda x: K.mean(x, axis=3, keepdims=True))(cbam_feature)\n",
        "\tassert avg_pool.shape[-1] == 1\n",
        "\tmax_pool = Lambda(lambda x: K.max(x, axis=3, keepdims=True))(cbam_feature)\n",
        "\tassert max_pool.shape[-1] == 1\n",
        "\tconcat = Concatenate(axis=3)([avg_pool, max_pool])\n",
        "\tassert concat.shape[-1] == 2\n",
        "\tcbam_feature = Conv2D(filters = 1,\n",
        "\t\t\t\t\tkernel_size=kernel_size,\n",
        "\t\t\t\t\tstrides=1,\n",
        "\t\t\t\t\tpadding='same',\n",
        "\t\t\t\t\tactivation='sigmoid',\n",
        "\t\t\t\t\tkernel_initializer='he_normal',\n",
        "\t\t\t\t\tuse_bias=False)(concat)\t\n",
        "\tassert cbam_feature.shape[-1] == 1\n",
        "\t\n",
        "\tif K.image_data_format() == \"channels_first\":\n",
        "\t\tcbam_feature = Permute((3, 1, 2))(cbam_feature)\n",
        "\t\t\n",
        "\treturn multiply([input_feature, cbam_feature])"
      ]
    },
    {
      "cell_type": "code",
      "execution_count": 11,
      "metadata": {
        "id": "q2Q9CbMzY1Rn"
      },
      "outputs": [],
      "source": [
        "input = Input(shape=(256,256,3))"
      ]
    },
    {
      "cell_type": "code",
      "execution_count": 12,
      "metadata": {
        "id": "YpZNBOFOZBJL"
      },
      "outputs": [],
      "source": [
        "#Layer 1\n",
        "model = layers.Conv2D(32, (3,3), padding='same', name='conv_1', activation = 'relu')(input)\n",
        "model = layers.BatchNormalization(name='norm_1')(model)\n",
        "model = layers.MaxPooling2D(pool_size=(2, 2), strides= 2)(model)\n",
        "attention_module = 'cbam_block'\n",
        "y = attach_attention_module(model, attention_module)\n",
        "model =  tensorflow.keras.layers.add([model, y])\n"
      ]
    },
    {
      "cell_type": "code",
      "execution_count": 13,
      "metadata": {
        "id": "pBvWdrCmZCsQ"
      },
      "outputs": [],
      "source": [
        "#Layer 2\n",
        "model = layers.Conv2D(64, (3,3), padding='same', name='conv_2', activation = 'relu')(model)\n",
        "model = layers.Dropout(0.1)(model)\n",
        "model = layers.BatchNormalization(name='norm_2')(model)\n",
        "model = layers.MaxPooling2D(pool_size=(2, 2), strides = 2)(model)\n",
        "\n",
        "#attention_module = 'cbam_block'\n",
        "#y = attach_attention_module(model, attention_module)\n",
        "#model =  tensorflow.keras.layers.add([model, y])\n"
      ]
    },
    {
      "cell_type": "code",
      "execution_count": 14,
      "metadata": {
        "id": "RBUvxL-9ZEO3"
      },
      "outputs": [],
      "source": [
        "# Layer 3\n",
        "model = layers.Conv2D(64, (3,3), padding='same', name='conv_3', activation = 'relu')(model)\n",
        "model = layers.BatchNormalization(name='norm_3')(model)\n",
        "model = layers.MaxPooling2D(pool_size=(2, 2), strides = 2)(model)\n",
        "\n",
        "#attention_module = 'cbam_block'\n",
        "#y = attach_attention_module(model, attention_module)\n",
        "#model =  tensorflow.keras.layers.add([model, y])\n",
        "\n"
      ]
    },
    {
      "cell_type": "code",
      "execution_count": 15,
      "metadata": {
        "id": "QKyPzn20ZI1Y"
      },
      "outputs": [],
      "source": [
        "# Layer 4\n",
        "model = layers.Conv2D(128, (3,3), padding='same', name='conv_4', activation = 'relu')(model)\n",
        "model = layers.Dropout(0.2)(model)\n",
        "model = layers.BatchNormalization(name='norm_4')(model)\n",
        "model = layers.MaxPooling2D(pool_size=(2, 2), strides = 2)(model)\n",
        "\n",
        "#attention_module = 'cbam_block'\n",
        "#y = attach_attention_module(model, attention_module)\n",
        "#model =  tensorflow.keras.layers.add([model, y])\n"
      ]
    },
    {
      "cell_type": "code",
      "execution_count": 16,
      "metadata": {
        "id": "tgLQSWDfZJ53"
      },
      "outputs": [],
      "source": [
        "# Layer 5\n",
        "model = layers.Conv2D(256, (3,3), padding='same', name='conv_5', activation = 'relu')(model)\n",
        "layer = layers.Conv2D(256, (3,3), padding='same', name='conv_5', activation = 'relu')\n",
        "batch = layers.BatchNormalization(name='norm_5')\n",
        "model = layers.Dropout(0.2)(model)\n",
        "model = layers.BatchNormalization(name='norm_5')(model)\n",
        "#model = layers.MaxPooling2D(pool_size=(2, 2), strides = 2)(model)"
      ]
    },
    {
      "cell_type": "code",
      "execution_count": 17,
      "metadata": {
        "id": "8_jONIoBZhXm"
      },
      "outputs": [],
      "source": [
        "model = layers.Flatten()(model)\n",
        "model = layers.Dense(128, activation = 'relu')(model)\n",
        "model = layers.Dropout(0.2)(model)\n",
        "output = layers.Dense(3,Activation('softmax'))(model)\n",
        "model = Model(input, output)"
      ]
    },
    {
      "cell_type": "code",
      "execution_count": 18,
      "metadata": {
        "colab": {
          "base_uri": "https://localhost:8080/"
        },
        "id": "qRYlJT_4ZkhM",
        "outputId": "2d146464-a1d6-4217-8ae6-9d0ab98f2e8a"
      },
      "outputs": [
        {
          "output_type": "stream",
          "name": "stdout",
          "text": [
            "KerasTensor(type_spec=TensorSpec(shape=(None, 256, 256, 3), dtype=tf.float32, name='input_1'), name='input_1', description=\"created by layer 'input_1'\")\n"
          ]
        }
      ],
      "source": [
        "print(input)"
      ]
    },
    {
      "cell_type": "code",
      "execution_count": 19,
      "metadata": {
        "id": "JdlrgYZwZnEd"
      },
      "outputs": [],
      "source": [
        "opt = Nadam(learning_rate=0.01, beta_1=0.9, beta_2=0.999)"
      ]
    },
    {
      "cell_type": "code",
      "execution_count": 20,
      "metadata": {
        "id": "oOIL33yEZpPX"
      },
      "outputs": [],
      "source": [
        "model.compile(optimizer=opt, loss=\"sparse_categorical_crossentropy\", metrics=[\"accuracy\"] )"
      ]
    },
    {
      "cell_type": "code",
      "execution_count": 21,
      "metadata": {
        "colab": {
          "base_uri": "https://localhost:8080/"
        },
        "id": "99dNdRxNZqh5",
        "outputId": "fa22a9d7-e397-4df0-df50-4797e5e65d2e"
      },
      "outputs": [
        {
          "output_type": "stream",
          "name": "stdout",
          "text": [
            "Model: \"model\"\n",
            "__________________________________________________________________________________________________\n",
            " Layer (type)                   Output Shape         Param #     Connected to                     \n",
            "==================================================================================================\n",
            " input_1 (InputLayer)           [(None, 256, 256, 3  0           []                               \n",
            "                                )]                                                                \n",
            "                                                                                                  \n",
            " conv_1 (Conv2D)                (None, 256, 256, 32  896         ['input_1[0][0]']                \n",
            "                                )                                                                 \n",
            "                                                                                                  \n",
            " norm_1 (BatchNormalization)    (None, 256, 256, 32  128         ['conv_1[0][0]']                 \n",
            "                                )                                                                 \n",
            "                                                                                                  \n",
            " max_pooling2d (MaxPooling2D)   (None, 128, 128, 32  0           ['norm_1[0][0]']                 \n",
            "                                )                                                                 \n",
            "                                                                                                  \n",
            " global_average_pooling2d (Glob  (None, 32)          0           ['max_pooling2d[0][0]']          \n",
            " alAveragePooling2D)                                                                              \n",
            "                                                                                                  \n",
            " global_max_pooling2d (GlobalMa  (None, 32)          0           ['max_pooling2d[0][0]']          \n",
            " xPooling2D)                                                                                      \n",
            "                                                                                                  \n",
            " reshape (Reshape)              (None, 1, 1, 32)     0           ['global_average_pooling2d[0][0]'\n",
            "                                                                 ]                                \n",
            "                                                                                                  \n",
            " reshape_1 (Reshape)            (None, 1, 1, 32)     0           ['global_max_pooling2d[0][0]']   \n",
            "                                                                                                  \n",
            " dense (Dense)                  (None, 1, 1, 4)      132         ['reshape[0][0]',                \n",
            "                                                                  'reshape_1[0][0]']              \n",
            "                                                                                                  \n",
            " dense_1 (Dense)                (None, 1, 1, 32)     160         ['dense[0][0]',                  \n",
            "                                                                  'dense[1][0]']                  \n",
            "                                                                                                  \n",
            " add (Add)                      (None, 1, 1, 32)     0           ['dense_1[0][0]',                \n",
            "                                                                  'dense_1[1][0]']                \n",
            "                                                                                                  \n",
            " activation (Activation)        (None, 1, 1, 32)     0           ['add[0][0]']                    \n",
            "                                                                                                  \n",
            " multiply (Multiply)            (None, 128, 128, 32  0           ['max_pooling2d[0][0]',          \n",
            "                                )                                 'activation[0][0]']             \n",
            "                                                                                                  \n",
            " lambda (Lambda)                (None, 128, 128, 1)  0           ['multiply[0][0]']               \n",
            "                                                                                                  \n",
            " lambda_1 (Lambda)              (None, 128, 128, 1)  0           ['multiply[0][0]']               \n",
            "                                                                                                  \n",
            " concatenate (Concatenate)      (None, 128, 128, 2)  0           ['lambda[0][0]',                 \n",
            "                                                                  'lambda_1[0][0]']               \n",
            "                                                                                                  \n",
            " conv2d (Conv2D)                (None, 128, 128, 1)  98          ['concatenate[0][0]']            \n",
            "                                                                                                  \n",
            " multiply_1 (Multiply)          (None, 128, 128, 32  0           ['multiply[0][0]',               \n",
            "                                )                                 'conv2d[0][0]']                 \n",
            "                                                                                                  \n",
            " add_1 (Add)                    (None, 128, 128, 32  0           ['max_pooling2d[0][0]',          \n",
            "                                )                                 'multiply_1[0][0]']             \n",
            "                                                                                                  \n",
            " conv_2 (Conv2D)                (None, 128, 128, 64  18496       ['add_1[0][0]']                  \n",
            "                                )                                                                 \n",
            "                                                                                                  \n",
            " dropout (Dropout)              (None, 128, 128, 64  0           ['conv_2[0][0]']                 \n",
            "                                )                                                                 \n",
            "                                                                                                  \n",
            " norm_2 (BatchNormalization)    (None, 128, 128, 64  256         ['dropout[0][0]']                \n",
            "                                )                                                                 \n",
            "                                                                                                  \n",
            " max_pooling2d_1 (MaxPooling2D)  (None, 64, 64, 64)  0           ['norm_2[0][0]']                 \n",
            "                                                                                                  \n",
            " conv_3 (Conv2D)                (None, 64, 64, 64)   36928       ['max_pooling2d_1[0][0]']        \n",
            "                                                                                                  \n",
            " norm_3 (BatchNormalization)    (None, 64, 64, 64)   256         ['conv_3[0][0]']                 \n",
            "                                                                                                  \n",
            " max_pooling2d_2 (MaxPooling2D)  (None, 32, 32, 64)  0           ['norm_3[0][0]']                 \n",
            "                                                                                                  \n",
            " conv_4 (Conv2D)                (None, 32, 32, 128)  73856       ['max_pooling2d_2[0][0]']        \n",
            "                                                                                                  \n",
            " dropout_1 (Dropout)            (None, 32, 32, 128)  0           ['conv_4[0][0]']                 \n",
            "                                                                                                  \n",
            " norm_4 (BatchNormalization)    (None, 32, 32, 128)  512         ['dropout_1[0][0]']              \n",
            "                                                                                                  \n",
            " max_pooling2d_3 (MaxPooling2D)  (None, 16, 16, 128)  0          ['norm_4[0][0]']                 \n",
            "                                                                                                  \n",
            " conv_5 (Conv2D)                (None, 16, 16, 256)  295168      ['max_pooling2d_3[0][0]']        \n",
            "                                                                                                  \n",
            " dropout_2 (Dropout)            (None, 16, 16, 256)  0           ['conv_5[0][0]']                 \n",
            "                                                                                                  \n",
            " norm_5 (BatchNormalization)    (None, 16, 16, 256)  1024        ['dropout_2[0][0]']              \n",
            "                                                                                                  \n",
            " flatten (Flatten)              (None, 65536)        0           ['norm_5[0][0]']                 \n",
            "                                                                                                  \n",
            " dense_2 (Dense)                (None, 128)          8388736     ['flatten[0][0]']                \n",
            "                                                                                                  \n",
            " dropout_3 (Dropout)            (None, 128)          0           ['dense_2[0][0]']                \n",
            "                                                                                                  \n",
            " dense_3 (Dense)                (None, 3)            387         ['dropout_3[0][0]']              \n",
            "                                                                                                  \n",
            "==================================================================================================\n",
            "Total params: 8,817,033\n",
            "Trainable params: 8,815,945\n",
            "Non-trainable params: 1,088\n",
            "__________________________________________________________________________________________________\n",
            "None\n",
            "<keras.engine.functional.Functional object at 0x7fa3b008ce10>\n"
          ]
        }
      ],
      "source": [
        "print(model.summary())\n",
        "print(model)"
      ]
    },
    {
      "cell_type": "code",
      "execution_count": 22,
      "metadata": {
        "id": "NIABPyRMYycd"
      },
      "outputs": [],
      "source": [
        "X = []\n",
        "Y = []\n",
        "def transferBetweenFolders(source, dest, splitRate): \n",
        "    global sourceFiles\n",
        "    sourceFiles=os.listdir(source)\n",
        "    if(len(sourceFiles)!=0):\n",
        "        transferFileNumbers=int(len(sourceFiles)*splitRate)\n",
        "        transferIndex=random.sample(range(0, len(sourceFiles)), transferFileNumbers)\n",
        "        for eachIndex in transferIndex:\n",
        "            shutil.move(source+str(sourceFiles[eachIndex]), dest+str(sourceFiles[eachIndex]))\n",
        "    else:\n",
        "        print(\"No file moved. Source empty!\")\n",
        "        "
      ]
    },
    {
      "cell_type": "code",
      "execution_count": 23,
      "metadata": {
        "colab": {
          "base_uri": "https://localhost:8080/"
        },
        "id": "Fh0THhOaY0Da",
        "outputId": "1adbfe69-bfe8-407c-ab03-93079ff0a3ab"
      },
      "outputs": [
        {
          "output_type": "stream",
          "name": "stdout",
          "text": [
            "No file moved. Source empty!\n",
            "No file moved. Source empty!\n",
            "No file moved. Source empty!\n"
          ]
        }
      ],
      "source": [
        "def transferAllClassBetweenFolders(source, dest, splitRate):\n",
        "    for label in classLabels:\n",
        "        transferBetweenFolders(sourcePath+'/'+source+'/'+label+'/', \n",
        "                               sourcePath+'/'+dest+'/'+label+'/', \n",
        "                               splitRate)\n",
        "#First cut all images from validation to train (if any exists)\n",
        "transferAllClassBetweenFolders('valid', 'train', 1.0)\n",
        "transferAllClassBetweenFolders('test', 'train', 1.0)\n",
        "\n",
        "#transferAllClassBetweenFolders('train', 'test', 0.2)"
      ]
    },
    {
      "cell_type": "code",
      "execution_count": 24,
      "metadata": {
        "id": "bvS9lltuY5_4"
      },
      "outputs": [],
      "source": [
        "def prepareNameWithLabels(folderName):\n",
        "    sourceFiles=os.listdir(sourcePath+'/train/'+folderName)\n",
        "    for val in sourceFiles:\n",
        "        X.append(val)\n",
        "        for i in range(len(classLabels)):\n",
        "          if(folderName==classLabels[i]):\n",
        "              Y.append(i)\n",
        "# Organize file names and class labels in X and Y variables\n",
        "for i in range(len(classLabels)):\n",
        "  prepareNameWithLabels(classLabels[i])\n",
        "\n",
        "def my_metrics(y_true, y_pred):\n",
        "    accuracy=accuracy_score(y_true, y_pred)\n",
        "    precision=precision_score(y_true, y_pred,average='micro')\n",
        "    f1Score=f1_score(y_true, y_pred, average='micro') \n",
        "    recall = recall_score(y_true, y_pred, average='micro')\n",
        "    print(\"Accuracy  : {}\".format(accuracy))\n",
        "    print(\"Precision : {}\".format(precision))\n",
        "    print(\"f1Score : {}\".format(f1Score))\n",
        "    print(\"Recall : {}\".format(recall))\n",
        "    cm=confusion_matrix(y_true, y_pred)\n",
        "    print(cm)\n",
        "\n",
        "    print(\"***----------------------------***\")  \n",
        "    return accuracy, precision, f1Score, recall"
      ]
    },
    {
      "cell_type": "code",
      "execution_count": 25,
      "metadata": {
        "colab": {
          "base_uri": "https://localhost:8080/"
        },
        "id": "7hjflR4gZW0Y",
        "outputId": "267b6b7d-2f88-4eea-d83d-fc89b85fb02c"
      },
      "outputs": [
        {
          "output_type": "stream",
          "name": "stdout",
          "text": [
            "No file moved. Source empty!\n",
            "No file moved. Source empty!\n",
            "No file moved. Source empty!\n",
            "No file moved. Source empty!\n",
            "No file moved. Source empty!\n",
            "No file moved. Source empty!\n",
            "['COVID(91).png' 'COVID(51).png' 'COVID(32).png' ...\n",
            " 'person98_virus_182.jpeg' 'person99_virus_183.jpeg'\n",
            " 'person97_virus_180.jpeg']\n",
            "[0 0 0 ... 2 2 2]\n",
            "StratifiedKFold(n_splits=5, random_state=None, shuffle=True)\n",
            "5\n",
            "<generator object _BaseKFold.split at 0x7fa3b005e650>\n"
          ]
        }
      ],
      "source": [
        "transferAllClassBetweenFolders('valid', 'train', 1.0)\n",
        "#no valid\n",
        "transferAllClassBetweenFolders('test', 'train', 1.0)\n",
        "X=np.asarray(X)\n",
        "Y=np.asarray(Y)\n",
        "\n",
        "print(X)\n",
        "print(Y)\n",
        "\n",
        "skf = StratifiedKFold(n_splits=5\n",
        "                      , shuffle=True)\n",
        "skf.get_n_splits(X, Y)\n",
        "print(skf)\n",
        "print(skf.get_n_splits(X,Y))\n",
        "print(skf.split(X,Y))\n",
        "foldNum=0\n",
        "overAllAcc = 0\n",
        "overAllPrec = 0\n",
        "overAllf1 = 0\n",
        "overAllRec = 0"
      ]
    },
    {
      "cell_type": "code",
      "execution_count": 26,
      "metadata": {
        "colab": {
          "base_uri": "https://localhost:8080/",
          "height": 1000
        },
        "id": "TsQVUi57ZDHg",
        "outputId": "6a8ec49f-19bb-4bde-a402-50cb728d31e6"
      },
      "outputs": [
        {
          "output_type": "stream",
          "name": "stdout",
          "text": [
            "trn_indx: 2263 test_indx: 566\n",
            "No file moved. Source empty!\n",
            "No file moved. Source empty!\n",
            "No file moved. Source empty!\n",
            "No file moved. Source empty!\n",
            "No file moved. Source empty!\n",
            "No file moved. Source empty!\n",
            "Results for fold 1\n",
            "2263\n",
            "566\n",
            "Found 2263 images belonging to 3 classes.\n",
            "Found 566 images belonging to 3 classes.\n",
            "Epoch 1/25\n",
            "71/71 - 471s - loss: 4.2842 - accuracy: 0.7450 - 471s/epoch - 7s/step\n",
            "Epoch 2/25\n",
            "71/71 - 22s - loss: 1.0213 - accuracy: 0.6951 - 22s/epoch - 314ms/step\n",
            "Epoch 3/25\n",
            "71/71 - 22s - loss: 1.0247 - accuracy: 0.6385 - 22s/epoch - 314ms/step\n",
            "Epoch 4/25\n",
            "71/71 - 22s - loss: 1.1115 - accuracy: 0.3513 - 22s/epoch - 313ms/step\n",
            "Epoch 5/25\n",
            "71/71 - 22s - loss: 1.1095 - accuracy: 0.3977 - 22s/epoch - 313ms/step\n",
            "Epoch 6/25\n",
            "71/71 - 22s - loss: 1.0209 - accuracy: 0.5524 - 22s/epoch - 311ms/step\n",
            "Epoch 7/25\n",
            "71/71 - 22s - loss: 1.3656 - accuracy: 0.4918 - 22s/epoch - 313ms/step\n",
            "Epoch 8/25\n",
            "71/71 - 22s - loss: 0.9898 - accuracy: 0.5568 - 22s/epoch - 310ms/step\n",
            "Epoch 9/25\n",
            "71/71 - 22s - loss: 1.2269 - accuracy: 0.4671 - 22s/epoch - 310ms/step\n",
            "Epoch 10/25\n",
            "71/71 - 22s - loss: 1.1486 - accuracy: 0.3743 - 22s/epoch - 310ms/step\n",
            "Epoch 11/25\n",
            "71/71 - 22s - loss: 6.6967 - accuracy: 0.4092 - 22s/epoch - 310ms/step\n",
            "Epoch 12/25\n",
            "71/71 - 22s - loss: 1.2745 - accuracy: 0.3363 - 22s/epoch - 310ms/step\n",
            "Epoch 13/25\n",
            "71/71 - 22s - loss: 1.0999 - accuracy: 0.3310 - 22s/epoch - 310ms/step\n",
            "Epoch 14/25\n",
            "71/71 - 22s - loss: 1.0991 - accuracy: 0.3301 - 22s/epoch - 311ms/step\n",
            "Epoch 15/25\n",
            "71/71 - 22s - loss: 1.0993 - accuracy: 0.3301 - 22s/epoch - 309ms/step\n",
            "Epoch 16/25\n",
            "71/71 - 22s - loss: 1.0996 - accuracy: 0.3168 - 22s/epoch - 310ms/step\n",
            "Epoch 17/25\n",
            "71/71 - 22s - loss: 1.0992 - accuracy: 0.3177 - 22s/epoch - 311ms/step\n",
            "Epoch 18/25\n",
            "71/71 - 22s - loss: 1.0994 - accuracy: 0.3221 - 22s/epoch - 311ms/step\n",
            "Epoch 19/25\n",
            "71/71 - 22s - loss: 1.0993 - accuracy: 0.3133 - 22s/epoch - 315ms/step\n",
            "Epoch 20/25\n",
            "71/71 - 22s - loss: 1.0995 - accuracy: 0.3190 - 22s/epoch - 312ms/step\n",
            "Epoch 21/25\n",
            "71/71 - 22s - loss: 1.0995 - accuracy: 0.3274 - 22s/epoch - 312ms/step\n",
            "Epoch 22/25\n",
            "71/71 - 22s - loss: 1.0993 - accuracy: 0.3314 - 22s/epoch - 311ms/step\n",
            "Epoch 23/25\n",
            "71/71 - 22s - loss: 1.0998 - accuracy: 0.3230 - 22s/epoch - 312ms/step\n",
            "Epoch 24/25\n",
            "71/71 - 22s - loss: 1.0994 - accuracy: 0.3283 - 22s/epoch - 310ms/step\n",
            "Epoch 25/25\n",
            "71/71 - 22s - loss: 1.0994 - accuracy: 0.3248 - 22s/epoch - 313ms/step\n"
          ]
        },
        {
          "output_type": "display_data",
          "data": {
            "text/plain": [
              "<Figure size 432x288 with 1 Axes>"
            ],
            "image/png": "[encoded data removed]"
          },
          "metadata": {
            "needs_background": "light"
          }
        },
        {
          "output_type": "display_data",
          "data": {
            "text/plain": [
              "<Figure size 432x288 with 1 Axes>"
            ],
            "image/png": "[encoded data removed]"
          },
          "metadata": {
            "needs_background": "light"
          }
        },
        {
          "output_type": "stream",
          "name": "stdout",
          "text": [
            "***Performance Data***\n",
            "Accuracy  : 0.3339222614840989\n",
            "Precision : 0.3339222614840989\n",
            "f1Score : 0.3339222614840989\n",
            "Recall : 0.3339222614840989\n",
            "[[189   0   0]\n",
            " [189   0   0]\n",
            " [188   0   0]]\n",
            "***----------------------------***\n",
            "18/18 [==============================] - 6s 329ms/step - loss: 1.0992 - accuracy: 0.3339\n",
            "***-----------------------------------------------***\n",
            "Overall Accuracy:  0.3339222614840989\n",
            "Overall Precision:  0.3339222614840989\n",
            "Overall f1Score:  0.3339222614840989\n",
            "Overall Recall:  0.3339222614840989\n",
            "***------------------End of Line------------------***\n",
            "trn_indx: 2263 test_indx: 566\n",
            "No file moved. Source empty!\n",
            "No file moved. Source empty!\n",
            "No file moved. Source empty!\n",
            "Results for fold 2\n",
            "2263\n",
            "566\n",
            "Found 2263 images belonging to 3 classes.\n",
            "Found 566 images belonging to 3 classes.\n",
            "Epoch 1/25\n",
            "71/71 - 23s - loss: 1.0992 - accuracy: 0.3350 - 23s/epoch - 317ms/step\n",
            "Epoch 2/25\n",
            "71/71 - 23s - loss: 1.0995 - accuracy: 0.3226 - 23s/epoch - 317ms/step\n",
            "Epoch 3/25\n",
            "71/71 - 22s - loss: 1.0994 - accuracy: 0.3151 - 22s/epoch - 316ms/step\n",
            "Epoch 4/25\n",
            "71/71 - 22s - loss: 1.0996 - accuracy: 0.3080 - 22s/epoch - 316ms/step\n",
            "Epoch 5/25\n",
            "71/71 - 22s - loss: 1.0994 - accuracy: 0.3266 - 22s/epoch - 316ms/step\n",
            "Epoch 6/25\n",
            "71/71 - 22s - loss: 1.0992 - accuracy: 0.3292 - 22s/epoch - 317ms/step\n",
            "Epoch 7/25\n",
            "71/71 - 22s - loss: 1.0994 - accuracy: 0.3288 - 22s/epoch - 315ms/step\n",
            "Epoch 8/25\n",
            "71/71 - 22s - loss: 1.0995 - accuracy: 0.3146 - 22s/epoch - 315ms/step\n",
            "Epoch 9/25\n",
            "71/71 - 22s - loss: 1.0998 - accuracy: 0.3120 - 22s/epoch - 314ms/step\n",
            "Epoch 10/25\n",
            "71/71 - 22s - loss: 1.0993 - accuracy: 0.3288 - 22s/epoch - 314ms/step\n",
            "Epoch 11/25\n",
            "71/71 - 22s - loss: 1.0996 - accuracy: 0.3106 - 22s/epoch - 313ms/step\n",
            "Epoch 12/25\n",
            "71/71 - 22s - loss: 1.0995 - accuracy: 0.3319 - 22s/epoch - 313ms/step\n",
            "Epoch 13/25\n",
            "71/71 - 23s - loss: 1.1000 - accuracy: 0.3182 - 23s/epoch - 317ms/step\n",
            "Epoch 14/25\n",
            "71/71 - 22s - loss: 1.0994 - accuracy: 0.3270 - 22s/epoch - 315ms/step\n",
            "Epoch 15/25\n",
            "71/71 - 22s - loss: 1.0995 - accuracy: 0.3243 - 22s/epoch - 314ms/step\n",
            "Epoch 16/25\n",
            "71/71 - 22s - loss: 1.0995 - accuracy: 0.3164 - 22s/epoch - 316ms/step\n",
            "Epoch 17/25\n",
            "71/71 - 22s - loss: 1.0999 - accuracy: 0.3151 - 22s/epoch - 315ms/step\n",
            "Epoch 18/25\n",
            "71/71 - 22s - loss: 1.0994 - accuracy: 0.3288 - 22s/epoch - 317ms/step\n",
            "Epoch 19/25\n",
            "71/71 - 22s - loss: 1.0992 - accuracy: 0.3288 - 22s/epoch - 316ms/step\n",
            "Epoch 20/25\n",
            "71/71 - 22s - loss: 1.0995 - accuracy: 0.3385 - 22s/epoch - 315ms/step\n",
            "Epoch 21/25\n",
            "71/71 - 22s - loss: 1.0997 - accuracy: 0.3279 - 22s/epoch - 315ms/step\n",
            "Epoch 22/25\n",
            "71/71 - 22s - loss: 1.0998 - accuracy: 0.3129 - 22s/epoch - 314ms/step\n",
            "Epoch 23/25\n",
            "71/71 - 22s - loss: 1.0996 - accuracy: 0.3182 - 22s/epoch - 314ms/step\n",
            "Epoch 24/25\n",
            "71/71 - 22s - loss: 1.0992 - accuracy: 0.3350 - 22s/epoch - 316ms/step\n",
            "Epoch 25/25\n",
            "71/71 - 22s - loss: 1.0996 - accuracy: 0.3151 - 22s/epoch - 316ms/step\n"
          ]
        },
        {
          "output_type": "display_data",
          "data": {
            "text/plain": [
              "<Figure size 432x288 with 1 Axes>"
            ],
            "image/png": "[encoded data removed]"
          },
          "metadata": {
            "needs_background": "light"
          }
        },
        {
          "output_type": "display_data",
          "data": {
            "text/plain": [
              "<Figure size 432x288 with 1 Axes>"
            ],
            "image/png": "[encoded data removed]"
          },
          "metadata": {
            "needs_background": "light"
          }
        },
        {
          "output_type": "stream",
          "name": "stdout",
          "text": [
            "***Performance Data***\n",
            "Accuracy  : 0.3339222614840989\n",
            "Precision : 0.3339222614840989\n",
            "f1Score : 0.3339222614840989\n",
            "Recall : 0.3339222614840989\n",
            "[[189   0   0]\n",
            " [188   0   0]\n",
            " [189   0   0]]\n",
            "***----------------------------***\n",
            "18/18 [==============================] - 5s 303ms/step - loss: 1.0986 - accuracy: 0.3339\n",
            "***-----------------------------------------------***\n",
            "Overall Accuracy:  0.3339222614840989\n",
            "Overall Precision:  0.3339222614840989\n",
            "Overall f1Score:  0.3339222614840989\n",
            "Overall Recall:  0.3339222614840989\n",
            "***------------------End of Line------------------***\n",
            "trn_indx: 2263 test_indx: 566\n",
            "No file moved. Source empty!\n",
            "No file moved. Source empty!\n",
            "No file moved. Source empty!\n",
            "Results for fold 3\n",
            "2263\n",
            "566\n",
            "Found 2263 images belonging to 3 classes.\n",
            "Found 566 images belonging to 3 classes.\n",
            "Epoch 1/25\n",
            "71/71 - 22s - loss: 1.0993 - accuracy: 0.3190 - 22s/epoch - 316ms/step\n",
            "Epoch 2/25\n",
            "71/71 - 23s - loss: 1.0996 - accuracy: 0.3076 - 23s/epoch - 319ms/step\n",
            "Epoch 3/25\n",
            "71/71 - 22s - loss: 1.0994 - accuracy: 0.3305 - 22s/epoch - 315ms/step\n",
            "Epoch 4/25\n",
            "71/71 - 22s - loss: 1.0998 - accuracy: 0.3319 - 22s/epoch - 315ms/step\n",
            "Epoch 5/25\n",
            "71/71 - 22s - loss: 1.0991 - accuracy: 0.3323 - 22s/epoch - 314ms/step\n",
            "Epoch 6/25\n",
            "71/71 - 22s - loss: 1.0995 - accuracy: 0.3243 - 22s/epoch - 316ms/step\n",
            "Epoch 7/25\n",
            "71/71 - 22s - loss: 1.0994 - accuracy: 0.3213 - 22s/epoch - 315ms/step\n",
            "Epoch 8/25\n",
            "71/71 - 22s - loss: 1.0995 - accuracy: 0.3411 - 22s/epoch - 313ms/step\n",
            "Epoch 9/25\n",
            "71/71 - 22s - loss: 1.0996 - accuracy: 0.3155 - 22s/epoch - 312ms/step\n",
            "Epoch 10/25\n",
            "71/71 - 22s - loss: 1.0997 - accuracy: 0.3199 - 22s/epoch - 313ms/step\n",
            "Epoch 11/25\n",
            "71/71 - 22s - loss: 1.0992 - accuracy: 0.3292 - 22s/epoch - 312ms/step\n",
            "Epoch 12/25\n",
            "71/71 - 22s - loss: 1.0994 - accuracy: 0.3301 - 22s/epoch - 312ms/step\n",
            "Epoch 13/25\n",
            "71/71 - 22s - loss: 1.0995 - accuracy: 0.3111 - 22s/epoch - 313ms/step\n",
            "Epoch 14/25\n",
            "71/71 - 22s - loss: 1.0996 - accuracy: 0.3164 - 22s/epoch - 312ms/step\n",
            "Epoch 15/25\n",
            "71/71 - 22s - loss: 1.0995 - accuracy: 0.3297 - 22s/epoch - 314ms/step\n",
            "Epoch 16/25\n",
            "71/71 - 22s - loss: 1.0994 - accuracy: 0.3416 - 22s/epoch - 314ms/step\n",
            "Epoch 17/25\n",
            "71/71 - 22s - loss: 1.0997 - accuracy: 0.3323 - 22s/epoch - 315ms/step\n",
            "Epoch 18/25\n",
            "71/71 - 22s - loss: 1.0997 - accuracy: 0.3270 - 22s/epoch - 313ms/step\n",
            "Epoch 19/25\n",
            "71/71 - 22s - loss: 1.0992 - accuracy: 0.3248 - 22s/epoch - 312ms/step\n",
            "Epoch 20/25\n",
            "71/71 - 22s - loss: 1.0996 - accuracy: 0.3137 - 22s/epoch - 315ms/step\n",
            "Epoch 21/25\n",
            "71/71 - 22s - loss: 1.0995 - accuracy: 0.3151 - 22s/epoch - 313ms/step\n",
            "Epoch 22/25\n",
            "71/71 - 22s - loss: 1.0993 - accuracy: 0.3204 - 22s/epoch - 313ms/step\n",
            "Epoch 23/25\n",
            "71/71 - 22s - loss: 1.0996 - accuracy: 0.3208 - 22s/epoch - 314ms/step\n",
            "Epoch 24/25\n",
            "71/71 - 22s - loss: 1.0994 - accuracy: 0.3257 - 22s/epoch - 314ms/step\n",
            "Epoch 25/25\n",
            "71/71 - 22s - loss: 1.0996 - accuracy: 0.3279 - 22s/epoch - 311ms/step\n"
          ]
        },
        {
          "output_type": "display_data",
          "data": {
            "text/plain": [
              "<Figure size 432x288 with 1 Axes>"
            ],
            "image/png": "[encoded data removed]"
          },
          "metadata": {
            "needs_background": "light"
          }
        },
        {
          "output_type": "display_data",
          "data": {
            "text/plain": [
              "<Figure size 432x288 with 1 Axes>"
            ],
            "image/png": "[encoded data removed]"
          },
          "metadata": {
            "needs_background": "light"
          }
        },
        {
          "output_type": "stream",
          "name": "stdout",
          "text": [
            "***Performance Data***\n",
            "Accuracy  : 0.3321554770318021\n",
            "Precision : 0.3321554770318021\n",
            "f1Score : 0.3321554770318021\n",
            "Recall : 0.3321554770318021\n",
            "[[  0 189   0]\n",
            " [  0 188   0]\n",
            " [  0 189   0]]\n",
            "***----------------------------***\n",
            "18/18 [==============================] - 5s 312ms/step - loss: 1.0988 - accuracy: 0.3322\n",
            "***-----------------------------------------------***\n",
            "Overall Accuracy:  0.3333333333333333\n",
            "Overall Precision:  0.3333333333333333\n",
            "Overall f1Score:  0.3333333333333333\n",
            "Overall Recall:  0.3333333333333333\n",
            "***------------------End of Line------------------***\n",
            "trn_indx: 2263 test_indx: 566\n",
            "No file moved. Source empty!\n",
            "No file moved. Source empty!\n",
            "No file moved. Source empty!\n",
            "Results for fold 4\n",
            "2263\n",
            "566\n",
            "Found 2263 images belonging to 3 classes.\n",
            "Found 566 images belonging to 3 classes.\n",
            "Epoch 1/25\n",
            "71/71 - 22s - loss: 1.0994 - accuracy: 0.3411 - 22s/epoch - 312ms/step\n",
            "Epoch 2/25\n",
            "71/71 - 22s - loss: 1.0997 - accuracy: 0.3266 - 22s/epoch - 314ms/step\n",
            "Epoch 3/25\n",
            "71/71 - 22s - loss: 1.0995 - accuracy: 0.3120 - 22s/epoch - 313ms/step\n",
            "Epoch 4/25\n",
            "71/71 - 22s - loss: 1.0993 - accuracy: 0.3297 - 22s/epoch - 314ms/step\n",
            "Epoch 5/25\n",
            "71/71 - 22s - loss: 1.0999 - accuracy: 0.3199 - 22s/epoch - 311ms/step\n",
            "Epoch 6/25\n",
            "71/71 - 22s - loss: 1.0997 - accuracy: 0.3279 - 22s/epoch - 311ms/step\n",
            "Epoch 7/25\n",
            "71/71 - 22s - loss: 1.0991 - accuracy: 0.3310 - 22s/epoch - 312ms/step\n",
            "Epoch 8/25\n",
            "71/71 - 22s - loss: 1.0995 - accuracy: 0.3213 - 22s/epoch - 310ms/step\n",
            "Epoch 9/25\n",
            "71/71 - 22s - loss: 1.0994 - accuracy: 0.3204 - 22s/epoch - 310ms/step\n",
            "Epoch 10/25\n",
            "71/71 - 22s - loss: 1.0994 - accuracy: 0.3120 - 22s/epoch - 310ms/step\n",
            "Epoch 11/25\n",
            "71/71 - 22s - loss: 1.0995 - accuracy: 0.3248 - 22s/epoch - 310ms/step\n",
            "Epoch 12/25\n",
            "71/71 - 22s - loss: 1.0995 - accuracy: 0.3266 - 22s/epoch - 311ms/step\n",
            "Epoch 13/25\n",
            "71/71 - 22s - loss: 1.0992 - accuracy: 0.3314 - 22s/epoch - 311ms/step\n",
            "Epoch 14/25\n",
            "71/71 - 22s - loss: 1.0996 - accuracy: 0.3239 - 22s/epoch - 311ms/step\n",
            "Epoch 15/25\n",
            "71/71 - 22s - loss: 1.0995 - accuracy: 0.3129 - 22s/epoch - 310ms/step\n",
            "Epoch 16/25\n",
            "71/71 - 22s - loss: 1.0994 - accuracy: 0.3186 - 22s/epoch - 311ms/step\n",
            "Epoch 17/25\n",
            "71/71 - 22s - loss: 1.0995 - accuracy: 0.3230 - 22s/epoch - 311ms/step\n",
            "Epoch 18/25\n",
            "71/71 - 22s - loss: 1.1000 - accuracy: 0.3226 - 22s/epoch - 315ms/step\n",
            "Epoch 19/25\n",
            "71/71 - 22s - loss: 1.0993 - accuracy: 0.3235 - 22s/epoch - 310ms/step\n",
            "Epoch 20/25\n",
            "71/71 - 22s - loss: 1.0994 - accuracy: 0.3283 - 22s/epoch - 312ms/step\n",
            "Epoch 21/25\n",
            "71/71 - 22s - loss: 1.0994 - accuracy: 0.3270 - 22s/epoch - 312ms/step\n",
            "Epoch 22/25\n",
            "71/71 - 22s - loss: 1.0995 - accuracy: 0.3226 - 22s/epoch - 316ms/step\n",
            "Epoch 23/25\n",
            "71/71 - 22s - loss: 1.0995 - accuracy: 0.3257 - 22s/epoch - 315ms/step\n",
            "Epoch 24/25\n",
            "71/71 - 22s - loss: 1.0996 - accuracy: 0.3297 - 22s/epoch - 314ms/step\n",
            "Epoch 25/25\n",
            "71/71 - 22s - loss: 1.0997 - accuracy: 0.3283 - 22s/epoch - 316ms/step\n"
          ]
        },
        {
          "output_type": "display_data",
          "data": {
            "text/plain": [
              "<Figure size 432x288 with 1 Axes>"
            ],
            "image/png": "[encoded data removed]"
          },
          "metadata": {
            "needs_background": "light"
          }
        },
        {
          "output_type": "display_data",
          "data": {
            "text/plain": [
              "<Figure size 432x288 with 1 Axes>"
            ],
            "image/png": "[encoded data removed]"
          },
          "metadata": {
            "needs_background": "light"
          }
        },
        {
          "output_type": "stream",
          "name": "stdout",
          "text": [
            "***Performance Data***\n",
            "Accuracy  : 0.3321554770318021\n",
            "Precision : 0.3321554770318021\n",
            "f1Score : 0.3321554770318021\n",
            "Recall : 0.3321554770318021\n",
            "[[188   0   0]\n",
            " [189   0   0]\n",
            " [189   0   0]]\n",
            "***----------------------------***\n",
            "18/18 [==============================] - 6s 324ms/step - loss: 1.0986 - accuracy: 0.3322\n",
            "***-----------------------------------------------***\n",
            "Overall Accuracy:  0.3330388692579505\n",
            "Overall Precision:  0.3330388692579505\n",
            "Overall f1Score:  0.3330388692579505\n",
            "Overall Recall:  0.3330388692579505\n",
            "***------------------End of Line------------------***\n",
            "trn_indx: 2264 test_indx: 565\n",
            "No file moved. Source empty!\n",
            "No file moved. Source empty!\n",
            "No file moved. Source empty!\n",
            "Results for fold 5\n",
            "2264\n",
            "565\n",
            "Found 2264 images belonging to 3 classes.\n",
            "Found 565 images belonging to 3 classes.\n",
            "Epoch 1/25\n",
            "71/71 - 23s - loss: 1.0995 - accuracy: 0.3154 - 23s/epoch - 320ms/step\n",
            "Epoch 2/25\n",
            "71/71 - 23s - loss: 1.0997 - accuracy: 0.3189 - 23s/epoch - 322ms/step\n",
            "Epoch 3/25\n",
            "71/71 - 23s - loss: 1.0993 - accuracy: 0.3216 - 23s/epoch - 321ms/step\n",
            "Epoch 4/25\n",
            "71/71 - 23s - loss: 1.0995 - accuracy: 0.3308 - 23s/epoch - 325ms/step\n",
            "Epoch 5/25\n",
            "71/71 - 23s - loss: 1.0992 - accuracy: 0.3264 - 23s/epoch - 318ms/step\n",
            "Epoch 6/25\n",
            "71/71 - 23s - loss: 1.0996 - accuracy: 0.3171 - 23s/epoch - 321ms/step\n",
            "Epoch 7/25\n",
            "71/71 - 22s - loss: 1.0995 - accuracy: 0.3246 - 22s/epoch - 314ms/step\n",
            "Epoch 8/25\n",
            "71/71 - 22s - loss: 1.0999 - accuracy: 0.3335 - 22s/epoch - 315ms/step\n",
            "Epoch 9/25\n",
            "71/71 - 22s - loss: 1.0992 - accuracy: 0.3304 - 22s/epoch - 314ms/step\n",
            "Epoch 10/25\n",
            "71/71 - 22s - loss: 1.0993 - accuracy: 0.3110 - 22s/epoch - 315ms/step\n",
            "Epoch 11/25\n",
            "71/71 - 22s - loss: 1.0995 - accuracy: 0.3083 - 22s/epoch - 314ms/step\n",
            "Epoch 12/25\n",
            "71/71 - 22s - loss: 1.0992 - accuracy: 0.3269 - 22s/epoch - 315ms/step\n",
            "Epoch 13/25\n",
            "71/71 - 22s - loss: 1.0993 - accuracy: 0.3304 - 22s/epoch - 314ms/step\n",
            "Epoch 14/25\n",
            "71/71 - 22s - loss: 1.0995 - accuracy: 0.3260 - 22s/epoch - 313ms/step\n",
            "Epoch 15/25\n",
            "71/71 - 22s - loss: 1.0994 - accuracy: 0.3220 - 22s/epoch - 315ms/step\n",
            "Epoch 16/25\n",
            "71/71 - 22s - loss: 1.0996 - accuracy: 0.3145 - 22s/epoch - 315ms/step\n",
            "Epoch 17/25\n",
            "71/71 - 22s - loss: 1.0996 - accuracy: 0.3216 - 22s/epoch - 313ms/step\n",
            "Epoch 18/25\n",
            "71/71 - 22s - loss: 1.0998 - accuracy: 0.3238 - 22s/epoch - 314ms/step\n",
            "Epoch 19/25\n",
            "71/71 - 22s - loss: 1.0998 - accuracy: 0.3308 - 22s/epoch - 313ms/step\n",
            "Epoch 20/25\n",
            "71/71 - 22s - loss: 1.0993 - accuracy: 0.3202 - 22s/epoch - 316ms/step\n",
            "Epoch 21/25\n",
            "71/71 - 22s - loss: 1.0993 - accuracy: 0.3180 - 22s/epoch - 313ms/step\n",
            "Epoch 22/25\n",
            "71/71 - 22s - loss: 1.0995 - accuracy: 0.3295 - 22s/epoch - 316ms/step\n",
            "Epoch 23/25\n",
            "71/71 - 22s - loss: 1.0994 - accuracy: 0.3269 - 22s/epoch - 313ms/step\n",
            "Epoch 24/25\n",
            "71/71 - 22s - loss: 1.0992 - accuracy: 0.3211 - 22s/epoch - 314ms/step\n",
            "Epoch 25/25\n",
            "71/71 - 22s - loss: 1.0995 - accuracy: 0.3348 - 22s/epoch - 313ms/step\n"
          ]
        },
        {
          "output_type": "display_data",
          "data": {
            "text/plain": [
              "<Figure size 432x288 with 1 Axes>"
            ],
            "image/png": "[encoded data removed]"
          },
          "metadata": {
            "needs_background": "light"
          }
        },
        {
          "output_type": "display_data",
          "data": {
            "text/plain": [
              "<Figure size 432x288 with 1 Axes>"
            ],
            "image/png": "[encoded data removed]"
          },
          "metadata": {
            "needs_background": "light"
          }
        },
        {
          "output_type": "stream",
          "name": "stdout",
          "text": [
            "***Performance Data***\n",
            "Accuracy  : 0.3327433628318584\n",
            "Precision : 0.3327433628318584\n",
            "f1Score : 0.3327433628318584\n",
            "Recall : 0.3327433628318584\n",
            "[[  0   0 188]\n",
            " [  0   0 189]\n",
            " [  0   0 188]]\n",
            "***----------------------------***\n",
            "18/18 [==============================] - 5s 313ms/step - loss: 1.0990 - accuracy: 0.3327\n",
            "***-----------------------------------------------***\n",
            "Overall Accuracy:  0.3329797679727321\n",
            "Overall Precision:  0.3329797679727321\n",
            "Overall f1Score:  0.3329797679727321\n",
            "Overall Recall:  0.3329797679727321\n",
            "***------------------End of Line------------------***\n"
          ]
        }
      ],
      "source": [
        "for train_index, val_index in skf.split(X, Y):\n",
        "    print(\"trn_indx: %s test_indx: %s\" % (len(train_index), len(val_index)))\n",
        "    #First cut all images from validation to train (if any exists)\n",
        "    transferAllClassBetweenFolders('valid', 'train', 1.0)\n",
        "    #no valid\n",
        "    transferAllClassBetweenFolders('test', 'train', 1.0)\n",
        "    foldNum+=1\n",
        "    print(\"Results for fold\",foldNum)\n",
        "    X_train, X_val = X[train_index], X[val_index]\n",
        "    Y_train, Y_val = Y[train_index], Y[val_index]\n",
        "    print(len(X_train))\n",
        "    print(len(X_val))\n",
        "    # Move validation images of this fold from train folder to the validation folder\n",
        "    for eachIndex in range(len(X_val)):\n",
        "        classLabel=''\n",
        "        for i in range(len(classLabels)):\n",
        "          if(Y_val[eachIndex]==i):\n",
        "              classLabel=classLabels[i]\n",
        "        #Then, copy the validation images to the validation folder\n",
        "        shutil.move(sourcePath+'/train/'+classLabel+'/'+X_val[eachIndex], \n",
        "                    #sourcePath+'/valid/'+classLabel+'/'+X_val[eachIndex])\n",
        "        #without valid\n",
        "                    sourcePath+'/test/'+classLabel+'/'+X_val[eachIndex])\n",
        "        \n",
        "    train_batches = ImageDataGenerator().flow_from_directory(train_path, target_size=(256,256), classes=['covid', 'normal', 'pneumonia'], class_mode = 'sparse', batch_size = 32, shuffle=True)\n",
        "    #without valid\n",
        "    #valid_batches = ImageDataGenerator().flow_from_directory(valid_path, target_size=(256,256), classes=['covid', 'normal', 'pneumonia'], class_mode = 'sparse', batch_size = 32, shuffle=True)\n",
        "    test_batches = ImageDataGenerator().flow_from_directory(test_path, target_size=(256,256), classes=['covid', 'normal', 'pneumonia'], class_mode = 'sparse', batch_size = 32, shuffle=False)\n",
        "\n",
        "    history = model.fit(train_batches, \n",
        "                    #steps_per_epoch=sp_epoch, \n",
        "                    #without valid\n",
        "                    #validation_data=valid_batches, \n",
        "                    #validation_steps=10, \n",
        "                    epochs=25, \n",
        "                    verbose=2)\n",
        "    \n",
        "    \n",
        "    \n",
        "    plt.plot(history.history['accuracy'])\n",
        "    #plt.plot(history.history['val_accuracy'])\n",
        "    plt.title('Nadam 1 Layer Cbam - Model Accuracy')\n",
        "    plt.ylim(0,1.1)\n",
        "    plt.ylabel('accuracy')\n",
        "    plt.xlabel('epoch')\n",
        "    #plt.legend(['train', 'valid'], loc='upper left')\n",
        "    #without valid\n",
        "    plt.legend(['train'], loc='upper left')\n",
        "    plt.show()\n",
        "    # summarize history for loss\n",
        "    plt.plot(history.history['loss'])\n",
        "    #plt.plot(history.history['val_loss'])\n",
        "    plt.title('Nadam 1 Layer Cbam - Model Loss')\n",
        "    plt.ylim(0,1.1)\n",
        "    plt.ylabel('loss')\n",
        "    plt.xlabel('epoch')\n",
        "    #plt.legend(['train', 'valid'], loc='upper left')\n",
        "    #without valid\n",
        "    plt.legend(['train'], loc='upper left')\n",
        "    plt.show()\n",
        "    test_batches.reset()\n",
        "    Y_pred = model.predict(test_batches)\n",
        "    classes = test_batches.classes[test_batches.index_array]\n",
        "    y_pred = np.argmax(Y_pred, axis=-1)\n",
        "    #print(\"***Performance on Test Data***\")  \n",
        "    #print(sum(y_pred==classes)/10000)\n",
        "    confusion_matrix(test_batches.classes[test_batches.index_array],y_pred)\n",
        "    #predictions = model.predict(test_batches, verbose=1)\n",
        "    #yPredictions = np.argmax(predictions, axis=1)\n",
        "    #print(yPredictions)\n",
        "    #true_classes = test_batches.classes\n",
        "    # evaluate validation performance\n",
        "    print(\"***Performance Data***\")    \n",
        "    #valAcc, valPrec, valFScore = my_metrics(true_classes, yPredictions)\n",
        "    valAcc, valPrec, valFScore, valRec = my_metrics(classes, y_pred)\n",
        "    overAllAcc = overAllAcc+valAcc\n",
        "    overAllPrec = overAllPrec+valPrec\n",
        "    overAllf1 = overAllf1+valFScore\n",
        "    overAllRec = overAllRec+valRec\n",
        "    \n",
        "    model.evaluate(test_batches)\n",
        "    print(\"***-----------------------------------------------***\")  \n",
        "    print(\"Overall Accuracy: \",  overAllAcc/foldNum)\n",
        "    print(\"Overall Precision: \",  overAllPrec/foldNum)\n",
        "    print(\"Overall f1Score: \",  overAllf1/foldNum)\n",
        "    print(\"Overall Recall: \",  overAllRec/foldNum)\n",
        "\n",
        "    print(\"***------------------End of Line------------------***\")    "
      ]
    }
  ],
  "metadata": {
    "accelerator": "GPU",
    "colab": {
      "collapsed_sections": [],
      "machine_shape": "hm",
      "name": "2022_Nadam_1 Lyr Cbam_tt_B.ipynb",
      "provenance": [],
      "include_colab_link": true
    },
    "kernelspec": {
      "display_name": "Python 3",
      "name": "python3"
    },
    "language_info": {
      "name": "python"
    }
  },
  "nbformat": 4,
  "nbformat_minor": 0
}