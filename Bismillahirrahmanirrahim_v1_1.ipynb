{
  "cells": [
    {
      "cell_type": "markdown",
      "metadata": {
        "id": "view-in-github",
        "colab_type": "text"
      },
      "source": [
        "<a href=\"https://colab.research.google.com/github/NicoAN42/SKRPSI/blob/main/Bismillahirrahmanirrahim_v1_1.ipynb\" target=\"_parent\"><img src=\"https://colab.research.google.com/assets/colab-badge.svg\" alt=\"Open In Colab\"/></a>"
      ]
    },
    {
      "cell_type": "code",
      "execution_count": 1,
      "metadata": {
        "colab": {
          "base_uri": "https://localhost:8080/"
        },
        "id": "bd3mi5ZLdBSv",
        "outputId": "0f40afec-14fb-49c1-89d5-5ce9fb1fbcdc"
      },
      "outputs": [
        {
          "output_type": "stream",
          "name": "stdout",
          "text": [
            "Mounted at /content/drive\n"
          ]
        }
      ],
      "source": [
        "#mount dataset\n",
        "from google.colab import drive\n",
        "drive.mount('/content/drive')\n"
      ]
    },
    {
      "cell_type": "code",
      "execution_count": 2,
      "metadata": {
        "id": "mNr5eLs1WiKT"
      },
      "outputs": [],
      "source": [
        "import tensorflow\n",
        "from tensorflow.keras.layers import Conv2D, Input, concatenate, Activation, InputLayer, Dense, Reshape, Flatten\n",
        "from tensorflow.keras.layers import LeakyReLU,ReLU, MaxPooling2D, BatchNormalization,GlobalMaxPooling2D,GlobalAveragePooling2D\n",
        "from tensorflow.keras.models import Model, Sequential\n",
        "from tensorflow.keras import layers\n",
        "from tensorflow.keras.activations import softmax,sigmoid\n",
        "from tensorflow.keras.preprocessing.image import ImageDataGenerator\n",
        "from tensorflow.keras.optimizers import Adam, Nadam\n",
        "from tensorflow.keras.callbacks import EarlyStopping\n",
        "from tensorflow.keras.layers import Dropout,SpatialDropout2D,GaussianDropout\n",
        "from tensorflow.keras.optimizers.schedules import ExponentialDecay\n",
        "import math\n",
        "import matplotlib.pyplot as plt\n",
        "import numpy as np"
      ]
    },
    {
      "cell_type": "code",
      "execution_count": 3,
      "metadata": {
        "id": "M-dUDyotW99U"
      },
      "outputs": [],
      "source": [
        "from tensorflow.keras.optimizers import SGD"
      ]
    },
    {
      "cell_type": "code",
      "execution_count": 4,
      "metadata": {
        "id": "1SKzQPoLeGUS"
      },
      "outputs": [],
      "source": [
        "CLASS = 3\n",
        "train_path = '/content/drive/MyDrive/Colab Notebooks/Dataset Prime/train'\n",
        "valid_path = '/content/drive/MyDrive/Colab Notebooks/Dataset Prime/valid'\n",
        "test_path = '/content/drive/MyDrive/Colab Notebooks/Dataset Prime/test'\n",
        "\n",
        "#nico"
      ]
    },
    {
      "cell_type": "code",
      "execution_count": 4,
      "metadata": {
        "id": "qyuRvIz9mFu_"
      },
      "outputs": [],
      "source": [
        ""
      ]
    },
    {
      "cell_type": "code",
      "execution_count": 5,
      "metadata": {
        "id": "rqvrCXBDXPky"
      },
      "outputs": [],
      "source": [
        "model = Sequential()"
      ]
    },
    {
      "cell_type": "code",
      "execution_count": 6,
      "metadata": {
        "id": "q2Q9CbMzY1Rn"
      },
      "outputs": [],
      "source": [
        "model.add(layers.InputLayer(input_shape=(256, 256, 3)))"
      ]
    },
    {
      "cell_type": "code",
      "execution_count": 7,
      "metadata": {
        "id": "oDtu9SpVY5O0"
      },
      "outputs": [],
      "source": [
        "input_Layer=model.add(layers.InputLayer(input_shape=(256, 256, 3)))"
      ]
    },
    {
      "cell_type": "code",
      "execution_count": 8,
      "metadata": {
        "id": "YpZNBOFOZBJL"
      },
      "outputs": [],
      "source": [
        "#Layer 2\n",
        "model.add(layers.Conv2D(32, (3,3), padding='same', name='conv_1'))\n",
        "model.add(LeakyReLU(alpha=0.1))\n",
        "#model.add(layers.SpatialDropout2D(0.2,data_format='channels_first'))\n",
        "model.add(layers.BatchNormalization(name='norm_1'))\n",
        "model.add(layers.MaxPooling2D(pool_size=(2, 2), strides= 2))\n",
        "model.add(layers.Dropout(0.2))\n"
      ]
    },
    {
      "cell_type": "code",
      "execution_count": 9,
      "metadata": {
        "id": "pBvWdrCmZCsQ"
      },
      "outputs": [],
      "source": [
        "#Layer 2\n",
        "model.add(layers.Conv2D(64, (3,3), padding='same', name='conv_2')),\n",
        "#model.add(layers.Dropout(0.1))\n",
        "#x = Dense(units=128,activation='relu')(x),\n",
        "model.add(LeakyReLU(alpha=0.1))\n",
        "model.add(layers.BatchNormalization(name='norm_2'))\n",
        "model.add(layers.MaxPooling2D(pool_size=(2, 2), strides = 2))\n",
        "model.add(layers.Dropout(0.2))\n"
      ]
    },
    {
      "cell_type": "code",
      "execution_count": 10,
      "metadata": {
        "id": "RBUvxL-9ZEO3"
      },
      "outputs": [],
      "source": [
        "# Layer 3\n",
        "model.add(layers.Conv2D(128, (3,3), padding='same', name='conv_3'))\n",
        "model.add(LeakyReLU(alpha=0.1))\n",
        "#model.add(layers.Dropout(0.2))\n",
        "model.add(layers.BatchNormalization(name='norm_3'))\n",
        "#model.add(layers.MaxPooling2D(pool_size=(2, 2), strides = 2))\n"
      ]
    },
    {
      "cell_type": "code",
      "execution_count": 11,
      "metadata": {
        "id": "QKyPzn20ZI1Y"
      },
      "outputs": [],
      "source": [
        "# Layer 4\n",
        "#model.add(layers.Dropout(0.2))\n",
        "model.add(layers.Conv2D(64, (1,1), padding='same', name='conv_4'))\n",
        "model.add(LeakyReLU(alpha=0.1))\n",
        "model.add(layers.BatchNormalization(name='norm_4'))\n",
        "#model.add(layers.MaxPooling2D(pool_size=(2, 2), strides = 2))\n",
        "#model.add(layers.Dropout(0.5))"
      ]
    },
    {
      "cell_type": "code",
      "execution_count": 12,
      "metadata": {
        "id": "tgLQSWDfZJ53"
      },
      "outputs": [],
      "source": [
        "# Layer 5\n",
        "model.add(layers.Conv2D(128, (3,3), padding='same', name='conv_5'))\n",
        "model.add(LeakyReLU(alpha=0.1))\n",
        "#model.add(layers.Dropout(0.1))\n",
        "model.add(layers.BatchNormalization(name='norm_5'))\n",
        "model.add(layers.MaxPooling2D(pool_size=(2, 2), strides = 2))\n",
        "model.add(layers.Dropout(0.2))\n"
      ]
    },
    {
      "cell_type": "code",
      "execution_count": 13,
      "metadata": {
        "id": "Jrjts8tuZLer"
      },
      "outputs": [],
      "source": [
        "# Layer 6\n",
        "#model.add(layers.Dropout(0.2))\n",
        "model.add(layers.Conv2D(256, (3,3), padding='same', name='conv_6'))\n",
        "model.add(LeakyReLU(alpha=0.1))\n",
        "model.add(layers.BatchNormalization(name='norm_6'))\n",
        "#model.add(layers.MaxPooling2D(pool_size=(2, 2), strides = 2))\n",
        "#model.add(layers.Dropout(0.5))\n"
      ]
    },
    {
      "cell_type": "code",
      "execution_count": 14,
      "metadata": {
        "id": "wfkWECn_ZNQI"
      },
      "outputs": [],
      "source": [
        "# Layer 7\n",
        "model.add(layers.Conv2D(128, (1,1), padding='same', name='conv_7'))\n",
        "model.add(LeakyReLU(alpha=0.1))\n",
        "#model.add(layers.Dropout(0.2))\n",
        "model.add(layers.BatchNormalization(name='norm_7'))\n",
        "#model.add(layers.MaxPooling2D(pool_size=(2, 2), strides = 2))\n"
      ]
    },
    {
      "cell_type": "code",
      "execution_count": 15,
      "metadata": {
        "id": "GM3FXI6kZPKt"
      },
      "outputs": [],
      "source": [
        "# Layer 8\n",
        "#model.add(layers.Dropout(0.2))\n",
        "model.add(layers.Conv2D(256, (3,3), padding='same', name='conv_8'))\n",
        "model.add(LeakyReLU(alpha=0.1))\n",
        "model.add(layers.BatchNormalization(name='norm_8'))\n",
        "model.add(layers.MaxPooling2D(pool_size=(2, 2), strides = 2))\n",
        "model.add(layers.Dropout(0.5))\n"
      ]
    },
    {
      "cell_type": "code",
      "execution_count": 16,
      "metadata": {
        "id": "jn_H-d7iZQNy"
      },
      "outputs": [],
      "source": [
        "# Layer 9\n",
        "model.add(layers.Conv2D(512, (3,3), padding='same', name='conv_9'))\n",
        "model.add(LeakyReLU(alpha=0.1))\n",
        "#model.add(layers.Dropout(0.2))\n",
        "model.add(layers.BatchNormalization(name='norm_9'))\n",
        "#model.add(layers.MaxPooling2D(pool_size=(2, 2), strides = 2))\n"
      ]
    },
    {
      "cell_type": "code",
      "execution_count": 17,
      "metadata": {
        "id": "5dTJAqKkZRGm"
      },
      "outputs": [],
      "source": [
        "# Layer 10\n",
        "#model.add(layers.Dropout(0.2))\n",
        "model.add(layers.Conv2D(256, (3,3), padding='same', name='conv_10'))\n",
        "model.add(LeakyReLU(alpha=0.1))\n",
        "model.add(layers.BatchNormalization(name='norm_10'))\n",
        "#model.add(layers.MaxPooling2D(pool_size=(2, 2), strides = 2))\n",
        "#model.add(layers.Dropout(0.5))\n"
      ]
    },
    {
      "cell_type": "code",
      "execution_count": 18,
      "metadata": {
        "id": "cJY-M4_cZSmk"
      },
      "outputs": [],
      "source": [
        "\n",
        "# Layer 11\n",
        "model.add(layers.Conv2D(512, (3,3), padding='same', name='conv_11'))\n",
        "model.add(LeakyReLU(alpha=0.1))\n",
        "#model.add(layers.Dropout(0.2))\n",
        "model.add(layers.BatchNormalization(name='norm_11'))\n",
        "#model.add(layers.MaxPooling2D(pool_size=(2, 2), strides = 2))\n"
      ]
    },
    {
      "cell_type": "code",
      "execution_count": 19,
      "metadata": {
        "id": "Ei4IP4imZUCu"
      },
      "outputs": [],
      "source": [
        "# Layer 12\n",
        "#model.add(layers.Dropout(0.2))\n",
        "model.add(layers.Conv2D(256, (1,1), padding='same', name='conv_12'))\n",
        "model.add(LeakyReLU(alpha=0.1))\n",
        "model.add(layers.BatchNormalization(name='norm_12'))\n",
        "#model.add(layers.MaxPooling2D(pool_size=(2, 2), strides = 2))\n",
        "#model.add(layers.Dropout(0.5))\n"
      ]
    },
    {
      "cell_type": "code",
      "execution_count": 20,
      "metadata": {
        "id": "rnsWLnk2ZU_W"
      },
      "outputs": [],
      "source": [
        "# Layer 13\n",
        "model.add(layers.Conv2D(512, (3,3), padding='same', name='conv_13'))\n",
        "model.add(LeakyReLU(alpha=0.1))\n",
        "#model.add(layers.Dropout(0.2))\n",
        "model.add(layers.BatchNormalization(name='norm_13'))\n",
        "model.add(layers.MaxPooling2D(pool_size=(2, 2), strides = 2))\n",
        "model.add(layers.Dropout(0.5))"
      ]
    },
    {
      "cell_type": "code",
      "execution_count": 21,
      "metadata": {
        "id": "m-6JcoCIZXCG"
      },
      "outputs": [],
      "source": [
        "###\n",
        "#model.add(layers.SpatialDropout2D(0.2,data_format='channels_first'))\n",
        "###\n"
      ]
    },
    {
      "cell_type": "code",
      "execution_count": 22,
      "metadata": {
        "id": "fBqexjPlZYB_"
      },
      "outputs": [],
      "source": [
        "# Layer 14\n",
        "#model.add(layers.Dropout(0.2))\n",
        "model.add(layers.Conv2D(1024, (3,3), padding='same', name='conv_14'))\n",
        "model.add(LeakyReLU(alpha=0.1))\n",
        "model.add(layers.BatchNormalization(name='norm_14'))\n",
        "#model.add(layers.MaxPooling2D(pool_size=(2, 2), strides = 2))\n",
        "#model.add(layers.Dropout(0.5))\n"
      ]
    },
    {
      "cell_type": "code",
      "execution_count": 23,
      "metadata": {
        "id": "7LxqSUVpZZHq"
      },
      "outputs": [],
      "source": [
        "# Layer 15\n",
        "model.add(layers.Conv2D(512, (1,1), padding='same', name='conv_15'))\n",
        "model.add(LeakyReLU(alpha=0.1))\n",
        "#model.add(layers.Dropout(0.2))\n",
        "model.add(layers.BatchNormalization(name='norm_15'))\n",
        "#model.add(layers.MaxPooling2D(pool_size=(2, 2), strides = 2))\n"
      ]
    },
    {
      "cell_type": "code",
      "execution_count": 24,
      "metadata": {
        "id": "nBAsdfKfZaNt"
      },
      "outputs": [],
      "source": [
        "# Layer 16\n",
        "#model.add(layers.Dropout(0.2))\n",
        "model.add(layers.Conv2D(1024, (3,3), padding='same', name='conv_16'))\n",
        "model.add(LeakyReLU(alpha=0.1))\n",
        "model.add(layers.BatchNormalization(name='norm_16'))\n",
        "#model.add(layers.MaxPooling2D(pool_size=(2, 2), strides = 2))\n",
        "#model.add(layers.Dropout(0.5))"
      ]
    },
    {
      "cell_type": "code",
      "execution_count": 25,
      "metadata": {
        "id": "W5ijH_nMZcKG"
      },
      "outputs": [],
      "source": [
        "# Layer 17\n",
        "model.add(layers.Conv2D(512, (1,1), padding='same', name='conv_17'))\n",
        "model.add(LeakyReLU(alpha=0.1))\n",
        "#model.add(layers.Dropout(0.2))\n",
        "model.add(layers.BatchNormalization(name='norm_17'))\n",
        "#model.add(layers.MaxPooling2D(pool_size=(2, 2), strides = 2))\n"
      ]
    },
    {
      "cell_type": "code",
      "execution_count": 26,
      "metadata": {
        "id": "efmmvhybZdgd"
      },
      "outputs": [],
      "source": [
        "# Layer 18\n",
        "#model.add(layers.Dropout(0.2))\n",
        "model.add(layers.Conv2D(1024, (3,3), padding='same', name='conv_18'))\n",
        "model.add(LeakyReLU(alpha=0.1))\n",
        "model.add(layers.BatchNormalization(name='norm_18'))\n",
        "#model.add(layers.MaxPooling2D(pool_size=(2, 2), strides = 2))\n",
        "#model.add(layers.Dropout(0.5))\n"
      ]
    },
    {
      "cell_type": "code",
      "execution_count": 27,
      "metadata": {
        "id": "AyqaT5MEZehY"
      },
      "outputs": [],
      "source": [
        "# Layer 19\n",
        "model.add(layers.Conv2D(1024, (1,1), padding='same', name='conv_19'))\n",
        "model.add(LeakyReLU(alpha=0.1))\n",
        "#model.add(layers.Dropout(0.5))\n",
        "model.add(layers.BatchNormalization(name='norm_19'))\n",
        "model.add(layers.MaxPooling2D(pool_size=(1, 1), strides = 2))\n",
        "#model.add(layers.Dropout(0.5))"
      ]
    },
    {
      "cell_type": "code",
      "execution_count": 28,
      "metadata": {
        "id": "bAZwTadiZgRZ"
      },
      "outputs": [],
      "source": [
        "#model.add(layers.Conv2D(5 * (4 + 1 + CLASS), (1,1), strides=(2,2), padding='same', name='conv_semi'))\n",
        "#model.add(LeakyReLU(alpha=0.1))\n",
        "#model.add(layers.SpatialDropout2D(0.2,data_format='channels_first'))\n",
        "#model.add(layers.Dropout(0.5))\n",
        "#model.add(layers.Conv2D(5 * (4 + 1 + CLASS), (1,1), strides=(2,2), padding='same', name='conv_final'))\n",
        "#model.add(layers.Conv2D(3, (3,3), padding='same', name='conv_final'))\n",
        "#model.add(LeakyReLU(alpha=0.1))\n",
        "#model.add(layers.Dropout(0.1))\n"
      ]
    },
    {
      "cell_type": "code",
      "execution_count": 29,
      "metadata": {
        "colab": {
          "base_uri": "https://localhost:8080/"
        },
        "id": "8_jONIoBZhXm",
        "outputId": "a74974fd-5d90-4bc9-cf6c-15c0443f5943"
      },
      "outputs": [
        {
          "output_type": "execute_result",
          "data": {
            "text/plain": [
              "(None, 3)"
            ]
          },
          "metadata": {},
          "execution_count": 29
        }
      ],
      "source": [
        "model.add(layers.GlobalAveragePooling2D())\n",
        "model.add(layers.Flatten())\n",
        "model.add(layers.Dense(1024,model.add(LeakyReLU(alpha=0.1))))\n",
        "model.add(layers.Dropout(0.5))\n",
        "model.add(layers.Dense(1024,model.add(LeakyReLU(alpha=0.1))))\n",
        "model.add(layers.Dense(3,Activation('softmax')))\n",
        "model.output_shape"
      ]
    },
    {
      "cell_type": "code",
      "execution_count": 30,
      "metadata": {
        "id": "iDpUFSaVZigY"
      },
      "outputs": [],
      "source": [
        "output = model.output_shape"
      ]
    },
    {
      "cell_type": "code",
      "execution_count": 31,
      "metadata": {
        "colab": {
          "base_uri": "https://localhost:8080/"
        },
        "id": "qRYlJT_4ZkhM",
        "outputId": "669a8cba-b076-4539-8bff-f20af16ea4ad"
      },
      "outputs": [
        {
          "output_type": "stream",
          "name": "stdout",
          "text": [
            "None\n"
          ]
        }
      ],
      "source": [
        "print(input_Layer)"
      ]
    },
    {
      "cell_type": "code",
      "execution_count": 32,
      "metadata": {
        "id": "1AMvVOzNL8Bw"
      },
      "outputs": [],
      "source": [
        "initial_learning_rate=0.001"
      ]
    },
    {
      "cell_type": "code",
      "execution_count": 33,
      "metadata": {
        "id": "DwCqyvBhLupX"
      },
      "outputs": [],
      "source": [
        "#lr_schedule = ExponentialDecay(\n",
        " #   initial_learning_rate, decay_steps=100000, decay_rate=0.96, staircase=True\n",
        "#)\n"
      ]
    },
    {
      "cell_type": "code",
      "execution_count": 34,
      "metadata": {
        "id": "JdlrgYZwZnEd"
      },
      "outputs": [],
      "source": [
        "opt = Adam(learning_rate=initial_learning_rate)"
      ]
    },
    {
      "cell_type": "code",
      "execution_count": 35,
      "metadata": {
        "id": "oOIL33yEZpPX"
      },
      "outputs": [],
      "source": [
        "model.compile(optimizer=opt, loss=\"sparse_categorical_crossentropy\", metrics=[\"accuracy\"] )"
      ]
    },
    {
      "cell_type": "code",
      "execution_count": 36,
      "metadata": {
        "colab": {
          "base_uri": "https://localhost:8080/"
        },
        "id": "99dNdRxNZqh5",
        "outputId": "ef328073-4a3c-4360-c6ff-cad1cdf4c13c"
      },
      "outputs": [
        {
          "output_type": "stream",
          "name": "stdout",
          "text": [
            "Model: \"sequential\"\n",
            "_________________________________________________________________\n",
            " Layer (type)                Output Shape              Param #   \n",
            "=================================================================\n",
            " input_2 (InputLayer)        multiple                  0         \n",
            "                                                                 \n",
            " conv_1 (Conv2D)             (None, 256, 256, 32)      896       \n",
            "                                                                 \n",
            " leaky_re_lu (LeakyReLU)     (None, 256, 256, 32)      0         \n",
            "                                                                 \n",
            " norm_1 (BatchNormalization)  (None, 256, 256, 32)     128       \n",
            "                                                                 \n",
            " max_pooling2d (MaxPooling2D  (None, 128, 128, 32)     0         \n",
            " )                                                               \n",
            "                                                                 \n",
            " dropout (Dropout)           (None, 128, 128, 32)      0         \n",
            "                                                                 \n",
            " conv_2 (Conv2D)             (None, 128, 128, 64)      18496     \n",
            "                                                                 \n",
            " leaky_re_lu_1 (LeakyReLU)   (None, 128, 128, 64)      0         \n",
            "                                                                 \n",
            " norm_2 (BatchNormalization)  (None, 128, 128, 64)     256       \n",
            "                                                                 \n",
            " max_pooling2d_1 (MaxPooling  (None, 64, 64, 64)       0         \n",
            " 2D)                                                             \n",
            "                                                                 \n",
            " dropout_1 (Dropout)         (None, 64, 64, 64)        0         \n",
            "                                                                 \n",
            " conv_3 (Conv2D)             (None, 64, 64, 128)       73856     \n",
            "                                                                 \n",
            " leaky_re_lu_2 (LeakyReLU)   (None, 64, 64, 128)       0         \n",
            "                                                                 \n",
            " norm_3 (BatchNormalization)  (None, 64, 64, 128)      512       \n",
            "                                                                 \n",
            " conv_4 (Conv2D)             (None, 64, 64, 64)        8256      \n",
            "                                                                 \n",
            " leaky_re_lu_3 (LeakyReLU)   (None, 64, 64, 64)        0         \n",
            "                                                                 \n",
            " norm_4 (BatchNormalization)  (None, 64, 64, 64)       256       \n",
            "                                                                 \n",
            " conv_5 (Conv2D)             (None, 64, 64, 128)       73856     \n",
            "                                                                 \n",
            " leaky_re_lu_4 (LeakyReLU)   (None, 64, 64, 128)       0         \n",
            "                                                                 \n",
            " norm_5 (BatchNormalization)  (None, 64, 64, 128)      512       \n",
            "                                                                 \n",
            " max_pooling2d_2 (MaxPooling  (None, 32, 32, 128)      0         \n",
            " 2D)                                                             \n",
            "                                                                 \n",
            " dropout_2 (Dropout)         (None, 32, 32, 128)       0         \n",
            "                                                                 \n",
            " conv_6 (Conv2D)             (None, 32, 32, 256)       295168    \n",
            "                                                                 \n",
            " leaky_re_lu_5 (LeakyReLU)   (None, 32, 32, 256)       0         \n",
            "                                                                 \n",
            " norm_6 (BatchNormalization)  (None, 32, 32, 256)      1024      \n",
            "                                                                 \n",
            " conv_7 (Conv2D)             (None, 32, 32, 128)       32896     \n",
            "                                                                 \n",
            " leaky_re_lu_6 (LeakyReLU)   (None, 32, 32, 128)       0         \n",
            "                                                                 \n",
            " norm_7 (BatchNormalization)  (None, 32, 32, 128)      512       \n",
            "                                                                 \n",
            " conv_8 (Conv2D)             (None, 32, 32, 256)       295168    \n",
            "                                                                 \n",
            " leaky_re_lu_7 (LeakyReLU)   (None, 32, 32, 256)       0         \n",
            "                                                                 \n",
            " norm_8 (BatchNormalization)  (None, 32, 32, 256)      1024      \n",
            "                                                                 \n",
            " max_pooling2d_3 (MaxPooling  (None, 16, 16, 256)      0         \n",
            " 2D)                                                             \n",
            "                                                                 \n",
            " dropout_3 (Dropout)         (None, 16, 16, 256)       0         \n",
            "                                                                 \n",
            " conv_9 (Conv2D)             (None, 16, 16, 512)       1180160   \n",
            "                                                                 \n",
            " leaky_re_lu_8 (LeakyReLU)   (None, 16, 16, 512)       0         \n",
            "                                                                 \n",
            " norm_9 (BatchNormalization)  (None, 16, 16, 512)      2048      \n",
            "                                                                 \n",
            " conv_10 (Conv2D)            (None, 16, 16, 256)       1179904   \n",
            "                                                                 \n",
            " leaky_re_lu_9 (LeakyReLU)   (None, 16, 16, 256)       0         \n",
            "                                                                 \n",
            " norm_10 (BatchNormalization  (None, 16, 16, 256)      1024      \n",
            " )                                                               \n",
            "                                                                 \n",
            " conv_11 (Conv2D)            (None, 16, 16, 512)       1180160   \n",
            "                                                                 \n",
            " leaky_re_lu_10 (LeakyReLU)  (None, 16, 16, 512)       0         \n",
            "                                                                 \n",
            " norm_11 (BatchNormalization  (None, 16, 16, 512)      2048      \n",
            " )                                                               \n",
            "                                                                 \n",
            " conv_12 (Conv2D)            (None, 16, 16, 256)       131328    \n",
            "                                                                 \n",
            " leaky_re_lu_11 (LeakyReLU)  (None, 16, 16, 256)       0         \n",
            "                                                                 \n",
            " norm_12 (BatchNormalization  (None, 16, 16, 256)      1024      \n",
            " )                                                               \n",
            "                                                                 \n",
            " conv_13 (Conv2D)            (None, 16, 16, 512)       1180160   \n",
            "                                                                 \n",
            " leaky_re_lu_12 (LeakyReLU)  (None, 16, 16, 512)       0         \n",
            "                                                                 \n",
            " norm_13 (BatchNormalization  (None, 16, 16, 512)      2048      \n",
            " )                                                               \n",
            "                                                                 \n",
            " max_pooling2d_4 (MaxPooling  (None, 8, 8, 512)        0         \n",
            " 2D)                                                             \n",
            "                                                                 \n",
            " dropout_4 (Dropout)         (None, 8, 8, 512)         0         \n",
            "                                                                 \n",
            " conv_14 (Conv2D)            (None, 8, 8, 1024)        4719616   \n",
            "                                                                 \n",
            " leaky_re_lu_13 (LeakyReLU)  (None, 8, 8, 1024)        0         \n",
            "                                                                 \n",
            " norm_14 (BatchNormalization  (None, 8, 8, 1024)       4096      \n",
            " )                                                               \n",
            "                                                                 \n",
            " conv_15 (Conv2D)            (None, 8, 8, 512)         524800    \n",
            "                                                                 \n",
            " leaky_re_lu_14 (LeakyReLU)  (None, 8, 8, 512)         0         \n",
            "                                                                 \n",
            " norm_15 (BatchNormalization  (None, 8, 8, 512)        2048      \n",
            " )                                                               \n",
            "                                                                 \n",
            " conv_16 (Conv2D)            (None, 8, 8, 1024)        4719616   \n",
            "                                                                 \n",
            " leaky_re_lu_15 (LeakyReLU)  (None, 8, 8, 1024)        0         \n",
            "                                                                 \n",
            " norm_16 (BatchNormalization  (None, 8, 8, 1024)       4096      \n",
            " )                                                               \n",
            "                                                                 \n",
            " conv_17 (Conv2D)            (None, 8, 8, 512)         524800    \n",
            "                                                                 \n",
            " leaky_re_lu_16 (LeakyReLU)  (None, 8, 8, 512)         0         \n",
            "                                                                 \n",
            " norm_17 (BatchNormalization  (None, 8, 8, 512)        2048      \n",
            " )                                                               \n",
            "                                                                 \n",
            " conv_18 (Conv2D)            (None, 8, 8, 1024)        4719616   \n",
            "                                                                 \n",
            " leaky_re_lu_17 (LeakyReLU)  (None, 8, 8, 1024)        0         \n",
            "                                                                 \n",
            " norm_18 (BatchNormalization  (None, 8, 8, 1024)       4096      \n",
            " )                                                               \n",
            "                                                                 \n",
            " conv_19 (Conv2D)            (None, 8, 8, 1024)        1049600   \n",
            "                                                                 \n",
            " leaky_re_lu_18 (LeakyReLU)  (None, 8, 8, 1024)        0         \n",
            "                                                                 \n",
            " norm_19 (BatchNormalization  (None, 8, 8, 1024)       4096      \n",
            " )                                                               \n",
            "                                                                 \n",
            " max_pooling2d_5 (MaxPooling  (None, 4, 4, 1024)       0         \n",
            " 2D)                                                             \n",
            "                                                                 \n",
            " global_average_pooling2d (G  (None, 1024)             0         \n",
            " lobalAveragePooling2D)                                          \n",
            "                                                                 \n",
            " flatten (Flatten)           (None, 1024)              0         \n",
            "                                                                 \n",
            " leaky_re_lu_19 (LeakyReLU)  (None, 1024)              0         \n",
            "                                                                 \n",
            " dense (Dense)               (None, 1024)              1049600   \n",
            "                                                                 \n",
            " dropout_5 (Dropout)         (None, 1024)              0         \n",
            "                                                                 \n",
            " leaky_re_lu_20 (LeakyReLU)  (None, 1024)              0         \n",
            "                                                                 \n",
            " dense_1 (Dense)             (None, 1024)              1049600   \n",
            "                                                                 \n",
            " dense_2 (Dense)             (None, 3)                 3075      \n",
            "                                                                 \n",
            "=================================================================\n",
            "Total params: 24,043,523\n",
            "Trainable params: 24,027,075\n",
            "Non-trainable params: 16,448\n",
            "_________________________________________________________________\n",
            "None\n",
            "<keras.engine.sequential.Sequential object at 0x7fdd66e34b50>\n"
          ]
        }
      ],
      "source": [
        "print(model.summary())\n",
        "print(model)"
      ]
    },
    {
      "cell_type": "code",
      "execution_count": 37,
      "metadata": {
        "colab": {
          "base_uri": "https://localhost:8080/"
        },
        "id": "4D7vwEPrZrlg",
        "outputId": "ff221ae8-ee56-4760-aa8c-58b3e9816ec7"
      },
      "outputs": [
        {
          "output_type": "stream",
          "name": "stdout",
          "text": [
            "Found 1890 images belonging to 3 classes.\n",
            "Found 405 images belonging to 3 classes.\n",
            "Found 405 images belonging to 3 classes.\n"
          ]
        }
      ],
      "source": [
        "train_batches = ImageDataGenerator().flow_from_directory(train_path, target_size=(256,256), classes=['covid', 'normal', 'pneumonia'], class_mode = 'sparse', batch_size = 32)\n",
        "valid_batches = ImageDataGenerator().flow_from_directory(valid_path, target_size=(256,256), classes=['covid', 'normal', 'pneumonia'], class_mode = 'sparse', batch_size = 32)\n",
        "test_batches = ImageDataGenerator().flow_from_directory(test_path, target_size=(256,256), classes=['covid', 'normal', 'pneumonia'], class_mode = 'sparse', batch_size = 32)"
      ]
    },
    {
      "cell_type": "code",
      "execution_count": 38,
      "metadata": {
        "id": "dxVULVY-ZxNZ"
      },
      "outputs": [],
      "source": [
        "number_of_examples = len(train_batches.filenames)\n",
        "number_of_generator_calls = math.ceil(number_of_examples / (1.0 *10)) "
      ]
    },
    {
      "cell_type": "code",
      "execution_count": 39,
      "metadata": {
        "id": "zpRG5cLBZzmn"
      },
      "outputs": [],
      "source": [
        "train_labels = []"
      ]
    },
    {
      "cell_type": "code",
      "execution_count": 40,
      "metadata": {
        "colab": {
          "base_uri": "https://localhost:8080/"
        },
        "id": "1lMRQNdnZ1Nt",
        "outputId": "d67a2385-a937-4e68-d6ce-5b488bfbe5ca"
      },
      "outputs": [
        {
          "output_type": "stream",
          "name": "stdout",
          "text": [
            "[1.0, 0.0, 2.0, 0.0, 2.0, 1.0, 0.0, 0.0, 2.0, 1.0, 1.0, 0.0, 0.0, 0.0, 0.0, 2.0, 1.0, 1.0, 2.0, 0.0, 1.0, 2.0, 2.0, 0.0, 2.0, 0.0, 1.0, 1.0, 1.0, 2.0, 0.0, 0.0]\n"
          ]
        }
      ],
      "source": [
        "for i in range(0,int(number_of_generator_calls)):\n",
        "    train_labels.extend(np.array(train_batches[i][1]))\n",
        "    print(train_labels)\n",
        "    break"
      ]
    },
    {
      "cell_type": "code",
      "execution_count": 41,
      "metadata": {
        "colab": {
          "base_uri": "https://localhost:8080/"
        },
        "id": "pieZ4k-ZZ2WT",
        "outputId": "771f3dbf-2d8a-4abb-90bd-5a0be3dfafea"
      },
      "outputs": [
        {
          "output_type": "stream",
          "name": "stdout",
          "text": [
            "Epoch 1/100\n",
            "60/60 - 757s - loss: 0.7632 - accuracy: 0.7418 - val_loss: 15.3613 - val_accuracy: 0.3938 - 757s/epoch - 13s/step\n",
            "Epoch 2/100\n",
            "60/60 - 48s - loss: 0.3286 - accuracy: 0.8926 - val_loss: 42.2968 - val_accuracy: 0.3406 - 48s/epoch - 795ms/step\n",
            "Epoch 3/100\n",
            "60/60 - 28s - loss: 0.2492 - accuracy: 0.9206 - val_loss: 2.2434 - val_accuracy: 0.7312 - 28s/epoch - 468ms/step\n",
            "Epoch 4/100\n",
            "60/60 - 26s - loss: 0.2858 - accuracy: 0.9042 - val_loss: 8.4015 - val_accuracy: 0.5031 - 26s/epoch - 438ms/step\n",
            "Epoch 5/100\n",
            "60/60 - 26s - loss: 0.2620 - accuracy: 0.9122 - val_loss: 6.3590 - val_accuracy: 0.3281 - 26s/epoch - 428ms/step\n",
            "Epoch 6/100\n",
            "60/60 - 25s - loss: 0.1768 - accuracy: 0.9466 - val_loss: 2.0097 - val_accuracy: 0.6125 - 25s/epoch - 424ms/step\n",
            "Epoch 7/100\n",
            "60/60 - 26s - loss: 0.2139 - accuracy: 0.9286 - val_loss: 0.8169 - val_accuracy: 0.8094 - 26s/epoch - 426ms/step\n",
            "Epoch 8/100\n",
            "60/60 - 26s - loss: 0.1624 - accuracy: 0.9444 - val_loss: 0.6555 - val_accuracy: 0.8594 - 26s/epoch - 426ms/step\n",
            "Epoch 9/100\n",
            "60/60 - 25s - loss: 0.1552 - accuracy: 0.9534 - val_loss: 2.1864 - val_accuracy: 0.5344 - 25s/epoch - 424ms/step\n",
            "Epoch 10/100\n",
            "60/60 - 25s - loss: 0.1378 - accuracy: 0.9513 - val_loss: 0.9387 - val_accuracy: 0.6656 - 25s/epoch - 424ms/step\n",
            "Epoch 11/100\n",
            "60/60 - 25s - loss: 0.0938 - accuracy: 0.9661 - val_loss: 0.3969 - val_accuracy: 0.8750 - 25s/epoch - 425ms/step\n",
            "Epoch 12/100\n",
            "60/60 - 25s - loss: 0.0911 - accuracy: 0.9720 - val_loss: 1.1559 - val_accuracy: 0.5875 - 25s/epoch - 425ms/step\n",
            "Epoch 13/100\n",
            "60/60 - 26s - loss: 0.2018 - accuracy: 0.9386 - val_loss: 4.0163 - val_accuracy: 0.5406 - 26s/epoch - 426ms/step\n",
            "Epoch 14/100\n",
            "60/60 - 25s - loss: 0.1452 - accuracy: 0.9529 - val_loss: 0.7498 - val_accuracy: 0.7937 - 25s/epoch - 421ms/step\n",
            "Epoch 15/100\n",
            "60/60 - 26s - loss: 0.1222 - accuracy: 0.9640 - val_loss: 0.4685 - val_accuracy: 0.8344 - 26s/epoch - 427ms/step\n",
            "Epoch 16/100\n",
            "60/60 - 26s - loss: 0.1327 - accuracy: 0.9624 - val_loss: 3.5208 - val_accuracy: 0.6125 - 26s/epoch - 426ms/step\n",
            "Epoch 17/100\n",
            "60/60 - 25s - loss: 0.0934 - accuracy: 0.9725 - val_loss: 1.0821 - val_accuracy: 0.7031 - 25s/epoch - 424ms/step\n",
            "Epoch 18/100\n",
            "60/60 - 25s - loss: 0.1348 - accuracy: 0.9582 - val_loss: 0.5453 - val_accuracy: 0.8031 - 25s/epoch - 424ms/step\n",
            "Epoch 19/100\n",
            "60/60 - 25s - loss: 0.0981 - accuracy: 0.9683 - val_loss: 0.6385 - val_accuracy: 0.7656 - 25s/epoch - 421ms/step\n",
            "Epoch 20/100\n",
            "60/60 - 25s - loss: 0.0686 - accuracy: 0.9794 - val_loss: 0.2456 - val_accuracy: 0.9219 - 25s/epoch - 423ms/step\n",
            "Epoch 21/100\n",
            "60/60 - 25s - loss: 0.0731 - accuracy: 0.9762 - val_loss: 0.5587 - val_accuracy: 0.7906 - 25s/epoch - 421ms/step\n",
            "Epoch 22/100\n",
            "60/60 - 25s - loss: 0.1247 - accuracy: 0.9550 - val_loss: 0.1696 - val_accuracy: 0.9500 - 25s/epoch - 422ms/step\n",
            "Epoch 23/100\n",
            "60/60 - 25s - loss: 0.0856 - accuracy: 0.9772 - val_loss: 2.0464 - val_accuracy: 0.5406 - 25s/epoch - 423ms/step\n",
            "Epoch 24/100\n",
            "60/60 - 25s - loss: 0.0937 - accuracy: 0.9704 - val_loss: 0.1665 - val_accuracy: 0.9531 - 25s/epoch - 423ms/step\n",
            "Epoch 25/100\n",
            "60/60 - 25s - loss: 0.0565 - accuracy: 0.9778 - val_loss: 0.4807 - val_accuracy: 0.8594 - 25s/epoch - 421ms/step\n",
            "Epoch 26/100\n",
            "60/60 - 25s - loss: 0.0731 - accuracy: 0.9778 - val_loss: 0.8262 - val_accuracy: 0.7625 - 25s/epoch - 420ms/step\n",
            "Epoch 27/100\n",
            "60/60 - 25s - loss: 0.0649 - accuracy: 0.9794 - val_loss: 0.8228 - val_accuracy: 0.7844 - 25s/epoch - 419ms/step\n",
            "Epoch 28/100\n",
            "60/60 - 25s - loss: 0.0498 - accuracy: 0.9831 - val_loss: 0.1978 - val_accuracy: 0.9156 - 25s/epoch - 423ms/step\n",
            "Epoch 29/100\n",
            "60/60 - 25s - loss: 0.0459 - accuracy: 0.9841 - val_loss: 0.2616 - val_accuracy: 0.9250 - 25s/epoch - 420ms/step\n",
            "Epoch 30/100\n",
            "60/60 - 25s - loss: 0.0466 - accuracy: 0.9847 - val_loss: 2.6406 - val_accuracy: 0.5813 - 25s/epoch - 420ms/step\n",
            "Epoch 31/100\n",
            "60/60 - 25s - loss: 0.0721 - accuracy: 0.9746 - val_loss: 2.4204 - val_accuracy: 0.5938 - 25s/epoch - 421ms/step\n",
            "Epoch 32/100\n",
            "60/60 - 25s - loss: 0.0958 - accuracy: 0.9656 - val_loss: 0.2615 - val_accuracy: 0.9375 - 25s/epoch - 420ms/step\n",
            "Epoch 33/100\n",
            "60/60 - 25s - loss: 0.0762 - accuracy: 0.9778 - val_loss: 1.3062 - val_accuracy: 0.7250 - 25s/epoch - 419ms/step\n",
            "Epoch 34/100\n",
            "60/60 - 25s - loss: 0.1219 - accuracy: 0.9603 - val_loss: 12.4304 - val_accuracy: 0.3750 - 25s/epoch - 421ms/step\n",
            "Epoch 35/100\n",
            "60/60 - 25s - loss: 0.0789 - accuracy: 0.9788 - val_loss: 1.4462 - val_accuracy: 0.7094 - 25s/epoch - 421ms/step\n",
            "Epoch 36/100\n",
            "60/60 - 25s - loss: 0.0403 - accuracy: 0.9868 - val_loss: 1.2079 - val_accuracy: 0.7750 - 25s/epoch - 422ms/step\n",
            "Epoch 37/100\n",
            "60/60 - 25s - loss: 0.1162 - accuracy: 0.9656 - val_loss: 0.9328 - val_accuracy: 0.7625 - 25s/epoch - 423ms/step\n",
            "Epoch 38/100\n",
            "60/60 - 26s - loss: 0.1107 - accuracy: 0.9683 - val_loss: 0.9969 - val_accuracy: 0.8625 - 26s/epoch - 433ms/step\n",
            "Epoch 39/100\n",
            "60/60 - 26s - loss: 0.1227 - accuracy: 0.9614 - val_loss: 0.9905 - val_accuracy: 0.7563 - 26s/epoch - 432ms/step\n",
            "Epoch 40/100\n",
            "60/60 - 26s - loss: 0.0706 - accuracy: 0.9788 - val_loss: 1.4172 - val_accuracy: 0.6187 - 26s/epoch - 435ms/step\n",
            "Epoch 41/100\n",
            "60/60 - 27s - loss: 0.2801 - accuracy: 0.9095 - val_loss: 0.1311 - val_accuracy: 0.9625 - 27s/epoch - 446ms/step\n",
            "Epoch 42/100\n",
            "60/60 - 27s - loss: 0.1410 - accuracy: 0.9577 - val_loss: 1.7792 - val_accuracy: 0.5813 - 27s/epoch - 444ms/step\n",
            "Epoch 43/100\n",
            "60/60 - 27s - loss: 0.0827 - accuracy: 0.9741 - val_loss: 0.3814 - val_accuracy: 0.8656 - 27s/epoch - 443ms/step\n",
            "Epoch 44/100\n",
            "60/60 - 27s - loss: 0.1364 - accuracy: 0.9529 - val_loss: 0.9851 - val_accuracy: 0.7656 - 27s/epoch - 444ms/step\n",
            "Epoch 45/100\n",
            "60/60 - 26s - loss: 0.0798 - accuracy: 0.9730 - val_loss: 0.0908 - val_accuracy: 0.9625 - 26s/epoch - 439ms/step\n",
            "Epoch 46/100\n",
            "60/60 - 26s - loss: 0.0682 - accuracy: 0.9772 - val_loss: 0.6546 - val_accuracy: 0.8125 - 26s/epoch - 439ms/step\n",
            "Epoch 47/100\n",
            "60/60 - 26s - loss: 0.0436 - accuracy: 0.9857 - val_loss: 0.1608 - val_accuracy: 0.9406 - 26s/epoch - 438ms/step\n",
            "Epoch 48/100\n",
            "60/60 - 27s - loss: 0.0337 - accuracy: 0.9868 - val_loss: 1.1552 - val_accuracy: 0.7156 - 27s/epoch - 443ms/step\n",
            "Epoch 49/100\n",
            "60/60 - 27s - loss: 0.0275 - accuracy: 0.9910 - val_loss: 0.3694 - val_accuracy: 0.9094 - 27s/epoch - 446ms/step\n",
            "Epoch 50/100\n",
            "60/60 - 26s - loss: 0.0799 - accuracy: 0.9741 - val_loss: 0.3195 - val_accuracy: 0.9062 - 26s/epoch - 442ms/step\n",
            "Epoch 51/100\n",
            "60/60 - 27s - loss: 0.0332 - accuracy: 0.9899 - val_loss: 0.6809 - val_accuracy: 0.8188 - 27s/epoch - 443ms/step\n",
            "Epoch 52/100\n",
            "60/60 - 27s - loss: 0.0319 - accuracy: 0.9899 - val_loss: 0.5989 - val_accuracy: 0.8687 - 27s/epoch - 445ms/step\n",
            "Epoch 53/100\n",
            "60/60 - 26s - loss: 0.0228 - accuracy: 0.9905 - val_loss: 0.7602 - val_accuracy: 0.8125 - 26s/epoch - 440ms/step\n",
            "Epoch 54/100\n",
            "60/60 - 27s - loss: 0.0421 - accuracy: 0.9847 - val_loss: 0.2364 - val_accuracy: 0.9187 - 27s/epoch - 446ms/step\n",
            "Epoch 55/100\n",
            "60/60 - 27s - loss: 0.0861 - accuracy: 0.9741 - val_loss: 0.7941 - val_accuracy: 0.8844 - 27s/epoch - 446ms/step\n",
            "Epoch 56/100\n",
            "60/60 - 27s - loss: 0.1176 - accuracy: 0.9635 - val_loss: 0.1723 - val_accuracy: 0.9625 - 27s/epoch - 449ms/step\n",
            "Epoch 57/100\n",
            "60/60 - 27s - loss: 0.0656 - accuracy: 0.9794 - val_loss: 0.2071 - val_accuracy: 0.9219 - 27s/epoch - 444ms/step\n",
            "Epoch 58/100\n",
            "60/60 - 27s - loss: 0.1810 - accuracy: 0.9487 - val_loss: 3.3859 - val_accuracy: 0.6687 - 27s/epoch - 443ms/step\n",
            "Epoch 59/100\n",
            "60/60 - 26s - loss: 0.0542 - accuracy: 0.9810 - val_loss: 0.8849 - val_accuracy: 0.7937 - 26s/epoch - 441ms/step\n",
            "Epoch 60/100\n",
            "60/60 - 26s - loss: 0.0906 - accuracy: 0.9725 - val_loss: 0.4840 - val_accuracy: 0.8750 - 26s/epoch - 441ms/step\n",
            "Epoch 61/100\n",
            "60/60 - 26s - loss: 0.0718 - accuracy: 0.9767 - val_loss: 0.1918 - val_accuracy: 0.9406 - 26s/epoch - 439ms/step\n",
            "Epoch 62/100\n",
            "60/60 - 26s - loss: 0.0362 - accuracy: 0.9862 - val_loss: 0.0990 - val_accuracy: 0.9719 - 26s/epoch - 437ms/step\n",
            "Epoch 63/100\n",
            "60/60 - 25s - loss: 0.0550 - accuracy: 0.9831 - val_loss: 0.6257 - val_accuracy: 0.8188 - 25s/epoch - 423ms/step\n",
            "Epoch 64/100\n",
            "60/60 - 24s - loss: 0.0608 - accuracy: 0.9810 - val_loss: 0.6821 - val_accuracy: 0.8250 - 24s/epoch - 406ms/step\n",
            "Epoch 65/100\n",
            "60/60 - 29s - loss: 0.0211 - accuracy: 0.9926 - val_loss: 0.2803 - val_accuracy: 0.9312 - 29s/epoch - 481ms/step\n",
            "Epoch 66/100\n",
            "60/60 - 25s - loss: 0.0151 - accuracy: 0.9958 - val_loss: 0.1464 - val_accuracy: 0.9531 - 25s/epoch - 420ms/step\n",
            "Epoch 67/100\n",
            "60/60 - 25s - loss: 0.0238 - accuracy: 0.9899 - val_loss: 0.3936 - val_accuracy: 0.8156 - 25s/epoch - 422ms/step\n",
            "Epoch 68/100\n",
            "60/60 - 25s - loss: 0.2180 - accuracy: 0.9354 - val_loss: 0.2745 - val_accuracy: 0.9438 - 25s/epoch - 418ms/step\n",
            "Epoch 69/100\n",
            "60/60 - 25s - loss: 0.1050 - accuracy: 0.9725 - val_loss: 1.9121 - val_accuracy: 0.5500 - 25s/epoch - 416ms/step\n",
            "Epoch 70/100\n",
            "60/60 - 25s - loss: 0.0778 - accuracy: 0.9762 - val_loss: 0.5142 - val_accuracy: 0.8969 - 25s/epoch - 419ms/step\n",
            "Epoch 71/100\n",
            "60/60 - 25s - loss: 0.1341 - accuracy: 0.9571 - val_loss: 4.9318 - val_accuracy: 0.6094 - 25s/epoch - 419ms/step\n",
            "Epoch 72/100\n",
            "60/60 - 25s - loss: 0.1151 - accuracy: 0.9635 - val_loss: 1.9885 - val_accuracy: 0.6906 - 25s/epoch - 420ms/step\n",
            "Epoch 73/100\n",
            "60/60 - 25s - loss: 0.2210 - accuracy: 0.9222 - val_loss: 2.5955 - val_accuracy: 0.6313 - 25s/epoch - 423ms/step\n",
            "Epoch 74/100\n",
            "60/60 - 26s - loss: 0.1084 - accuracy: 0.9683 - val_loss: 0.3587 - val_accuracy: 0.8875 - 26s/epoch - 432ms/step\n",
            "Epoch 75/100\n",
            "60/60 - 26s - loss: 0.1124 - accuracy: 0.9577 - val_loss: 1.2323 - val_accuracy: 0.6625 - 26s/epoch - 440ms/step\n",
            "Epoch 76/100\n",
            "60/60 - 26s - loss: 0.0774 - accuracy: 0.9725 - val_loss: 0.5143 - val_accuracy: 0.8281 - 26s/epoch - 440ms/step\n",
            "Epoch 77/100\n",
            "60/60 - 26s - loss: 0.1934 - accuracy: 0.9392 - val_loss: 1.3802 - val_accuracy: 0.7281 - 26s/epoch - 436ms/step\n",
            "Epoch 78/100\n",
            "60/60 - 26s - loss: 0.0937 - accuracy: 0.9667 - val_loss: 0.7013 - val_accuracy: 0.7906 - 26s/epoch - 437ms/step\n",
            "Epoch 79/100\n",
            "60/60 - 26s - loss: 0.0636 - accuracy: 0.9820 - val_loss: 0.2945 - val_accuracy: 0.8969 - 26s/epoch - 434ms/step\n",
            "Epoch 80/100\n",
            "60/60 - 26s - loss: 0.0541 - accuracy: 0.9831 - val_loss: 0.4269 - val_accuracy: 0.8656 - 26s/epoch - 435ms/step\n",
            "Epoch 81/100\n",
            "60/60 - 26s - loss: 0.0523 - accuracy: 0.9820 - val_loss: 0.7252 - val_accuracy: 0.8094 - 26s/epoch - 435ms/step\n",
            "Epoch 82/100\n",
            "60/60 - 26s - loss: 0.0386 - accuracy: 0.9878 - val_loss: 0.6173 - val_accuracy: 0.8500 - 26s/epoch - 439ms/step\n",
            "Epoch 83/100\n",
            "60/60 - 26s - loss: 0.0291 - accuracy: 0.9884 - val_loss: 0.1918 - val_accuracy: 0.9500 - 26s/epoch - 436ms/step\n",
            "Epoch 84/100\n",
            "60/60 - 26s - loss: 0.0385 - accuracy: 0.9889 - val_loss: 0.3356 - val_accuracy: 0.8938 - 26s/epoch - 435ms/step\n",
            "Epoch 85/100\n",
            "60/60 - 26s - loss: 0.0349 - accuracy: 0.9905 - val_loss: 0.7382 - val_accuracy: 0.8125 - 26s/epoch - 436ms/step\n",
            "Epoch 86/100\n",
            "60/60 - 26s - loss: 0.0421 - accuracy: 0.9857 - val_loss: 0.2223 - val_accuracy: 0.9250 - 26s/epoch - 437ms/step\n",
            "Epoch 87/100\n",
            "60/60 - 26s - loss: 0.0279 - accuracy: 0.9910 - val_loss: 0.1580 - val_accuracy: 0.9656 - 26s/epoch - 435ms/step\n",
            "Epoch 88/100\n",
            "60/60 - 26s - loss: 0.0370 - accuracy: 0.9894 - val_loss: 0.9512 - val_accuracy: 0.7750 - 26s/epoch - 437ms/step\n",
            "Epoch 89/100\n",
            "60/60 - 26s - loss: 0.0099 - accuracy: 0.9952 - val_loss: 0.4208 - val_accuracy: 0.9031 - 26s/epoch - 438ms/step\n",
            "Epoch 90/100\n",
            "60/60 - 26s - loss: 0.1175 - accuracy: 0.9619 - val_loss: 0.6474 - val_accuracy: 0.8625 - 26s/epoch - 436ms/step\n",
            "Epoch 91/100\n",
            "60/60 - 26s - loss: 0.0856 - accuracy: 0.9778 - val_loss: 1.4090 - val_accuracy: 0.7781 - 26s/epoch - 439ms/step\n",
            "Epoch 92/100\n",
            "60/60 - 26s - loss: 0.0302 - accuracy: 0.9921 - val_loss: 0.1092 - val_accuracy: 0.9719 - 26s/epoch - 437ms/step\n",
            "Epoch 93/100\n",
            "60/60 - 26s - loss: 0.0272 - accuracy: 0.9873 - val_loss: 0.4788 - val_accuracy: 0.8719 - 26s/epoch - 436ms/step\n",
            "Epoch 94/100\n",
            "60/60 - 26s - loss: 0.0126 - accuracy: 0.9958 - val_loss: 0.5559 - val_accuracy: 0.8656 - 26s/epoch - 438ms/step\n",
            "Epoch 95/100\n",
            "60/60 - 26s - loss: 0.0076 - accuracy: 0.9974 - val_loss: 0.6188 - val_accuracy: 0.8250 - 26s/epoch - 437ms/step\n",
            "Epoch 96/100\n",
            "60/60 - 26s - loss: 0.2746 - accuracy: 0.9143 - val_loss: 4.2133 - val_accuracy: 0.4125 - 26s/epoch - 435ms/step\n",
            "Epoch 97/100\n",
            "60/60 - 26s - loss: 0.1264 - accuracy: 0.9598 - val_loss: 0.8316 - val_accuracy: 0.7406 - 26s/epoch - 436ms/step\n",
            "Epoch 98/100\n",
            "60/60 - 26s - loss: 0.0792 - accuracy: 0.9735 - val_loss: 0.2879 - val_accuracy: 0.9094 - 26s/epoch - 435ms/step\n",
            "Epoch 99/100\n",
            "60/60 - 26s - loss: 0.0713 - accuracy: 0.9788 - val_loss: 1.2492 - val_accuracy: 0.6812 - 26s/epoch - 436ms/step\n",
            "Epoch 100/100\n",
            "60/60 - 26s - loss: 0.0462 - accuracy: 0.9852 - val_loss: 0.3907 - val_accuracy: 0.8781 - 26s/epoch - 433ms/step\n"
          ]
        }
      ],
      "source": [
        "history = model.fit(train_batches, \n",
        "                    validation_data=valid_batches,\n",
        "                    validation_steps=10, \n",
        "                    epochs=100, \n",
        "                    verbose=2)"
      ]
    },
    {
      "cell_type": "code",
      "execution_count": 42,
      "metadata": {
        "id": "1wZ_E5wMZ4U1",
        "colab": {
          "base_uri": "https://localhost:8080/"
        },
        "outputId": "5fb219fb-3c19-4401-e27d-b83b339e0d03"
      },
      "outputs": [
        {
          "output_type": "stream",
          "name": "stdout",
          "text": [
            "13/13 [==============================] - 180s 15s/step - loss: 0.4479 - accuracy: 0.8667\n"
          ]
        },
        {
          "output_type": "execute_result",
          "data": {
            "text/plain": [
              "[0.44792020320892334, 0.8666666746139526]"
            ]
          },
          "metadata": {},
          "execution_count": 42
        }
      ],
      "source": [
        "model.evaluate(test_batches)"
      ]
    },
    {
      "cell_type": "code",
      "execution_count": 43,
      "metadata": {
        "id": "QSHnB-pOZ8Q0",
        "colab": {
          "base_uri": "https://localhost:8080/",
          "height": 573
        },
        "outputId": "f4e12d9f-bf7a-40da-c141-9f78551d2c6a"
      },
      "outputs": [
        {
          "output_type": "display_data",
          "data": {
            "image/png": "[encoded data removed]",
            "text/plain": [
              "<Figure size 432x288 with 1 Axes>"
            ]
          },
          "metadata": {
            "needs_background": "light"
          }
        },
        {
          "output_type": "display_data",
          "data": {
            "image/png": "[encoded data removed]",
            "text/plain": [
              "<Figure size 432x288 with 1 Axes>"
            ]
          },
          "metadata": {
            "needs_background": "light"
          }
        }
      ],
      "source": [
        "# summarize history for loss\n",
        "plt.plot(history.history['loss'])\n",
        "plt.plot(history.history['val_loss'])\n",
        "plt.title('Suddend Death model loss')\n",
        "plt.ylabel('loss')\n",
        "plt.xlabel('epoch')\n",
        "plt.legend(['train', 'valid'], loc='upper left')\n",
        "plt.show()# \n",
        "# summarize history for accuracy\n",
        "plt.plot(history.history['accuracy'])\n",
        "plt.plot(history.history['val_accuracy'])\n",
        "plt.title('Suddend Death model accuracy')\n",
        "plt.ylabel('accuracy')\n",
        "plt.xlabel('epoch')\n",
        "plt.legend(['train', 'valid'], loc='upper left')\n",
        "plt.show()"
      ]
    },
    {
      "cell_type": "code",
      "execution_count": 43,
      "metadata": {
        "id": "-idlvxA4Z5ac"
      },
      "outputs": [],
      "source": [
        ""
      ]
    }
  ],
  "metadata": {
    "accelerator": "GPU",
    "colab": {
      "collapsed_sections": [],
      "name": "Bismillahirrahmanirrahim_v1.1.ipynb",
      "provenance": [],
      "machine_shape": "hm",
      "include_colab_link": true
    },
    "kernelspec": {
      "display_name": "Python 3",
      "name": "python3"
    },
    "language_info": {
      "name": "python"
    }
  },
  "nbformat": 4,
  "nbformat_minor": 0
}