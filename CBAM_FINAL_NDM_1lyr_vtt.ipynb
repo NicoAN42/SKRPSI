{
  "cells": [
    {
      "cell_type": "markdown",
      "metadata": {
        "id": "view-in-github",
        "colab_type": "text"
      },
      "source": [
        "<a href=\"https://colab.research.google.com/github/NicoAN42/SKRPSI/blob/main/CBAM_FINAL_NDM_1lyr_vtt.ipynb\" target=\"_parent\"><img src=\"https://colab.research.google.com/assets/colab-badge.svg\" alt=\"Open In Colab\"/></a>"
      ]
    },
    {
      "cell_type": "code",
      "execution_count": 29,
      "metadata": {
        "colab": {
          "base_uri": "https://localhost:8080/"
        },
        "id": "bd3mi5ZLdBSv",
        "outputId": "25bacff7-03e5-43a3-ec4a-0fe9cc2d5e70"
      },
      "outputs": [
        {
          "output_type": "stream",
          "name": "stdout",
          "text": [
            "Drive already mounted at /content/drive; to attempt to forcibly remount, call drive.mount(\"/content/drive\", force_remount=True).\n"
          ]
        }
      ],
      "source": [
        "#mount dataset\n",
        "from google.colab import drive\n",
        "drive.mount('/content/drive')\n"
      ]
    },
    {
      "cell_type": "code",
      "execution_count": 30,
      "metadata": {
        "id": "mNr5eLs1WiKT"
      },
      "outputs": [],
      "source": [
        "from tensorflow.keras.layers import Conv2D, Input, concatenate, Activation, InputLayer, Dense, Reshape, Flatten, Add, multiply, Permute, Lambda, Concatenate\n",
        "from tensorflow.keras.layers import LeakyReLU,ReLU, MaxPooling2D, BatchNormalization,GlobalMaxPooling2D,GlobalAveragePooling2D\n",
        "from tensorflow.keras.models import Model, Sequential\n",
        "from tensorflow.keras import layers\n",
        "from tensorflow.keras.activations import softmax,sigmoid\n",
        "from tensorflow.keras.preprocessing.image import ImageDataGenerator\n",
        "from tensorflow.keras.optimizers import Adam, Nadam\n",
        "from tensorflow.keras.callbacks import EarlyStopping\n",
        "from tensorflow.keras.layers import Dropout,SpatialDropout2D,GaussianDropout\n",
        "from tensorflow.keras.optimizers.schedules import ExponentialDecay\n",
        "from tensorflow.keras.regularizers import l1,l2\n",
        "from tensorflow.keras import backend as K\n",
        "from __future__ import absolute_import\n",
        "from __future__ import division\n",
        "from __future__ import print_function\n",
        "import tensorflow\n",
        "import tensorflow as tf\n",
        "import math\n",
        "import matplotlib.pyplot as plt\n",
        "import numpy as np\n",
        "from sklearn.metrics import accuracy_score, f1_score, precision_score, confusion_matrix, recall_score\n",
        "from sklearn.model_selection import StratifiedKFold\n",
        "import os\n",
        "import random\n",
        "import shutil"
      ]
    },
    {
      "cell_type": "code",
      "execution_count": 31,
      "metadata": {
        "id": "M-dUDyotW99U"
      },
      "outputs": [],
      "source": [
        "#from tensorflow.keras.optimizers import SGD"
      ]
    },
    {
      "cell_type": "code",
      "execution_count": 32,
      "metadata": {
        "id": "1SKzQPoLeGUS"
      },
      "outputs": [],
      "source": [
        "CLASS = 3\n",
        "#sourcepath isi semua data train, folder valid kosongin datanya sisai folder classnya\n",
        "sourcePath = '/content/drive/MyDrive/Colab Notebooks/Dataset 090'\n",
        "train_path = '/content/drive/MyDrive/Colab Notebooks/Dataset 090/train'\n",
        "valid_path = '/content/drive/MyDrive/Colab Notebooks/Dataset 090/valid'\n",
        "test_path = '/content/drive/MyDrive/Colab Notebooks/Dataset 090/test'\n",
        "attention_module = 'cbam_block'\n",
        "#nico"
      ]
    },
    {
      "cell_type": "code",
      "execution_count": 33,
      "metadata": {
        "id": "qyuRvIz9mFu_"
      },
      "outputs": [],
      "source": [
        "classLabels =['covid','normal', 'pneumonia']"
      ]
    },
    {
      "cell_type": "code",
      "execution_count": 34,
      "metadata": {
        "id": "IiymK5QRgQVC"
      },
      "outputs": [],
      "source": [
        "def attach_attention_module(net, attention_module):\n",
        "  #if attention_module == 'se_block': # SE_block\n",
        "    #net = se_block(net)\n",
        "  if attention_module == 'cbam_block': # CBAM_block\n",
        "    net = cbam_block(net)\n",
        "  else:\n",
        "    raise Exception(\"'{}' is not supported attention module!\".format(attention_module))\n",
        "\n",
        "  return net"
      ]
    },
    {
      "cell_type": "code",
      "execution_count": 35,
      "metadata": {
        "id": "4E-9i3yHgQX8"
      },
      "outputs": [],
      "source": [
        "def cbam_block(cbam_feature, ratio=8):\n",
        "\t\"\"\"Contains the implementation of Convolutional Block Attention Module(CBAM) block.\n",
        "\tAs described in https://arxiv.org/abs/1807.06521.\n",
        "\t\"\"\"\n",
        "\t\n",
        "\tcbam_feature = channel_attention(cbam_feature, ratio)\n",
        "\tcbam_feature = spatial_attention(cbam_feature)\n",
        "\treturn cbam_feature\n"
      ]
    },
    {
      "cell_type": "code",
      "execution_count": 36,
      "metadata": {
        "id": "doOnf8U9YBM-"
      },
      "outputs": [],
      "source": [
        "def channel_attention(input_feature, ratio=8):\n",
        "\t\n",
        "\tchannel_axis = 1 if K.image_data_format() == \"channels_first\" else -1\n",
        "\tchannel = input_feature.shape[channel_axis]\n",
        "\t\n",
        "\tshared_layer_one = Dense(channel//ratio,\n",
        "\t\t\t\t\t\t\t activation='relu',\n",
        "\t\t\t\t\t\t\t kernel_initializer='he_normal',\n",
        "\t\t\t\t\t\t\t use_bias=True,\n",
        "\t\t\t\t\t\t\t bias_initializer='zeros')\n",
        "\tshared_layer_two = Dense(channel,\n",
        "\t\t\t\t\t\t\t kernel_initializer='he_normal',\n",
        "\t\t\t\t\t\t\t use_bias=True,\n",
        "\t\t\t\t\t\t\t bias_initializer='zeros')\n",
        "\t\n",
        "\tavg_pool = GlobalAveragePooling2D()(input_feature)    \n",
        "\tavg_pool = Reshape((1,1,channel))(avg_pool)\n",
        "\tassert avg_pool.shape[1:] == (1,1,channel)\n",
        "\tavg_pool = shared_layer_one(avg_pool)\n",
        "\tassert avg_pool.shape[1:] == (1,1,channel//ratio)\n",
        "\tavg_pool = shared_layer_two(avg_pool)\n",
        "\tassert avg_pool.shape[1:] == (1,1,channel)\n",
        "\t\n",
        "\tmax_pool = GlobalMaxPooling2D()(input_feature)\n",
        "\tmax_pool = Reshape((1,1,channel))(max_pool)\n",
        "\tassert max_pool.shape[1:] == (1,1,channel)\n",
        "\tmax_pool = shared_layer_one(max_pool)\n",
        "\tassert max_pool.shape[1:] == (1,1,channel//ratio)\n",
        "\tmax_pool = shared_layer_two(max_pool)\n",
        "\tassert max_pool.shape[1:] == (1,1,channel)\n",
        "\t\n",
        "\tcbam_feature = Add()([avg_pool,max_pool])\n",
        "\tcbam_feature = Activation('sigmoid')(cbam_feature)\n",
        "\t\n",
        "\tif K.image_data_format() == \"channels_first\":\n",
        "\t\tcbam_feature = Permute((3, 1, 2))(cbam_feature)\n",
        "\t\n",
        "\treturn multiply([input_feature, cbam_feature])"
      ]
    },
    {
      "cell_type": "code",
      "execution_count": 37,
      "metadata": {
        "id": "Xl7CStcEYE_h"
      },
      "outputs": [],
      "source": [
        "def spatial_attention(input_feature):\n",
        "\tkernel_size = 7\n",
        "\t\n",
        "\tif K.image_data_format() == \"channels_first\":\n",
        "\t\tchannel = input_feature.shape[1]\n",
        "\t\tcbam_feature = Permute((2,3,1))(input_feature)\n",
        "\telse:\n",
        "\t\tchannel = input_feature.shape[-1]\n",
        "\t\tcbam_feature = input_feature\n",
        "\t\n",
        "\tavg_pool = Lambda(lambda x: K.mean(x, axis=3, keepdims=True))(cbam_feature)\n",
        "\tassert avg_pool.shape[-1] == 1\n",
        "\tmax_pool = Lambda(lambda x: K.max(x, axis=3, keepdims=True))(cbam_feature)\n",
        "\tassert max_pool.shape[-1] == 1\n",
        "\tconcat = Concatenate(axis=3)([avg_pool, max_pool])\n",
        "\tassert concat.shape[-1] == 2\n",
        "\tcbam_feature = Conv2D(filters = 1,\n",
        "\t\t\t\t\tkernel_size=kernel_size,\n",
        "\t\t\t\t\tstrides=1,\n",
        "\t\t\t\t\tpadding='same',\n",
        "\t\t\t\t\tactivation='sigmoid',\n",
        "\t\t\t\t\tkernel_initializer='he_normal',\n",
        "\t\t\t\t\tuse_bias=False)(concat)\t\n",
        "\tassert cbam_feature.shape[-1] == 1\n",
        "\t\n",
        "\tif K.image_data_format() == \"channels_first\":\n",
        "\t\tcbam_feature = Permute((3, 1, 2))(cbam_feature)\n",
        "\t\t\n",
        "\treturn multiply([input_feature, cbam_feature])"
      ]
    },
    {
      "cell_type": "code",
      "execution_count": 38,
      "metadata": {
        "id": "q2Q9CbMzY1Rn"
      },
      "outputs": [],
      "source": [
        "input = Input(shape=(256,256,3))"
      ]
    },
    {
      "cell_type": "code",
      "execution_count": 39,
      "metadata": {
        "id": "YpZNBOFOZBJL"
      },
      "outputs": [],
      "source": [
        "#Layer 1\n",
        "model = layers.Conv2D(32, (3,3), padding='same', name='conv_1', activation = 'relu')(input)\n",
        "model = layers.BatchNormalization(name='norm_1')(model)\n",
        "model = layers.MaxPooling2D(pool_size=(2, 2), strides= 2)(model)\n",
        "attention_module = 'cbam_block'\n",
        "y = attach_attention_module(model, attention_module)\n",
        "model =  tensorflow.keras.layers.add([model, y])\n"
      ]
    },
    {
      "cell_type": "code",
      "execution_count": 40,
      "metadata": {
        "id": "pBvWdrCmZCsQ"
      },
      "outputs": [],
      "source": [
        "#Layer 2\n",
        "model = layers.Conv2D(64, (3,3), padding='same', name='conv_2', activation = 'relu')(model)\n",
        "model = layers.Dropout(0.1)(model)\n",
        "model = layers.BatchNormalization(name='norm_2')(model)\n",
        "model = layers.MaxPooling2D(pool_size=(2, 2), strides = 2)(model)\n",
        "\n",
        "#attention_module = 'cbam_block'\n",
        "#y = attach_attention_module(model, attention_module)\n",
        "#model =  tensorflow.keras.layers.add([model, y])\n"
      ]
    },
    {
      "cell_type": "code",
      "execution_count": 41,
      "metadata": {
        "id": "RBUvxL-9ZEO3"
      },
      "outputs": [],
      "source": [
        "# Layer 3\n",
        "model = layers.Conv2D(64, (3,3), padding='same', name='conv_3', activation = 'relu')(model)\n",
        "model = layers.BatchNormalization(name='norm_3')(model)\n",
        "model = layers.MaxPooling2D(pool_size=(2, 2), strides = 2)(model)\n",
        "\n",
        "#attention_module = 'cbam_block'\n",
        "#y = attach_attention_module(model, attention_module)\n",
        "#model =  tensorflow.keras.layers.add([model, y])\n",
        "\n"
      ]
    },
    {
      "cell_type": "code",
      "execution_count": 42,
      "metadata": {
        "id": "QKyPzn20ZI1Y"
      },
      "outputs": [],
      "source": [
        "# Layer 4\n",
        "model = layers.Conv2D(128, (3,3), padding='same', name='conv_4', activation = 'relu')(model)\n",
        "model = layers.Dropout(0.2)(model)\n",
        "model = layers.BatchNormalization(name='norm_4')(model)\n",
        "model = layers.MaxPooling2D(pool_size=(2, 2), strides = 2)(model)\n",
        "\n",
        "#attention_module = 'cbam_block'\n",
        "#y = attach_attention_module(model, attention_module)\n",
        "#model =  tensorflow.keras.layers.add([model, y])\n"
      ]
    },
    {
      "cell_type": "code",
      "execution_count": 43,
      "metadata": {
        "id": "tgLQSWDfZJ53"
      },
      "outputs": [],
      "source": [
        "# Layer 5\n",
        "model = layers.Conv2D(256, (3,3), padding='same', name='conv_5', activation = 'relu')(model)\n",
        "layer = layers.Conv2D(256, (3,3), padding='same', name='conv_5', activation = 'relu')\n",
        "batch = layers.BatchNormalization(name='norm_5')\n",
        "model = layers.Dropout(0.2)(model)\n",
        "model = layers.BatchNormalization(name='norm_5')(model)\n",
        "#model = layers.MaxPooling2D(pool_size=(2, 2), strides = 2)(model)"
      ]
    },
    {
      "cell_type": "code",
      "execution_count": 44,
      "metadata": {
        "id": "8_jONIoBZhXm"
      },
      "outputs": [],
      "source": [
        "model = layers.Flatten()(model)\n",
        "model = layers.Dense(128, activation = 'relu')(model)\n",
        "model = layers.Dropout(0.2)(model)\n",
        "output = layers.Dense(3,Activation('softmax'))(model)\n",
        "model = Model(input, output)"
      ]
    },
    {
      "cell_type": "code",
      "execution_count": 45,
      "metadata": {
        "id": "iDpUFSaVZigY"
      },
      "outputs": [],
      "source": [
        "#output = model.output_shape"
      ]
    },
    {
      "cell_type": "code",
      "execution_count": 46,
      "metadata": {
        "colab": {
          "base_uri": "https://localhost:8080/"
        },
        "id": "qRYlJT_4ZkhM",
        "outputId": "0c48240a-3eca-4ac6-f6db-7e73f99f365d"
      },
      "outputs": [
        {
          "output_type": "stream",
          "name": "stdout",
          "text": [
            "KerasTensor(type_spec=TensorSpec(shape=(None, 256, 256, 3), dtype=tf.float32, name='input_2'), name='input_2', description=\"created by layer 'input_2'\")\n"
          ]
        }
      ],
      "source": [
        "print(input)"
      ]
    },
    {
      "cell_type": "code",
      "execution_count": 47,
      "metadata": {
        "id": "1AMvVOzNL8Bw"
      },
      "outputs": [],
      "source": [
        "#initial_learning_rate=0.0001"
      ]
    },
    {
      "cell_type": "code",
      "execution_count": 48,
      "metadata": {
        "id": "DwCqyvBhLupX"
      },
      "outputs": [],
      "source": [
        "#lr_schedule = ExponentialDecay(\n",
        "#   initial_learning_rate, decay_steps=100000, decay_rate=0.96, staircase=True\n",
        "#)\n"
      ]
    },
    {
      "cell_type": "code",
      "execution_count": 49,
      "metadata": {
        "id": "JdlrgYZwZnEd"
      },
      "outputs": [],
      "source": [
        "opt = Nadam(learning_rate=0.001, beta_1=0.9, beta_2=0.999)"
      ]
    },
    {
      "cell_type": "code",
      "execution_count": 50,
      "metadata": {
        "id": "oOIL33yEZpPX"
      },
      "outputs": [],
      "source": [
        "model.compile(optimizer=opt, loss=\"sparse_categorical_crossentropy\", metrics=[\"accuracy\"] )"
      ]
    },
    {
      "cell_type": "code",
      "execution_count": 51,
      "metadata": {
        "colab": {
          "base_uri": "https://localhost:8080/"
        },
        "id": "99dNdRxNZqh5",
        "outputId": "aac4272f-ee36-4bd6-c721-025918be48fe"
      },
      "outputs": [
        {
          "output_type": "stream",
          "name": "stdout",
          "text": [
            "Model: \"model_1\"\n",
            "__________________________________________________________________________________________________\n",
            " Layer (type)                   Output Shape         Param #     Connected to                     \n",
            "==================================================================================================\n",
            " input_2 (InputLayer)           [(None, 256, 256, 3  0           []                               \n",
            "                                )]                                                                \n",
            "                                                                                                  \n",
            " conv_1 (Conv2D)                (None, 256, 256, 32  896         ['input_2[0][0]']                \n",
            "                                )                                                                 \n",
            "                                                                                                  \n",
            " norm_1 (BatchNormalization)    (None, 256, 256, 32  128         ['conv_1[0][0]']                 \n",
            "                                )                                                                 \n",
            "                                                                                                  \n",
            " max_pooling2d_4 (MaxPooling2D)  (None, 128, 128, 32  0          ['norm_1[0][0]']                 \n",
            "                                )                                                                 \n",
            "                                                                                                  \n",
            " global_average_pooling2d_4 (Gl  (None, 32)          0           ['max_pooling2d_4[0][0]']        \n",
            " obalAveragePooling2D)                                                                            \n",
            "                                                                                                  \n",
            " global_max_pooling2d_4 (Global  (None, 32)          0           ['max_pooling2d_4[0][0]']        \n",
            " MaxPooling2D)                                                                                    \n",
            "                                                                                                  \n",
            " reshape_8 (Reshape)            (None, 1, 1, 32)     0           ['global_average_pooling2d_4[0][0\n",
            "                                                                 ]']                              \n",
            "                                                                                                  \n",
            " reshape_9 (Reshape)            (None, 1, 1, 32)     0           ['global_max_pooling2d_4[0][0]'] \n",
            "                                                                                                  \n",
            " dense_10 (Dense)               (None, 1, 1, 4)      132         ['reshape_8[0][0]',              \n",
            "                                                                  'reshape_9[0][0]']              \n",
            "                                                                                                  \n",
            " dense_11 (Dense)               (None, 1, 1, 32)     160         ['dense_10[0][0]',               \n",
            "                                                                  'dense_10[1][0]']               \n",
            "                                                                                                  \n",
            " add_8 (Add)                    (None, 1, 1, 32)     0           ['dense_11[0][0]',               \n",
            "                                                                  'dense_11[1][0]']               \n",
            "                                                                                                  \n",
            " activation_5 (Activation)      (None, 1, 1, 32)     0           ['add_8[0][0]']                  \n",
            "                                                                                                  \n",
            " multiply_8 (Multiply)          (None, 128, 128, 32  0           ['max_pooling2d_4[0][0]',        \n",
            "                                )                                 'activation_5[0][0]']           \n",
            "                                                                                                  \n",
            " lambda_8 (Lambda)              (None, 128, 128, 1)  0           ['multiply_8[0][0]']             \n",
            "                                                                                                  \n",
            " lambda_9 (Lambda)              (None, 128, 128, 1)  0           ['multiply_8[0][0]']             \n",
            "                                                                                                  \n",
            " concatenate_4 (Concatenate)    (None, 128, 128, 2)  0           ['lambda_8[0][0]',               \n",
            "                                                                  'lambda_9[0][0]']               \n",
            "                                                                                                  \n",
            " conv2d_4 (Conv2D)              (None, 128, 128, 1)  98          ['concatenate_4[0][0]']          \n",
            "                                                                                                  \n",
            " multiply_9 (Multiply)          (None, 128, 128, 32  0           ['multiply_8[0][0]',             \n",
            "                                )                                 'conv2d_4[0][0]']               \n",
            "                                                                                                  \n",
            " add_9 (Add)                    (None, 128, 128, 32  0           ['max_pooling2d_4[0][0]',        \n",
            "                                )                                 'multiply_9[0][0]']             \n",
            "                                                                                                  \n",
            " conv_2 (Conv2D)                (None, 128, 128, 64  18496       ['add_9[0][0]']                  \n",
            "                                )                                                                 \n",
            "                                                                                                  \n",
            " dropout_4 (Dropout)            (None, 128, 128, 64  0           ['conv_2[0][0]']                 \n",
            "                                )                                                                 \n",
            "                                                                                                  \n",
            " norm_2 (BatchNormalization)    (None, 128, 128, 64  256         ['dropout_4[0][0]']              \n",
            "                                )                                                                 \n",
            "                                                                                                  \n",
            " max_pooling2d_5 (MaxPooling2D)  (None, 64, 64, 64)  0           ['norm_2[0][0]']                 \n",
            "                                                                                                  \n",
            " conv_3 (Conv2D)                (None, 64, 64, 64)   36928       ['max_pooling2d_5[0][0]']        \n",
            "                                                                                                  \n",
            " norm_3 (BatchNormalization)    (None, 64, 64, 64)   256         ['conv_3[0][0]']                 \n",
            "                                                                                                  \n",
            " max_pooling2d_6 (MaxPooling2D)  (None, 32, 32, 64)  0           ['norm_3[0][0]']                 \n",
            "                                                                                                  \n",
            " conv_4 (Conv2D)                (None, 32, 32, 128)  73856       ['max_pooling2d_6[0][0]']        \n",
            "                                                                                                  \n",
            " dropout_5 (Dropout)            (None, 32, 32, 128)  0           ['conv_4[0][0]']                 \n",
            "                                                                                                  \n",
            " norm_4 (BatchNormalization)    (None, 32, 32, 128)  512         ['dropout_5[0][0]']              \n",
            "                                                                                                  \n",
            " max_pooling2d_7 (MaxPooling2D)  (None, 16, 16, 128)  0          ['norm_4[0][0]']                 \n",
            "                                                                                                  \n",
            " conv_5 (Conv2D)                (None, 16, 16, 256)  295168      ['max_pooling2d_7[0][0]']        \n",
            "                                                                                                  \n",
            " dropout_6 (Dropout)            (None, 16, 16, 256)  0           ['conv_5[0][0]']                 \n",
            "                                                                                                  \n",
            " norm_5 (BatchNormalization)    (None, 16, 16, 256)  1024        ['dropout_6[0][0]']              \n",
            "                                                                                                  \n",
            " flatten_1 (Flatten)            (None, 65536)        0           ['norm_5[0][0]']                 \n",
            "                                                                                                  \n",
            " dense_12 (Dense)               (None, 128)          8388736     ['flatten_1[0][0]']              \n",
            "                                                                                                  \n",
            " dropout_7 (Dropout)            (None, 128)          0           ['dense_12[0][0]']               \n",
            "                                                                                                  \n",
            " dense_13 (Dense)               (None, 3)            387         ['dropout_7[0][0]']              \n",
            "                                                                                                  \n",
            "==================================================================================================\n",
            "Total params: 8,817,033\n",
            "Trainable params: 8,815,945\n",
            "Non-trainable params: 1,088\n",
            "__________________________________________________________________________________________________\n",
            "None\n",
            "<keras.engine.functional.Functional object at 0x7f10ab3eb390>\n"
          ]
        }
      ],
      "source": [
        "print(model.summary())\n",
        "print(model)"
      ]
    },
    {
      "cell_type": "code",
      "execution_count": 52,
      "metadata": {
        "id": "NIABPyRMYycd"
      },
      "outputs": [],
      "source": [
        "X = []\n",
        "Y = []\n",
        "def transferBetweenFolders(source, dest, splitRate): \n",
        "    global sourceFiles\n",
        "    sourceFiles=os.listdir(source)\n",
        "    if(len(sourceFiles)!=0):\n",
        "        transferFileNumbers=int(len(sourceFiles)*splitRate)\n",
        "        transferIndex=random.sample(range(0, len(sourceFiles)), transferFileNumbers)\n",
        "        for eachIndex in transferIndex:\n",
        "            shutil.move(source+str(sourceFiles[eachIndex]), dest+str(sourceFiles[eachIndex]))\n",
        "    else:\n",
        "        print(\"No file moved. Source empty!\")\n",
        "        "
      ]
    },
    {
      "cell_type": "code",
      "execution_count": 53,
      "metadata": {
        "id": "Fh0THhOaY0Da"
      },
      "outputs": [],
      "source": [
        "def transferAllClassBetweenFolders(source, dest, splitRate):\n",
        "    for label in classLabels:\n",
        "        transferBetweenFolders(sourcePath+'/'+source+'/'+label+'/', \n",
        "                               sourcePath+'/'+dest+'/'+label+'/', \n",
        "                               splitRate)\n",
        "#First cut all images from validation to train (if any exists)\n",
        "transferAllClassBetweenFolders('valid', 'train', 1.0)\n",
        "transferAllClassBetweenFolders('test', 'train', 1.0)\n",
        "#no valid\n",
        "transferAllClassBetweenFolders('train', 'test', 0.2)"
      ]
    },
    {
      "cell_type": "code",
      "execution_count": 54,
      "metadata": {
        "id": "bvS9lltuY5_4"
      },
      "outputs": [],
      "source": [
        "def prepareNameWithLabels(folderName):\n",
        "    sourceFiles=os.listdir(sourcePath+'/train/'+folderName)\n",
        "    for val in sourceFiles:\n",
        "        X.append(val)\n",
        "        for i in range(len(classLabels)):\n",
        "          if(folderName==classLabels[i]):\n",
        "              Y.append(i)\n",
        "# Organize file names and class labels in X and Y variables\n",
        "for i in range(len(classLabels)):\n",
        "  prepareNameWithLabels(classLabels[i])\n",
        "\n",
        "def my_metrics(y_true, y_pred):\n",
        "    accuracy=accuracy_score(y_true, y_pred)\n",
        "    precision=precision_score(y_true, y_pred,average='micro')\n",
        "    f1Score=f1_score(y_true, y_pred, average='micro') \n",
        "    recall = recall_score(y_true, y_pred, average='micro')\n",
        "    print(\"Accuracy  : {}\".format(accuracy))\n",
        "    print(\"Precision : {}\".format(precision))\n",
        "    print(\"f1Score : {}\".format(f1Score))\n",
        "    print(\"Recall : {}\".format(recall))\n",
        "    cm=confusion_matrix(y_true, y_pred)\n",
        "    print(cm)\n",
        "\n",
        "    print(\"***----------------------------***\")  \n",
        "    return accuracy, precision, f1Score, recall"
      ]
    },
    {
      "cell_type": "code",
      "execution_count": 55,
      "metadata": {
        "colab": {
          "base_uri": "https://localhost:8080/"
        },
        "id": "7hjflR4gZW0Y",
        "outputId": "6daa5af7-8b88-490f-e798-de962493cc46"
      },
      "outputs": [
        {
          "output_type": "stream",
          "name": "stdout",
          "text": [
            "No file moved. Source empty!\n",
            "No file moved. Source empty!\n",
            "No file moved. Source empty!\n",
            "['COVID(409).png' 'COVID(406).png' 'COVID(405).png' ...\n",
            " 'person825_bacteria_2736.jpeg' 'person820_virus_1456.jpeg'\n",
            " 'person820_bacteria_2731.jpeg']\n",
            "[0 0 0 ... 2 2 2]\n",
            "StratifiedKFold(n_splits=5, random_state=None, shuffle=True)\n",
            "5\n",
            "<generator object _BaseKFold.split at 0x7f10ab662ad0>\n"
          ]
        }
      ],
      "source": [
        "transferAllClassBetweenFolders('valid', 'train', 1.0)\n",
        "#no valid\n",
        "#transferAllClassBetweenFolders('test', 'train', 1.0)\n",
        "X=np.asarray(X)\n",
        "Y=np.asarray(Y)\n",
        "\n",
        "print(X)\n",
        "print(Y)\n",
        "\n",
        "skf = StratifiedKFold(n_splits=5\n",
        "                      , shuffle=True)\n",
        "skf.get_n_splits(X, Y)\n",
        "print(skf)\n",
        "print(skf.get_n_splits(X,Y))\n",
        "print(skf.split(X,Y))\n",
        "foldNum=0\n",
        "overAllAcc = 0\n",
        "overAllPrec = 0\n",
        "overAllf1 = 0\n",
        "overAllRec = 0"
      ]
    },
    {
      "cell_type": "code",
      "execution_count": 56,
      "metadata": {
        "colab": {
          "base_uri": "https://localhost:8080/",
          "height": 1000
        },
        "id": "TsQVUi57ZDHg",
        "outputId": "5640612f-cf55-40f4-943f-d74b1460b12d"
      },
      "outputs": [
        {
          "output_type": "stream",
          "name": "stdout",
          "text": [
            "trn_indx: 1728 test_indx: 432\n",
            "No file moved. Source empty!\n",
            "No file moved. Source empty!\n",
            "No file moved. Source empty!\n",
            "Results for fold 1\n",
            "1728\n",
            "432\n",
            "Found 1728 images belonging to 3 classes.\n",
            "Found 432 images belonging to 3 classes.\n",
            "Found 540 images belonging to 3 classes.\n",
            "Epoch 1/25\n",
            "54/54 - 745s - loss: 1.0570 - accuracy: 0.8692 - val_loss: 5.0725 - val_accuracy: 0.5301 - 745s/epoch - 14s/step\n",
            "Epoch 2/25\n",
            "54/54 - 22s - loss: 0.1847 - accuracy: 0.9427 - val_loss: 3.6959 - val_accuracy: 0.6898 - 22s/epoch - 414ms/step\n",
            "Epoch 3/25\n",
            "54/54 - 23s - loss: 0.1090 - accuracy: 0.9664 - val_loss: 0.1477 - val_accuracy: 0.9514 - 23s/epoch - 420ms/step\n",
            "Epoch 4/25\n",
            "54/54 - 23s - loss: 0.0850 - accuracy: 0.9711 - val_loss: 1.2990 - val_accuracy: 0.8171 - 23s/epoch - 421ms/step\n",
            "Epoch 5/25\n",
            "54/54 - 23s - loss: 0.2254 - accuracy: 0.9635 - val_loss: 22.0061 - val_accuracy: 0.5949 - 23s/epoch - 417ms/step\n",
            "Epoch 6/25\n",
            "54/54 - 23s - loss: 0.2780 - accuracy: 0.9427 - val_loss: 0.7778 - val_accuracy: 0.8287 - 23s/epoch - 419ms/step\n",
            "Epoch 7/25\n",
            "54/54 - 23s - loss: 0.1212 - accuracy: 0.9653 - val_loss: 0.0791 - val_accuracy: 0.9722 - 23s/epoch - 418ms/step\n",
            "Epoch 8/25\n",
            "54/54 - 23s - loss: 0.0644 - accuracy: 0.9774 - val_loss: 0.1416 - val_accuracy: 0.9630 - 23s/epoch - 418ms/step\n",
            "Epoch 9/25\n",
            "54/54 - 22s - loss: 0.0431 - accuracy: 0.9832 - val_loss: 0.1189 - val_accuracy: 0.9468 - 22s/epoch - 415ms/step\n",
            "Epoch 10/25\n",
            "54/54 - 23s - loss: 0.0230 - accuracy: 0.9931 - val_loss: 0.1147 - val_accuracy: 0.9606 - 23s/epoch - 418ms/step\n",
            "Epoch 11/25\n",
            "54/54 - 23s - loss: 0.0178 - accuracy: 0.9942 - val_loss: 0.0973 - val_accuracy: 0.9676 - 23s/epoch - 421ms/step\n",
            "Epoch 12/25\n",
            "54/54 - 23s - loss: 0.0191 - accuracy: 0.9936 - val_loss: 0.1049 - val_accuracy: 0.9653 - 23s/epoch - 421ms/step\n",
            "Epoch 13/25\n",
            "54/54 - 23s - loss: 0.0119 - accuracy: 0.9959 - val_loss: 0.2401 - val_accuracy: 0.9375 - 23s/epoch - 418ms/step\n",
            "Epoch 14/25\n",
            "54/54 - 23s - loss: 0.0084 - accuracy: 0.9971 - val_loss: 0.1120 - val_accuracy: 0.9792 - 23s/epoch - 421ms/step\n",
            "Epoch 15/25\n",
            "54/54 - 23s - loss: 0.0026 - accuracy: 0.9988 - val_loss: 0.1609 - val_accuracy: 0.9583 - 23s/epoch - 428ms/step\n",
            "Epoch 16/25\n",
            "54/54 - 23s - loss: 0.0060 - accuracy: 0.9971 - val_loss: 0.5689 - val_accuracy: 0.8843 - 23s/epoch - 417ms/step\n",
            "Epoch 17/25\n",
            "54/54 - 22s - loss: 0.0114 - accuracy: 0.9965 - val_loss: 0.1401 - val_accuracy: 0.9537 - 22s/epoch - 417ms/step\n",
            "Epoch 18/25\n",
            "54/54 - 23s - loss: 0.0027 - accuracy: 0.9988 - val_loss: 0.1555 - val_accuracy: 0.9653 - 23s/epoch - 418ms/step\n",
            "Epoch 19/25\n",
            "54/54 - 23s - loss: 0.0022 - accuracy: 0.9994 - val_loss: 0.2208 - val_accuracy: 0.9745 - 23s/epoch - 418ms/step\n",
            "Epoch 20/25\n",
            "54/54 - 23s - loss: 0.0178 - accuracy: 0.9948 - val_loss: 0.2333 - val_accuracy: 0.9653 - 23s/epoch - 417ms/step\n",
            "Epoch 21/25\n",
            "54/54 - 23s - loss: 0.0265 - accuracy: 0.9925 - val_loss: 36.0150 - val_accuracy: 0.3657 - 23s/epoch - 418ms/step\n",
            "Epoch 22/25\n",
            "54/54 - 23s - loss: 0.2466 - accuracy: 0.9601 - val_loss: 0.3750 - val_accuracy: 0.9282 - 23s/epoch - 423ms/step\n",
            "Epoch 23/25\n",
            "54/54 - 23s - loss: 0.1819 - accuracy: 0.9566 - val_loss: 0.2747 - val_accuracy: 0.9144 - 23s/epoch - 419ms/step\n",
            "Epoch 24/25\n",
            "54/54 - 23s - loss: 0.1283 - accuracy: 0.9722 - val_loss: 122.0244 - val_accuracy: 0.3356 - 23s/epoch - 417ms/step\n",
            "Epoch 25/25\n",
            "54/54 - 23s - loss: 0.2080 - accuracy: 0.9601 - val_loss: 7.6717 - val_accuracy: 0.7361 - 23s/epoch - 419ms/step\n"
          ]
        },
        {
          "output_type": "display_data",
          "data": {
            "text/plain": [
              "<Figure size 432x288 with 1 Axes>"
            ],
            "image/png": "[encoded data removed]"
          },
          "metadata": {
            "needs_background": "light"
          }
        },
        {
          "output_type": "display_data",
          "data": {
            "text/plain": [
              "<Figure size 432x288 with 1 Axes>"
            ],
            "image/png": "[encoded data removed]"
          },
          "metadata": {
            "needs_background": "light"
          }
        },
        {
          "output_type": "stream",
          "name": "stdout",
          "text": [
            "***Performance Data***\n",
            "Accuracy  : 0.7296296296296296\n",
            "Precision : 0.7296296296296296\n",
            "f1Score : 0.7296296296296296\n",
            "Recall : 0.7296296296296296\n",
            "[[175   5   0]\n",
            " [ 10 169   1]\n",
            " [ 66  64  50]]\n",
            "***----------------------------***\n",
            "17/17 [==============================] - 6s 335ms/step - loss: 8.8059 - accuracy: 0.7296\n",
            "***-----------------------------------------------***\n",
            "Overall Accuracy:  0.7296296296296296\n",
            "Overall Precision:  0.7296296296296296\n",
            "Overall f1Score:  0.7296296296296296\n",
            "Overall Recall:  0.7296296296296296\n",
            "***------------------End of Line------------------***\n",
            "trn_indx: 1728 test_indx: 432\n",
            "Results for fold 2\n",
            "1728\n",
            "432\n",
            "Found 1728 images belonging to 3 classes.\n",
            "Found 432 images belonging to 3 classes.\n",
            "Found 540 images belonging to 3 classes.\n",
            "Epoch 1/25\n",
            "54/54 - 23s - loss: 0.0870 - accuracy: 0.9722 - val_loss: 0.0513 - val_accuracy: 0.9838 - 23s/epoch - 424ms/step\n",
            "Epoch 2/25\n",
            "54/54 - 23s - loss: 0.0608 - accuracy: 0.9797 - val_loss: 0.5131 - val_accuracy: 0.7755 - 23s/epoch - 420ms/step\n",
            "Epoch 3/25\n",
            "54/54 - 23s - loss: 0.0374 - accuracy: 0.9855 - val_loss: 0.0719 - val_accuracy: 0.9722 - 23s/epoch - 419ms/step\n",
            "Epoch 4/25\n",
            "54/54 - 23s - loss: 0.0344 - accuracy: 0.9867 - val_loss: 2.3699 - val_accuracy: 0.6227 - 23s/epoch - 418ms/step\n",
            "Epoch 5/25\n",
            "54/54 - 23s - loss: 0.0207 - accuracy: 0.9948 - val_loss: 0.0356 - val_accuracy: 0.9861 - 23s/epoch - 421ms/step\n",
            "Epoch 6/25\n",
            "54/54 - 23s - loss: 0.0145 - accuracy: 0.9959 - val_loss: 0.1469 - val_accuracy: 0.9722 - 23s/epoch - 421ms/step\n",
            "Epoch 7/25\n",
            "54/54 - 22s - loss: 0.0126 - accuracy: 0.9959 - val_loss: 0.1158 - val_accuracy: 0.9769 - 22s/epoch - 416ms/step\n",
            "Epoch 8/25\n",
            "54/54 - 22s - loss: 0.0075 - accuracy: 0.9977 - val_loss: 0.0484 - val_accuracy: 0.9838 - 22s/epoch - 416ms/step\n",
            "Epoch 9/25\n",
            "54/54 - 22s - loss: 0.0054 - accuracy: 0.9983 - val_loss: 0.0695 - val_accuracy: 0.9676 - 22s/epoch - 417ms/step\n",
            "Epoch 10/25\n",
            "54/54 - 23s - loss: 0.0015 - accuracy: 1.0000 - val_loss: 0.0828 - val_accuracy: 0.9676 - 23s/epoch - 419ms/step\n",
            "Epoch 11/25\n",
            "54/54 - 22s - loss: 0.0050 - accuracy: 0.9983 - val_loss: 0.0476 - val_accuracy: 0.9815 - 22s/epoch - 416ms/step\n",
            "Epoch 12/25\n",
            "54/54 - 22s - loss: 0.0093 - accuracy: 0.9977 - val_loss: 1.9331 - val_accuracy: 0.8356 - 22s/epoch - 416ms/step\n",
            "Epoch 13/25\n",
            "54/54 - 22s - loss: 0.0237 - accuracy: 0.9931 - val_loss: 2.4529 - val_accuracy: 0.8333 - 22s/epoch - 415ms/step\n",
            "Epoch 14/25\n",
            "54/54 - 23s - loss: 0.0896 - accuracy: 0.9850 - val_loss: 0.9815 - val_accuracy: 0.8981 - 23s/epoch - 419ms/step\n",
            "Epoch 15/25\n",
            "54/54 - 22s - loss: 0.0511 - accuracy: 0.9878 - val_loss: 0.1306 - val_accuracy: 0.9838 - 22s/epoch - 416ms/step\n",
            "Epoch 16/25\n",
            "54/54 - 23s - loss: 0.0260 - accuracy: 0.9942 - val_loss: 0.0816 - val_accuracy: 0.9815 - 23s/epoch - 418ms/step\n",
            "Epoch 17/25\n",
            "54/54 - 23s - loss: 0.0260 - accuracy: 0.9902 - val_loss: 0.1015 - val_accuracy: 0.9676 - 23s/epoch - 417ms/step\n",
            "Epoch 18/25\n",
            "54/54 - 23s - loss: 0.0144 - accuracy: 0.9954 - val_loss: 0.1937 - val_accuracy: 0.9306 - 23s/epoch - 417ms/step\n",
            "Epoch 19/25\n",
            "54/54 - 23s - loss: 0.0059 - accuracy: 0.9977 - val_loss: 0.1930 - val_accuracy: 0.9514 - 23s/epoch - 417ms/step\n",
            "Epoch 20/25\n",
            "54/54 - 23s - loss: 0.0063 - accuracy: 0.9983 - val_loss: 0.0641 - val_accuracy: 0.9838 - 23s/epoch - 422ms/step\n",
            "Epoch 21/25\n",
            "54/54 - 23s - loss: 0.0131 - accuracy: 0.9959 - val_loss: 0.0569 - val_accuracy: 0.9861 - 23s/epoch - 420ms/step\n",
            "Epoch 22/25\n",
            "54/54 - 23s - loss: 0.0158 - accuracy: 0.9971 - val_loss: 0.0428 - val_accuracy: 0.9884 - 23s/epoch - 417ms/step\n",
            "Epoch 23/25\n",
            "54/54 - 23s - loss: 0.0039 - accuracy: 0.9983 - val_loss: 0.1129 - val_accuracy: 0.9653 - 23s/epoch - 417ms/step\n",
            "Epoch 24/25\n",
            "54/54 - 23s - loss: 0.0021 - accuracy: 0.9988 - val_loss: 0.0922 - val_accuracy: 0.9722 - 23s/epoch - 421ms/step\n",
            "Epoch 25/25\n",
            "54/54 - 23s - loss: 0.0022 - accuracy: 0.9994 - val_loss: 0.1020 - val_accuracy: 0.9769 - 23s/epoch - 418ms/step\n"
          ]
        },
        {
          "output_type": "display_data",
          "data": {
            "text/plain": [
              "<Figure size 432x288 with 1 Axes>"
            ],
            "image/png": "[encoded data removed]"
          },
          "metadata": {
            "needs_background": "light"
          }
        },
        {
          "output_type": "display_data",
          "data": {
            "text/plain": [
              "<Figure size 432x288 with 1 Axes>"
            ],
            "image/png": "[encoded data removed]"
          },
          "metadata": {
            "needs_background": "light"
          }
        },
        {
          "output_type": "stream",
          "name": "stdout",
          "text": [
            "***Performance Data***\n",
            "Accuracy  : 0.9629629629629629\n",
            "Precision : 0.9629629629629629\n",
            "f1Score : 0.9629629629629629\n",
            "Recall : 0.9629629629629629\n",
            "[[179   1   0]\n",
            " [  1 172   7]\n",
            " [  8   3 169]]\n",
            "***----------------------------***\n",
            "17/17 [==============================] - 5s 335ms/step - loss: 0.1904 - accuracy: 0.9630\n",
            "***-----------------------------------------------***\n",
            "Overall Accuracy:  0.8462962962962963\n",
            "Overall Precision:  0.8462962962962963\n",
            "Overall f1Score:  0.8462962962962963\n",
            "Overall Recall:  0.8462962962962963\n",
            "***------------------End of Line------------------***\n",
            "trn_indx: 1728 test_indx: 432\n",
            "Results for fold 3\n",
            "1728\n",
            "432\n",
            "Found 1728 images belonging to 3 classes.\n",
            "Found 432 images belonging to 3 classes.\n",
            "Found 540 images belonging to 3 classes.\n",
            "Epoch 1/25\n",
            "54/54 - 23s - loss: 0.0650 - accuracy: 0.9867 - val_loss: 0.2225 - val_accuracy: 0.9282 - 23s/epoch - 427ms/step\n",
            "Epoch 2/25\n",
            "54/54 - 23s - loss: 0.0639 - accuracy: 0.9867 - val_loss: 0.9818 - val_accuracy: 0.7639 - 23s/epoch - 421ms/step\n",
            "Epoch 3/25\n",
            "54/54 - 23s - loss: 0.0443 - accuracy: 0.9884 - val_loss: 0.8976 - val_accuracy: 0.8333 - 23s/epoch - 420ms/step\n",
            "Epoch 4/25\n",
            "54/54 - 23s - loss: 0.0347 - accuracy: 0.9925 - val_loss: 2.9696 - val_accuracy: 0.7477 - 23s/epoch - 419ms/step\n",
            "Epoch 5/25\n",
            "54/54 - 23s - loss: 0.0180 - accuracy: 0.9954 - val_loss: 0.0287 - val_accuracy: 0.9954 - 23s/epoch - 419ms/step\n",
            "Epoch 6/25\n",
            "54/54 - 23s - loss: 0.0408 - accuracy: 0.9942 - val_loss: 0.1202 - val_accuracy: 0.9792 - 23s/epoch - 420ms/step\n",
            "Epoch 7/25\n",
            "54/54 - 23s - loss: 0.0216 - accuracy: 0.9942 - val_loss: 0.2581 - val_accuracy: 0.9306 - 23s/epoch - 419ms/step\n",
            "Epoch 8/25\n",
            "54/54 - 23s - loss: 0.0075 - accuracy: 0.9977 - val_loss: 0.0679 - val_accuracy: 0.9861 - 23s/epoch - 417ms/step\n",
            "Epoch 9/25\n",
            "54/54 - 23s - loss: 0.0055 - accuracy: 0.9988 - val_loss: 0.1346 - val_accuracy: 0.9653 - 23s/epoch - 421ms/step\n",
            "Epoch 10/25\n",
            "54/54 - 22s - loss: 0.0120 - accuracy: 0.9977 - val_loss: 0.0911 - val_accuracy: 0.9792 - 22s/epoch - 417ms/step\n",
            "Epoch 11/25\n",
            "54/54 - 23s - loss: 0.0097 - accuracy: 0.9971 - val_loss: 0.0350 - val_accuracy: 0.9838 - 23s/epoch - 419ms/step\n",
            "Epoch 12/25\n",
            "54/54 - 23s - loss: 0.0037 - accuracy: 0.9983 - val_loss: 0.0229 - val_accuracy: 0.9907 - 23s/epoch - 419ms/step\n",
            "Epoch 13/25\n",
            "54/54 - 23s - loss: 0.0026 - accuracy: 0.9988 - val_loss: 0.0256 - val_accuracy: 0.9884 - 23s/epoch - 423ms/step\n",
            "Epoch 14/25\n",
            "54/54 - 22s - loss: 0.0101 - accuracy: 0.9965 - val_loss: 0.0142 - val_accuracy: 0.9977 - 22s/epoch - 415ms/step\n",
            "Epoch 15/25\n",
            "54/54 - 22s - loss: 0.0065 - accuracy: 0.9983 - val_loss: 0.0150 - val_accuracy: 0.9954 - 22s/epoch - 417ms/step\n",
            "Epoch 16/25\n",
            "54/54 - 23s - loss: 0.0027 - accuracy: 0.9994 - val_loss: 0.0533 - val_accuracy: 0.9861 - 23s/epoch - 420ms/step\n",
            "Epoch 17/25\n",
            "54/54 - 23s - loss: 0.0014 - accuracy: 0.9994 - val_loss: 0.0432 - val_accuracy: 0.9907 - 23s/epoch - 421ms/step\n",
            "Epoch 18/25\n",
            "54/54 - 23s - loss: 0.0014 - accuracy: 0.9994 - val_loss: 0.0797 - val_accuracy: 0.9722 - 23s/epoch - 418ms/step\n",
            "Epoch 19/25\n",
            "54/54 - 23s - loss: 0.0094 - accuracy: 0.9965 - val_loss: 0.3012 - val_accuracy: 0.9444 - 23s/epoch - 423ms/step\n",
            "Epoch 20/25\n",
            "54/54 - 23s - loss: 8.3313e-04 - accuracy: 1.0000 - val_loss: 0.1915 - val_accuracy: 0.9676 - 23s/epoch - 418ms/step\n",
            "Epoch 21/25\n",
            "54/54 - 23s - loss: 8.4135e-04 - accuracy: 1.0000 - val_loss: 0.1140 - val_accuracy: 0.9792 - 23s/epoch - 423ms/step\n",
            "Epoch 22/25\n",
            "54/54 - 23s - loss: 0.0013 - accuracy: 0.9988 - val_loss: 0.0281 - val_accuracy: 0.9884 - 23s/epoch - 422ms/step\n",
            "Epoch 23/25\n",
            "54/54 - 24s - loss: 0.0040 - accuracy: 0.9988 - val_loss: 0.0826 - val_accuracy: 0.9792 - 24s/epoch - 442ms/step\n",
            "Epoch 24/25\n",
            "54/54 - 23s - loss: 0.0048 - accuracy: 0.9977 - val_loss: 0.1107 - val_accuracy: 0.9769 - 23s/epoch - 428ms/step\n",
            "Epoch 25/25\n",
            "54/54 - 22s - loss: 0.0013 - accuracy: 1.0000 - val_loss: 0.0502 - val_accuracy: 0.9838 - 22s/epoch - 416ms/step\n"
          ]
        },
        {
          "output_type": "display_data",
          "data": {
            "text/plain": [
              "<Figure size 432x288 with 1 Axes>"
            ],
            "image/png": "[encoded data removed]"
          },
          "metadata": {
            "needs_background": "light"
          }
        },
        {
          "output_type": "display_data",
          "data": {
            "text/plain": [
              "<Figure size 432x288 with 1 Axes>"
            ],
            "image/png": "[encoded data removed]"
          },
          "metadata": {
            "needs_background": "light"
          }
        },
        {
          "output_type": "stream",
          "name": "stdout",
          "text": [
            "***Performance Data***\n",
            "Accuracy  : 0.9666666666666667\n",
            "Precision : 0.9666666666666667\n",
            "f1Score : 0.9666666666666667\n",
            "Recall : 0.9666666666666667\n",
            "[[180   0   0]\n",
            " [  0 178   2]\n",
            " [  3  13 164]]\n",
            "***----------------------------***\n",
            "17/17 [==============================] - 5s 335ms/step - loss: 0.2546 - accuracy: 0.9667\n",
            "***-----------------------------------------------***\n",
            "Overall Accuracy:  0.8864197530864198\n",
            "Overall Precision:  0.8864197530864198\n",
            "Overall f1Score:  0.8864197530864198\n",
            "Overall Recall:  0.8864197530864198\n",
            "***------------------End of Line------------------***\n",
            "trn_indx: 1728 test_indx: 432\n",
            "Results for fold 4\n",
            "1728\n",
            "432\n",
            "Found 1728 images belonging to 3 classes.\n",
            "Found 432 images belonging to 3 classes.\n",
            "Found 540 images belonging to 3 classes.\n",
            "Epoch 1/25\n",
            "54/54 - 23s - loss: 0.0443 - accuracy: 0.9902 - val_loss: 0.1557 - val_accuracy: 0.9583 - 23s/epoch - 424ms/step\n",
            "Epoch 2/25\n",
            "54/54 - 23s - loss: 0.0121 - accuracy: 0.9965 - val_loss: 0.0826 - val_accuracy: 0.9815 - 23s/epoch - 422ms/step\n",
            "Epoch 3/25\n",
            "54/54 - 23s - loss: 0.1439 - accuracy: 0.9774 - val_loss: 8.8640 - val_accuracy: 0.8565 - 23s/epoch - 420ms/step\n",
            "Epoch 4/25\n",
            "54/54 - 23s - loss: 0.1943 - accuracy: 0.9699 - val_loss: 0.4291 - val_accuracy: 0.9190 - 23s/epoch - 420ms/step\n",
            "Epoch 5/25\n",
            "54/54 - 22s - loss: 0.0593 - accuracy: 0.9844 - val_loss: 0.1873 - val_accuracy: 0.9861 - 22s/epoch - 415ms/step\n",
            "Epoch 6/25\n",
            "54/54 - 23s - loss: 0.0343 - accuracy: 0.9942 - val_loss: 0.1713 - val_accuracy: 0.9722 - 23s/epoch - 417ms/step\n",
            "Epoch 7/25\n",
            "54/54 - 22s - loss: 0.0291 - accuracy: 0.9919 - val_loss: 0.0712 - val_accuracy: 0.9815 - 22s/epoch - 415ms/step\n",
            "Epoch 8/25\n",
            "54/54 - 22s - loss: 0.0226 - accuracy: 0.9931 - val_loss: 0.1578 - val_accuracy: 0.9583 - 22s/epoch - 414ms/step\n",
            "Epoch 9/25\n",
            "54/54 - 23s - loss: 0.0200 - accuracy: 0.9936 - val_loss: 0.0916 - val_accuracy: 0.9861 - 23s/epoch - 419ms/step\n",
            "Epoch 10/25\n",
            "54/54 - 22s - loss: 0.0140 - accuracy: 0.9977 - val_loss: 0.0207 - val_accuracy: 0.9884 - 22s/epoch - 416ms/step\n",
            "Epoch 11/25\n",
            "54/54 - 22s - loss: 0.0042 - accuracy: 0.9988 - val_loss: 0.0290 - val_accuracy: 0.9931 - 22s/epoch - 417ms/step\n",
            "Epoch 12/25\n",
            "54/54 - 22s - loss: 0.0024 - accuracy: 0.9994 - val_loss: 0.0234 - val_accuracy: 0.9954 - 22s/epoch - 415ms/step\n",
            "Epoch 13/25\n",
            "54/54 - 22s - loss: 0.0108 - accuracy: 0.9971 - val_loss: 1.2337 - val_accuracy: 0.7685 - 22s/epoch - 413ms/step\n",
            "Epoch 14/25\n",
            "54/54 - 22s - loss: 0.0091 - accuracy: 0.9965 - val_loss: 1.0926 - val_accuracy: 0.7523 - 22s/epoch - 415ms/step\n",
            "Epoch 15/25\n",
            "54/54 - 22s - loss: 0.0053 - accuracy: 0.9983 - val_loss: 0.6265 - val_accuracy: 0.8657 - 22s/epoch - 415ms/step\n",
            "Epoch 16/25\n",
            "54/54 - 22s - loss: 0.0032 - accuracy: 0.9994 - val_loss: 0.1339 - val_accuracy: 0.9606 - 22s/epoch - 413ms/step\n",
            "Epoch 17/25\n",
            "54/54 - 22s - loss: 0.0028 - accuracy: 0.9994 - val_loss: 0.1611 - val_accuracy: 0.9537 - 22s/epoch - 416ms/step\n",
            "Epoch 18/25\n",
            "54/54 - 22s - loss: 0.0042 - accuracy: 0.9983 - val_loss: 0.1069 - val_accuracy: 0.9699 - 22s/epoch - 415ms/step\n",
            "Epoch 19/25\n",
            "54/54 - 22s - loss: 0.0049 - accuracy: 0.9994 - val_loss: 0.0446 - val_accuracy: 0.9792 - 22s/epoch - 413ms/step\n",
            "Epoch 20/25\n",
            "54/54 - 22s - loss: 0.0016 - accuracy: 1.0000 - val_loss: 0.0131 - val_accuracy: 0.9931 - 22s/epoch - 413ms/step\n",
            "Epoch 21/25\n",
            "54/54 - 23s - loss: 0.0035 - accuracy: 0.9988 - val_loss: 0.0248 - val_accuracy: 0.9931 - 23s/epoch - 417ms/step\n",
            "Epoch 22/25\n",
            "54/54 - 22s - loss: 0.0063 - accuracy: 0.9983 - val_loss: 0.7610 - val_accuracy: 0.9444 - 22s/epoch - 416ms/step\n",
            "Epoch 23/25\n",
            "54/54 - 23s - loss: 0.0118 - accuracy: 0.9954 - val_loss: 0.0161 - val_accuracy: 0.9931 - 23s/epoch - 421ms/step\n",
            "Epoch 24/25\n",
            "54/54 - 22s - loss: 0.0123 - accuracy: 0.9965 - val_loss: 0.3729 - val_accuracy: 0.9560 - 22s/epoch - 414ms/step\n",
            "Epoch 25/25\n",
            "54/54 - 22s - loss: 0.0024 - accuracy: 0.9994 - val_loss: 0.0310 - val_accuracy: 0.9977 - 22s/epoch - 416ms/step\n"
          ]
        },
        {
          "output_type": "display_data",
          "data": {
            "text/plain": [
              "<Figure size 432x288 with 1 Axes>"
            ],
            "image/png": "[encoded data removed]"
          },
          "metadata": {
            "needs_background": "light"
          }
        },
        {
          "output_type": "display_data",
          "data": {
            "text/plain": [
              "<Figure size 432x288 with 1 Axes>"
            ],
            "image/png": "[encoded data removed]"
          },
          "metadata": {
            "needs_background": "light"
          }
        },
        {
          "output_type": "stream",
          "name": "stdout",
          "text": [
            "***Performance Data***\n",
            "Accuracy  : 0.9722222222222222\n",
            "Precision : 0.9722222222222222\n",
            "f1Score : 0.9722222222222222\n",
            "Recall : 0.9722222222222222\n",
            "[[176   1   3]\n",
            " [  0 176   4]\n",
            " [  2   5 173]]\n",
            "***----------------------------***\n",
            "17/17 [==============================] - 5s 332ms/step - loss: 0.1758 - accuracy: 0.9722\n",
            "***-----------------------------------------------***\n",
            "Overall Accuracy:  0.9078703703703704\n",
            "Overall Precision:  0.9078703703703704\n",
            "Overall f1Score:  0.9078703703703704\n",
            "Overall Recall:  0.9078703703703704\n",
            "***------------------End of Line------------------***\n",
            "trn_indx: 1728 test_indx: 432\n",
            "Results for fold 5\n",
            "1728\n",
            "432\n",
            "Found 1728 images belonging to 3 classes.\n",
            "Found 432 images belonging to 3 classes.\n",
            "Found 540 images belonging to 3 classes.\n",
            "Epoch 1/25\n",
            "54/54 - 23s - loss: 0.0196 - accuracy: 0.9971 - val_loss: 0.0131 - val_accuracy: 0.9977 - 23s/epoch - 425ms/step\n",
            "Epoch 2/25\n",
            "54/54 - 23s - loss: 0.0195 - accuracy: 0.9959 - val_loss: 0.0188 - val_accuracy: 0.9954 - 23s/epoch - 420ms/step\n",
            "Epoch 3/25\n",
            "54/54 - 23s - loss: 0.0554 - accuracy: 0.9902 - val_loss: 0.0360 - val_accuracy: 0.9931 - 23s/epoch - 418ms/step\n",
            "Epoch 4/25\n",
            "54/54 - 23s - loss: 0.0260 - accuracy: 0.9942 - val_loss: 0.1064 - val_accuracy: 0.9815 - 23s/epoch - 419ms/step\n",
            "Epoch 5/25\n",
            "54/54 - 23s - loss: 0.0062 - accuracy: 0.9983 - val_loss: 0.0013 - val_accuracy: 1.0000 - 23s/epoch - 417ms/step\n",
            "Epoch 6/25\n",
            "54/54 - 23s - loss: 0.0082 - accuracy: 0.9977 - val_loss: 0.0018 - val_accuracy: 1.0000 - 23s/epoch - 417ms/step\n",
            "Epoch 7/25\n",
            "54/54 - 22s - loss: 0.0088 - accuracy: 0.9965 - val_loss: 0.0044 - val_accuracy: 1.0000 - 22s/epoch - 416ms/step\n",
            "Epoch 8/25\n",
            "54/54 - 22s - loss: 0.0033 - accuracy: 1.0000 - val_loss: 0.0299 - val_accuracy: 0.9954 - 22s/epoch - 416ms/step\n",
            "Epoch 9/25\n",
            "54/54 - 23s - loss: 0.0177 - accuracy: 0.9948 - val_loss: 0.0204 - val_accuracy: 0.9954 - 23s/epoch - 417ms/step\n",
            "Epoch 10/25\n",
            "54/54 - 22s - loss: 0.0262 - accuracy: 0.9954 - val_loss: 0.4976 - val_accuracy: 0.9583 - 22s/epoch - 416ms/step\n",
            "Epoch 11/25\n",
            "54/54 - 23s - loss: 0.0034 - accuracy: 0.9983 - val_loss: 0.0084 - val_accuracy: 0.9977 - 23s/epoch - 419ms/step\n",
            "Epoch 12/25\n",
            "54/54 - 23s - loss: 0.0040 - accuracy: 0.9983 - val_loss: 0.0326 - val_accuracy: 0.9907 - 23s/epoch - 418ms/step\n",
            "Epoch 13/25\n",
            "54/54 - 23s - loss: 0.1050 - accuracy: 0.9855 - val_loss: 21.1705 - val_accuracy: 0.5370 - 23s/epoch - 417ms/step\n",
            "Epoch 14/25\n",
            "54/54 - 23s - loss: 0.0969 - accuracy: 0.9826 - val_loss: 0.2742 - val_accuracy: 0.9560 - 23s/epoch - 419ms/step\n",
            "Epoch 15/25\n",
            "54/54 - 22s - loss: 0.0542 - accuracy: 0.9861 - val_loss: 0.0408 - val_accuracy: 0.9861 - 22s/epoch - 416ms/step\n",
            "Epoch 16/25\n",
            "54/54 - 22s - loss: 0.0192 - accuracy: 0.9959 - val_loss: 0.0372 - val_accuracy: 0.9861 - 22s/epoch - 417ms/step\n",
            "Epoch 17/25\n",
            "54/54 - 22s - loss: 0.0219 - accuracy: 0.9942 - val_loss: 0.0210 - val_accuracy: 0.9931 - 22s/epoch - 415ms/step\n",
            "Epoch 18/25\n",
            "54/54 - 22s - loss: 0.0153 - accuracy: 0.9936 - val_loss: 0.0618 - val_accuracy: 0.9815 - 22s/epoch - 417ms/step\n",
            "Epoch 19/25\n",
            "54/54 - 22s - loss: 0.0039 - accuracy: 0.9983 - val_loss: 0.0400 - val_accuracy: 0.9884 - 22s/epoch - 414ms/step\n",
            "Epoch 20/25\n",
            "54/54 - 22s - loss: 0.0069 - accuracy: 0.9971 - val_loss: 0.0960 - val_accuracy: 0.9745 - 22s/epoch - 416ms/step\n",
            "Epoch 21/25\n",
            "54/54 - 23s - loss: 0.0107 - accuracy: 0.9965 - val_loss: 0.0211 - val_accuracy: 0.9931 - 23s/epoch - 417ms/step\n",
            "Epoch 22/25\n",
            "54/54 - 23s - loss: 0.0222 - accuracy: 0.9954 - val_loss: 0.2170 - val_accuracy: 0.9653 - 23s/epoch - 418ms/step\n",
            "Epoch 23/25\n",
            "54/54 - 23s - loss: 0.0117 - accuracy: 0.9965 - val_loss: 0.0859 - val_accuracy: 0.9815 - 23s/epoch - 420ms/step\n",
            "Epoch 24/25\n",
            "54/54 - 23s - loss: 0.0053 - accuracy: 0.9988 - val_loss: 0.0614 - val_accuracy: 0.9884 - 23s/epoch - 418ms/step\n",
            "Epoch 25/25\n",
            "54/54 - 23s - loss: 0.0016 - accuracy: 0.9994 - val_loss: 0.0654 - val_accuracy: 0.9884 - 23s/epoch - 422ms/step\n"
          ]
        },
        {
          "output_type": "display_data",
          "data": {
            "text/plain": [
              "<Figure size 432x288 with 1 Axes>"
            ],
            "image/png": "[encoded data removed]"
          },
          "metadata": {
            "needs_background": "light"
          }
        },
        {
          "output_type": "display_data",
          "data": {
            "text/plain": [
              "<Figure size 432x288 with 1 Axes>"
            ],
            "image/png": "[encoded data removed]"
          },
          "metadata": {
            "needs_background": "light"
          }
        },
        {
          "output_type": "stream",
          "name": "stdout",
          "text": [
            "***Performance Data***\n",
            "Accuracy  : 0.975925925925926\n",
            "Precision : 0.975925925925926\n",
            "f1Score : 0.975925925925926\n",
            "Recall : 0.975925925925926\n",
            "[[180   0   0]\n",
            " [  1 177   2]\n",
            " [  5   5 170]]\n",
            "***----------------------------***\n",
            "17/17 [==============================] - 5s 334ms/step - loss: 0.2790 - accuracy: 0.9759\n",
            "***-----------------------------------------------***\n",
            "Overall Accuracy:  0.9214814814814816\n",
            "Overall Precision:  0.9214814814814816\n",
            "Overall f1Score:  0.9214814814814816\n",
            "Overall Recall:  0.9214814814814816\n",
            "***------------------End of Line------------------***\n"
          ]
        }
      ],
      "source": [
        "for train_index, val_index in skf.split(X, Y):\n",
        "    print(\"trn_indx: %s test_indx: %s\" % (len(train_index), len(val_index)))\n",
        "    #First cut all images from validation to train (if any exists)\n",
        "    transferAllClassBetweenFolders('valid', 'train', 1.0)\n",
        "    #no valid\n",
        "    #transferAllClassBetweenFolders('test', 'train', 1.0)\n",
        "    foldNum+=1\n",
        "    print(\"Results for fold\",foldNum)\n",
        "    X_train, X_val = X[train_index], X[val_index]\n",
        "    Y_train, Y_val = Y[train_index], Y[val_index]\n",
        "    print(len(X_train))\n",
        "    print(len(X_val))\n",
        "    # Move validation images of this fold from train folder to the validation folder\n",
        "    for eachIndex in range(len(X_val)):\n",
        "        classLabel=''\n",
        "        for i in range(len(classLabels)):\n",
        "          if(Y_val[eachIndex]==i):\n",
        "              classLabel=classLabels[i]\n",
        "        #Then, copy the validation images to the validation folder\n",
        "        shutil.move(sourcePath+'/train/'+classLabel+'/'+X_val[eachIndex], \n",
        "                    sourcePath+'/valid/'+classLabel+'/'+X_val[eachIndex])\n",
        "        #without valid\n",
        "                    #sourcePath+'/test/'+classLabel+'/'+X_val[eachIndex])\n",
        "        \n",
        "    train_batches = ImageDataGenerator().flow_from_directory(train_path, target_size=(256,256), classes=['covid', 'normal', 'pneumonia'], class_mode = 'sparse', batch_size = 32, shuffle=True)\n",
        "    #without valid\n",
        "    valid_batches = ImageDataGenerator().flow_from_directory(valid_path, target_size=(256,256), classes=['covid', 'normal', 'pneumonia'], class_mode = 'sparse', batch_size = 32, shuffle=True)\n",
        "    test_batches = ImageDataGenerator().flow_from_directory(test_path, target_size=(256,256), classes=['covid', 'normal', 'pneumonia'], class_mode = 'sparse', batch_size = 32, shuffle=False)\n",
        "\n",
        "    history = model.fit(train_batches, \n",
        "                    #steps_per_epoch=sp_epoch, \n",
        "                    #without valid\n",
        "                    validation_data=valid_batches, \n",
        "                    #validation_steps=10, \n",
        "                    epochs=25, \n",
        "                    verbose=2)\n",
        "    \n",
        "    \n",
        "    \n",
        "    plt.plot(history.history['accuracy'])\n",
        "    plt.plot(history.history['val_accuracy'])\n",
        "    plt.title('Final Cbam model accuracy')\n",
        "    plt.ylim(0,1.1)\n",
        "    plt.ylabel('accuracy')\n",
        "    plt.xlabel('epoch')\n",
        "    plt.legend(['train', 'valid'], loc='upper left')\n",
        "    #without valid\n",
        "    #plt.legend(['train'], loc='upper left')\n",
        "    plt.show()\n",
        "    # summarize history for loss\n",
        "    plt.plot(history.history['loss'])\n",
        "    plt.plot(history.history['val_loss'])\n",
        "    plt.title('Final Cbam model loss')\n",
        "    plt.ylim(0,1.1)\n",
        "    plt.ylabel('loss')\n",
        "    plt.xlabel('epoch')\n",
        "    plt.legend(['train', 'valid'], loc='upper left')\n",
        "    #without valid\n",
        "    #plt.legend(['train'], loc='upper left')\n",
        "    plt.show()\n",
        "    test_batches.reset()\n",
        "    Y_pred = model.predict(test_batches)\n",
        "    classes = test_batches.classes[test_batches.index_array]\n",
        "    y_pred = np.argmax(Y_pred, axis=-1)\n",
        "    #print(\"***Performance on Test Data***\")  \n",
        "    #print(sum(y_pred==classes)/10000)\n",
        "    confusion_matrix(test_batches.classes[test_batches.index_array],y_pred)\n",
        "    #predictions = model.predict(test_batches, verbose=1)\n",
        "    #yPredictions = np.argmax(predictions, axis=1)\n",
        "    #print(yPredictions)\n",
        "    #true_classes = test_batches.classes\n",
        "    # evaluate validation performance\n",
        "    print(\"***Performance Data***\")    \n",
        "    #valAcc, valPrec, valFScore = my_metrics(true_classes, yPredictions)\n",
        "    valAcc, valPrec, valFScore, valRec = my_metrics(classes, y_pred)\n",
        "    overAllAcc = overAllAcc+valAcc\n",
        "    overAllPrec = overAllPrec+valPrec\n",
        "    overAllf1 = overAllf1+valFScore\n",
        "    overAllRec = overAllRec+valRec\n",
        "    \n",
        "    model.evaluate(test_batches)\n",
        "    print(\"***-----------------------------------------------***\")  \n",
        "    print(\"Overall Accuracy: \",  overAllAcc/foldNum)\n",
        "    print(\"Overall Precision: \",  overAllPrec/foldNum)\n",
        "    print(\"Overall f1Score: \",  overAllf1/foldNum)\n",
        "    print(\"Overall Recall: \",  overAllRec/foldNum)\n",
        "\n",
        "    print(\"***------------------End of Line------------------***\")    "
      ]
    }
  ],
  "metadata": {
    "accelerator": "GPU",
    "colab": {
      "collapsed_sections": [],
      "machine_shape": "hm",
      "name": "CBAM_FINAL.ipynb",
      "provenance": [],
      "include_colab_link": true
    },
    "kernelspec": {
      "display_name": "Python 3",
      "name": "python3"
    },
    "language_info": {
      "name": "python"
    }
  },
  "nbformat": 4,
  "nbformat_minor": 0
}