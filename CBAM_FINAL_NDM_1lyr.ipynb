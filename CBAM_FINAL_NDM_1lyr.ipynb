{
  "cells": [
    {
      "cell_type": "markdown",
      "metadata": {
        "id": "view-in-github",
        "colab_type": "text"
      },
      "source": [
        "<a href=\"https://colab.research.google.com/github/NicoAN42/SKRPSI/blob/main/CBAM_FINAL_1.ipynb\" target=\"_parent\"><img src=\"https://colab.research.google.com/assets/colab-badge.svg\" alt=\"Open In Colab\"/></a>"
      ]
    },
    {
      "cell_type": "code",
      "execution_count": 29,
      "metadata": {
        "colab": {
          "base_uri": "https://localhost:8080/"
        },
        "id": "bd3mi5ZLdBSv",
        "outputId": "cc4427af-1c2a-4b82-930b-59fa1ea27665"
      },
      "outputs": [
        {
          "output_type": "stream",
          "name": "stdout",
          "text": [
            "Drive already mounted at /content/drive; to attempt to forcibly remount, call drive.mount(\"/content/drive\", force_remount=True).\n"
          ]
        }
      ],
      "source": [
        "#mount dataset\n",
        "from google.colab import drive\n",
        "drive.mount('/content/drive')\n"
      ]
    },
    {
      "cell_type": "code",
      "execution_count": 30,
      "metadata": {
        "id": "mNr5eLs1WiKT"
      },
      "outputs": [],
      "source": [
        "from tensorflow.keras.layers import Conv2D, Input, concatenate, Activation, InputLayer, Dense, Reshape, Flatten, Add, multiply, Permute, Lambda, Concatenate\n",
        "from tensorflow.keras.layers import LeakyReLU,ReLU, MaxPooling2D, BatchNormalization,GlobalMaxPooling2D,GlobalAveragePooling2D\n",
        "from tensorflow.keras.models import Model, Sequential\n",
        "from tensorflow.keras import layers\n",
        "from tensorflow.keras.activations import softmax,sigmoid\n",
        "from tensorflow.keras.preprocessing.image import ImageDataGenerator\n",
        "from tensorflow.keras.optimizers import Adam, Nadam\n",
        "from tensorflow.keras.callbacks import EarlyStopping\n",
        "from tensorflow.keras.layers import Dropout,SpatialDropout2D,GaussianDropout\n",
        "from tensorflow.keras.optimizers.schedules import ExponentialDecay\n",
        "from tensorflow.keras.regularizers import l1,l2\n",
        "from tensorflow.keras import backend as K\n",
        "from __future__ import absolute_import\n",
        "from __future__ import division\n",
        "from __future__ import print_function\n",
        "import tensorflow\n",
        "import tensorflow as tf\n",
        "import math\n",
        "import matplotlib.pyplot as plt\n",
        "import numpy as np\n",
        "from sklearn.metrics import accuracy_score, f1_score, precision_score, confusion_matrix, recall_score\n",
        "from sklearn.model_selection import StratifiedKFold\n",
        "import os\n",
        "import random\n",
        "import shutil"
      ]
    },
    {
      "cell_type": "code",
      "execution_count": 31,
      "metadata": {
        "id": "M-dUDyotW99U"
      },
      "outputs": [],
      "source": [
        "#from tensorflow.keras.optimizers import SGD"
      ]
    },
    {
      "cell_type": "code",
      "execution_count": 32,
      "metadata": {
        "id": "1SKzQPoLeGUS"
      },
      "outputs": [],
      "source": [
        "CLASS = 3\n",
        "#sourcepath isi semua data train, folder valid kosongin datanya sisai folder classnya\n",
        "sourcePath = '/content/drive/MyDrive/Colab Notebooks/Dataset 090'\n",
        "train_path = '/content/drive/MyDrive/Colab Notebooks/Dataset 090/train'\n",
        "valid_path = '/content/drive/MyDrive/Colab Notebooks/Dataset 090/valid'\n",
        "test_path = '/content/drive/MyDrive/Colab Notebooks/Dataset 090/test'\n",
        "attention_module = 'cbam_block'\n",
        "#nico"
      ]
    },
    {
      "cell_type": "code",
      "execution_count": 33,
      "metadata": {
        "id": "qyuRvIz9mFu_"
      },
      "outputs": [],
      "source": [
        "classLabels =['covid','normal', 'pneumonia']"
      ]
    },
    {
      "cell_type": "code",
      "execution_count": 34,
      "metadata": {
        "id": "IiymK5QRgQVC"
      },
      "outputs": [],
      "source": [
        "def attach_attention_module(net, attention_module):\n",
        "  #if attention_module == 'se_block': # SE_block\n",
        "    #net = se_block(net)\n",
        "  if attention_module == 'cbam_block': # CBAM_block\n",
        "    net = cbam_block(net)\n",
        "  else:\n",
        "    raise Exception(\"'{}' is not supported attention module!\".format(attention_module))\n",
        "\n",
        "  return net"
      ]
    },
    {
      "cell_type": "code",
      "execution_count": 35,
      "metadata": {
        "id": "4E-9i3yHgQX8"
      },
      "outputs": [],
      "source": [
        "def cbam_block(cbam_feature, ratio=8):\n",
        "\t\"\"\"Contains the implementation of Convolutional Block Attention Module(CBAM) block.\n",
        "\tAs described in https://arxiv.org/abs/1807.06521.\n",
        "\t\"\"\"\n",
        "\t\n",
        "\tcbam_feature = channel_attention(cbam_feature, ratio)\n",
        "\tcbam_feature = spatial_attention(cbam_feature)\n",
        "\treturn cbam_feature\n"
      ]
    },
    {
      "cell_type": "code",
      "execution_count": 36,
      "metadata": {
        "id": "doOnf8U9YBM-"
      },
      "outputs": [],
      "source": [
        "def channel_attention(input_feature, ratio=8):\n",
        "\t\n",
        "\tchannel_axis = 1 if K.image_data_format() == \"channels_first\" else -1\n",
        "\tchannel = input_feature.shape[channel_axis]\n",
        "\t\n",
        "\tshared_layer_one = Dense(channel//ratio,\n",
        "\t\t\t\t\t\t\t activation='relu',\n",
        "\t\t\t\t\t\t\t kernel_initializer='he_normal',\n",
        "\t\t\t\t\t\t\t use_bias=True,\n",
        "\t\t\t\t\t\t\t bias_initializer='zeros')\n",
        "\tshared_layer_two = Dense(channel,\n",
        "\t\t\t\t\t\t\t kernel_initializer='he_normal',\n",
        "\t\t\t\t\t\t\t use_bias=True,\n",
        "\t\t\t\t\t\t\t bias_initializer='zeros')\n",
        "\t\n",
        "\tavg_pool = GlobalAveragePooling2D()(input_feature)    \n",
        "\tavg_pool = Reshape((1,1,channel))(avg_pool)\n",
        "\tassert avg_pool.shape[1:] == (1,1,channel)\n",
        "\tavg_pool = shared_layer_one(avg_pool)\n",
        "\tassert avg_pool.shape[1:] == (1,1,channel//ratio)\n",
        "\tavg_pool = shared_layer_two(avg_pool)\n",
        "\tassert avg_pool.shape[1:] == (1,1,channel)\n",
        "\t\n",
        "\tmax_pool = GlobalMaxPooling2D()(input_feature)\n",
        "\tmax_pool = Reshape((1,1,channel))(max_pool)\n",
        "\tassert max_pool.shape[1:] == (1,1,channel)\n",
        "\tmax_pool = shared_layer_one(max_pool)\n",
        "\tassert max_pool.shape[1:] == (1,1,channel//ratio)\n",
        "\tmax_pool = shared_layer_two(max_pool)\n",
        "\tassert max_pool.shape[1:] == (1,1,channel)\n",
        "\t\n",
        "\tcbam_feature = Add()([avg_pool,max_pool])\n",
        "\tcbam_feature = Activation('sigmoid')(cbam_feature)\n",
        "\t\n",
        "\tif K.image_data_format() == \"channels_first\":\n",
        "\t\tcbam_feature = Permute((3, 1, 2))(cbam_feature)\n",
        "\t\n",
        "\treturn multiply([input_feature, cbam_feature])"
      ]
    },
    {
      "cell_type": "code",
      "execution_count": 37,
      "metadata": {
        "id": "Xl7CStcEYE_h"
      },
      "outputs": [],
      "source": [
        "def spatial_attention(input_feature):\n",
        "\tkernel_size = 7\n",
        "\t\n",
        "\tif K.image_data_format() == \"channels_first\":\n",
        "\t\tchannel = input_feature.shape[1]\n",
        "\t\tcbam_feature = Permute((2,3,1))(input_feature)\n",
        "\telse:\n",
        "\t\tchannel = input_feature.shape[-1]\n",
        "\t\tcbam_feature = input_feature\n",
        "\t\n",
        "\tavg_pool = Lambda(lambda x: K.mean(x, axis=3, keepdims=True))(cbam_feature)\n",
        "\tassert avg_pool.shape[-1] == 1\n",
        "\tmax_pool = Lambda(lambda x: K.max(x, axis=3, keepdims=True))(cbam_feature)\n",
        "\tassert max_pool.shape[-1] == 1\n",
        "\tconcat = Concatenate(axis=3)([avg_pool, max_pool])\n",
        "\tassert concat.shape[-1] == 2\n",
        "\tcbam_feature = Conv2D(filters = 1,\n",
        "\t\t\t\t\tkernel_size=kernel_size,\n",
        "\t\t\t\t\tstrides=1,\n",
        "\t\t\t\t\tpadding='same',\n",
        "\t\t\t\t\tactivation='sigmoid',\n",
        "\t\t\t\t\tkernel_initializer='he_normal',\n",
        "\t\t\t\t\tuse_bias=False)(concat)\t\n",
        "\tassert cbam_feature.shape[-1] == 1\n",
        "\t\n",
        "\tif K.image_data_format() == \"channels_first\":\n",
        "\t\tcbam_feature = Permute((3, 1, 2))(cbam_feature)\n",
        "\t\t\n",
        "\treturn multiply([input_feature, cbam_feature])"
      ]
    },
    {
      "cell_type": "code",
      "execution_count": 38,
      "metadata": {
        "id": "q2Q9CbMzY1Rn"
      },
      "outputs": [],
      "source": [
        "input = Input(shape=(256,256,3))"
      ]
    },
    {
      "cell_type": "code",
      "execution_count": 39,
      "metadata": {
        "id": "YpZNBOFOZBJL"
      },
      "outputs": [],
      "source": [
        "#Layer 1\n",
        "model = layers.Conv2D(32, (3,3), padding='same', name='conv_1', activation = 'relu')(input)\n",
        "model = layers.BatchNormalization(name='norm_1')(model)\n",
        "model = layers.MaxPooling2D(pool_size=(2, 2), strides= 2)(model)\n",
        "attention_module = 'cbam_block'\n",
        "y = attach_attention_module(model, attention_module)\n",
        "model =  tensorflow.keras.layers.add([model, y])\n"
      ]
    },
    {
      "cell_type": "code",
      "execution_count": 40,
      "metadata": {
        "id": "pBvWdrCmZCsQ"
      },
      "outputs": [],
      "source": [
        "#Layer 2\n",
        "model = layers.Conv2D(64, (3,3), padding='same', name='conv_2', activation = 'relu')(model)\n",
        "model = layers.Dropout(0.1)(model)\n",
        "model = layers.BatchNormalization(name='norm_2')(model)\n",
        "model = layers.MaxPooling2D(pool_size=(2, 2), strides = 2)(model)\n",
        "\n",
        "#attention_module = 'cbam_block'\n",
        "#y = attach_attention_module(model, attention_module)\n",
        "#model =  tensorflow.keras.layers.add([model, y])\n"
      ]
    },
    {
      "cell_type": "code",
      "execution_count": 41,
      "metadata": {
        "id": "RBUvxL-9ZEO3"
      },
      "outputs": [],
      "source": [
        "# Layer 3\n",
        "model = layers.Conv2D(64, (3,3), padding='same', name='conv_3', activation = 'relu')(model)\n",
        "model = layers.BatchNormalization(name='norm_3')(model)\n",
        "model = layers.MaxPooling2D(pool_size=(2, 2), strides = 2)(model)\n",
        "\n",
        "#attention_module = 'cbam_block'\n",
        "#y = attach_attention_module(model, attention_module)\n",
        "#model =  tensorflow.keras.layers.add([model, y])\n",
        "\n"
      ]
    },
    {
      "cell_type": "code",
      "execution_count": 42,
      "metadata": {
        "id": "QKyPzn20ZI1Y"
      },
      "outputs": [],
      "source": [
        "# Layer 4\n",
        "model = layers.Conv2D(128, (3,3), padding='same', name='conv_4', activation = 'relu')(model)\n",
        "model = layers.Dropout(0.2)(model)\n",
        "model = layers.BatchNormalization(name='norm_4')(model)\n",
        "model = layers.MaxPooling2D(pool_size=(2, 2), strides = 2)(model)\n",
        "\n",
        "#attention_module = 'cbam_block'\n",
        "#y = attach_attention_module(model, attention_module)\n",
        "#model =  tensorflow.keras.layers.add([model, y])\n"
      ]
    },
    {
      "cell_type": "code",
      "execution_count": 43,
      "metadata": {
        "id": "tgLQSWDfZJ53"
      },
      "outputs": [],
      "source": [
        "# Layer 5\n",
        "model = layers.Conv2D(256, (3,3), padding='same', name='conv_5', activation = 'relu')(model)\n",
        "layer = layers.Conv2D(256, (3,3), padding='same', name='conv_5', activation = 'relu')\n",
        "batch = layers.BatchNormalization(name='norm_5')\n",
        "model = layers.Dropout(0.2)(model)\n",
        "model = layers.BatchNormalization(name='norm_5')(model)\n",
        "#model = layers.MaxPooling2D(pool_size=(2, 2), strides = 2)(model)"
      ]
    },
    {
      "cell_type": "code",
      "execution_count": 44,
      "metadata": {
        "id": "8_jONIoBZhXm"
      },
      "outputs": [],
      "source": [
        "model = layers.Flatten()(model)\n",
        "model = layers.Dense(128, activation = 'relu')(model)\n",
        "model = layers.Dropout(0.2)(model)\n",
        "output = layers.Dense(3,Activation('softmax'))(model)\n",
        "model = Model(input, output)"
      ]
    },
    {
      "cell_type": "code",
      "execution_count": 45,
      "metadata": {
        "id": "iDpUFSaVZigY"
      },
      "outputs": [],
      "source": [
        "#output = model.output_shape"
      ]
    },
    {
      "cell_type": "code",
      "execution_count": 46,
      "metadata": {
        "colab": {
          "base_uri": "https://localhost:8080/"
        },
        "id": "qRYlJT_4ZkhM",
        "outputId": "9d6d8f66-6d8d-4caa-eeb0-13f5baa3c609"
      },
      "outputs": [
        {
          "output_type": "stream",
          "name": "stdout",
          "text": [
            "KerasTensor(type_spec=TensorSpec(shape=(None, 256, 256, 3), dtype=tf.float32, name='input_2'), name='input_2', description=\"created by layer 'input_2'\")\n"
          ]
        }
      ],
      "source": [
        "print(input)"
      ]
    },
    {
      "cell_type": "code",
      "execution_count": 47,
      "metadata": {
        "id": "1AMvVOzNL8Bw"
      },
      "outputs": [],
      "source": [
        "#initial_learning_rate=0.0001"
      ]
    },
    {
      "cell_type": "code",
      "execution_count": 48,
      "metadata": {
        "id": "DwCqyvBhLupX"
      },
      "outputs": [],
      "source": [
        "#lr_schedule = ExponentialDecay(\n",
        "#   initial_learning_rate, decay_steps=100000, decay_rate=0.96, staircase=True\n",
        "#)\n"
      ]
    },
    {
      "cell_type": "code",
      "execution_count": 49,
      "metadata": {
        "id": "JdlrgYZwZnEd"
      },
      "outputs": [],
      "source": [
        "opt = Nadam(learning_rate=0.001, beta_1=0.9, beta_2=0.999)"
      ]
    },
    {
      "cell_type": "code",
      "execution_count": 50,
      "metadata": {
        "id": "oOIL33yEZpPX"
      },
      "outputs": [],
      "source": [
        "model.compile(optimizer=opt, loss=\"sparse_categorical_crossentropy\", metrics=[\"accuracy\"] )"
      ]
    },
    {
      "cell_type": "code",
      "execution_count": 51,
      "metadata": {
        "colab": {
          "base_uri": "https://localhost:8080/"
        },
        "id": "99dNdRxNZqh5",
        "outputId": "c0fc7759-17c6-4008-bb1b-5a7b3b355d34"
      },
      "outputs": [
        {
          "output_type": "stream",
          "name": "stdout",
          "text": [
            "Model: \"model_1\"\n",
            "__________________________________________________________________________________________________\n",
            " Layer (type)                   Output Shape         Param #     Connected to                     \n",
            "==================================================================================================\n",
            " input_2 (InputLayer)           [(None, 256, 256, 3  0           []                               \n",
            "                                )]                                                                \n",
            "                                                                                                  \n",
            " conv_1 (Conv2D)                (None, 256, 256, 32  896         ['input_2[0][0]']                \n",
            "                                )                                                                 \n",
            "                                                                                                  \n",
            " norm_1 (BatchNormalization)    (None, 256, 256, 32  128         ['conv_1[0][0]']                 \n",
            "                                )                                                                 \n",
            "                                                                                                  \n",
            " max_pooling2d_4 (MaxPooling2D)  (None, 128, 128, 32  0          ['norm_1[0][0]']                 \n",
            "                                )                                                                 \n",
            "                                                                                                  \n",
            " global_average_pooling2d_1 (Gl  (None, 32)          0           ['max_pooling2d_4[0][0]']        \n",
            " obalAveragePooling2D)                                                                            \n",
            "                                                                                                  \n",
            " global_max_pooling2d_1 (Global  (None, 32)          0           ['max_pooling2d_4[0][0]']        \n",
            " MaxPooling2D)                                                                                    \n",
            "                                                                                                  \n",
            " reshape_2 (Reshape)            (None, 1, 1, 32)     0           ['global_average_pooling2d_1[0][0\n",
            "                                                                 ]']                              \n",
            "                                                                                                  \n",
            " reshape_3 (Reshape)            (None, 1, 1, 32)     0           ['global_max_pooling2d_1[0][0]'] \n",
            "                                                                                                  \n",
            " dense_4 (Dense)                (None, 1, 1, 4)      132         ['reshape_2[0][0]',              \n",
            "                                                                  'reshape_3[0][0]']              \n",
            "                                                                                                  \n",
            " dense_5 (Dense)                (None, 1, 1, 32)     160         ['dense_4[0][0]',                \n",
            "                                                                  'dense_4[1][0]']                \n",
            "                                                                                                  \n",
            " add_2 (Add)                    (None, 1, 1, 32)     0           ['dense_5[0][0]',                \n",
            "                                                                  'dense_5[1][0]']                \n",
            "                                                                                                  \n",
            " activation_2 (Activation)      (None, 1, 1, 32)     0           ['add_2[0][0]']                  \n",
            "                                                                                                  \n",
            " multiply_2 (Multiply)          (None, 128, 128, 32  0           ['max_pooling2d_4[0][0]',        \n",
            "                                )                                 'activation_2[0][0]']           \n",
            "                                                                                                  \n",
            " lambda_2 (Lambda)              (None, 128, 128, 1)  0           ['multiply_2[0][0]']             \n",
            "                                                                                                  \n",
            " lambda_3 (Lambda)              (None, 128, 128, 1)  0           ['multiply_2[0][0]']             \n",
            "                                                                                                  \n",
            " concatenate_1 (Concatenate)    (None, 128, 128, 2)  0           ['lambda_2[0][0]',               \n",
            "                                                                  'lambda_3[0][0]']               \n",
            "                                                                                                  \n",
            " conv2d_1 (Conv2D)              (None, 128, 128, 1)  98          ['concatenate_1[0][0]']          \n",
            "                                                                                                  \n",
            " multiply_3 (Multiply)          (None, 128, 128, 32  0           ['multiply_2[0][0]',             \n",
            "                                )                                 'conv2d_1[0][0]']               \n",
            "                                                                                                  \n",
            " add_3 (Add)                    (None, 128, 128, 32  0           ['max_pooling2d_4[0][0]',        \n",
            "                                )                                 'multiply_3[0][0]']             \n",
            "                                                                                                  \n",
            " conv_2 (Conv2D)                (None, 128, 128, 64  18496       ['add_3[0][0]']                  \n",
            "                                )                                                                 \n",
            "                                                                                                  \n",
            " dropout_4 (Dropout)            (None, 128, 128, 64  0           ['conv_2[0][0]']                 \n",
            "                                )                                                                 \n",
            "                                                                                                  \n",
            " norm_2 (BatchNormalization)    (None, 128, 128, 64  256         ['dropout_4[0][0]']              \n",
            "                                )                                                                 \n",
            "                                                                                                  \n",
            " max_pooling2d_5 (MaxPooling2D)  (None, 64, 64, 64)  0           ['norm_2[0][0]']                 \n",
            "                                                                                                  \n",
            " conv_3 (Conv2D)                (None, 64, 64, 64)   36928       ['max_pooling2d_5[0][0]']        \n",
            "                                                                                                  \n",
            " norm_3 (BatchNormalization)    (None, 64, 64, 64)   256         ['conv_3[0][0]']                 \n",
            "                                                                                                  \n",
            " max_pooling2d_6 (MaxPooling2D)  (None, 32, 32, 64)  0           ['norm_3[0][0]']                 \n",
            "                                                                                                  \n",
            " conv_4 (Conv2D)                (None, 32, 32, 128)  73856       ['max_pooling2d_6[0][0]']        \n",
            "                                                                                                  \n",
            " dropout_5 (Dropout)            (None, 32, 32, 128)  0           ['conv_4[0][0]']                 \n",
            "                                                                                                  \n",
            " norm_4 (BatchNormalization)    (None, 32, 32, 128)  512         ['dropout_5[0][0]']              \n",
            "                                                                                                  \n",
            " max_pooling2d_7 (MaxPooling2D)  (None, 16, 16, 128)  0          ['norm_4[0][0]']                 \n",
            "                                                                                                  \n",
            " conv_5 (Conv2D)                (None, 16, 16, 256)  295168      ['max_pooling2d_7[0][0]']        \n",
            "                                                                                                  \n",
            " dropout_6 (Dropout)            (None, 16, 16, 256)  0           ['conv_5[0][0]']                 \n",
            "                                                                                                  \n",
            " norm_5 (BatchNormalization)    (None, 16, 16, 256)  1024        ['dropout_6[0][0]']              \n",
            "                                                                                                  \n",
            " flatten_1 (Flatten)            (None, 65536)        0           ['norm_5[0][0]']                 \n",
            "                                                                                                  \n",
            " dense_6 (Dense)                (None, 128)          8388736     ['flatten_1[0][0]']              \n",
            "                                                                                                  \n",
            " dropout_7 (Dropout)            (None, 128)          0           ['dense_6[0][0]']                \n",
            "                                                                                                  \n",
            " dense_7 (Dense)                (None, 3)            387         ['dropout_7[0][0]']              \n",
            "                                                                                                  \n",
            "==================================================================================================\n",
            "Total params: 8,817,033\n",
            "Trainable params: 8,815,945\n",
            "Non-trainable params: 1,088\n",
            "__________________________________________________________________________________________________\n",
            "None\n",
            "<keras.engine.functional.Functional object at 0x7f761db03cd0>\n"
          ]
        }
      ],
      "source": [
        "print(model.summary())\n",
        "print(model)"
      ]
    },
    {
      "cell_type": "code",
      "execution_count": 52,
      "metadata": {
        "id": "NIABPyRMYycd"
      },
      "outputs": [],
      "source": [
        "X = []\n",
        "Y = []\n",
        "def transferBetweenFolders(source, dest, splitRate): \n",
        "    global sourceFiles\n",
        "    sourceFiles=os.listdir(source)\n",
        "    if(len(sourceFiles)!=0):\n",
        "        transferFileNumbers=int(len(sourceFiles)*splitRate)\n",
        "        transferIndex=random.sample(range(0, len(sourceFiles)), transferFileNumbers)\n",
        "        for eachIndex in transferIndex:\n",
        "            shutil.move(source+str(sourceFiles[eachIndex]), dest+str(sourceFiles[eachIndex]))\n",
        "    else:\n",
        "        print(\"No file moved. Source empty!\")\n",
        "        "
      ]
    },
    {
      "cell_type": "code",
      "execution_count": 53,
      "metadata": {
        "id": "Fh0THhOaY0Da"
      },
      "outputs": [],
      "source": [
        "def transferAllClassBetweenFolders(source, dest, splitRate):\n",
        "    for label in classLabels:\n",
        "        transferBetweenFolders(sourcePath+'/'+source+'/'+label+'/', \n",
        "                               sourcePath+'/'+dest+'/'+label+'/', \n",
        "                               splitRate)\n",
        "#First cut all images from validation to train (if any exists)\n",
        "transferAllClassBetweenFolders('valid', 'train', 1.0)\n",
        "#no valid\n",
        "transferAllClassBetweenFolders('test', 'train', 1.0)"
      ]
    },
    {
      "cell_type": "code",
      "execution_count": 54,
      "metadata": {
        "id": "bvS9lltuY5_4"
      },
      "outputs": [],
      "source": [
        "def prepareNameWithLabels(folderName):\n",
        "    sourceFiles=os.listdir(sourcePath+'/train/'+folderName)\n",
        "    for val in sourceFiles:\n",
        "        X.append(val)\n",
        "        for i in range(len(classLabels)):\n",
        "          if(folderName==classLabels[i]):\n",
        "              Y.append(i)\n",
        "# Organize file names and class labels in X and Y variables\n",
        "for i in range(len(classLabels)):\n",
        "  prepareNameWithLabels(classLabels[i])\n",
        "\n",
        "def my_metrics(y_true, y_pred):\n",
        "    accuracy=accuracy_score(y_true, y_pred)\n",
        "    precision=precision_score(y_true, y_pred,average='micro')\n",
        "    f1Score=f1_score(y_true, y_pred, average='micro') \n",
        "    recall = recall_score(y_true, y_pred, average='micro')\n",
        "    print(\"Accuracy  : {}\".format(accuracy))\n",
        "    print(\"Precision : {}\".format(precision))\n",
        "    print(\"f1Score : {}\".format(f1Score))\n",
        "    print(\"Recall : {}\".format(recall))\n",
        "    cm=confusion_matrix(y_true, y_pred)\n",
        "    print(cm)\n",
        "\n",
        "    print(\"***----------------------------***\")  \n",
        "    return accuracy, precision, f1Score, recall"
      ]
    },
    {
      "cell_type": "code",
      "execution_count": 55,
      "metadata": {
        "colab": {
          "base_uri": "https://localhost:8080/"
        },
        "id": "7hjflR4gZW0Y",
        "outputId": "f894acec-3237-4f46-a582-d1bbf7f822b7"
      },
      "outputs": [
        {
          "output_type": "stream",
          "name": "stdout",
          "text": [
            "No file moved. Source empty!\n",
            "No file moved. Source empty!\n",
            "No file moved. Source empty!\n",
            "No file moved. Source empty!\n",
            "No file moved. Source empty!\n",
            "No file moved. Source empty!\n",
            "['COVID(8).png' 'COVID(90).png' 'COVID(112).png' ...\n",
            " 'person264_bacteria_1231.jpeg' 'person260_bacteria_1224.jpeg'\n",
            " 'person259_bacteria_1220.jpeg']\n",
            "[0 0 0 ... 2 2 2]\n",
            "StratifiedKFold(n_splits=5, random_state=None, shuffle=True)\n",
            "5\n",
            "<generator object _BaseKFold.split at 0x7f761dbf37d0>\n"
          ]
        }
      ],
      "source": [
        "transferAllClassBetweenFolders('valid', 'train', 1.0)\n",
        "transferAllClassBetweenFolders('test', 'train', 1.0)\n",
        "X=np.asarray(X)\n",
        "Y=np.asarray(Y)\n",
        "\n",
        "print(X)\n",
        "print(Y)\n",
        "\n",
        "skf = StratifiedKFold(n_splits=5\n",
        "                      , shuffle=True)\n",
        "skf.get_n_splits(X, Y)\n",
        "print(skf)\n",
        "print(skf.get_n_splits(X,Y))\n",
        "print(skf.split(X,Y))\n",
        "foldNum=0\n",
        "overAllAcc = 0\n",
        "overAllPrec = 0\n",
        "overAllf1 = 0\n",
        "overAllRec = 0"
      ]
    },
    {
      "cell_type": "code",
      "execution_count": 56,
      "metadata": {
        "colab": {
          "base_uri": "https://localhost:8080/",
          "height": 1000
        },
        "id": "TsQVUi57ZDHg",
        "outputId": "86f4f57f-e2fd-4aae-d4ec-836019a50a05"
      },
      "outputs": [
        {
          "output_type": "stream",
          "name": "stdout",
          "text": [
            "trn_indx: 2160 test_indx: 540\n",
            "No file moved. Source empty!\n",
            "No file moved. Source empty!\n",
            "No file moved. Source empty!\n",
            "No file moved. Source empty!\n",
            "No file moved. Source empty!\n",
            "No file moved. Source empty!\n",
            "Results for fold 1\n",
            "2160\n",
            "540\n",
            "Found 2160 images belonging to 3 classes.\n",
            "Found 540 images belonging to 3 classes.\n",
            "Epoch 1/25\n",
            "68/68 - 726s - loss: 0.9485 - accuracy: 0.8778 - 726s/epoch - 11s/step\n",
            "Epoch 2/25\n",
            "68/68 - 23s - loss: 0.1892 - accuracy: 0.9426 - 23s/epoch - 331ms/step\n",
            "Epoch 3/25\n",
            "68/68 - 23s - loss: 0.4022 - accuracy: 0.9139 - 23s/epoch - 333ms/step\n",
            "Epoch 4/25\n",
            "68/68 - 23s - loss: 0.1754 - accuracy: 0.9477 - 23s/epoch - 336ms/step\n",
            "Epoch 5/25\n",
            "68/68 - 22s - loss: 0.1014 - accuracy: 0.9676 - 22s/epoch - 329ms/step\n",
            "Epoch 6/25\n",
            "68/68 - 22s - loss: 0.0823 - accuracy: 0.9699 - 22s/epoch - 331ms/step\n",
            "Epoch 7/25\n",
            "68/68 - 23s - loss: 0.0491 - accuracy: 0.9810 - 23s/epoch - 333ms/step\n",
            "Epoch 8/25\n",
            "68/68 - 23s - loss: 0.0617 - accuracy: 0.9815 - 23s/epoch - 332ms/step\n",
            "Epoch 9/25\n",
            "68/68 - 23s - loss: 0.0320 - accuracy: 0.9889 - 23s/epoch - 332ms/step\n",
            "Epoch 10/25\n",
            "68/68 - 23s - loss: 0.0330 - accuracy: 0.9898 - 23s/epoch - 332ms/step\n",
            "Epoch 11/25\n",
            "68/68 - 23s - loss: 0.0410 - accuracy: 0.9870 - 23s/epoch - 332ms/step\n",
            "Epoch 12/25\n",
            "68/68 - 23s - loss: 0.0265 - accuracy: 0.9912 - 23s/epoch - 333ms/step\n",
            "Epoch 13/25\n",
            "68/68 - 23s - loss: 0.0302 - accuracy: 0.9921 - 23s/epoch - 332ms/step\n",
            "Epoch 14/25\n",
            "68/68 - 23s - loss: 0.0144 - accuracy: 0.9944 - 23s/epoch - 333ms/step\n",
            "Epoch 15/25\n",
            "68/68 - 22s - loss: 0.3400 - accuracy: 0.9579 - 22s/epoch - 331ms/step\n",
            "Epoch 16/25\n",
            "68/68 - 23s - loss: 0.1570 - accuracy: 0.9556 - 23s/epoch - 334ms/step\n",
            "Epoch 17/25\n",
            "68/68 - 23s - loss: 0.1068 - accuracy: 0.9722 - 23s/epoch - 333ms/step\n",
            "Epoch 18/25\n",
            "68/68 - 23s - loss: 0.2813 - accuracy: 0.9444 - 23s/epoch - 332ms/step\n",
            "Epoch 19/25\n",
            "68/68 - 23s - loss: 0.1074 - accuracy: 0.9676 - 23s/epoch - 333ms/step\n",
            "Epoch 20/25\n",
            "68/68 - 23s - loss: 0.0428 - accuracy: 0.9847 - 23s/epoch - 334ms/step\n",
            "Epoch 21/25\n",
            "68/68 - 23s - loss: 0.0324 - accuracy: 0.9875 - 23s/epoch - 336ms/step\n",
            "Epoch 22/25\n",
            "68/68 - 23s - loss: 0.0249 - accuracy: 0.9903 - 23s/epoch - 332ms/step\n",
            "Epoch 23/25\n",
            "68/68 - 22s - loss: 0.0256 - accuracy: 0.9894 - 22s/epoch - 331ms/step\n",
            "Epoch 24/25\n",
            "68/68 - 23s - loss: 0.0175 - accuracy: 0.9958 - 23s/epoch - 333ms/step\n",
            "Epoch 25/25\n",
            "68/68 - 23s - loss: 0.0100 - accuracy: 0.9963 - 23s/epoch - 332ms/step\n"
          ]
        },
        {
          "output_type": "display_data",
          "data": {
            "text/plain": [
              "<Figure size 432x288 with 1 Axes>"
            ],
            "image/png": "[encoded data removed]"
          },
          "metadata": {
            "needs_background": "light"
          }
        },
        {
          "output_type": "display_data",
          "data": {
            "text/plain": [
              "<Figure size 432x288 with 1 Axes>"
            ],
            "image/png": "[encoded data removed]"
          },
          "metadata": {
            "needs_background": "light"
          }
        },
        {
          "output_type": "stream",
          "name": "stdout",
          "text": [
            "***Performance Data***\n",
            "Accuracy  : 0.9648148148148148\n",
            "Precision : 0.9648148148148148\n",
            "f1Score : 0.9648148148148148\n",
            "Recall : 0.9648148148148148\n",
            "[[176   0   4]\n",
            " [  1 168  11]\n",
            " [  1   2 177]]\n",
            "***----------------------------***\n",
            "17/17 [==============================] - 6s 323ms/step - loss: 0.1332 - accuracy: 0.9648\n",
            "Overall Accuracy:  0.9648148148148148\n",
            "Overall Precision:  0.9648148148148148\n",
            "Overall f1Score:  0.9648148148148148\n",
            "Overall Recall:  0.9648148148148148\n",
            "***------------------End of Line------------------***\n",
            "trn_indx: 2160 test_indx: 540\n",
            "No file moved. Source empty!\n",
            "No file moved. Source empty!\n",
            "No file moved. Source empty!\n",
            "Results for fold 2\n",
            "2160\n",
            "540\n",
            "Found 2160 images belonging to 3 classes.\n",
            "Found 540 images belonging to 3 classes.\n",
            "Epoch 1/25\n",
            "68/68 - 22s - loss: 0.0545 - accuracy: 0.9852 - 22s/epoch - 330ms/step\n",
            "Epoch 2/25\n",
            "68/68 - 23s - loss: 0.0419 - accuracy: 0.9861 - 23s/epoch - 332ms/step\n",
            "Epoch 3/25\n",
            "68/68 - 22s - loss: 0.0614 - accuracy: 0.9819 - 22s/epoch - 328ms/step\n",
            "Epoch 4/25\n",
            "68/68 - 22s - loss: 0.0359 - accuracy: 0.9903 - 22s/epoch - 331ms/step\n",
            "Epoch 5/25\n",
            "68/68 - 22s - loss: 0.0268 - accuracy: 0.9917 - 22s/epoch - 329ms/step\n",
            "Epoch 6/25\n",
            "68/68 - 23s - loss: 0.0179 - accuracy: 0.9931 - 23s/epoch - 331ms/step\n",
            "Epoch 7/25\n",
            "68/68 - 22s - loss: 0.0196 - accuracy: 0.9931 - 22s/epoch - 327ms/step\n",
            "Epoch 8/25\n",
            "68/68 - 23s - loss: 0.0222 - accuracy: 0.9921 - 23s/epoch - 331ms/step\n",
            "Epoch 9/25\n",
            "68/68 - 22s - loss: 0.0161 - accuracy: 0.9944 - 22s/epoch - 328ms/step\n",
            "Epoch 10/25\n",
            "68/68 - 22s - loss: 0.0446 - accuracy: 0.9894 - 22s/epoch - 328ms/step\n",
            "Epoch 11/25\n",
            "68/68 - 23s - loss: 0.0163 - accuracy: 0.9940 - 23s/epoch - 333ms/step\n",
            "Epoch 12/25\n",
            "68/68 - 23s - loss: 0.0194 - accuracy: 0.9935 - 23s/epoch - 332ms/step\n",
            "Epoch 13/25\n",
            "68/68 - 22s - loss: 0.0134 - accuracy: 0.9954 - 22s/epoch - 327ms/step\n",
            "Epoch 14/25\n",
            "68/68 - 22s - loss: 0.0250 - accuracy: 0.9935 - 22s/epoch - 329ms/step\n",
            "Epoch 15/25\n",
            "68/68 - 22s - loss: 0.0152 - accuracy: 0.9963 - 22s/epoch - 325ms/step\n",
            "Epoch 16/25\n",
            "68/68 - 22s - loss: 0.0282 - accuracy: 0.9926 - 22s/epoch - 326ms/step\n",
            "Epoch 17/25\n",
            "68/68 - 22s - loss: 0.0276 - accuracy: 0.9907 - 22s/epoch - 328ms/step\n",
            "Epoch 18/25\n",
            "68/68 - 22s - loss: 0.0200 - accuracy: 0.9949 - 22s/epoch - 325ms/step\n",
            "Epoch 19/25\n",
            "68/68 - 22s - loss: 0.0087 - accuracy: 0.9954 - 22s/epoch - 329ms/step\n",
            "Epoch 20/25\n",
            "68/68 - 22s - loss: 0.0042 - accuracy: 0.9981 - 22s/epoch - 327ms/step\n",
            "Epoch 21/25\n",
            "68/68 - 22s - loss: 0.0202 - accuracy: 0.9935 - 22s/epoch - 326ms/step\n",
            "Epoch 22/25\n",
            "68/68 - 22s - loss: 0.0264 - accuracy: 0.9935 - 22s/epoch - 327ms/step\n",
            "Epoch 23/25\n",
            "68/68 - 22s - loss: 0.0600 - accuracy: 0.9856 - 22s/epoch - 328ms/step\n",
            "Epoch 24/25\n",
            "68/68 - 22s - loss: 0.0425 - accuracy: 0.9838 - 22s/epoch - 330ms/step\n",
            "Epoch 25/25\n",
            "68/68 - 23s - loss: 0.0304 - accuracy: 0.9940 - 23s/epoch - 332ms/step\n"
          ]
        },
        {
          "output_type": "display_data",
          "data": {
            "text/plain": [
              "<Figure size 432x288 with 1 Axes>"
            ],
            "image/png": "[encoded data removed]"
          },
          "metadata": {
            "needs_background": "light"
          }
        },
        {
          "output_type": "display_data",
          "data": {
            "text/plain": [
              "<Figure size 432x288 with 1 Axes>"
            ],
            "image/png": "[encoded data removed]"
          },
          "metadata": {
            "needs_background": "light"
          }
        },
        {
          "output_type": "stream",
          "name": "stdout",
          "text": [
            "***Performance Data***\n",
            "Accuracy  : 0.9685185185185186\n",
            "Precision : 0.9685185185185186\n",
            "f1Score : 0.9685185185185186\n",
            "Recall : 0.9685185185185186\n",
            "[[180   0   0]\n",
            " [  4 171   5]\n",
            " [  7   1 172]]\n",
            "***----------------------------***\n",
            "17/17 [==============================] - 6s 352ms/step - loss: 0.1485 - accuracy: 0.9685\n",
            "Overall Accuracy:  0.9666666666666667\n",
            "Overall Precision:  0.9666666666666667\n",
            "Overall f1Score:  0.9666666666666667\n",
            "Overall Recall:  0.9666666666666667\n",
            "***------------------End of Line------------------***\n",
            "trn_indx: 2160 test_indx: 540\n",
            "No file moved. Source empty!\n",
            "No file moved. Source empty!\n",
            "No file moved. Source empty!\n",
            "Results for fold 3\n",
            "2160\n",
            "540\n",
            "Found 2160 images belonging to 3 classes.\n",
            "Found 540 images belonging to 3 classes.\n",
            "Epoch 1/25\n",
            "68/68 - 22s - loss: 0.0257 - accuracy: 0.9917 - 22s/epoch - 327ms/step\n",
            "Epoch 2/25\n",
            "68/68 - 23s - loss: 0.0457 - accuracy: 0.9903 - 23s/epoch - 332ms/step\n",
            "Epoch 3/25\n",
            "68/68 - 22s - loss: 0.0073 - accuracy: 0.9972 - 22s/epoch - 326ms/step\n",
            "Epoch 4/25\n",
            "68/68 - 23s - loss: 0.0328 - accuracy: 0.9912 - 23s/epoch - 331ms/step\n",
            "Epoch 5/25\n",
            "68/68 - 22s - loss: 0.0189 - accuracy: 0.9940 - 22s/epoch - 328ms/step\n",
            "Epoch 6/25\n",
            "68/68 - 22s - loss: 0.0534 - accuracy: 0.9870 - 22s/epoch - 329ms/step\n",
            "Epoch 7/25\n",
            "68/68 - 22s - loss: 0.0324 - accuracy: 0.9907 - 22s/epoch - 325ms/step\n",
            "Epoch 8/25\n",
            "68/68 - 22s - loss: 0.0178 - accuracy: 0.9963 - 22s/epoch - 329ms/step\n",
            "Epoch 9/25\n",
            "68/68 - 22s - loss: 0.0152 - accuracy: 0.9949 - 22s/epoch - 329ms/step\n",
            "Epoch 10/25\n",
            "68/68 - 22s - loss: 0.0297 - accuracy: 0.9912 - 22s/epoch - 327ms/step\n",
            "Epoch 11/25\n",
            "68/68 - 22s - loss: 0.0163 - accuracy: 0.9926 - 22s/epoch - 324ms/step\n",
            "Epoch 12/25\n",
            "68/68 - 22s - loss: 0.0311 - accuracy: 0.9912 - 22s/epoch - 327ms/step\n",
            "Epoch 13/25\n",
            "68/68 - 22s - loss: 0.0261 - accuracy: 0.9931 - 22s/epoch - 330ms/step\n",
            "Epoch 14/25\n",
            "68/68 - 22s - loss: 0.0134 - accuracy: 0.9958 - 22s/epoch - 330ms/step\n",
            "Epoch 15/25\n",
            "68/68 - 22s - loss: 0.0115 - accuracy: 0.9963 - 22s/epoch - 324ms/step\n",
            "Epoch 16/25\n",
            "68/68 - 22s - loss: 0.0023 - accuracy: 0.9995 - 22s/epoch - 328ms/step\n",
            "Epoch 17/25\n",
            "68/68 - 22s - loss: 0.0062 - accuracy: 0.9986 - 22s/epoch - 327ms/step\n",
            "Epoch 18/25\n",
            "68/68 - 22s - loss: 0.0152 - accuracy: 0.9954 - 22s/epoch - 328ms/step\n",
            "Epoch 19/25\n",
            "68/68 - 22s - loss: 0.0068 - accuracy: 0.9981 - 22s/epoch - 326ms/step\n",
            "Epoch 20/25\n",
            "68/68 - 22s - loss: 0.0049 - accuracy: 0.9986 - 22s/epoch - 327ms/step\n",
            "Epoch 21/25\n",
            "68/68 - 22s - loss: 0.0075 - accuracy: 0.9972 - 22s/epoch - 325ms/step\n",
            "Epoch 22/25\n",
            "68/68 - 22s - loss: 0.0092 - accuracy: 0.9977 - 22s/epoch - 328ms/step\n",
            "Epoch 23/25\n",
            "68/68 - 22s - loss: 0.0049 - accuracy: 0.9981 - 22s/epoch - 324ms/step\n",
            "Epoch 24/25\n",
            "68/68 - 22s - loss: 0.0238 - accuracy: 0.9949 - 22s/epoch - 327ms/step\n",
            "Epoch 25/25\n",
            "68/68 - 22s - loss: 0.0127 - accuracy: 0.9972 - 22s/epoch - 325ms/step\n"
          ]
        },
        {
          "output_type": "display_data",
          "data": {
            "text/plain": [
              "<Figure size 432x288 with 1 Axes>"
            ],
            "image/png": "[encoded data removed]"
          },
          "metadata": {
            "needs_background": "light"
          }
        },
        {
          "output_type": "display_data",
          "data": {
            "text/plain": [
              "<Figure size 432x288 with 1 Axes>"
            ],
            "image/png": "[encoded data removed]"
          },
          "metadata": {
            "needs_background": "light"
          }
        },
        {
          "output_type": "stream",
          "name": "stdout",
          "text": [
            "***Performance Data***\n",
            "Accuracy  : 0.9851851851851852\n",
            "Precision : 0.9851851851851852\n",
            "f1Score : 0.9851851851851852\n",
            "Recall : 0.9851851851851852\n",
            "[[177   0   3]\n",
            " [  0 175   5]\n",
            " [  0   0 180]]\n",
            "***----------------------------***\n",
            "17/17 [==============================] - 6s 347ms/step - loss: 0.0778 - accuracy: 0.9852\n",
            "Overall Accuracy:  0.9728395061728395\n",
            "Overall Precision:  0.9728395061728395\n",
            "Overall f1Score:  0.9728395061728395\n",
            "Overall Recall:  0.9728395061728395\n",
            "***------------------End of Line------------------***\n",
            "trn_indx: 2160 test_indx: 540\n",
            "No file moved. Source empty!\n",
            "No file moved. Source empty!\n",
            "No file moved. Source empty!\n",
            "Results for fold 4\n",
            "2160\n",
            "540\n",
            "Found 2160 images belonging to 3 classes.\n",
            "Found 540 images belonging to 3 classes.\n",
            "Epoch 1/25\n",
            "68/68 - 23s - loss: 0.0311 - accuracy: 0.9926 - 23s/epoch - 331ms/step\n",
            "Epoch 2/25\n",
            "68/68 - 23s - loss: 0.0454 - accuracy: 0.9912 - 23s/epoch - 336ms/step\n",
            "Epoch 3/25\n",
            "68/68 - 22s - loss: 0.0879 - accuracy: 0.9852 - 22s/epoch - 330ms/step\n",
            "Epoch 4/25\n",
            "68/68 - 22s - loss: 0.0634 - accuracy: 0.9889 - 22s/epoch - 330ms/step\n",
            "Epoch 5/25\n",
            "68/68 - 23s - loss: 0.0139 - accuracy: 0.9954 - 23s/epoch - 333ms/step\n",
            "Epoch 6/25\n",
            "68/68 - 23s - loss: 0.0099 - accuracy: 0.9954 - 23s/epoch - 334ms/step\n",
            "Epoch 7/25\n",
            "68/68 - 23s - loss: 0.0191 - accuracy: 0.9958 - 23s/epoch - 336ms/step\n",
            "Epoch 8/25\n",
            "68/68 - 22s - loss: 0.0339 - accuracy: 0.9907 - 22s/epoch - 329ms/step\n",
            "Epoch 9/25\n",
            "68/68 - 22s - loss: 0.0132 - accuracy: 0.9958 - 22s/epoch - 330ms/step\n",
            "Epoch 10/25\n",
            "68/68 - 22s - loss: 0.0361 - accuracy: 0.9921 - 22s/epoch - 330ms/step\n",
            "Epoch 11/25\n",
            "68/68 - 23s - loss: 0.0073 - accuracy: 0.9977 - 23s/epoch - 332ms/step\n",
            "Epoch 12/25\n",
            "68/68 - 22s - loss: 0.0633 - accuracy: 0.9917 - 22s/epoch - 329ms/step\n",
            "Epoch 13/25\n",
            "68/68 - 22s - loss: 0.0494 - accuracy: 0.9889 - 22s/epoch - 329ms/step\n",
            "Epoch 14/25\n",
            "68/68 - 22s - loss: 0.0577 - accuracy: 0.9903 - 22s/epoch - 330ms/step\n",
            "Epoch 15/25\n",
            "68/68 - 22s - loss: 0.0414 - accuracy: 0.9912 - 22s/epoch - 330ms/step\n",
            "Epoch 16/25\n",
            "68/68 - 22s - loss: 0.0306 - accuracy: 0.9921 - 22s/epoch - 328ms/step\n",
            "Epoch 17/25\n",
            "68/68 - 22s - loss: 0.0108 - accuracy: 0.9972 - 22s/epoch - 329ms/step\n",
            "Epoch 18/25\n",
            "68/68 - 22s - loss: 0.0063 - accuracy: 0.9981 - 22s/epoch - 330ms/step\n",
            "Epoch 19/25\n",
            "68/68 - 22s - loss: 0.0090 - accuracy: 0.9977 - 22s/epoch - 329ms/step\n",
            "Epoch 20/25\n",
            "68/68 - 22s - loss: 0.0081 - accuracy: 0.9972 - 22s/epoch - 328ms/step\n",
            "Epoch 21/25\n",
            "68/68 - 22s - loss: 0.0058 - accuracy: 0.9981 - 22s/epoch - 330ms/step\n",
            "Epoch 22/25\n",
            "68/68 - 22s - loss: 0.0083 - accuracy: 0.9981 - 22s/epoch - 330ms/step\n",
            "Epoch 23/25\n",
            "68/68 - 23s - loss: 0.0048 - accuracy: 0.9986 - 23s/epoch - 333ms/step\n",
            "Epoch 24/25\n",
            "68/68 - 22s - loss: 0.0022 - accuracy: 0.9991 - 22s/epoch - 327ms/step\n",
            "Epoch 25/25\n",
            "68/68 - 23s - loss: 0.0015 - accuracy: 0.9995 - 23s/epoch - 332ms/step\n"
          ]
        },
        {
          "output_type": "display_data",
          "data": {
            "text/plain": [
              "<Figure size 432x288 with 1 Axes>"
            ],
            "image/png": "[encoded data removed]"
          },
          "metadata": {
            "needs_background": "light"
          }
        },
        {
          "output_type": "display_data",
          "data": {
            "text/plain": [
              "<Figure size 432x288 with 1 Axes>"
            ],
            "image/png": "[encoded data removed]"
          },
          "metadata": {
            "needs_background": "light"
          }
        },
        {
          "output_type": "stream",
          "name": "stdout",
          "text": [
            "***Performance Data***\n",
            "Accuracy  : 0.9907407407407407\n",
            "Precision : 0.9907407407407407\n",
            "f1Score : 0.9907407407407407\n",
            "Recall : 0.9907407407407407\n",
            "[[179   0   1]\n",
            " [  0 180   0]\n",
            " [  2   2 176]]\n",
            "***----------------------------***\n",
            "17/17 [==============================] - 5s 330ms/step - loss: 0.0272 - accuracy: 0.9907\n",
            "Overall Accuracy:  0.9773148148148147\n",
            "Overall Precision:  0.9773148148148147\n",
            "Overall f1Score:  0.9773148148148147\n",
            "Overall Recall:  0.9773148148148147\n",
            "***------------------End of Line------------------***\n",
            "trn_indx: 2160 test_indx: 540\n",
            "No file moved. Source empty!\n",
            "No file moved. Source empty!\n",
            "No file moved. Source empty!\n",
            "Results for fold 5\n",
            "2160\n",
            "540\n",
            "Found 2160 images belonging to 3 classes.\n",
            "Found 540 images belonging to 3 classes.\n",
            "Epoch 1/25\n",
            "68/68 - 23s - loss: 0.0056 - accuracy: 0.9977 - 23s/epoch - 332ms/step\n",
            "Epoch 2/25\n",
            "68/68 - 22s - loss: 0.0278 - accuracy: 0.9935 - 22s/epoch - 328ms/step\n",
            "Epoch 3/25\n",
            "68/68 - 23s - loss: 0.0161 - accuracy: 0.9954 - 23s/epoch - 333ms/step\n",
            "Epoch 4/25\n",
            "68/68 - 22s - loss: 0.0162 - accuracy: 0.9968 - 22s/epoch - 329ms/step\n",
            "Epoch 5/25\n",
            "68/68 - 22s - loss: 0.0021 - accuracy: 0.9995 - 22s/epoch - 327ms/step\n",
            "Epoch 6/25\n",
            "68/68 - 22s - loss: 0.0067 - accuracy: 0.9968 - 22s/epoch - 328ms/step\n",
            "Epoch 7/25\n",
            "68/68 - 22s - loss: 0.0033 - accuracy: 0.9991 - 22s/epoch - 327ms/step\n",
            "Epoch 8/25\n",
            "68/68 - 22s - loss: 0.0019 - accuracy: 0.9991 - 22s/epoch - 327ms/step\n",
            "Epoch 9/25\n",
            "68/68 - 22s - loss: 6.2239e-04 - accuracy: 1.0000 - 22s/epoch - 324ms/step\n",
            "Epoch 10/25\n",
            "68/68 - 22s - loss: 0.0013 - accuracy: 0.9991 - 22s/epoch - 324ms/step\n",
            "Epoch 11/25\n",
            "68/68 - 22s - loss: 0.0021 - accuracy: 0.9995 - 22s/epoch - 324ms/step\n",
            "Epoch 12/25\n",
            "68/68 - 22s - loss: 0.0012 - accuracy: 0.9995 - 22s/epoch - 325ms/step\n",
            "Epoch 13/25\n",
            "68/68 - 22s - loss: 0.0016 - accuracy: 1.0000 - 22s/epoch - 328ms/step\n",
            "Epoch 14/25\n",
            "68/68 - 22s - loss: 0.0019 - accuracy: 0.9995 - 22s/epoch - 324ms/step\n",
            "Epoch 15/25\n",
            "68/68 - 22s - loss: 2.6325e-04 - accuracy: 1.0000 - 22s/epoch - 323ms/step\n",
            "Epoch 16/25\n",
            "68/68 - 22s - loss: 0.0011 - accuracy: 1.0000 - 22s/epoch - 322ms/step\n",
            "Epoch 17/25\n",
            "68/68 - 22s - loss: 0.0067 - accuracy: 0.9986 - 22s/epoch - 328ms/step\n",
            "Epoch 18/25\n",
            "68/68 - 22s - loss: 0.0052 - accuracy: 0.9986 - 22s/epoch - 326ms/step\n",
            "Epoch 19/25\n",
            "68/68 - 22s - loss: 0.0012 - accuracy: 0.9995 - 22s/epoch - 329ms/step\n",
            "Epoch 20/25\n",
            "68/68 - 22s - loss: 0.0018 - accuracy: 0.9995 - 22s/epoch - 324ms/step\n",
            "Epoch 21/25\n",
            "68/68 - 22s - loss: 0.0063 - accuracy: 0.9986 - 22s/epoch - 327ms/step\n",
            "Epoch 22/25\n",
            "68/68 - 22s - loss: 0.0155 - accuracy: 0.9958 - 22s/epoch - 326ms/step\n",
            "Epoch 23/25\n",
            "68/68 - 22s - loss: 0.0269 - accuracy: 0.9921 - 22s/epoch - 327ms/step\n",
            "Epoch 24/25\n",
            "68/68 - 22s - loss: 0.0204 - accuracy: 0.9940 - 22s/epoch - 325ms/step\n",
            "Epoch 25/25\n",
            "68/68 - 22s - loss: 0.0439 - accuracy: 0.9898 - 22s/epoch - 326ms/step\n"
          ]
        },
        {
          "output_type": "display_data",
          "data": {
            "text/plain": [
              "<Figure size 432x288 with 1 Axes>"
            ],
            "image/png": "[encoded data removed]"
          },
          "metadata": {
            "needs_background": "light"
          }
        },
        {
          "output_type": "display_data",
          "data": {
            "text/plain": [
              "<Figure size 432x288 with 1 Axes>"
            ],
            "image/png": "[encoded data removed]"
          },
          "metadata": {
            "needs_background": "light"
          }
        },
        {
          "output_type": "stream",
          "name": "stdout",
          "text": [
            "***Performance Data***\n",
            "Accuracy  : 0.9888888888888889\n",
            "Precision : 0.9888888888888889\n",
            "f1Score : 0.9888888888888889\n",
            "Recall : 0.9888888888888889\n",
            "[[180   0   0]\n",
            " [  0 178   2]\n",
            " [  0   4 176]]\n",
            "***----------------------------***\n",
            "17/17 [==============================] - 6s 340ms/step - loss: 0.0335 - accuracy: 0.9889\n",
            "Overall Accuracy:  0.9796296296296296\n",
            "Overall Precision:  0.9796296296296296\n",
            "Overall f1Score:  0.9796296296296296\n",
            "Overall Recall:  0.9796296296296296\n",
            "***------------------End of Line------------------***\n"
          ]
        }
      ],
      "source": [
        "for train_index, val_index in skf.split(X, Y):\n",
        "    print(\"trn_indx: %s test_indx: %s\" % (len(train_index), len(val_index)))\n",
        "    #First cut all images from validation to train (if any exists)\n",
        "    transferAllClassBetweenFolders('valid', 'train', 1.0)\n",
        "    #no valid\n",
        "    transferAllClassBetweenFolders('test', 'train', 1.0)\n",
        "    foldNum+=1\n",
        "    print(\"Results for fold\",foldNum)\n",
        "    X_train, X_val = X[train_index], X[val_index]\n",
        "    Y_train, Y_val = Y[train_index], Y[val_index]\n",
        "    print(len(X_train))\n",
        "    print(len(X_val))\n",
        "    # Move validation images of this fold from train folder to the validation folder\n",
        "    for eachIndex in range(len(X_val)):\n",
        "        classLabel=''\n",
        "        for i in range(len(classLabels)):\n",
        "          if(Y_val[eachIndex]==i):\n",
        "              classLabel=classLabels[i]\n",
        "        #Then, copy the validation images to the validation folder\n",
        "        shutil.move(sourcePath+'/train/'+classLabel+'/'+X_val[eachIndex], \n",
        "                    #sourcePath+'/valid/'+classLabel+'/'+X_val[eachIndex])\n",
        "        #without valid\n",
        "                    sourcePath+'/test/'+classLabel+'/'+X_val[eachIndex])\n",
        "        \n",
        "    train_batches = ImageDataGenerator().flow_from_directory(train_path, target_size=(256,256), classes=['covid', 'normal', 'pneumonia'], class_mode = 'sparse', batch_size = 32, shuffle=True)\n",
        "    #without valid\n",
        "    #valid_batches = ImageDataGenerator().flow_from_directory(valid_path, target_size=(256,256), classes=['covid', 'normal', 'pneumonia'], class_mode = 'sparse', batch_size = 32, shuffle=True)\n",
        "    test_batches = ImageDataGenerator().flow_from_directory(test_path, target_size=(256,256), classes=['covid', 'normal', 'pneumonia'], class_mode = 'sparse', batch_size = 32, shuffle=False)\n",
        "\n",
        "    history = model.fit(train_batches, \n",
        "                    #steps_per_epoch=sp_epoch, \n",
        "                    #without valid\n",
        "                    #validation_data=valid_batches, \n",
        "                    #validation_steps=10, \n",
        "                    epochs=25, \n",
        "                    verbose=2)\n",
        "    \n",
        "    \n",
        "    \n",
        "    plt.plot(history.history['accuracy'])\n",
        "    #plt.plot(history.history['val_accuracy'])\n",
        "    plt.title('Final Cbam model accuracy')\n",
        "    plt.ylim(0,1.1)\n",
        "    plt.ylabel('accuracy')\n",
        "    plt.xlabel('epoch')\n",
        "    #plt.legend(['train', 'valid'], loc='upper left')\n",
        "    #without valid\n",
        "    plt.legend(['train'], loc='upper left')\n",
        "    plt.show()\n",
        "    # summarize history for loss\n",
        "    plt.plot(history.history['loss'])\n",
        "    #plt.plot(history.history['val_loss'])\n",
        "    plt.title('Final Cbam model loss')\n",
        "    plt.ylim(0,1.1)\n",
        "    plt.ylabel('loss')\n",
        "    plt.xlabel('epoch')\n",
        "    #plt.legend(['train', 'valid'], loc='upper left')\n",
        "    #without valid\n",
        "    plt.legend(['train'], loc='upper left')\n",
        "    plt.show()\n",
        "    test_batches.reset()\n",
        "    Y_pred = model.predict(test_batches)\n",
        "    classes = test_batches.classes[test_batches.index_array]\n",
        "    y_pred = np.argmax(Y_pred, axis=-1)\n",
        "    #print(\"***Performance on Test Data***\")  \n",
        "    #print(sum(y_pred==classes)/10000)\n",
        "    confusion_matrix(test_batches.classes[test_batches.index_array],y_pred)\n",
        "    #predictions = model.predict(test_batches, verbose=1)\n",
        "    #yPredictions = np.argmax(predictions, axis=1)\n",
        "    #print(yPredictions)\n",
        "    #true_classes = test_batches.classes\n",
        "    # evaluate validation performance\n",
        "    print(\"***Performance Data***\")    \n",
        "    #valAcc, valPrec, valFScore = my_metrics(true_classes, yPredictions)\n",
        "    valAcc, valPrec, valFScore, valRec = my_metrics(classes, y_pred)\n",
        "    overAllAcc = overAllAcc+valAcc\n",
        "    overAllPrec = overAllPrec+valPrec\n",
        "    overAllf1 = overAllf1+valFScore\n",
        "    overAllRec = overAllRec+valRec\n",
        "    \n",
        "    model.evaluate(test_batches)\n",
        "    print(\"Overall Accuracy: \",  overAllAcc/foldNum)\n",
        "    print(\"Overall Precision: \",  overAllPrec/foldNum)\n",
        "    print(\"Overall f1Score: \",  overAllf1/foldNum)\n",
        "    print(\"Overall Recall: \",  overAllRec/foldNum)\n",
        "\n",
        "    print(\"***------------------End of Line------------------***\")    "
      ]
    }
  ],
  "metadata": {
    "accelerator": "GPU",
    "colab": {
      "collapsed_sections": [],
      "machine_shape": "hm",
      "name": "CBAM_FINAL.ipynb",
      "provenance": [],
      "include_colab_link": true
    },
    "kernelspec": {
      "display_name": "Python 3",
      "name": "python3"
    },
    "language_info": {
      "name": "python"
    }
  },
  "nbformat": 4,
  "nbformat_minor": 0
}
